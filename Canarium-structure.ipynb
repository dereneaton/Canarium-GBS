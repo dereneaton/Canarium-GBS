{
 "cells": [
  {
   "cell_type": "markdown",
   "metadata": {
    "collapsed": true
   },
   "source": [
    "## Cookbook: Parallelized *STRUCTURE* on unlinked SNPs\n"
   ]
  },
  {
   "cell_type": "markdown",
   "metadata": {},
   "source": [
    "### A note on Jupyter/IPython\n",
    "This is a Jupyter notebook, a reproducible and executable document. This notebook includes mostly Python code, but also a few cells that run bash scripts. Execute each cell in order to reproduce the entire analysis. We make use of the `ipyparallel` Python library to distribute *STRUCTURE* jobs across processers in parallel, so this is best run on a workstation or HPC setup with many available cores. The example data used in this analysis is from the [empirical example tutorial](http://ipyrad.readthedocs.io/pedicularis_.html)."
   ]
  },
  {
   "cell_type": "markdown",
   "metadata": {},
   "source": [
    "### Required software\n",
    "This notebook requires that you have ipyrad installed, as well as two command line programs, STRUCTURE and CLUMPP. Directions below can be used to install these locally into your conda directory. Installing into the conda dir is convenient because if you are working on an HPC cluster you don't need administrator privileges, and because the binaries in the conda dir should be accessible in your $PATH, meaning you can call the programs by simply typing their name into a terminal. "
   ]
  },
  {
   "cell_type": "markdown",
   "metadata": {},
   "source": [
    "### Install *STRUCTURE* binary into conda dir\n",
    "You can follow the simple instructions here to install the command-line *STRUCTURE* binary into your conda directory so that you can call *STRUCTURE* by simply typing **stucture** into the command line. These instructions \n",
    "https://gist.github.com/dereneaton/b4ed0e37767a2c9cf67bc3e45b95c711\n"
   ]
  },
  {
   "cell_type": "markdown",
   "metadata": {},
   "source": [
    "### Install CLUMPP binary into conda dir\n",
    "\n",
    "You can follow the simple instructions here to install the command-line *CLUMPP* binary into your conda directory so that you can call *CLUMPP* by simply typing **clumpp** into the command line. \n",
    "https://gist.github.com/dereneaton/6e03d1edf31a36d080fe27f6eec8f686\n"
   ]
  },
  {
   "cell_type": "markdown",
   "metadata": {},
   "source": [
    "### Import Python libraries"
   ]
  },
  {
   "cell_type": "code",
   "execution_count": 5,
   "metadata": {
    "collapsed": true
   },
   "outputs": [],
   "source": [
    "## these are all available if ipyrad is installed.\n",
    "import ipyparallel as ipp     ## parallel processing\n",
    "import ipyrad as ip           ## ipyrad\n",
    "import numpy as np            ## numerical processing\n",
    "import pandas as pd           ## data frames\n",
    "import subprocess             ## for making shell calls\n",
    "import glob                   ## file/string handling\n",
    "import os                     ## file handling\n",
    "\n",
    "## install with `pip install toyplot`\n",
    "import toyplot                ## plotting library"
   ]
  },
  {
   "cell_type": "markdown",
   "metadata": {},
   "source": [
    "### Parallel cluster setup\n",
    "Start an ipcluster instance in a separate terminal, like below. An easy way to do this if your jupyter-notebook is running on an HPC cluster is to go to your Jupyter dashboard, and click [new] and then [terminal], and run `ipcluster start` in that terminal, which will be started on one of the compute nodes. See our [ipyparallel tutorial] for details. "
   ]
  },
  {
   "cell_type": "code",
   "execution_count": 6,
   "metadata": {
    "collapsed": true
   },
   "outputs": [],
   "source": [
    "##\n",
    "## ipcluster start --n=40\n",
    "##"
   ]
  },
  {
   "cell_type": "code",
   "execution_count": 7,
   "metadata": {
    "collapsed": false
   },
   "outputs": [
    {
     "name": "stdout",
     "output_type": "stream",
     "text": [
      "  host compute node: [20 cores] on tinus\n"
     ]
    }
   ],
   "source": [
    "## get parallel client\n",
    "ipyclient = ipp.Client()\n",
    "\n",
    "## load-balancer will distribute jobs across the cluster\n",
    "lbview = ipyclient.load_balanced_view()\n",
    "\n",
    "## import necessary packages onto remote engines (px magic)\n",
    "%px import subprocess, os\n",
    "\n",
    "## print cluster info\n",
    "print ip.cluster_info(ipyclient)"
   ]
  },
  {
   "cell_type": "markdown",
   "metadata": {},
   "source": [
    "### Make a directory for this analysis"
   ]
  },
  {
   "cell_type": "code",
   "execution_count": 8,
   "metadata": {
    "collapsed": true
   },
   "outputs": [],
   "source": [
    "## full path to a directory where you want our results to be stored\n",
    "STRUCTDIR = \"/home/deren/Documents/ipyrad/tests/analysis_structure\"\n",
    "\n",
    "## create the dir\n",
    "if not os.path.exists(STRUCTDIR):\n",
    "    os.makedirs(STRUCTDIR)"
   ]
  },
  {
   "cell_type": "markdown",
   "metadata": {},
   "source": [
    "### Check that you have *STRUCTURE* installed. \n",
    "This checks whether you are able to call structure from a terminal by typing __structure__. If not, follow the installation instructions at the beginning of this tutorial. You should see a splash screen printed below, asking for a 'mainparams' file. Don't worry about that for now. As long as structure is printing to the screen we're good to go."
   ]
  },
  {
   "cell_type": "code",
   "execution_count": 9,
   "metadata": {
    "collapsed": false
   },
   "outputs": [
    {
     "name": "stdout",
     "output_type": "stream",
     "text": [
      "\r\n",
      "\r\n",
      "----------------------------------------------------\r\n",
      "STRUCTURE by Pritchard, Stephens and Donnelly (2000)\r\n",
      "     and Falush, Stephens and Pritchard (2003)\r\n",
      "       Code by Pritchard, Falush and Hubisz\r\n",
      "             Version 2.3.4 (Jul 2012)\r\n",
      "----------------------------------------------------\r\n",
      "\r\n",
      "\r\n",
      "Can't open the file \"mainparams\".\r\n",
      "\r\n",
      "Exiting the program due to error(s) listed above.\r\n",
      "\r\n"
     ]
    }
   ],
   "source": [
    "! structure"
   ]
  },
  {
   "cell_type": "markdown",
   "metadata": {},
   "source": [
    "### Create mainparams and extraparams files for STRUCTURE\n",
    "`structure` has two required input files that list a number of parameter settings. The format below is compatible with the `ipyrad` .str or .ustr files, which `structure` recognizes by having 6 blank columns before the data starts. You may wish to modify these settings, particularly BURNIN and NUMREPS. Several of the parameters in this file, such as K and the number of individuals are not listed, because we will entere these at the command line when we call the progam. \n",
    "#### mainparams"
   ]
  },
  {
   "cell_type": "code",
   "execution_count": 10,
   "metadata": {
    "collapsed": false
   },
   "outputs": [],
   "source": [
    "## These are almost all default values.\n",
    "mainparams = \"\"\"\n",
    "\n",
    "#define BURNIN           25000     //\n",
    "#define NUMREPS         250000     //\n",
    "\n",
    "#define PLOIDY               2     //\n",
    "#define MISSING             -9     //\n",
    "#define ONEROWPERIND         0     //     \n",
    "\n",
    "#define LABEL                1     //\n",
    "#define POPDATA              0     //\n",
    "#define POPFLAG              0     //\n",
    "#define LOCDATA              0     //\n",
    "#define PHENOTYPE            0     //\n",
    "#define EXTRACOLS            0     //\n",
    "\n",
    "#define RANDOMIZE            0     //\n",
    "#define LOCISPOP             0     //\n",
    "#define USEPOPINFO           0     //\n",
    "\n",
    "#define MARKERNAMES          0     //\n",
    "#define RECESSIVEALLELES     0     //\n",
    "#define MAPDISTANCES         0     //\n",
    "#define PHASED               0     //\n",
    "#define PHASEINFO            0     //\n",
    "#define MARKOVPHASE          0     //\n",
    "#define NOTAMBIGUOUS      -999     //\n",
    "\"\"\"\n",
    "\n",
    "## write to file\n",
    "mainfile = os.path.join(STRUCTDIR, \"mainparams.txt\")\n",
    "with open(mainfile, 'w') as out:\n",
    "    out.write(mainparams)"
   ]
  },
  {
   "cell_type": "markdown",
   "metadata": {},
   "source": [
    "#### extraparams\n",
    "This is the other required file by `structure`. These are simply the default options. "
   ]
  },
  {
   "cell_type": "code",
   "execution_count": 166,
   "metadata": {
    "collapsed": true
   },
   "outputs": [],
   "source": [
    "## These are simply the default values \n",
    "extraparams = \"\"\"\n",
    "\n",
    "#define NOADMIX                   0    //\n",
    "#define LINKAGE                   0    //\n",
    "#define USEPOPINFO                0    //\n",
    "#define LOCPRIOR                  0    //\n",
    "#define FREQSCORR                 1    //\n",
    "#define ONEFST                    0    //\n",
    "#define INFERALPHA                1    // \n",
    "#define POPALPHAS                 0    // \n",
    "#define ALPHA                   1.0    // \n",
    "\n",
    "#define INFERLAMBDA               0    //\n",
    "#define POPSPECIFICLAMBDA         0    //\n",
    "#define LAMBDA                  1.0    // \n",
    "\n",
    "#define FPRIORMEAN             0.01    //\n",
    "#define FPRIORSD               0.05    // \n",
    "#define UNIFPRIORALPHA            1    // \n",
    "#define ALPHAMAX               10.0    // \n",
    "#define ALPHAPRIORA             1.0    // \n",
    "#define ALPHAPRIORB             2.0    //\n",
    "#define LOG10RMIN              -4.0    //\n",
    "#define LOG10RMAX               1.0    //\n",
    "#define LOG10RPROPSD            0.1    //\n",
    "#define LOG10RSTART            -2.0    //\n",
    "\n",
    "#define GENSBACK                  2    //\n",
    "#define MIGRPRIOR              0.01    //\n",
    "#define PFROMPOPFLAGONLY          0    //\n",
    "\n",
    "#define LOCISPOP                  0    //\n",
    "#define LOCPRIORINIT            1.0    //\n",
    "#define MAXLOCPRIOR            20.0    //\n",
    "\n",
    "#define PRINTNET                  1    // \n",
    "#define PRINTLAMBDA               1    //\n",
    "#define PRINTQSUM                 1    //\n",
    "#define SITEBYSITE                0    // \n",
    "#define PRINTQHAT                 0    // \n",
    "#define UPDATEFREQ              100    // \n",
    "#define PRINTLIKES                0    // \n",
    "#define INTERMEDSAVE              0    //\n",
    "#define ECHODATA                  1    // \n",
    "#define ANCESTDIST                0    // \n",
    "#define NUMBOXES               1000    // \n",
    "#define ANCESTPINT             0.90    // \n",
    "\n",
    "#define COMPUTEPROB               1    //\n",
    "#define ADMBURNIN               500    // \n",
    "#define ALPHAPROPSD           0.025    // \n",
    "#define STARTATPOPINFO            0    //\n",
    "#define RANDOMIZE                 0    //\n",
    "#define SEED                   2245    //\n",
    "#define METROFREQ                10    // \n",
    "#define REPORTHITRATE             0    //  \n",
    "\n",
    "\"\"\"\n",
    "## write to file\n",
    "extrafile = os.path.join(STRUCTDIR, \"extraparams.txt\")\n",
    "with open(extrafile, 'w') as out:\n",
    "    out.write(extraparams)"
   ]
  },
  {
   "cell_type": "markdown",
   "metadata": {},
   "source": [
    "### Creat a function to call structure\n",
    "This is a Python wrapper to call `structure` and pass it a list of arguments. "
   ]
  },
  {
   "cell_type": "code",
   "execution_count": 12,
   "metadata": {
    "collapsed": true
   },
   "outputs": [],
   "source": [
    "def call_structure(K, rep, rand, Ninds, Nloci, STRUCTDIR, ustrfile):\n",
    "\n",
    "    ## create call string\n",
    "    outname = os.path.join(STRUCTDIR, \"K-{}-rep-{}\".format(K, rep))\n",
    "    \n",
    "    cmd = [\"structure\", \n",
    "           \"-m\", os.path.join(STRUCTDIR, \"mainparams.txt\"),\n",
    "           \"-e\", os.path.join(STRUCTDIR, \"extraparams.txt\"),\n",
    "           \"-K\", str(K),\n",
    "           \"-N\", str(Ninds), \n",
    "           \"-L\", str(Nloci),\n",
    "           \"-D\", str(rand), \n",
    "           \"-i\", ustrfile, \n",
    "           \"-o\", outname]\n",
    "\n",
    "    ## call the shell function\n",
    "    proc = subprocess.Popen(cmd,\n",
    "                            stdout=subprocess.PIPE, \n",
    "                            stderr=subprocess.STDOUT)\n",
    "    comm = proc.communicate()\n",
    "    return comm"
   ]
  },
  {
   "cell_type": "markdown",
   "metadata": {},
   "source": [
    "### Organize input files\n",
    "Enter your .str or .ustr data file here, and the range of K values you wish to test. "
   ]
  },
  {
   "cell_type": "code",
   "execution_count": 13,
   "metadata": {
    "collapsed": false
   },
   "outputs": [],
   "source": [
    "## unlinked SNPs file\n",
    "ustrfile = \"/home/deren/Documents/ipyrad/tests/analysis-ipyrad/pedicularis_outfiles/pedicularis.ustr\"\n",
    "\n",
    "## a list of K=x hypotheses to test\n",
    "testKs = [3, 4, 5, 6]"
   ]
  },
  {
   "cell_type": "markdown",
   "metadata": {},
   "source": [
    "### Parse N individuals and N SNPs from input file "
   ]
  },
  {
   "cell_type": "code",
   "execution_count": 14,
   "metadata": {
    "collapsed": false
   },
   "outputs": [
    {
     "name": "stdout",
     "output_type": "stream",
     "text": [
      "13 samples in data set\n",
      "38078 SNPs in structure data set\n"
     ]
    }
   ],
   "source": [
    "with open(ustrfile) as ifile:\n",
    "    lines = ifile.readlines()\n",
    "    Ninds = len(lines)//2\n",
    "    Nloci = len(lines[0].strip().split()[1:])\n",
    "    print Ninds, \"samples in data set\"\n",
    "    print Nloci, 'SNPs in structure data set'"
   ]
  },
  {
   "cell_type": "markdown",
   "metadata": {},
   "source": [
    "### Parallel processing \n",
    "Collect arguments to structure into a list so we can pass them all to run in parallel on many processors. Each list contains a K-value, a replicate number, and a random-seed number, as well as the input file name. "
   ]
  },
  {
   "cell_type": "code",
   "execution_count": 16,
   "metadata": {
    "collapsed": false
   },
   "outputs": [
    {
     "name": "stdout",
     "output_type": "stream",
     "text": [
      "args contains 20 job lists\n"
     ]
    }
   ],
   "source": [
    "args = []\n",
    "\n",
    "## for each value of K\n",
    "for K in testKs:\n",
    "\n",
    "    ## do ten replicates\n",
    "    for rep in range(5):\n",
    "    \n",
    "        ## get a random seed\n",
    "        rand = np.random.randint(0, int(1e9))\n",
    "        \n",
    "        ## add a few additional args\n",
    "        args.append([K, rep, rand, Ninds, Nloci, STRUCTDIR, ustrfile])\n",
    "        \n",
    "## all jobs\n",
    "print \"args contains {} job lists\".format(len(args))"
   ]
  },
  {
   "cell_type": "code",
   "execution_count": 17,
   "metadata": {
    "collapsed": false
   },
   "outputs": [
    {
     "name": "stdout",
     "output_type": "stream",
     "text": [
      "20 jobs submitted\n"
     ]
    }
   ],
   "source": [
    "## submit jobs to the cluster: `call_structure(*args)`.\n",
    "asyncs = {}\n",
    "for idx in xrange(len(args)):\n",
    "    asyncs[idx] = lbview.apply(call_structure, *args[idx])\n",
    "\n",
    "## print that jobs were submitted\n",
    "print \"{} jobs submitted\".format(len(args))"
   ]
  },
  {
   "cell_type": "markdown",
   "metadata": {},
   "source": [
    "### Track progress and wait\n",
    "If you get an error very quickly the most likely problem is that you did not enter full path names in the file or directory paths above. Check that first. Otherwise, watch it run. `structure` is kind of slow, but if your data set is not too huge, then it should run in a few hours at most. I suspect `structure` may be more accurate than faster alternative software like `admixture` or `fast-structure` when there is a lot of missing data, like in RAD-seq, but I haven't tested this explicitly. It may be necessary to run these analyses for a long time to reach convergence. We set the number of MCMC steps fairly high for this demo, at 100K. The total analysis takes about 1 day to finish. See our other notebooks for instructions on using faster methods like [fast-structure] (not yet available). "
   ]
  },
  {
   "cell_type": "code",
   "execution_count": 167,
   "metadata": {
    "collapsed": false
   },
   "outputs": [
    {
     "name": "stdout",
     "output_type": "stream",
     "text": [
      "20 / 20 finished\n"
     ]
    }
   ],
   "source": [
    "## this will print progress until jobs are done\n",
    "print sum([i.ready() for i in asyncs.values()]), \"/\", len(asyncs), \"finished\""
   ]
  },
  {
   "cell_type": "markdown",
   "metadata": {},
   "source": [
    "#### If jobs fail, check for errors (If no errors, then nothing should print from this cell)"
   ]
  },
  {
   "cell_type": "code",
   "execution_count": 168,
   "metadata": {
    "collapsed": false
   },
   "outputs": [],
   "source": [
    "## To examine details of each individual job you could check their\n",
    "## 'async' result objects. Here we grab the joint stdout/stderr  \n",
    "stdout = asyncs[0].result()[0]\n",
    "\n",
    "## If an exception arose, then prints here\n",
    "error = asyncs[0].exception()\n",
    "if error:\n",
    "    print error\n",
    "    print stdout"
   ]
  },
  {
   "cell_type": "markdown",
   "metadata": {},
   "source": [
    "### Summarize replicates with CLUMPP\n",
    "Again, this part of the code assumes that you've downloaded and installed the software CLUMPP, which is used to summarize results across replicate runs of STRUCTURE. We ran ten replicates per K-value hypothesis. If you type CLUMPP into a terminal you should see the following message. Again, an error that there is no params file. Don't worry, we'll make one below. "
   ]
  },
  {
   "cell_type": "markdown",
   "metadata": {},
   "source": [
    "### Create a CLUMPP params file"
   ]
  },
  {
   "cell_type": "code",
   "execution_count": 27,
   "metadata": {
    "collapsed": false
   },
   "outputs": [],
   "source": [
    "cparams = \"\"\"\n",
    "DATATYPE                 0  #\n",
    "INDFILE                  0  #\n",
    "POPFILE                  0  #\n",
    "OUTFILE                  0  #\n",
    "MISCFILE                 0  #\n",
    "K                        3  #\n",
    "C                        3  #\n",
    "R                       10  #\n",
    "M                        3  #\n",
    "W                        1  #\n",
    "S                        2  # \n",
    "GREEDY_OPTION            2  #\n",
    "REPEATS               1000  #\n",
    "PERMUTATIONFILE          0  #\n",
    "PRINT_PERMUTED_DATA      0  #\n",
    "PERMUTED_DATAFILE        0  #\n",
    "PRINT_EVERY_PERM         0  #\n",
    "EVERY_PERMFILE           0  #\n",
    "PRINT_RANDOM_INPUTORDER  0  # \n",
    "RANDOM_INPUTORDERFILE    0  #\n",
    "OVERRIDE_WARNINGS        0  #\n",
    "ORDER_BY_RUN             1  #\n",
    "\"\"\"\n",
    "\n",
    "## write to file\n",
    "clumpfile = os.path.join(STRUCTDIR, \"clumpparams.txt\")\n",
    "with open(clumpfile, 'w') as out:\n",
    "    out.write(cparams)"
   ]
  },
  {
   "cell_type": "markdown",
   "metadata": {},
   "source": [
    "### Create a function wrapper to call CLUMPP"
   ]
  },
  {
   "cell_type": "code",
   "execution_count": 28,
   "metadata": {
    "collapsed": true
   },
   "outputs": [],
   "source": [
    "def build_clumpp(K, STRUCTDIR): \n",
    "    \"combine replicates into single indfile\"\n",
    "   \n",
    "    ## grab all the _f result files\n",
    "    reps = os.path.join(STRUCTDIR, \"K-{}-rep-*\".format(K))\n",
    "    repfiles = glob.glob(reps)\n",
    "    \n",
    "    ## make an output handle\n",
    "    outf = os.path.join(STRUCTDIR, \"K-{}.indfile\".format(K))\n",
    "    \n",
    "    ## combine replicates and write to indfile\n",
    "    with open(outf, 'w') as outfile:\n",
    "        for rep in repfiles:\n",
    "            i = 1\n",
    "            ## strips junk to extract matrix\n",
    "            for line in open(rep).readlines():\n",
    "                ## matrix lines have this junk\n",
    "                if \")   :  \" in line:\n",
    "                    ## split it up on whitespace\n",
    "                    ll = line.strip().split()\n",
    "                    outstr = \"{}{}{}\".format(\n",
    "                        \" \".join([ll[0], ll[0], ll[2], ll[0].split('.')[0]]),\n",
    "                        \" :  \",\n",
    "                        \" \".join(ll[4:])\n",
    "                    ) \n",
    "                    outfile.write(outstr+\"\\n\")\n",
    "                    i += 1\n",
    "        outfile.write(\"\\n\")    \n",
    "    return len(repfiles), i-1"
   ]
  },
  {
   "cell_type": "code",
   "execution_count": 29,
   "metadata": {
    "collapsed": false
   },
   "outputs": [],
   "source": [
    "def call_clumpp(K, STRUCTDIR, Ninds, Nreps):\n",
    "    \n",
    "    ## create CLUMPP args string\n",
    "    cmd = [\"CLUMPP\", os.path.join(STRUCTDIR, \"clumpparams.txt\"), \n",
    "           \"-i\", os.path.join(STRUCTDIR, \"K-{}.indfile\".format(K)),\n",
    "           \"-o\", os.path.join(STRUCTDIR, \"K-{}.outfile\".format(K)),\n",
    "           \"-j\", os.path.join(STRUCTDIR, \"K-{}.miscfile\".format(K)),\n",
    "           \"-r\", str(Nreps), \n",
    "           \"-c\", str(Ninds), \n",
    "           \"-k\", str(K)]\n",
    "    ## call clumpp\n",
    "    proc = subprocess.Popen(cmd, \n",
    "                            stderr=subprocess.STDOUT, \n",
    "                            stdout=subprocess.PIPE)\n",
    "    comm = proc.communicate()\n",
    "    return comm"
   ]
  },
  {
   "cell_type": "markdown",
   "metadata": {
    "collapsed": true
   },
   "source": [
    "### Run CLUMPP for each K-value"
   ]
  },
  {
   "cell_type": "code",
   "execution_count": 157,
   "metadata": {
    "collapsed": false
   },
   "outputs": [],
   "source": [
    "for K in testKs:\n",
    "    Nreps, Ninds = build_clumpp(K, STRUCTDIR)\n",
    "    comm = call_clumpp(K, STRUCTDIR, Ninds, Nreps)"
   ]
  },
  {
   "cell_type": "markdown",
   "metadata": {},
   "source": [
    "### Parse sample name order from the .ustr data file\n",
    "Here we parse the names from the .ustr file and save it in a list call `inputnames`. "
   ]
  },
  {
   "cell_type": "code",
   "execution_count": 158,
   "metadata": {
    "collapsed": false
   },
   "outputs": [
    {
     "name": "stdout",
     "output_type": "stream",
     "text": [
      "0 29154_superba\n",
      "1 30556_thamno\n",
      "2 30686_cyathophylla\n",
      "3 32082_przewalskii\n",
      "4 33413_thamno\n",
      "5 33588_przewalskii\n",
      "6 35236_rex\n",
      "7 35855_rex\n",
      "8 38362_rex\n",
      "9 39618_rex\n",
      "10 40578_rex\n",
      "11 41478_cyathophylloides\n",
      "12 41954_cyathophylloides\n"
     ]
    }
   ],
   "source": [
    "## parse names\n",
    "with open(ustrfile) as ifile:\n",
    "    inputnames = [i.split()[0] for i in ifile.readlines()][::2]\n",
    "\n",
    "## print names list\n",
    "for idx, name in enumerate(inputnames):\n",
    "    print idx, name"
   ]
  },
  {
   "cell_type": "markdown",
   "metadata": {},
   "source": [
    "### Parse structure results table from the `structure` outfile"
   ]
  },
  {
   "cell_type": "code",
   "execution_count": 160,
   "metadata": {
    "collapsed": false
   },
   "outputs": [
    {
     "name": "stdout",
     "output_type": "stream",
     "text": [
      "                             0       1       2       3    4\n",
      "29154_superba           0.0094  0.9870  0.0000  0.0036  0.0\n",
      "30556_thamno            0.9686  0.0000  0.0314  0.0000  0.0\n",
      "30686_cyathophylla      0.0000  0.9966  0.0000  0.0034  0.0\n",
      "32082_przewalskii       0.0000  0.0000  0.0000  0.0000  1.0\n",
      "33413_thamno            0.9668  0.0050  0.0282  0.0000  0.0\n",
      "33588_przewalskii       0.0000  0.0000  0.0000  0.0000  1.0\n",
      "35236_rex               0.8644  0.0044  0.1312  0.0000  0.0\n",
      "35855_rex               0.9610  0.0030  0.0360  0.0000  0.0\n",
      "38362_rex               0.0000  0.0000  1.0000  0.0000  0.0\n",
      "39618_rex               0.0142  0.0000  0.9858  0.0000  0.0\n",
      "40578_rex               0.9646  0.0000  0.0354  0.0000  0.0\n",
      "41478_cyathophylloides  0.0000  0.0000  0.0000  1.0000  0.0\n",
      "41954_cyathophylloides  0.0000  0.0000  0.0000  1.0000  0.0\n"
     ]
    }
   ],
   "source": [
    "## parse clumpp K=4 outfile\n",
    "ofile = os.path.join(STRUCTDIR, \"K-5.outfile\")\n",
    "table = pd.read_csv(ofile,\n",
    "                    delim_whitespace=True, \n",
    "                    header=None).ix[:, 5:]\n",
    "\n",
    "## apply names to cols and rows\n",
    "table.columns = range(table.shape[1])\n",
    "table.index = inputnames\n",
    "print table"
   ]
  },
  {
   "cell_type": "markdown",
   "metadata": {},
   "source": [
    "### Sort the order how you like it\n",
    "This can be useful if, for example, you want to order the names to be in the same order as tips on your phylogeny. "
   ]
  },
  {
   "cell_type": "code",
   "execution_count": 161,
   "metadata": {
    "collapsed": false
   },
   "outputs": [
    {
     "name": "stdout",
     "output_type": "stream",
     "text": [
      "custom ordering\n",
      "                             0       1       2       3    4\n",
      "32082_przewalskii       0.0000  0.0000  0.0000  0.0000  1.0\n",
      "33588_przewalskii       0.0000  0.0000  0.0000  0.0000  1.0\n",
      "41478_cyathophylloides  0.0000  0.0000  0.0000  1.0000  0.0\n",
      "41954_cyathophylloides  0.0000  0.0000  0.0000  1.0000  0.0\n",
      "30686_cyathophylla      0.0000  0.9966  0.0000  0.0034  0.0\n",
      "29154_superba           0.0094  0.9870  0.0000  0.0036  0.0\n",
      "33413_thamno            0.9668  0.0050  0.0282  0.0000  0.0\n",
      "30556_thamno            0.9686  0.0000  0.0314  0.0000  0.0\n",
      "35236_rex               0.8644  0.0044  0.1312  0.0000  0.0\n",
      "40578_rex               0.9646  0.0000  0.0354  0.0000  0.0\n",
      "35855_rex               0.9610  0.0030  0.0360  0.0000  0.0\n",
      "39618_rex               0.0142  0.0000  0.9858  0.0000  0.0\n",
      "38362_rex               0.0000  0.0000  1.0000  0.0000  0.0\n",
      "\n",
      "or, automatically ordered by group membership\n",
      "                             0       1       2       3    4\n",
      "32082_przewalskii       0.0000  0.0000  0.0000  0.0000  1.0\n",
      "33588_przewalskii       0.0000  0.0000  0.0000  0.0000  1.0\n",
      "41478_cyathophylloides  0.0000  0.0000  0.0000  1.0000  0.0\n",
      "41954_cyathophylloides  0.0000  0.0000  0.0000  1.0000  0.0\n",
      "38362_rex               0.0000  0.0000  1.0000  0.0000  0.0\n",
      "30686_cyathophylla      0.0000  0.9966  0.0000  0.0034  0.0\n",
      "29154_superba           0.0094  0.9870  0.0000  0.0036  0.0\n",
      "39618_rex               0.0142  0.0000  0.9858  0.0000  0.0\n",
      "35236_rex               0.8644  0.0044  0.1312  0.0000  0.0\n",
      "35855_rex               0.9610  0.0030  0.0360  0.0000  0.0\n",
      "40578_rex               0.9646  0.0000  0.0354  0.0000  0.0\n",
      "33413_thamno            0.9668  0.0050  0.0282  0.0000  0.0\n",
      "30556_thamno            0.9686  0.0000  0.0314  0.0000  0.0\n"
     ]
    }
   ],
   "source": [
    "## custom sorting order\n",
    "myorder = [\n",
    "    \"32082_przewalskii\", \"33588_przewalskii\",\n",
    "    \"41478_cyathophylloides\", \"41954_cyathophylloides\", \n",
    "    \"30686_cyathophylla\", \"29154_superba\",\n",
    "    \"33413_thamno\", \"30556_thamno\", \n",
    "    \"35236_rex\", \n",
    "    \"40578_rex\", \"35855_rex\",\n",
    "    \"39618_rex\", \"38362_rex\",\n",
    "]\n",
    "\n",
    "print \"custom ordering\"\n",
    "print table.ix[myorder]\n",
    "\n",
    "print \"\\nor, automatically ordered by group membership\"\n",
    "print table.sort_values(table.columns.tolist())"
   ]
  },
  {
   "cell_type": "markdown",
   "metadata": {},
   "source": [
    "### A function for plotting (with interactive hover)\n",
    "The function automatically parses the table above for you. It can reorder the individuals based on their membership in each group, or based on an input list of ordered names. It returns the table of data as well as a list with information for making interactive hover boxes, which you can see below by hovering over the plots.  "
   ]
  },
  {
   "cell_type": "code",
   "execution_count": 162,
   "metadata": {
    "collapsed": false
   },
   "outputs": [],
   "source": [
    "def prep_table(clumppfile, inputnames, reorder=None):\n",
    "    ## parse clumpp output file\n",
    "    table = pd.read_csv(clumppfile,\n",
    "                    delim_whitespace=True, \n",
    "                    header=None).ix[:, 5:]\n",
    "    table.columns = range(table.shape[1])\n",
    "    table.index = inputnames\n",
    "\n",
    "    ## reorder rows\n",
    "    if isinstance(reorder, int):\n",
    "        if reorder:\n",
    "            table = table.sort_values(table.columns.tolist())\n",
    "    elif isinstance(reorder, list):\n",
    "        table = table.ix[reorder]\n",
    "    \n",
    "    ## for each column\n",
    "    hover = []\n",
    "    for row in range(table.shape[0]):\n",
    "        stack = []\n",
    "        for col in range(table.shape[1]):\n",
    "            stack.append(\"Name: {}, Group: {}, Prop: {}\"\\\n",
    "                .format(table.index[row], col, table.ix[row, col]))\n",
    "        hover.append(stack)\n",
    "    \n",
    "    ## returns table and hover list\n",
    "    return table, np.array(hover)"
   ]
  },
  {
   "cell_type": "markdown",
   "metadata": {},
   "source": [
    "### K plots \n",
    "Hover over the plot to see sample names and info in the hover box. "
   ]
  },
  {
   "cell_type": "code",
   "execution_count": 163,
   "metadata": {
    "collapsed": false
   },
   "outputs": [
    {
     "data": {
      "text/html": [
       "<div align=\"center\" class=\"toyplot\" id=\"tf408f8f74843438fa0d2dcff7fb7d422\"><svg class=\"toyplot-canvas-Canvas\" height=\"200.0px\" id=\"tff38c40fe6c84f42bb02e7628a28cb82\" preserveAspectRatio=\"xMidYMid meet\" style=\"background-color:transparent;fill:rgb(16.1%,15.3%,14.1%);fill-opacity:1.0;font-family:Helvetica;font-size:12px;opacity:1.0;stroke:rgb(16.1%,15.3%,14.1%);stroke-opacity:1.0;stroke-width:1.0\" viewBox=\"0 0 400.0 200.0\" width=\"400.0px\" xmlns=\"http://www.w3.org/2000/svg\" xmlns:toyplot=\"http://www.sandia.gov/toyplot\" xmlns:xlink=\"http://www.w3.org/1999/xlink\"><g class=\"toyplot-coordinates-Cartesian\" id=\"tc59dc06e93a848b5932d4db7e5143b72\"><clipPath id=\"t4b1ba7437af8491db685d4fb324933c1\"><rect height=\"120.0\" width=\"320.0\" x=\"40.0\" y=\"40.0\"></rect></clipPath><g clip-path=\"url(#t4b1ba7437af8491db685d4fb324933c1)\"><g class=\"toyplot-mark-BarMagnitudes\" id=\"te7f1bdddd72a42b7ae512ff4a8e223e8\" style=\"stroke:rgb(100%,100%,100%);stroke-opacity:1.0;stroke-width:1.0\"><g class=\"toyplot-Series\"><rect class=\"toyplot-Datum\" height=\"0.0\" style=\"fill:rgb(40%,76.1%,64.7%);fill-opacity:1.0;opacity:1.0;stroke:rgb(100%,100%,100%);stroke-opacity:1.0;stroke-width:1.0\" width=\"23.07692307692308\" x=\"50.0\" y=\"150.0\"><title>Name: 32082_przewalskii, Group: 0, Prop: 0.0</title></rect><rect class=\"toyplot-Datum\" height=\"0.0\" style=\"fill:rgb(40%,76.1%,64.7%);fill-opacity:1.0;opacity:1.0;stroke:rgb(100%,100%,100%);stroke-opacity:1.0;stroke-width:1.0\" width=\"23.07692307692308\" x=\"73.07692307692308\" y=\"150.0\"><title>Name: 33588_przewalskii, Group: 0, Prop: 0.0</title></rect><rect class=\"toyplot-Datum\" height=\"0.0\" style=\"fill:rgb(40%,76.1%,64.7%);fill-opacity:1.0;opacity:1.0;stroke:rgb(100%,100%,100%);stroke-opacity:1.0;stroke-width:1.0\" width=\"23.076923076923066\" x=\"96.15384615384616\" y=\"150.0\"><title>Name: 41478_cyathophylloides, Group: 0, Prop: 0.0</title></rect><rect class=\"toyplot-Datum\" height=\"0.0\" style=\"fill:rgb(40%,76.1%,64.7%);fill-opacity:1.0;opacity:1.0;stroke:rgb(100%,100%,100%);stroke-opacity:1.0;stroke-width:1.0\" width=\"23.076923076923094\" x=\"119.23076923076923\" y=\"150.0\"><title>Name: 41954_cyathophylloides, Group: 0, Prop: 0.0</title></rect><rect class=\"toyplot-Datum\" height=\"5.8799999999999955\" style=\"fill:rgb(40%,76.1%,64.7%);fill-opacity:1.0;opacity:1.0;stroke:rgb(100%,100%,100%);stroke-opacity:1.0;stroke-width:1.0\" width=\"23.076923076923066\" x=\"142.30769230769232\" y=\"144.12\"><title>Name: 30686_cyathophylla, Group: 0, Prop: 0.0588</title></rect><rect class=\"toyplot-Datum\" height=\"6.5\" style=\"fill:rgb(40%,76.1%,64.7%);fill-opacity:1.0;opacity:1.0;stroke:rgb(100%,100%,100%);stroke-opacity:1.0;stroke-width:1.0\" width=\"23.076923076923094\" x=\"165.38461538461539\" y=\"143.5\"><title>Name: 29154_superba, Group: 0, Prop: 0.065</title></rect><rect class=\"toyplot-Datum\" height=\"100.0\" style=\"fill:rgb(40%,76.1%,64.7%);fill-opacity:1.0;opacity:1.0;stroke:rgb(100%,100%,100%);stroke-opacity:1.0;stroke-width:1.0\" width=\"23.076923076923038\" x=\"188.46153846153848\" y=\"50.0\"><title>Name: 33413_thamno, Group: 0, Prop: 1.0</title></rect><rect class=\"toyplot-Datum\" height=\"100.0\" style=\"fill:rgb(40%,76.1%,64.7%);fill-opacity:1.0;opacity:1.0;stroke:rgb(100%,100%,100%);stroke-opacity:1.0;stroke-width:1.0\" width=\"23.076923076923094\" x=\"211.53846153846152\" y=\"50.0\"><title>Name: 30556_thamno, Group: 0, Prop: 1.0</title></rect><rect class=\"toyplot-Datum\" height=\"100.0\" style=\"fill:rgb(40%,76.1%,64.7%);fill-opacity:1.0;opacity:1.0;stroke:rgb(100%,100%,100%);stroke-opacity:1.0;stroke-width:1.0\" width=\"23.076923076923066\" x=\"234.61538461538461\" y=\"50.0\"><title>Name: 35236_rex, Group: 0, Prop: 1.0</title></rect><rect class=\"toyplot-Datum\" height=\"100.0\" style=\"fill:rgb(40%,76.1%,64.7%);fill-opacity:1.0;opacity:1.0;stroke:rgb(100%,100%,100%);stroke-opacity:1.0;stroke-width:1.0\" width=\"23.076923076923094\" x=\"257.69230769230768\" y=\"50.0\"><title>Name: 40578_rex, Group: 0, Prop: 1.0</title></rect><rect class=\"toyplot-Datum\" height=\"100.0\" style=\"fill:rgb(40%,76.1%,64.7%);fill-opacity:1.0;opacity:1.0;stroke:rgb(100%,100%,100%);stroke-opacity:1.0;stroke-width:1.0\" width=\"23.076923076923038\" x=\"280.76923076923077\" y=\"50.0\"><title>Name: 35855_rex, Group: 0, Prop: 1.0</title></rect><rect class=\"toyplot-Datum\" height=\"100.0\" style=\"fill:rgb(40%,76.1%,64.7%);fill-opacity:1.0;opacity:1.0;stroke:rgb(100%,100%,100%);stroke-opacity:1.0;stroke-width:1.0\" width=\"23.076923076923151\" x=\"303.84615384615381\" y=\"50.0\"><title>Name: 39618_rex, Group: 0, Prop: 1.0</title></rect><rect class=\"toyplot-Datum\" height=\"100.0\" style=\"fill:rgb(40%,76.1%,64.7%);fill-opacity:1.0;opacity:1.0;stroke:rgb(100%,100%,100%);stroke-opacity:1.0;stroke-width:1.0\" width=\"23.076923076923038\" x=\"326.92307692307696\" y=\"50.0\"><title>Name: 38362_rex, Group: 0, Prop: 1.0</title></rect></g><g class=\"toyplot-Series\"><rect class=\"toyplot-Datum\" height=\"0.0\" style=\"fill:rgb(98.8%,55.3%,38.4%);fill-opacity:1.0;opacity:1.0;stroke:rgb(100%,100%,100%);stroke-opacity:1.0;stroke-width:1.0\" width=\"23.07692307692308\" x=\"50.0\" y=\"150.0\"><title>Name: 32082_przewalskii, Group: 1, Prop: 0.0</title></rect><rect class=\"toyplot-Datum\" height=\"0.0\" style=\"fill:rgb(98.8%,55.3%,38.4%);fill-opacity:1.0;opacity:1.0;stroke:rgb(100%,100%,100%);stroke-opacity:1.0;stroke-width:1.0\" width=\"23.07692307692308\" x=\"73.07692307692308\" y=\"150.0\"><title>Name: 33588_przewalskii, Group: 1, Prop: 0.0</title></rect><rect class=\"toyplot-Datum\" height=\"100.0\" style=\"fill:rgb(98.8%,55.3%,38.4%);fill-opacity:1.0;opacity:1.0;stroke:rgb(100%,100%,100%);stroke-opacity:1.0;stroke-width:1.0\" width=\"23.076923076923066\" x=\"96.15384615384616\" y=\"50.0\"><title>Name: 41478_cyathophylloides, Group: 1, Prop: 1.0</title></rect><rect class=\"toyplot-Datum\" height=\"100.0\" style=\"fill:rgb(98.8%,55.3%,38.4%);fill-opacity:1.0;opacity:1.0;stroke:rgb(100%,100%,100%);stroke-opacity:1.0;stroke-width:1.0\" width=\"23.076923076923094\" x=\"119.23076923076923\" y=\"50.0\"><title>Name: 41954_cyathophylloides, Group: 1, Prop: 1.0</title></rect><rect class=\"toyplot-Datum\" height=\"89.759999999999991\" style=\"fill:rgb(98.8%,55.3%,38.4%);fill-opacity:1.0;opacity:1.0;stroke:rgb(100%,100%,100%);stroke-opacity:1.0;stroke-width:1.0\" width=\"23.076923076923066\" x=\"142.30769230769232\" y=\"54.360000000000007\"><title>Name: 30686_cyathophylla, Group: 1, Prop: 0.8976</title></rect><rect class=\"toyplot-Datum\" height=\"89.420000000000016\" style=\"fill:rgb(98.8%,55.3%,38.4%);fill-opacity:1.0;opacity:1.0;stroke:rgb(100%,100%,100%);stroke-opacity:1.0;stroke-width:1.0\" width=\"23.076923076923094\" x=\"165.38461538461539\" y=\"54.079999999999991\"><title>Name: 29154_superba, Group: 1, Prop: 0.8942</title></rect><rect class=\"toyplot-Datum\" height=\"0.0\" style=\"fill:rgb(98.8%,55.3%,38.4%);fill-opacity:1.0;opacity:1.0;stroke:rgb(100%,100%,100%);stroke-opacity:1.0;stroke-width:1.0\" width=\"23.076923076923038\" x=\"188.46153846153848\" y=\"50.0\"><title>Name: 33413_thamno, Group: 1, Prop: 0.0</title></rect><rect class=\"toyplot-Datum\" height=\"0.0\" style=\"fill:rgb(98.8%,55.3%,38.4%);fill-opacity:1.0;opacity:1.0;stroke:rgb(100%,100%,100%);stroke-opacity:1.0;stroke-width:1.0\" width=\"23.076923076923094\" x=\"211.53846153846152\" y=\"50.0\"><title>Name: 30556_thamno, Group: 1, Prop: 0.0</title></rect><rect class=\"toyplot-Datum\" height=\"0.0\" style=\"fill:rgb(98.8%,55.3%,38.4%);fill-opacity:1.0;opacity:1.0;stroke:rgb(100%,100%,100%);stroke-opacity:1.0;stroke-width:1.0\" width=\"23.076923076923066\" x=\"234.61538461538461\" y=\"50.0\"><title>Name: 35236_rex, Group: 1, Prop: 0.0</title></rect><rect class=\"toyplot-Datum\" height=\"0.0\" style=\"fill:rgb(98.8%,55.3%,38.4%);fill-opacity:1.0;opacity:1.0;stroke:rgb(100%,100%,100%);stroke-opacity:1.0;stroke-width:1.0\" width=\"23.076923076923094\" x=\"257.69230769230768\" y=\"50.0\"><title>Name: 40578_rex, Group: 1, Prop: 0.0</title></rect><rect class=\"toyplot-Datum\" height=\"0.0\" style=\"fill:rgb(98.8%,55.3%,38.4%);fill-opacity:1.0;opacity:1.0;stroke:rgb(100%,100%,100%);stroke-opacity:1.0;stroke-width:1.0\" width=\"23.076923076923038\" x=\"280.76923076923077\" y=\"50.0\"><title>Name: 35855_rex, Group: 1, Prop: 0.0</title></rect><rect class=\"toyplot-Datum\" height=\"0.0\" style=\"fill:rgb(98.8%,55.3%,38.4%);fill-opacity:1.0;opacity:1.0;stroke:rgb(100%,100%,100%);stroke-opacity:1.0;stroke-width:1.0\" width=\"23.076923076923151\" x=\"303.84615384615381\" y=\"50.0\"><title>Name: 39618_rex, Group: 1, Prop: 0.0</title></rect><rect class=\"toyplot-Datum\" height=\"0.0\" style=\"fill:rgb(98.8%,55.3%,38.4%);fill-opacity:1.0;opacity:1.0;stroke:rgb(100%,100%,100%);stroke-opacity:1.0;stroke-width:1.0\" width=\"23.076923076923038\" x=\"326.92307692307696\" y=\"50.0\"><title>Name: 38362_rex, Group: 1, Prop: 0.0</title></rect></g><g class=\"toyplot-Series\"><rect class=\"toyplot-Datum\" height=\"100.0\" style=\"fill:rgb(55.3%,62.7%,79.6%);fill-opacity:1.0;opacity:1.0;stroke:rgb(100%,100%,100%);stroke-opacity:1.0;stroke-width:1.0\" width=\"23.07692307692308\" x=\"50.0\" y=\"50.0\"><title>Name: 32082_przewalskii, Group: 2, Prop: 1.0</title></rect><rect class=\"toyplot-Datum\" height=\"100.0\" style=\"fill:rgb(55.3%,62.7%,79.6%);fill-opacity:1.0;opacity:1.0;stroke:rgb(100%,100%,100%);stroke-opacity:1.0;stroke-width:1.0\" width=\"23.07692307692308\" x=\"73.07692307692308\" y=\"50.0\"><title>Name: 33588_przewalskii, Group: 2, Prop: 1.0</title></rect><rect class=\"toyplot-Datum\" height=\"0.0\" style=\"fill:rgb(55.3%,62.7%,79.6%);fill-opacity:1.0;opacity:1.0;stroke:rgb(100%,100%,100%);stroke-opacity:1.0;stroke-width:1.0\" width=\"23.076923076923066\" x=\"96.15384615384616\" y=\"50.0\"><title>Name: 41478_cyathophylloides, Group: 2, Prop: 0.0</title></rect><rect class=\"toyplot-Datum\" height=\"0.0\" style=\"fill:rgb(55.3%,62.7%,79.6%);fill-opacity:1.0;opacity:1.0;stroke:rgb(100%,100%,100%);stroke-opacity:1.0;stroke-width:1.0\" width=\"23.076923076923094\" x=\"119.23076923076923\" y=\"50.0\"><title>Name: 41954_cyathophylloides, Group: 2, Prop: 0.0</title></rect><rect class=\"toyplot-Datum\" height=\"4.3599999999999994\" style=\"fill:rgb(55.3%,62.7%,79.6%);fill-opacity:1.0;opacity:1.0;stroke:rgb(100%,100%,100%);stroke-opacity:1.0;stroke-width:1.0\" width=\"23.076923076923066\" x=\"142.30769230769232\" y=\"50.000000000000007\"><title>Name: 30686_cyathophylla, Group: 2, Prop: 0.0436</title></rect><rect class=\"toyplot-Datum\" height=\"4.0799999999999912\" style=\"fill:rgb(55.3%,62.7%,79.6%);fill-opacity:1.0;opacity:1.0;stroke:rgb(100%,100%,100%);stroke-opacity:1.0;stroke-width:1.0\" width=\"23.076923076923094\" x=\"165.38461538461539\" y=\"50.0\"><title>Name: 29154_superba, Group: 2, Prop: 0.0408</title></rect><rect class=\"toyplot-Datum\" height=\"0.0\" style=\"fill:rgb(55.3%,62.7%,79.6%);fill-opacity:1.0;opacity:1.0;stroke:rgb(100%,100%,100%);stroke-opacity:1.0;stroke-width:1.0\" width=\"23.076923076923038\" x=\"188.46153846153848\" y=\"50.0\"><title>Name: 33413_thamno, Group: 2, Prop: 0.0</title></rect><rect class=\"toyplot-Datum\" height=\"0.0\" style=\"fill:rgb(55.3%,62.7%,79.6%);fill-opacity:1.0;opacity:1.0;stroke:rgb(100%,100%,100%);stroke-opacity:1.0;stroke-width:1.0\" width=\"23.076923076923094\" x=\"211.53846153846152\" y=\"50.0\"><title>Name: 30556_thamno, Group: 2, Prop: 0.0</title></rect><rect class=\"toyplot-Datum\" height=\"0.0\" style=\"fill:rgb(55.3%,62.7%,79.6%);fill-opacity:1.0;opacity:1.0;stroke:rgb(100%,100%,100%);stroke-opacity:1.0;stroke-width:1.0\" width=\"23.076923076923066\" x=\"234.61538461538461\" y=\"50.0\"><title>Name: 35236_rex, Group: 2, Prop: 0.0</title></rect><rect class=\"toyplot-Datum\" height=\"0.0\" style=\"fill:rgb(55.3%,62.7%,79.6%);fill-opacity:1.0;opacity:1.0;stroke:rgb(100%,100%,100%);stroke-opacity:1.0;stroke-width:1.0\" width=\"23.076923076923094\" x=\"257.69230769230768\" y=\"50.0\"><title>Name: 40578_rex, Group: 2, Prop: 0.0</title></rect><rect class=\"toyplot-Datum\" height=\"0.0\" style=\"fill:rgb(55.3%,62.7%,79.6%);fill-opacity:1.0;opacity:1.0;stroke:rgb(100%,100%,100%);stroke-opacity:1.0;stroke-width:1.0\" width=\"23.076923076923038\" x=\"280.76923076923077\" y=\"50.0\"><title>Name: 35855_rex, Group: 2, Prop: 0.0</title></rect><rect class=\"toyplot-Datum\" height=\"0.0\" style=\"fill:rgb(55.3%,62.7%,79.6%);fill-opacity:1.0;opacity:1.0;stroke:rgb(100%,100%,100%);stroke-opacity:1.0;stroke-width:1.0\" width=\"23.076923076923151\" x=\"303.84615384615381\" y=\"50.0\"><title>Name: 39618_rex, Group: 2, Prop: 0.0</title></rect><rect class=\"toyplot-Datum\" height=\"0.0\" style=\"fill:rgb(55.3%,62.7%,79.6%);fill-opacity:1.0;opacity:1.0;stroke:rgb(100%,100%,100%);stroke-opacity:1.0;stroke-width:1.0\" width=\"23.076923076923038\" x=\"326.92307692307696\" y=\"50.0\"><title>Name: 38362_rex, Group: 2, Prop: 0.0</title></rect></g></g></g><g class=\"toyplot-coordinates-Axis\" id=\"tb927cf10e7824a5db16c89e6c2fb49a2\" transform=\"translate(50.0,150.0)translate(0,10.0)\"><line style=\"\" x1=\"0\" x2=\"300.0\" y1=\"0\" y2=\"0\"></line><g><text style=\"dominant-baseline:hanging;font-size:10px;font-weight:normal;stroke:none;text-anchor:middle\" transform=\"translate(11.538461538461538,6)\"><tspan style=\"dominant-baseline:inherit\">0</tspan></text><text style=\"dominant-baseline:hanging;font-size:10px;font-weight:normal;stroke:none;text-anchor:middle\" transform=\"translate(103.84615384615384,6)\"><tspan style=\"dominant-baseline:inherit\">4</tspan></text><text style=\"dominant-baseline:hanging;font-size:10px;font-weight:normal;stroke:none;text-anchor:middle\" transform=\"translate(196.15384615384616,6)\"><tspan style=\"dominant-baseline:inherit\">8</tspan></text><text style=\"dominant-baseline:hanging;font-size:10px;font-weight:normal;stroke:none;text-anchor:middle\" transform=\"translate(288.46153846153845,6)\"><tspan style=\"dominant-baseline:inherit\">12</tspan></text></g><text style=\"dominant-baseline:hanging;font-size:12px;font-weight:bold;stroke:none;text-anchor:middle\" transform=\"translate(150.0,22)\"><tspan style=\"dominant-baseline:inherit\">K=3</tspan></text><g class=\"toyplot-coordinates-Axis-coordinates\" style=\"visibility:hidden\" transform=\"\"><line style=\"stroke:rgb(43.9%,50.2%,56.5%);stroke-opacity:1.0;stroke-width:1.0\" x1=\"0\" x2=\"0\" y1=\"-3.0\" y2=\"4.5\"></line><text style=\"alignment-baseline:alphabetic;fill:rgb(43.9%,50.2%,56.5%);fill-opacity:1.0;font-size:10px;font-weight:normal;stroke:none;text-anchor:middle\" x=\"0\" y=\"-6\"></text></g></g></g></svg><div class=\"toyplot-interactive\"><ul class=\"toyplot-mark-popup\" onmouseleave=\"this.style.visibility='hidden'\" style=\"background:rgba(0%,0%,0%,0.75);border:0;border-radius:6px;color:white;cursor:default;list-style:none;margin:0;padding:5px;position:fixed;visibility:hidden\">\n",
       "            <li class=\"toyplot-mark-popup-title\" style=\"color:lightgray;cursor:default;padding:5px;list-style:none;margin:0\"></li>\n",
       "            <li class=\"toyplot-mark-popup-save-csv\" onmouseout=\"this.style.color='white';this.style.background='steelblue'\" onmouseover=\"this.style.color='steelblue';this.style.background='white'\" style=\"border-radius:3px;padding:5px;list-style:none;margin:0\">\n",
       "                Save as .csv\n",
       "            </li>\n",
       "        </ul><script>\n",
       "        (function()\n",
       "        {\n",
       "          var data_tables = [{\"title\": \"Bar Data\", \"names\": [\"left\", \"right\", \"baseline\", \"magnitude0\", \"magnitude1\", \"magnitude2\"], \"id\": \"te7f1bdddd72a42b7ae512ff4a8e223e8\", \"columns\": [[-0.5, 0.5, 1.5, 2.5, 3.5, 4.5, 5.5, 6.5, 7.5, 8.5, 9.5, 10.5, 11.5], [0.5, 1.5, 2.5, 3.5, 4.5, 5.5, 6.5, 7.5, 8.5, 9.5, 10.5, 11.5, 12.5], [0.0, 0.0, 0.0, 0.0, 0.0, 0.0, 0.0, 0.0, 0.0, 0.0, 0.0, 0.0, 0.0], [0.0, 0.0, 0.0, 0.0, 0.0588, 0.065, 1.0, 1.0, 1.0, 1.0, 1.0, 1.0, 1.0], [0.0, 0.0, 1.0, 1.0, 0.8976, 0.8942, 0.0, 0.0, 0.0, 0.0, 0.0, 0.0, 0.0], [1.0, 1.0, 0.0, 0.0, 0.0436, 0.0408, 0.0, 0.0, 0.0, 0.0, 0.0, 0.0, 0.0]], \"filename\": \"toyplot\"}];\n",
       "\n",
       "          function save_csv(data_table)\n",
       "          {\n",
       "            var uri = \"data:text/csv;charset=utf-8,\";\n",
       "            uri += data_table.names.join(\",\") + \"\\n\";\n",
       "            for(var i = 0; i != data_table.columns[0].length; ++i)\n",
       "            {\n",
       "              for(var j = 0; j != data_table.columns.length; ++j)\n",
       "              {\n",
       "                if(j)\n",
       "                  uri += \",\";\n",
       "                uri += data_table.columns[j][i];\n",
       "              }\n",
       "              uri += \"\\n\";\n",
       "            }\n",
       "            uri = encodeURI(uri);\n",
       "\n",
       "            var link = document.createElement(\"a\");\n",
       "            if(typeof link.download != \"undefined\")\n",
       "            {\n",
       "              link.href = uri;\n",
       "              link.style = \"visibility:hidden\";\n",
       "              link.download = data_table.filename + \".csv\";\n",
       "\n",
       "              document.body.appendChild(link);\n",
       "              link.click();\n",
       "              document.body.removeChild(link);\n",
       "            }\n",
       "            else\n",
       "            {\n",
       "              window.open(uri);\n",
       "            }\n",
       "          }\n",
       "\n",
       "          function open_popup(data_table)\n",
       "          {\n",
       "            return function(e)\n",
       "            {\n",
       "              var popup = document.querySelector(\"#tf408f8f74843438fa0d2dcff7fb7d422 .toyplot-mark-popup\");\n",
       "              popup.querySelector(\".toyplot-mark-popup-title\").innerHTML = data_table.title;\n",
       "              popup.querySelector(\".toyplot-mark-popup-save-csv\").onclick = function() { popup.style.visibility = \"hidden\"; save_csv(data_table); }\n",
       "              popup.style.left = (e.clientX - 50) + \"px\";\n",
       "              popup.style.top = (e.clientY - 20) + \"px\";\n",
       "              popup.style.visibility = \"visible\";\n",
       "              e.stopPropagation();\n",
       "              e.preventDefault();\n",
       "            }\n",
       "\n",
       "          }\n",
       "\n",
       "          for(var i = 0; i != data_tables.length; ++i)\n",
       "          {\n",
       "            var data_table = data_tables[i];\n",
       "            var event_target = document.querySelector(\"#\" + data_table.id);\n",
       "            event_target.oncontextmenu = open_popup(data_table);\n",
       "          }\n",
       "        })();\n",
       "        </script><script>\n",
       "        (function()\n",
       "        {\n",
       "            function _sign(x)\n",
       "            {\n",
       "                return x < 0 ? -1 : x > 0 ? 1 : 0;\n",
       "            }\n",
       "\n",
       "            function _mix(a, b, amount)\n",
       "            {\n",
       "                return ((1.0 - amount) * a) + (amount * b);\n",
       "            }\n",
       "\n",
       "            function _log(x, base)\n",
       "            {\n",
       "                return Math.log(Math.abs(x)) / Math.log(base);\n",
       "            }\n",
       "\n",
       "            function _in_range(a, x, b)\n",
       "            {\n",
       "                var left = Math.min(a, b);\n",
       "                var right = Math.max(a, b);\n",
       "                return left <= x && x <= right;\n",
       "            }\n",
       "\n",
       "            function inside(range, projection)\n",
       "            {\n",
       "                for(var i = 0; i != projection.length; ++i)\n",
       "                {\n",
       "                    var segment = projection[i];\n",
       "                    if(_in_range(segment.range.min, range, segment.range.max))\n",
       "                        return true;\n",
       "                }\n",
       "                return false;\n",
       "            }\n",
       "\n",
       "            function to_domain(range, projection)\n",
       "            {\n",
       "                for(var i = 0; i != projection.length; ++i)\n",
       "                {\n",
       "                    var segment = projection[i];\n",
       "                    if(_in_range(segment.range.bounds.min, range, segment.range.bounds.max))\n",
       "                    {\n",
       "                        if(segment.scale == \"linear\")\n",
       "                        {\n",
       "                            var amount = (range - segment.range.min) / (segment.range.max - segment.range.min);\n",
       "                            return _mix(segment.domain.min, segment.domain.max, amount)\n",
       "                        }\n",
       "                        else if(segment.scale[0] == \"log\")\n",
       "                        {\n",
       "                            var amount = (range - segment.range.min) / (segment.range.max - segment.range.min);\n",
       "                            var base = segment.scale[1];\n",
       "                            return _sign(segment.domain.min) * Math.pow(base, _mix(_log(segment.domain.min, base), _log(segment.domain.max, base), amount));\n",
       "                        }\n",
       "                    }\n",
       "                }\n",
       "            }\n",
       "\n",
       "            function display_coordinates(e)\n",
       "            {\n",
       "                var current = svg.createSVGPoint();\n",
       "                current.x = e.clientX;\n",
       "                current.y = e.clientY;\n",
       "\n",
       "                for(var axis_id in axes)\n",
       "                {\n",
       "                    var axis = document.querySelector(\"#\" + axis_id);\n",
       "                    var coordinates = axis.querySelector(\".toyplot-coordinates-Axis-coordinates\");\n",
       "                    if(coordinates)\n",
       "                    {\n",
       "                        var projection = axes[axis_id];\n",
       "                        var local = current.matrixTransform(axis.getScreenCTM().inverse());\n",
       "                        if(inside(local.x, projection))\n",
       "                        {\n",
       "                            var domain = to_domain(local.x, projection);\n",
       "                            coordinates.style.visibility = \"visible\";\n",
       "                            coordinates.setAttribute(\"transform\", \"translate(\" + local.x + \")\");\n",
       "                            var text = coordinates.querySelector(\"text\");\n",
       "                            text.textContent = domain.toFixed(2);\n",
       "                        }\n",
       "                        else\n",
       "                        {\n",
       "                            coordinates.style.visibility= \"hidden\";\n",
       "                        }\n",
       "                    }\n",
       "                }\n",
       "            }\n",
       "\n",
       "            var root_id = \"tf408f8f74843438fa0d2dcff7fb7d422\";\n",
       "            var axes = {\"tb927cf10e7824a5db16c89e6c2fb49a2\": [{\"domain\": {\"bounds\": {\"max\": Infinity, \"min\": -Infinity}, \"max\": 12.5, \"min\": -0.5}, \"range\": {\"bounds\": {\"max\": Infinity, \"min\": -Infinity}, \"max\": 300.0, \"min\": 0.0}, \"scale\": \"linear\"}]};\n",
       "\n",
       "            var svg = document.querySelector(\"#\" + root_id + \" svg\");\n",
       "            svg.addEventListener(\"click\", display_coordinates);\n",
       "        })();\n",
       "        </script></div></div>"
      ]
     },
     "metadata": {},
     "output_type": "display_data"
    },
    {
     "data": {
      "text/html": [
       "<div align=\"center\" class=\"toyplot\" id=\"tae20545b682a4b1f87679a34c5e1c47d\"><svg class=\"toyplot-canvas-Canvas\" height=\"200.0px\" id=\"t4cd67c6888894135b45464465000e97d\" preserveAspectRatio=\"xMidYMid meet\" style=\"background-color:transparent;fill:rgb(16.1%,15.3%,14.1%);fill-opacity:1.0;font-family:Helvetica;font-size:12px;opacity:1.0;stroke:rgb(16.1%,15.3%,14.1%);stroke-opacity:1.0;stroke-width:1.0\" viewBox=\"0 0 400.0 200.0\" width=\"400.0px\" xmlns=\"http://www.w3.org/2000/svg\" xmlns:toyplot=\"http://www.sandia.gov/toyplot\" xmlns:xlink=\"http://www.w3.org/1999/xlink\"><g class=\"toyplot-coordinates-Cartesian\" id=\"t15439b9c03a84861bfb5ad2ab91022bc\"><clipPath id=\"t8db9b590f1f843b5908e214b50debd39\"><rect height=\"120.0\" width=\"320.0\" x=\"40.0\" y=\"40.0\"></rect></clipPath><g clip-path=\"url(#t8db9b590f1f843b5908e214b50debd39)\"><g class=\"toyplot-mark-BarMagnitudes\" id=\"t277022e200a640f1a5a1e811f9f7a976\" style=\"stroke:rgb(100%,100%,100%);stroke-opacity:1.0;stroke-width:1.0\"><g class=\"toyplot-Series\"><rect class=\"toyplot-Datum\" height=\"0.0\" style=\"fill:rgb(40%,76.1%,64.7%);fill-opacity:1.0;opacity:1.0;stroke:rgb(100%,100%,100%);stroke-opacity:1.0;stroke-width:1.0\" width=\"23.07692307692308\" x=\"50.0\" y=\"150.0\"><title>Name: 32082_przewalskii, Group: 0, Prop: 0.0</title></rect><rect class=\"toyplot-Datum\" height=\"0.0\" style=\"fill:rgb(40%,76.1%,64.7%);fill-opacity:1.0;opacity:1.0;stroke:rgb(100%,100%,100%);stroke-opacity:1.0;stroke-width:1.0\" width=\"23.07692307692308\" x=\"73.07692307692308\" y=\"150.0\"><title>Name: 33588_przewalskii, Group: 0, Prop: 0.0</title></rect><rect class=\"toyplot-Datum\" height=\"0.0\" style=\"fill:rgb(40%,76.1%,64.7%);fill-opacity:1.0;opacity:1.0;stroke:rgb(100%,100%,100%);stroke-opacity:1.0;stroke-width:1.0\" width=\"23.076923076923066\" x=\"96.15384615384616\" y=\"150.0\"><title>Name: 41478_cyathophylloides, Group: 0, Prop: 0.0</title></rect><rect class=\"toyplot-Datum\" height=\"0.0\" style=\"fill:rgb(40%,76.1%,64.7%);fill-opacity:1.0;opacity:1.0;stroke:rgb(100%,100%,100%);stroke-opacity:1.0;stroke-width:1.0\" width=\"23.076923076923094\" x=\"119.23076923076923\" y=\"150.0\"><title>Name: 41954_cyathophylloides, Group: 0, Prop: 0.0</title></rect><rect class=\"toyplot-Datum\" height=\"0.039999999999992042\" style=\"fill:rgb(40%,76.1%,64.7%);fill-opacity:1.0;opacity:1.0;stroke:rgb(100%,100%,100%);stroke-opacity:1.0;stroke-width:1.0\" width=\"23.076923076923066\" x=\"142.30769230769232\" y=\"149.96000000000001\"><title>Name: 30686_cyathophylla, Group: 0, Prop: 0.0004</title></rect><rect class=\"toyplot-Datum\" height=\"0.0\" style=\"fill:rgb(40%,76.1%,64.7%);fill-opacity:1.0;opacity:1.0;stroke:rgb(100%,100%,100%);stroke-opacity:1.0;stroke-width:1.0\" width=\"23.076923076923094\" x=\"165.38461538461539\" y=\"150.0\"><title>Name: 29154_superba, Group: 0, Prop: 0.0</title></rect><rect class=\"toyplot-Datum\" height=\"0.90000000000000568\" style=\"fill:rgb(40%,76.1%,64.7%);fill-opacity:1.0;opacity:1.0;stroke:rgb(100%,100%,100%);stroke-opacity:1.0;stroke-width:1.0\" width=\"23.076923076923038\" x=\"188.46153846153848\" y=\"149.09999999999999\"><title>Name: 33413_thamno, Group: 0, Prop: 0.009</title></rect><rect class=\"toyplot-Datum\" height=\"16.400000000000006\" style=\"fill:rgb(40%,76.1%,64.7%);fill-opacity:1.0;opacity:1.0;stroke:rgb(100%,100%,100%);stroke-opacity:1.0;stroke-width:1.0\" width=\"23.076923076923094\" x=\"211.53846153846152\" y=\"133.59999999999999\"><title>Name: 30556_thamno, Group: 0, Prop: 0.164</title></rect><rect class=\"toyplot-Datum\" height=\"23.219999999999999\" style=\"fill:rgb(40%,76.1%,64.7%);fill-opacity:1.0;opacity:1.0;stroke:rgb(100%,100%,100%);stroke-opacity:1.0;stroke-width:1.0\" width=\"23.076923076923066\" x=\"234.61538461538461\" y=\"126.78\"><title>Name: 35236_rex, Group: 0, Prop: 0.2322</title></rect><rect class=\"toyplot-Datum\" height=\"15.919999999999987\" style=\"fill:rgb(40%,76.1%,64.7%);fill-opacity:1.0;opacity:1.0;stroke:rgb(100%,100%,100%);stroke-opacity:1.0;stroke-width:1.0\" width=\"23.076923076923094\" x=\"257.69230769230768\" y=\"134.08000000000001\"><title>Name: 40578_rex, Group: 0, Prop: 0.1592</title></rect><rect class=\"toyplot-Datum\" height=\"17.439999999999998\" style=\"fill:rgb(40%,76.1%,64.7%);fill-opacity:1.0;opacity:1.0;stroke:rgb(100%,100%,100%);stroke-opacity:1.0;stroke-width:1.0\" width=\"23.076923076923038\" x=\"280.76923076923077\" y=\"132.56\"><title>Name: 35855_rex, Group: 0, Prop: 0.1744</title></rect><rect class=\"toyplot-Datum\" height=\"100.0\" style=\"fill:rgb(40%,76.1%,64.7%);fill-opacity:1.0;opacity:1.0;stroke:rgb(100%,100%,100%);stroke-opacity:1.0;stroke-width:1.0\" width=\"23.076923076923151\" x=\"303.84615384615381\" y=\"50.0\"><title>Name: 39618_rex, Group: 0, Prop: 1.0</title></rect><rect class=\"toyplot-Datum\" height=\"100.0\" style=\"fill:rgb(40%,76.1%,64.7%);fill-opacity:1.0;opacity:1.0;stroke:rgb(100%,100%,100%);stroke-opacity:1.0;stroke-width:1.0\" width=\"23.076923076923038\" x=\"326.92307692307696\" y=\"50.0\"><title>Name: 38362_rex, Group: 0, Prop: 1.0</title></rect></g><g class=\"toyplot-Series\"><rect class=\"toyplot-Datum\" height=\"100.0\" style=\"fill:rgb(98.8%,55.3%,38.4%);fill-opacity:1.0;opacity:1.0;stroke:rgb(100%,100%,100%);stroke-opacity:1.0;stroke-width:1.0\" width=\"23.07692307692308\" x=\"50.0\" y=\"50.0\"><title>Name: 32082_przewalskii, Group: 1, Prop: 1.0</title></rect><rect class=\"toyplot-Datum\" height=\"100.0\" style=\"fill:rgb(98.8%,55.3%,38.4%);fill-opacity:1.0;opacity:1.0;stroke:rgb(100%,100%,100%);stroke-opacity:1.0;stroke-width:1.0\" width=\"23.07692307692308\" x=\"73.07692307692308\" y=\"50.0\"><title>Name: 33588_przewalskii, Group: 1, Prop: 1.0</title></rect><rect class=\"toyplot-Datum\" height=\"0.0\" style=\"fill:rgb(98.8%,55.3%,38.4%);fill-opacity:1.0;opacity:1.0;stroke:rgb(100%,100%,100%);stroke-opacity:1.0;stroke-width:1.0\" width=\"23.076923076923066\" x=\"96.15384615384616\" y=\"150.0\"><title>Name: 41478_cyathophylloides, Group: 1, Prop: 0.0</title></rect><rect class=\"toyplot-Datum\" height=\"0.0\" style=\"fill:rgb(98.8%,55.3%,38.4%);fill-opacity:1.0;opacity:1.0;stroke:rgb(100%,100%,100%);stroke-opacity:1.0;stroke-width:1.0\" width=\"23.076923076923094\" x=\"119.23076923076923\" y=\"150.0\"><title>Name: 41954_cyathophylloides, Group: 1, Prop: 0.0</title></rect><rect class=\"toyplot-Datum\" height=\"0.0\" style=\"fill:rgb(98.8%,55.3%,38.4%);fill-opacity:1.0;opacity:1.0;stroke:rgb(100%,100%,100%);stroke-opacity:1.0;stroke-width:1.0\" width=\"23.076923076923066\" x=\"142.30769230769232\" y=\"149.96000000000001\"><title>Name: 30686_cyathophylla, Group: 1, Prop: 0.0</title></rect><rect class=\"toyplot-Datum\" height=\"0.0\" style=\"fill:rgb(98.8%,55.3%,38.4%);fill-opacity:1.0;opacity:1.0;stroke:rgb(100%,100%,100%);stroke-opacity:1.0;stroke-width:1.0\" width=\"23.076923076923094\" x=\"165.38461538461539\" y=\"150.0\"><title>Name: 29154_superba, Group: 1, Prop: 0.0</title></rect><rect class=\"toyplot-Datum\" height=\"0.0\" style=\"fill:rgb(98.8%,55.3%,38.4%);fill-opacity:1.0;opacity:1.0;stroke:rgb(100%,100%,100%);stroke-opacity:1.0;stroke-width:1.0\" width=\"23.076923076923038\" x=\"188.46153846153848\" y=\"149.09999999999999\"><title>Name: 33413_thamno, Group: 1, Prop: 0.0</title></rect><rect class=\"toyplot-Datum\" height=\"0.0\" style=\"fill:rgb(98.8%,55.3%,38.4%);fill-opacity:1.0;opacity:1.0;stroke:rgb(100%,100%,100%);stroke-opacity:1.0;stroke-width:1.0\" width=\"23.076923076923094\" x=\"211.53846153846152\" y=\"133.59999999999999\"><title>Name: 30556_thamno, Group: 1, Prop: 0.0</title></rect><rect class=\"toyplot-Datum\" height=\"0.0\" style=\"fill:rgb(98.8%,55.3%,38.4%);fill-opacity:1.0;opacity:1.0;stroke:rgb(100%,100%,100%);stroke-opacity:1.0;stroke-width:1.0\" width=\"23.076923076923066\" x=\"234.61538461538461\" y=\"126.78\"><title>Name: 35236_rex, Group: 1, Prop: 0.0</title></rect><rect class=\"toyplot-Datum\" height=\"0.0\" style=\"fill:rgb(98.8%,55.3%,38.4%);fill-opacity:1.0;opacity:1.0;stroke:rgb(100%,100%,100%);stroke-opacity:1.0;stroke-width:1.0\" width=\"23.076923076923094\" x=\"257.69230769230768\" y=\"134.08000000000001\"><title>Name: 40578_rex, Group: 1, Prop: 0.0</title></rect><rect class=\"toyplot-Datum\" height=\"0.0\" style=\"fill:rgb(98.8%,55.3%,38.4%);fill-opacity:1.0;opacity:1.0;stroke:rgb(100%,100%,100%);stroke-opacity:1.0;stroke-width:1.0\" width=\"23.076923076923038\" x=\"280.76923076923077\" y=\"132.56\"><title>Name: 35855_rex, Group: 1, Prop: 0.0</title></rect><rect class=\"toyplot-Datum\" height=\"0.0\" style=\"fill:rgb(98.8%,55.3%,38.4%);fill-opacity:1.0;opacity:1.0;stroke:rgb(100%,100%,100%);stroke-opacity:1.0;stroke-width:1.0\" width=\"23.076923076923151\" x=\"303.84615384615381\" y=\"50.0\"><title>Name: 39618_rex, Group: 1, Prop: 0.0</title></rect><rect class=\"toyplot-Datum\" height=\"0.0\" style=\"fill:rgb(98.8%,55.3%,38.4%);fill-opacity:1.0;opacity:1.0;stroke:rgb(100%,100%,100%);stroke-opacity:1.0;stroke-width:1.0\" width=\"23.076923076923038\" x=\"326.92307692307696\" y=\"50.0\"><title>Name: 38362_rex, Group: 1, Prop: 0.0</title></rect></g><g class=\"toyplot-Series\"><rect class=\"toyplot-Datum\" height=\"0.0\" style=\"fill:rgb(55.3%,62.7%,79.6%);fill-opacity:1.0;opacity:1.0;stroke:rgb(100%,100%,100%);stroke-opacity:1.0;stroke-width:1.0\" width=\"23.07692307692308\" x=\"50.0\" y=\"50.0\"><title>Name: 32082_przewalskii, Group: 2, Prop: 0.0</title></rect><rect class=\"toyplot-Datum\" height=\"0.0\" style=\"fill:rgb(55.3%,62.7%,79.6%);fill-opacity:1.0;opacity:1.0;stroke:rgb(100%,100%,100%);stroke-opacity:1.0;stroke-width:1.0\" width=\"23.07692307692308\" x=\"73.07692307692308\" y=\"50.0\"><title>Name: 33588_przewalskii, Group: 2, Prop: 0.0</title></rect><rect class=\"toyplot-Datum\" height=\"0.0\" style=\"fill:rgb(55.3%,62.7%,79.6%);fill-opacity:1.0;opacity:1.0;stroke:rgb(100%,100%,100%);stroke-opacity:1.0;stroke-width:1.0\" width=\"23.076923076923066\" x=\"96.15384615384616\" y=\"150.0\"><title>Name: 41478_cyathophylloides, Group: 2, Prop: 0.0</title></rect><rect class=\"toyplot-Datum\" height=\"0.0\" style=\"fill:rgb(55.3%,62.7%,79.6%);fill-opacity:1.0;opacity:1.0;stroke:rgb(100%,100%,100%);stroke-opacity:1.0;stroke-width:1.0\" width=\"23.076923076923094\" x=\"119.23076923076923\" y=\"150.0\"><title>Name: 41954_cyathophylloides, Group: 2, Prop: 0.0</title></rect><rect class=\"toyplot-Datum\" height=\"62.560000000000002\" style=\"fill:rgb(55.3%,62.7%,79.6%);fill-opacity:1.0;opacity:1.0;stroke:rgb(100%,100%,100%);stroke-opacity:1.0;stroke-width:1.0\" width=\"23.076923076923066\" x=\"142.30769230769232\" y=\"87.400000000000006\"><title>Name: 30686_cyathophylla, Group: 2, Prop: 0.6256</title></rect><rect class=\"toyplot-Datum\" height=\"64.039999999999992\" style=\"fill:rgb(55.3%,62.7%,79.6%);fill-opacity:1.0;opacity:1.0;stroke:rgb(100%,100%,100%);stroke-opacity:1.0;stroke-width:1.0\" width=\"23.076923076923094\" x=\"165.38461538461539\" y=\"85.960000000000008\"><title>Name: 29154_superba, Group: 2, Prop: 0.6404</title></rect><rect class=\"toyplot-Datum\" height=\"99.099999999999994\" style=\"fill:rgb(55.3%,62.7%,79.6%);fill-opacity:1.0;opacity:1.0;stroke:rgb(100%,100%,100%);stroke-opacity:1.0;stroke-width:1.0\" width=\"23.076923076923038\" x=\"188.46153846153848\" y=\"50.0\"><title>Name: 33413_thamno, Group: 2, Prop: 0.991</title></rect><rect class=\"toyplot-Datum\" height=\"83.599999999999994\" style=\"fill:rgb(55.3%,62.7%,79.6%);fill-opacity:1.0;opacity:1.0;stroke:rgb(100%,100%,100%);stroke-opacity:1.0;stroke-width:1.0\" width=\"23.076923076923094\" x=\"211.53846153846152\" y=\"50.0\"><title>Name: 30556_thamno, Group: 2, Prop: 0.836</title></rect><rect class=\"toyplot-Datum\" height=\"76.780000000000001\" style=\"fill:rgb(55.3%,62.7%,79.6%);fill-opacity:1.0;opacity:1.0;stroke:rgb(100%,100%,100%);stroke-opacity:1.0;stroke-width:1.0\" width=\"23.076923076923066\" x=\"234.61538461538461\" y=\"50.0\"><title>Name: 35236_rex, Group: 2, Prop: 0.7678</title></rect><rect class=\"toyplot-Datum\" height=\"84.080000000000013\" style=\"fill:rgb(55.3%,62.7%,79.6%);fill-opacity:1.0;opacity:1.0;stroke:rgb(100%,100%,100%);stroke-opacity:1.0;stroke-width:1.0\" width=\"23.076923076923094\" x=\"257.69230769230768\" y=\"50.0\"><title>Name: 40578_rex, Group: 2, Prop: 0.8408</title></rect><rect class=\"toyplot-Datum\" height=\"82.560000000000002\" style=\"fill:rgb(55.3%,62.7%,79.6%);fill-opacity:1.0;opacity:1.0;stroke:rgb(100%,100%,100%);stroke-opacity:1.0;stroke-width:1.0\" width=\"23.076923076923038\" x=\"280.76923076923077\" y=\"50.0\"><title>Name: 35855_rex, Group: 2, Prop: 0.8256</title></rect><rect class=\"toyplot-Datum\" height=\"0.0\" style=\"fill:rgb(55.3%,62.7%,79.6%);fill-opacity:1.0;opacity:1.0;stroke:rgb(100%,100%,100%);stroke-opacity:1.0;stroke-width:1.0\" width=\"23.076923076923151\" x=\"303.84615384615381\" y=\"50.0\"><title>Name: 39618_rex, Group: 2, Prop: 0.0</title></rect><rect class=\"toyplot-Datum\" height=\"0.0\" style=\"fill:rgb(55.3%,62.7%,79.6%);fill-opacity:1.0;opacity:1.0;stroke:rgb(100%,100%,100%);stroke-opacity:1.0;stroke-width:1.0\" width=\"23.076923076923038\" x=\"326.92307692307696\" y=\"50.0\"><title>Name: 38362_rex, Group: 2, Prop: 0.0</title></rect></g><g class=\"toyplot-Series\"><rect class=\"toyplot-Datum\" height=\"0.0\" style=\"fill:rgb(90.6%,54.1%,76.5%);fill-opacity:1.0;opacity:1.0;stroke:rgb(100%,100%,100%);stroke-opacity:1.0;stroke-width:1.0\" width=\"23.07692307692308\" x=\"50.0\" y=\"50.0\"><title>Name: 32082_przewalskii, Group: 3, Prop: 0.0</title></rect><rect class=\"toyplot-Datum\" height=\"0.0\" style=\"fill:rgb(90.6%,54.1%,76.5%);fill-opacity:1.0;opacity:1.0;stroke:rgb(100%,100%,100%);stroke-opacity:1.0;stroke-width:1.0\" width=\"23.07692307692308\" x=\"73.07692307692308\" y=\"50.0\"><title>Name: 33588_przewalskii, Group: 3, Prop: 0.0</title></rect><rect class=\"toyplot-Datum\" height=\"100.0\" style=\"fill:rgb(90.6%,54.1%,76.5%);fill-opacity:1.0;opacity:1.0;stroke:rgb(100%,100%,100%);stroke-opacity:1.0;stroke-width:1.0\" width=\"23.076923076923066\" x=\"96.15384615384616\" y=\"50.0\"><title>Name: 41478_cyathophylloides, Group: 3, Prop: 1.0</title></rect><rect class=\"toyplot-Datum\" height=\"100.0\" style=\"fill:rgb(90.6%,54.1%,76.5%);fill-opacity:1.0;opacity:1.0;stroke:rgb(100%,100%,100%);stroke-opacity:1.0;stroke-width:1.0\" width=\"23.076923076923094\" x=\"119.23076923076923\" y=\"50.0\"><title>Name: 41954_cyathophylloides, Group: 3, Prop: 1.0</title></rect><rect class=\"toyplot-Datum\" height=\"37.400000000000006\" style=\"fill:rgb(90.6%,54.1%,76.5%);fill-opacity:1.0;opacity:1.0;stroke:rgb(100%,100%,100%);stroke-opacity:1.0;stroke-width:1.0\" width=\"23.076923076923066\" x=\"142.30769230769232\" y=\"50.0\"><title>Name: 30686_cyathophylla, Group: 3, Prop: 0.374</title></rect><rect class=\"toyplot-Datum\" height=\"35.960000000000008\" style=\"fill:rgb(90.6%,54.1%,76.5%);fill-opacity:1.0;opacity:1.0;stroke:rgb(100%,100%,100%);stroke-opacity:1.0;stroke-width:1.0\" width=\"23.076923076923094\" x=\"165.38461538461539\" y=\"50.0\"><title>Name: 29154_superba, Group: 3, Prop: 0.3596</title></rect><rect class=\"toyplot-Datum\" height=\"0.0\" style=\"fill:rgb(90.6%,54.1%,76.5%);fill-opacity:1.0;opacity:1.0;stroke:rgb(100%,100%,100%);stroke-opacity:1.0;stroke-width:1.0\" width=\"23.076923076923038\" x=\"188.46153846153848\" y=\"50.0\"><title>Name: 33413_thamno, Group: 3, Prop: 0.0</title></rect><rect class=\"toyplot-Datum\" height=\"0.0\" style=\"fill:rgb(90.6%,54.1%,76.5%);fill-opacity:1.0;opacity:1.0;stroke:rgb(100%,100%,100%);stroke-opacity:1.0;stroke-width:1.0\" width=\"23.076923076923094\" x=\"211.53846153846152\" y=\"50.0\"><title>Name: 30556_thamno, Group: 3, Prop: 0.0</title></rect><rect class=\"toyplot-Datum\" height=\"0.0\" style=\"fill:rgb(90.6%,54.1%,76.5%);fill-opacity:1.0;opacity:1.0;stroke:rgb(100%,100%,100%);stroke-opacity:1.0;stroke-width:1.0\" width=\"23.076923076923066\" x=\"234.61538461538461\" y=\"50.0\"><title>Name: 35236_rex, Group: 3, Prop: 0.0</title></rect><rect class=\"toyplot-Datum\" height=\"0.0\" style=\"fill:rgb(90.6%,54.1%,76.5%);fill-opacity:1.0;opacity:1.0;stroke:rgb(100%,100%,100%);stroke-opacity:1.0;stroke-width:1.0\" width=\"23.076923076923094\" x=\"257.69230769230768\" y=\"50.0\"><title>Name: 40578_rex, Group: 3, Prop: 0.0</title></rect><rect class=\"toyplot-Datum\" height=\"0.0\" style=\"fill:rgb(90.6%,54.1%,76.5%);fill-opacity:1.0;opacity:1.0;stroke:rgb(100%,100%,100%);stroke-opacity:1.0;stroke-width:1.0\" width=\"23.076923076923038\" x=\"280.76923076923077\" y=\"50.0\"><title>Name: 35855_rex, Group: 3, Prop: 0.0</title></rect><rect class=\"toyplot-Datum\" height=\"0.0\" style=\"fill:rgb(90.6%,54.1%,76.5%);fill-opacity:1.0;opacity:1.0;stroke:rgb(100%,100%,100%);stroke-opacity:1.0;stroke-width:1.0\" width=\"23.076923076923151\" x=\"303.84615384615381\" y=\"50.0\"><title>Name: 39618_rex, Group: 3, Prop: 0.0</title></rect><rect class=\"toyplot-Datum\" height=\"0.0\" style=\"fill:rgb(90.6%,54.1%,76.5%);fill-opacity:1.0;opacity:1.0;stroke:rgb(100%,100%,100%);stroke-opacity:1.0;stroke-width:1.0\" width=\"23.076923076923038\" x=\"326.92307692307696\" y=\"50.0\"><title>Name: 38362_rex, Group: 3, Prop: 0.0</title></rect></g></g></g><g class=\"toyplot-coordinates-Axis\" id=\"t124368c7441c47d09dde6ac8973c237a\" transform=\"translate(50.0,150.0)translate(0,10.0)\"><line style=\"\" x1=\"0\" x2=\"300.0\" y1=\"0\" y2=\"0\"></line><g><text style=\"dominant-baseline:hanging;font-size:10px;font-weight:normal;stroke:none;text-anchor:middle\" transform=\"translate(11.538461538461538,6)\"><tspan style=\"dominant-baseline:inherit\">0</tspan></text><text style=\"dominant-baseline:hanging;font-size:10px;font-weight:normal;stroke:none;text-anchor:middle\" transform=\"translate(103.84615384615384,6)\"><tspan style=\"dominant-baseline:inherit\">4</tspan></text><text style=\"dominant-baseline:hanging;font-size:10px;font-weight:normal;stroke:none;text-anchor:middle\" transform=\"translate(196.15384615384616,6)\"><tspan style=\"dominant-baseline:inherit\">8</tspan></text><text style=\"dominant-baseline:hanging;font-size:10px;font-weight:normal;stroke:none;text-anchor:middle\" transform=\"translate(288.46153846153845,6)\"><tspan style=\"dominant-baseline:inherit\">12</tspan></text></g><text style=\"dominant-baseline:hanging;font-size:12px;font-weight:bold;stroke:none;text-anchor:middle\" transform=\"translate(150.0,22)\"><tspan style=\"dominant-baseline:inherit\">K=4</tspan></text><g class=\"toyplot-coordinates-Axis-coordinates\" style=\"visibility:hidden\" transform=\"\"><line style=\"stroke:rgb(43.9%,50.2%,56.5%);stroke-opacity:1.0;stroke-width:1.0\" x1=\"0\" x2=\"0\" y1=\"-3.0\" y2=\"4.5\"></line><text style=\"alignment-baseline:alphabetic;fill:rgb(43.9%,50.2%,56.5%);fill-opacity:1.0;font-size:10px;font-weight:normal;stroke:none;text-anchor:middle\" x=\"0\" y=\"-6\"></text></g></g></g></svg><div class=\"toyplot-interactive\"><ul class=\"toyplot-mark-popup\" onmouseleave=\"this.style.visibility='hidden'\" style=\"background:rgba(0%,0%,0%,0.75);border:0;border-radius:6px;color:white;cursor:default;list-style:none;margin:0;padding:5px;position:fixed;visibility:hidden\">\n",
       "            <li class=\"toyplot-mark-popup-title\" style=\"color:lightgray;cursor:default;padding:5px;list-style:none;margin:0\"></li>\n",
       "            <li class=\"toyplot-mark-popup-save-csv\" onmouseout=\"this.style.color='white';this.style.background='steelblue'\" onmouseover=\"this.style.color='steelblue';this.style.background='white'\" style=\"border-radius:3px;padding:5px;list-style:none;margin:0\">\n",
       "                Save as .csv\n",
       "            </li>\n",
       "        </ul><script>\n",
       "        (function()\n",
       "        {\n",
       "          var data_tables = [{\"title\": \"Bar Data\", \"names\": [\"left\", \"right\", \"baseline\", \"magnitude0\", \"magnitude1\", \"magnitude2\", \"magnitude3\"], \"id\": \"t277022e200a640f1a5a1e811f9f7a976\", \"columns\": [[-0.5, 0.5, 1.5, 2.5, 3.5, 4.5, 5.5, 6.5, 7.5, 8.5, 9.5, 10.5, 11.5], [0.5, 1.5, 2.5, 3.5, 4.5, 5.5, 6.5, 7.5, 8.5, 9.5, 10.5, 11.5, 12.5], [0.0, 0.0, 0.0, 0.0, 0.0, 0.0, 0.0, 0.0, 0.0, 0.0, 0.0, 0.0, 0.0], [0.0, 0.0, 0.0, 0.0, 0.0004, 0.0, 0.009, 0.164, 0.2322, 0.1592, 0.1744, 1.0, 1.0], [1.0, 1.0, 0.0, 0.0, 0.0, 0.0, 0.0, 0.0, 0.0, 0.0, 0.0, 0.0, 0.0], [0.0, 0.0, 0.0, 0.0, 0.6256, 0.6404, 0.991, 0.836, 0.7678, 0.8408, 0.8256, 0.0, 0.0], [0.0, 0.0, 1.0, 1.0, 0.374, 0.3596, 0.0, 0.0, 0.0, 0.0, 0.0, 0.0, 0.0]], \"filename\": \"toyplot\"}];\n",
       "\n",
       "          function save_csv(data_table)\n",
       "          {\n",
       "            var uri = \"data:text/csv;charset=utf-8,\";\n",
       "            uri += data_table.names.join(\",\") + \"\\n\";\n",
       "            for(var i = 0; i != data_table.columns[0].length; ++i)\n",
       "            {\n",
       "              for(var j = 0; j != data_table.columns.length; ++j)\n",
       "              {\n",
       "                if(j)\n",
       "                  uri += \",\";\n",
       "                uri += data_table.columns[j][i];\n",
       "              }\n",
       "              uri += \"\\n\";\n",
       "            }\n",
       "            uri = encodeURI(uri);\n",
       "\n",
       "            var link = document.createElement(\"a\");\n",
       "            if(typeof link.download != \"undefined\")\n",
       "            {\n",
       "              link.href = uri;\n",
       "              link.style = \"visibility:hidden\";\n",
       "              link.download = data_table.filename + \".csv\";\n",
       "\n",
       "              document.body.appendChild(link);\n",
       "              link.click();\n",
       "              document.body.removeChild(link);\n",
       "            }\n",
       "            else\n",
       "            {\n",
       "              window.open(uri);\n",
       "            }\n",
       "          }\n",
       "\n",
       "          function open_popup(data_table)\n",
       "          {\n",
       "            return function(e)\n",
       "            {\n",
       "              var popup = document.querySelector(\"#tae20545b682a4b1f87679a34c5e1c47d .toyplot-mark-popup\");\n",
       "              popup.querySelector(\".toyplot-mark-popup-title\").innerHTML = data_table.title;\n",
       "              popup.querySelector(\".toyplot-mark-popup-save-csv\").onclick = function() { popup.style.visibility = \"hidden\"; save_csv(data_table); }\n",
       "              popup.style.left = (e.clientX - 50) + \"px\";\n",
       "              popup.style.top = (e.clientY - 20) + \"px\";\n",
       "              popup.style.visibility = \"visible\";\n",
       "              e.stopPropagation();\n",
       "              e.preventDefault();\n",
       "            }\n",
       "\n",
       "          }\n",
       "\n",
       "          for(var i = 0; i != data_tables.length; ++i)\n",
       "          {\n",
       "            var data_table = data_tables[i];\n",
       "            var event_target = document.querySelector(\"#\" + data_table.id);\n",
       "            event_target.oncontextmenu = open_popup(data_table);\n",
       "          }\n",
       "        })();\n",
       "        </script><script>\n",
       "        (function()\n",
       "        {\n",
       "            function _sign(x)\n",
       "            {\n",
       "                return x < 0 ? -1 : x > 0 ? 1 : 0;\n",
       "            }\n",
       "\n",
       "            function _mix(a, b, amount)\n",
       "            {\n",
       "                return ((1.0 - amount) * a) + (amount * b);\n",
       "            }\n",
       "\n",
       "            function _log(x, base)\n",
       "            {\n",
       "                return Math.log(Math.abs(x)) / Math.log(base);\n",
       "            }\n",
       "\n",
       "            function _in_range(a, x, b)\n",
       "            {\n",
       "                var left = Math.min(a, b);\n",
       "                var right = Math.max(a, b);\n",
       "                return left <= x && x <= right;\n",
       "            }\n",
       "\n",
       "            function inside(range, projection)\n",
       "            {\n",
       "                for(var i = 0; i != projection.length; ++i)\n",
       "                {\n",
       "                    var segment = projection[i];\n",
       "                    if(_in_range(segment.range.min, range, segment.range.max))\n",
       "                        return true;\n",
       "                }\n",
       "                return false;\n",
       "            }\n",
       "\n",
       "            function to_domain(range, projection)\n",
       "            {\n",
       "                for(var i = 0; i != projection.length; ++i)\n",
       "                {\n",
       "                    var segment = projection[i];\n",
       "                    if(_in_range(segment.range.bounds.min, range, segment.range.bounds.max))\n",
       "                    {\n",
       "                        if(segment.scale == \"linear\")\n",
       "                        {\n",
       "                            var amount = (range - segment.range.min) / (segment.range.max - segment.range.min);\n",
       "                            return _mix(segment.domain.min, segment.domain.max, amount)\n",
       "                        }\n",
       "                        else if(segment.scale[0] == \"log\")\n",
       "                        {\n",
       "                            var amount = (range - segment.range.min) / (segment.range.max - segment.range.min);\n",
       "                            var base = segment.scale[1];\n",
       "                            return _sign(segment.domain.min) * Math.pow(base, _mix(_log(segment.domain.min, base), _log(segment.domain.max, base), amount));\n",
       "                        }\n",
       "                    }\n",
       "                }\n",
       "            }\n",
       "\n",
       "            function display_coordinates(e)\n",
       "            {\n",
       "                var current = svg.createSVGPoint();\n",
       "                current.x = e.clientX;\n",
       "                current.y = e.clientY;\n",
       "\n",
       "                for(var axis_id in axes)\n",
       "                {\n",
       "                    var axis = document.querySelector(\"#\" + axis_id);\n",
       "                    var coordinates = axis.querySelector(\".toyplot-coordinates-Axis-coordinates\");\n",
       "                    if(coordinates)\n",
       "                    {\n",
       "                        var projection = axes[axis_id];\n",
       "                        var local = current.matrixTransform(axis.getScreenCTM().inverse());\n",
       "                        if(inside(local.x, projection))\n",
       "                        {\n",
       "                            var domain = to_domain(local.x, projection);\n",
       "                            coordinates.style.visibility = \"visible\";\n",
       "                            coordinates.setAttribute(\"transform\", \"translate(\" + local.x + \")\");\n",
       "                            var text = coordinates.querySelector(\"text\");\n",
       "                            text.textContent = domain.toFixed(2);\n",
       "                        }\n",
       "                        else\n",
       "                        {\n",
       "                            coordinates.style.visibility= \"hidden\";\n",
       "                        }\n",
       "                    }\n",
       "                }\n",
       "            }\n",
       "\n",
       "            var root_id = \"tae20545b682a4b1f87679a34c5e1c47d\";\n",
       "            var axes = {\"t124368c7441c47d09dde6ac8973c237a\": [{\"domain\": {\"bounds\": {\"max\": Infinity, \"min\": -Infinity}, \"max\": 12.5, \"min\": -0.5}, \"range\": {\"bounds\": {\"max\": Infinity, \"min\": -Infinity}, \"max\": 300.0, \"min\": 0.0}, \"scale\": \"linear\"}]};\n",
       "\n",
       "            var svg = document.querySelector(\"#\" + root_id + \" svg\");\n",
       "            svg.addEventListener(\"click\", display_coordinates);\n",
       "        })();\n",
       "        </script></div></div>"
      ]
     },
     "metadata": {},
     "output_type": "display_data"
    },
    {
     "data": {
      "text/html": [
       "<div align=\"center\" class=\"toyplot\" id=\"t4db9fdd273774bdcbb7a7a541ddb8ee9\"><svg class=\"toyplot-canvas-Canvas\" height=\"200.0px\" id=\"t3af23f0192c141a384525222d75456b5\" preserveAspectRatio=\"xMidYMid meet\" style=\"background-color:transparent;fill:rgb(16.1%,15.3%,14.1%);fill-opacity:1.0;font-family:Helvetica;font-size:12px;opacity:1.0;stroke:rgb(16.1%,15.3%,14.1%);stroke-opacity:1.0;stroke-width:1.0\" viewBox=\"0 0 400.0 200.0\" width=\"400.0px\" xmlns=\"http://www.w3.org/2000/svg\" xmlns:toyplot=\"http://www.sandia.gov/toyplot\" xmlns:xlink=\"http://www.w3.org/1999/xlink\"><g class=\"toyplot-coordinates-Cartesian\" id=\"t3b987af6ec4a47639bd902152612987e\"><clipPath id=\"t8b44e738a5d14b60be5398853fad9159\"><rect height=\"120.0\" width=\"320.0\" x=\"40.0\" y=\"40.0\"></rect></clipPath><g clip-path=\"url(#t8b44e738a5d14b60be5398853fad9159)\"><g class=\"toyplot-mark-BarMagnitudes\" id=\"t029242ff21cc46939c302fee91fea705\" style=\"stroke:rgb(100%,100%,100%);stroke-opacity:1.0;stroke-width:1.0\"><g class=\"toyplot-Series\"><rect class=\"toyplot-Datum\" height=\"0.0\" style=\"fill:rgb(40%,76.1%,64.7%);fill-opacity:1.0;opacity:1.0;stroke:rgb(100%,100%,100%);stroke-opacity:1.0;stroke-width:1.0\" width=\"23.07692307692308\" x=\"50.0\" y=\"150.0\"><title>Name: 32082_przewalskii, Group: 0, Prop: 0.0</title></rect><rect class=\"toyplot-Datum\" height=\"0.0\" style=\"fill:rgb(40%,76.1%,64.7%);fill-opacity:1.0;opacity:1.0;stroke:rgb(100%,100%,100%);stroke-opacity:1.0;stroke-width:1.0\" width=\"23.07692307692308\" x=\"73.07692307692308\" y=\"150.0\"><title>Name: 33588_przewalskii, Group: 0, Prop: 0.0</title></rect><rect class=\"toyplot-Datum\" height=\"0.0\" style=\"fill:rgb(40%,76.1%,64.7%);fill-opacity:1.0;opacity:1.0;stroke:rgb(100%,100%,100%);stroke-opacity:1.0;stroke-width:1.0\" width=\"23.076923076923066\" x=\"96.15384615384616\" y=\"150.0\"><title>Name: 41478_cyathophylloides, Group: 0, Prop: 0.0</title></rect><rect class=\"toyplot-Datum\" height=\"0.0\" style=\"fill:rgb(40%,76.1%,64.7%);fill-opacity:1.0;opacity:1.0;stroke:rgb(100%,100%,100%);stroke-opacity:1.0;stroke-width:1.0\" width=\"23.076923076923094\" x=\"119.23076923076923\" y=\"150.0\"><title>Name: 41954_cyathophylloides, Group: 0, Prop: 0.0</title></rect><rect class=\"toyplot-Datum\" height=\"0.0\" style=\"fill:rgb(40%,76.1%,64.7%);fill-opacity:1.0;opacity:1.0;stroke:rgb(100%,100%,100%);stroke-opacity:1.0;stroke-width:1.0\" width=\"23.076923076923066\" x=\"142.30769230769232\" y=\"150.0\"><title>Name: 30686_cyathophylla, Group: 0, Prop: 0.0</title></rect><rect class=\"toyplot-Datum\" height=\"0.93999999999999773\" style=\"fill:rgb(40%,76.1%,64.7%);fill-opacity:1.0;opacity:1.0;stroke:rgb(100%,100%,100%);stroke-opacity:1.0;stroke-width:1.0\" width=\"23.076923076923094\" x=\"165.38461538461539\" y=\"149.06\"><title>Name: 29154_superba, Group: 0, Prop: 0.0094</title></rect><rect class=\"toyplot-Datum\" height=\"96.680000000000007\" style=\"fill:rgb(40%,76.1%,64.7%);fill-opacity:1.0;opacity:1.0;stroke:rgb(100%,100%,100%);stroke-opacity:1.0;stroke-width:1.0\" width=\"23.076923076923038\" x=\"188.46153846153848\" y=\"53.32\"><title>Name: 33413_thamno, Group: 0, Prop: 0.9668</title></rect><rect class=\"toyplot-Datum\" height=\"96.859999999999999\" style=\"fill:rgb(40%,76.1%,64.7%);fill-opacity:1.0;opacity:1.0;stroke:rgb(100%,100%,100%);stroke-opacity:1.0;stroke-width:1.0\" width=\"23.076923076923094\" x=\"211.53846153846152\" y=\"53.140000000000001\"><title>Name: 30556_thamno, Group: 0, Prop: 0.9686</title></rect><rect class=\"toyplot-Datum\" height=\"86.439999999999998\" style=\"fill:rgb(40%,76.1%,64.7%);fill-opacity:1.0;opacity:1.0;stroke:rgb(100%,100%,100%);stroke-opacity:1.0;stroke-width:1.0\" width=\"23.076923076923066\" x=\"234.61538461538461\" y=\"63.560000000000002\"><title>Name: 35236_rex, Group: 0, Prop: 0.8644</title></rect><rect class=\"toyplot-Datum\" height=\"96.460000000000008\" style=\"fill:rgb(40%,76.1%,64.7%);fill-opacity:1.0;opacity:1.0;stroke:rgb(100%,100%,100%);stroke-opacity:1.0;stroke-width:1.0\" width=\"23.076923076923094\" x=\"257.69230769230768\" y=\"53.539999999999999\"><title>Name: 40578_rex, Group: 0, Prop: 0.9646</title></rect><rect class=\"toyplot-Datum\" height=\"96.099999999999994\" style=\"fill:rgb(40%,76.1%,64.7%);fill-opacity:1.0;opacity:1.0;stroke:rgb(100%,100%,100%);stroke-opacity:1.0;stroke-width:1.0\" width=\"23.076923076923038\" x=\"280.76923076923077\" y=\"53.900000000000006\"><title>Name: 35855_rex, Group: 0, Prop: 0.961</title></rect><rect class=\"toyplot-Datum\" height=\"1.4199999999999875\" style=\"fill:rgb(40%,76.1%,64.7%);fill-opacity:1.0;opacity:1.0;stroke:rgb(100%,100%,100%);stroke-opacity:1.0;stroke-width:1.0\" width=\"23.076923076923151\" x=\"303.84615384615381\" y=\"148.58000000000001\"><title>Name: 39618_rex, Group: 0, Prop: 0.0142</title></rect><rect class=\"toyplot-Datum\" height=\"0.0\" style=\"fill:rgb(40%,76.1%,64.7%);fill-opacity:1.0;opacity:1.0;stroke:rgb(100%,100%,100%);stroke-opacity:1.0;stroke-width:1.0\" width=\"23.076923076923038\" x=\"326.92307692307696\" y=\"150.0\"><title>Name: 38362_rex, Group: 0, Prop: 0.0</title></rect></g><g class=\"toyplot-Series\"><rect class=\"toyplot-Datum\" height=\"0.0\" style=\"fill:rgb(98.8%,55.3%,38.4%);fill-opacity:1.0;opacity:1.0;stroke:rgb(100%,100%,100%);stroke-opacity:1.0;stroke-width:1.0\" width=\"23.07692307692308\" x=\"50.0\" y=\"150.0\"><title>Name: 32082_przewalskii, Group: 1, Prop: 0.0</title></rect><rect class=\"toyplot-Datum\" height=\"0.0\" style=\"fill:rgb(98.8%,55.3%,38.4%);fill-opacity:1.0;opacity:1.0;stroke:rgb(100%,100%,100%);stroke-opacity:1.0;stroke-width:1.0\" width=\"23.07692307692308\" x=\"73.07692307692308\" y=\"150.0\"><title>Name: 33588_przewalskii, Group: 1, Prop: 0.0</title></rect><rect class=\"toyplot-Datum\" height=\"0.0\" style=\"fill:rgb(98.8%,55.3%,38.4%);fill-opacity:1.0;opacity:1.0;stroke:rgb(100%,100%,100%);stroke-opacity:1.0;stroke-width:1.0\" width=\"23.076923076923066\" x=\"96.15384615384616\" y=\"150.0\"><title>Name: 41478_cyathophylloides, Group: 1, Prop: 0.0</title></rect><rect class=\"toyplot-Datum\" height=\"0.0\" style=\"fill:rgb(98.8%,55.3%,38.4%);fill-opacity:1.0;opacity:1.0;stroke:rgb(100%,100%,100%);stroke-opacity:1.0;stroke-width:1.0\" width=\"23.076923076923094\" x=\"119.23076923076923\" y=\"150.0\"><title>Name: 41954_cyathophylloides, Group: 1, Prop: 0.0</title></rect><rect class=\"toyplot-Datum\" height=\"99.659999999999997\" style=\"fill:rgb(98.8%,55.3%,38.4%);fill-opacity:1.0;opacity:1.0;stroke:rgb(100%,100%,100%);stroke-opacity:1.0;stroke-width:1.0\" width=\"23.076923076923066\" x=\"142.30769230769232\" y=\"50.339999999999996\"><title>Name: 30686_cyathophylla, Group: 1, Prop: 0.9966</title></rect><rect class=\"toyplot-Datum\" height=\"98.699999999999989\" style=\"fill:rgb(98.8%,55.3%,38.4%);fill-opacity:1.0;opacity:1.0;stroke:rgb(100%,100%,100%);stroke-opacity:1.0;stroke-width:1.0\" width=\"23.076923076923094\" x=\"165.38461538461539\" y=\"50.360000000000007\"><title>Name: 29154_superba, Group: 1, Prop: 0.987</title></rect><rect class=\"toyplot-Datum\" height=\"0.49999999999999289\" style=\"fill:rgb(98.8%,55.3%,38.4%);fill-opacity:1.0;opacity:1.0;stroke:rgb(100%,100%,100%);stroke-opacity:1.0;stroke-width:1.0\" width=\"23.076923076923038\" x=\"188.46153846153848\" y=\"52.820000000000007\"><title>Name: 33413_thamno, Group: 1, Prop: 0.005</title></rect><rect class=\"toyplot-Datum\" height=\"0.0\" style=\"fill:rgb(98.8%,55.3%,38.4%);fill-opacity:1.0;opacity:1.0;stroke:rgb(100%,100%,100%);stroke-opacity:1.0;stroke-width:1.0\" width=\"23.076923076923094\" x=\"211.53846153846152\" y=\"53.140000000000001\"><title>Name: 30556_thamno, Group: 1, Prop: 0.0</title></rect><rect class=\"toyplot-Datum\" height=\"0.43999999999999062\" style=\"fill:rgb(98.8%,55.3%,38.4%);fill-opacity:1.0;opacity:1.0;stroke:rgb(100%,100%,100%);stroke-opacity:1.0;stroke-width:1.0\" width=\"23.076923076923066\" x=\"234.61538461538461\" y=\"63.120000000000012\"><title>Name: 35236_rex, Group: 1, Prop: 0.0044</title></rect><rect class=\"toyplot-Datum\" height=\"0.0\" style=\"fill:rgb(98.8%,55.3%,38.4%);fill-opacity:1.0;opacity:1.0;stroke:rgb(100%,100%,100%);stroke-opacity:1.0;stroke-width:1.0\" width=\"23.076923076923094\" x=\"257.69230769230768\" y=\"53.539999999999999\"><title>Name: 40578_rex, Group: 1, Prop: 0.0</title></rect><rect class=\"toyplot-Datum\" height=\"0.30000000000000426\" style=\"fill:rgb(98.8%,55.3%,38.4%);fill-opacity:1.0;opacity:1.0;stroke:rgb(100%,100%,100%);stroke-opacity:1.0;stroke-width:1.0\" width=\"23.076923076923038\" x=\"280.76923076923077\" y=\"53.600000000000001\"><title>Name: 35855_rex, Group: 1, Prop: 0.003</title></rect><rect class=\"toyplot-Datum\" height=\"0.0\" style=\"fill:rgb(98.8%,55.3%,38.4%);fill-opacity:1.0;opacity:1.0;stroke:rgb(100%,100%,100%);stroke-opacity:1.0;stroke-width:1.0\" width=\"23.076923076923151\" x=\"303.84615384615381\" y=\"148.58000000000001\"><title>Name: 39618_rex, Group: 1, Prop: 0.0</title></rect><rect class=\"toyplot-Datum\" height=\"0.0\" style=\"fill:rgb(98.8%,55.3%,38.4%);fill-opacity:1.0;opacity:1.0;stroke:rgb(100%,100%,100%);stroke-opacity:1.0;stroke-width:1.0\" width=\"23.076923076923038\" x=\"326.92307692307696\" y=\"150.0\"><title>Name: 38362_rex, Group: 1, Prop: 0.0</title></rect></g><g class=\"toyplot-Series\"><rect class=\"toyplot-Datum\" height=\"0.0\" style=\"fill:rgb(55.3%,62.7%,79.6%);fill-opacity:1.0;opacity:1.0;stroke:rgb(100%,100%,100%);stroke-opacity:1.0;stroke-width:1.0\" width=\"23.07692307692308\" x=\"50.0\" y=\"150.0\"><title>Name: 32082_przewalskii, Group: 2, Prop: 0.0</title></rect><rect class=\"toyplot-Datum\" height=\"0.0\" style=\"fill:rgb(55.3%,62.7%,79.6%);fill-opacity:1.0;opacity:1.0;stroke:rgb(100%,100%,100%);stroke-opacity:1.0;stroke-width:1.0\" width=\"23.07692307692308\" x=\"73.07692307692308\" y=\"150.0\"><title>Name: 33588_przewalskii, Group: 2, Prop: 0.0</title></rect><rect class=\"toyplot-Datum\" height=\"0.0\" style=\"fill:rgb(55.3%,62.7%,79.6%);fill-opacity:1.0;opacity:1.0;stroke:rgb(100%,100%,100%);stroke-opacity:1.0;stroke-width:1.0\" width=\"23.076923076923066\" x=\"96.15384615384616\" y=\"150.0\"><title>Name: 41478_cyathophylloides, Group: 2, Prop: 0.0</title></rect><rect class=\"toyplot-Datum\" height=\"0.0\" style=\"fill:rgb(55.3%,62.7%,79.6%);fill-opacity:1.0;opacity:1.0;stroke:rgb(100%,100%,100%);stroke-opacity:1.0;stroke-width:1.0\" width=\"23.076923076923094\" x=\"119.23076923076923\" y=\"150.0\"><title>Name: 41954_cyathophylloides, Group: 2, Prop: 0.0</title></rect><rect class=\"toyplot-Datum\" height=\"0.0\" style=\"fill:rgb(55.3%,62.7%,79.6%);fill-opacity:1.0;opacity:1.0;stroke:rgb(100%,100%,100%);stroke-opacity:1.0;stroke-width:1.0\" width=\"23.076923076923066\" x=\"142.30769230769232\" y=\"50.339999999999996\"><title>Name: 30686_cyathophylla, Group: 2, Prop: 0.0</title></rect><rect class=\"toyplot-Datum\" height=\"0.0\" style=\"fill:rgb(55.3%,62.7%,79.6%);fill-opacity:1.0;opacity:1.0;stroke:rgb(100%,100%,100%);stroke-opacity:1.0;stroke-width:1.0\" width=\"23.076923076923094\" x=\"165.38461538461539\" y=\"50.360000000000007\"><title>Name: 29154_superba, Group: 2, Prop: 0.0</title></rect><rect class=\"toyplot-Datum\" height=\"2.8200000000000074\" style=\"fill:rgb(55.3%,62.7%,79.6%);fill-opacity:1.0;opacity:1.0;stroke:rgb(100%,100%,100%);stroke-opacity:1.0;stroke-width:1.0\" width=\"23.076923076923038\" x=\"188.46153846153848\" y=\"50.0\"><title>Name: 33413_thamno, Group: 2, Prop: 0.0282</title></rect><rect class=\"toyplot-Datum\" height=\"3.1400000000000006\" style=\"fill:rgb(55.3%,62.7%,79.6%);fill-opacity:1.0;opacity:1.0;stroke:rgb(100%,100%,100%);stroke-opacity:1.0;stroke-width:1.0\" width=\"23.076923076923094\" x=\"211.53846153846152\" y=\"50.0\"><title>Name: 30556_thamno, Group: 2, Prop: 0.0314</title></rect><rect class=\"toyplot-Datum\" height=\"13.120000000000005\" style=\"fill:rgb(55.3%,62.7%,79.6%);fill-opacity:1.0;opacity:1.0;stroke:rgb(100%,100%,100%);stroke-opacity:1.0;stroke-width:1.0\" width=\"23.076923076923066\" x=\"234.61538461538461\" y=\"50.000000000000007\"><title>Name: 35236_rex, Group: 2, Prop: 0.1312</title></rect><rect class=\"toyplot-Datum\" height=\"3.5399999999999991\" style=\"fill:rgb(55.3%,62.7%,79.6%);fill-opacity:1.0;opacity:1.0;stroke:rgb(100%,100%,100%);stroke-opacity:1.0;stroke-width:1.0\" width=\"23.076923076923094\" x=\"257.69230769230768\" y=\"50.0\"><title>Name: 40578_rex, Group: 2, Prop: 0.0354</title></rect><rect class=\"toyplot-Datum\" height=\"3.6000000000000014\" style=\"fill:rgb(55.3%,62.7%,79.6%);fill-opacity:1.0;opacity:1.0;stroke:rgb(100%,100%,100%);stroke-opacity:1.0;stroke-width:1.0\" width=\"23.076923076923038\" x=\"280.76923076923077\" y=\"50.0\"><title>Name: 35855_rex, Group: 2, Prop: 0.036</title></rect><rect class=\"toyplot-Datum\" height=\"98.580000000000013\" style=\"fill:rgb(55.3%,62.7%,79.6%);fill-opacity:1.0;opacity:1.0;stroke:rgb(100%,100%,100%);stroke-opacity:1.0;stroke-width:1.0\" width=\"23.076923076923151\" x=\"303.84615384615381\" y=\"50.0\"><title>Name: 39618_rex, Group: 2, Prop: 0.9858</title></rect><rect class=\"toyplot-Datum\" height=\"100.0\" style=\"fill:rgb(55.3%,62.7%,79.6%);fill-opacity:1.0;opacity:1.0;stroke:rgb(100%,100%,100%);stroke-opacity:1.0;stroke-width:1.0\" width=\"23.076923076923038\" x=\"326.92307692307696\" y=\"50.0\"><title>Name: 38362_rex, Group: 2, Prop: 1.0</title></rect></g><g class=\"toyplot-Series\"><rect class=\"toyplot-Datum\" height=\"0.0\" style=\"fill:rgb(90.6%,54.1%,76.5%);fill-opacity:1.0;opacity:1.0;stroke:rgb(100%,100%,100%);stroke-opacity:1.0;stroke-width:1.0\" width=\"23.07692307692308\" x=\"50.0\" y=\"150.0\"><title>Name: 32082_przewalskii, Group: 3, Prop: 0.0</title></rect><rect class=\"toyplot-Datum\" height=\"0.0\" style=\"fill:rgb(90.6%,54.1%,76.5%);fill-opacity:1.0;opacity:1.0;stroke:rgb(100%,100%,100%);stroke-opacity:1.0;stroke-width:1.0\" width=\"23.07692307692308\" x=\"73.07692307692308\" y=\"150.0\"><title>Name: 33588_przewalskii, Group: 3, Prop: 0.0</title></rect><rect class=\"toyplot-Datum\" height=\"100.0\" style=\"fill:rgb(90.6%,54.1%,76.5%);fill-opacity:1.0;opacity:1.0;stroke:rgb(100%,100%,100%);stroke-opacity:1.0;stroke-width:1.0\" width=\"23.076923076923066\" x=\"96.15384615384616\" y=\"50.0\"><title>Name: 41478_cyathophylloides, Group: 3, Prop: 1.0</title></rect><rect class=\"toyplot-Datum\" height=\"100.0\" style=\"fill:rgb(90.6%,54.1%,76.5%);fill-opacity:1.0;opacity:1.0;stroke:rgb(100%,100%,100%);stroke-opacity:1.0;stroke-width:1.0\" width=\"23.076923076923094\" x=\"119.23076923076923\" y=\"50.0\"><title>Name: 41954_cyathophylloides, Group: 3, Prop: 1.0</title></rect><rect class=\"toyplot-Datum\" height=\"0.33999999999999631\" style=\"fill:rgb(90.6%,54.1%,76.5%);fill-opacity:1.0;opacity:1.0;stroke:rgb(100%,100%,100%);stroke-opacity:1.0;stroke-width:1.0\" width=\"23.076923076923066\" x=\"142.30769230769232\" y=\"50.0\"><title>Name: 30686_cyathophylla, Group: 3, Prop: 0.0034</title></rect><rect class=\"toyplot-Datum\" height=\"0.36000000000000654\" style=\"fill:rgb(90.6%,54.1%,76.5%);fill-opacity:1.0;opacity:1.0;stroke:rgb(100%,100%,100%);stroke-opacity:1.0;stroke-width:1.0\" width=\"23.076923076923094\" x=\"165.38461538461539\" y=\"50.0\"><title>Name: 29154_superba, Group: 3, Prop: 0.0036</title></rect><rect class=\"toyplot-Datum\" height=\"0.0\" style=\"fill:rgb(90.6%,54.1%,76.5%);fill-opacity:1.0;opacity:1.0;stroke:rgb(100%,100%,100%);stroke-opacity:1.0;stroke-width:1.0\" width=\"23.076923076923038\" x=\"188.46153846153848\" y=\"50.0\"><title>Name: 33413_thamno, Group: 3, Prop: 0.0</title></rect><rect class=\"toyplot-Datum\" height=\"0.0\" style=\"fill:rgb(90.6%,54.1%,76.5%);fill-opacity:1.0;opacity:1.0;stroke:rgb(100%,100%,100%);stroke-opacity:1.0;stroke-width:1.0\" width=\"23.076923076923094\" x=\"211.53846153846152\" y=\"50.0\"><title>Name: 30556_thamno, Group: 3, Prop: 0.0</title></rect><rect class=\"toyplot-Datum\" height=\"0.0\" style=\"fill:rgb(90.6%,54.1%,76.5%);fill-opacity:1.0;opacity:1.0;stroke:rgb(100%,100%,100%);stroke-opacity:1.0;stroke-width:1.0\" width=\"23.076923076923066\" x=\"234.61538461538461\" y=\"50.000000000000007\"><title>Name: 35236_rex, Group: 3, Prop: 0.0</title></rect><rect class=\"toyplot-Datum\" height=\"0.0\" style=\"fill:rgb(90.6%,54.1%,76.5%);fill-opacity:1.0;opacity:1.0;stroke:rgb(100%,100%,100%);stroke-opacity:1.0;stroke-width:1.0\" width=\"23.076923076923094\" x=\"257.69230769230768\" y=\"50.0\"><title>Name: 40578_rex, Group: 3, Prop: 0.0</title></rect><rect class=\"toyplot-Datum\" height=\"0.0\" style=\"fill:rgb(90.6%,54.1%,76.5%);fill-opacity:1.0;opacity:1.0;stroke:rgb(100%,100%,100%);stroke-opacity:1.0;stroke-width:1.0\" width=\"23.076923076923038\" x=\"280.76923076923077\" y=\"50.0\"><title>Name: 35855_rex, Group: 3, Prop: 0.0</title></rect><rect class=\"toyplot-Datum\" height=\"0.0\" style=\"fill:rgb(90.6%,54.1%,76.5%);fill-opacity:1.0;opacity:1.0;stroke:rgb(100%,100%,100%);stroke-opacity:1.0;stroke-width:1.0\" width=\"23.076923076923151\" x=\"303.84615384615381\" y=\"50.0\"><title>Name: 39618_rex, Group: 3, Prop: 0.0</title></rect><rect class=\"toyplot-Datum\" height=\"0.0\" style=\"fill:rgb(90.6%,54.1%,76.5%);fill-opacity:1.0;opacity:1.0;stroke:rgb(100%,100%,100%);stroke-opacity:1.0;stroke-width:1.0\" width=\"23.076923076923038\" x=\"326.92307692307696\" y=\"50.0\"><title>Name: 38362_rex, Group: 3, Prop: 0.0</title></rect></g><g class=\"toyplot-Series\"><rect class=\"toyplot-Datum\" height=\"100.0\" style=\"fill:rgb(65.1%,84.7%,32.9%);fill-opacity:1.0;opacity:1.0;stroke:rgb(100%,100%,100%);stroke-opacity:1.0;stroke-width:1.0\" width=\"23.07692307692308\" x=\"50.0\" y=\"50.0\"><title>Name: 32082_przewalskii, Group: 4, Prop: 1.0</title></rect><rect class=\"toyplot-Datum\" height=\"100.0\" style=\"fill:rgb(65.1%,84.7%,32.9%);fill-opacity:1.0;opacity:1.0;stroke:rgb(100%,100%,100%);stroke-opacity:1.0;stroke-width:1.0\" width=\"23.07692307692308\" x=\"73.07692307692308\" y=\"50.0\"><title>Name: 33588_przewalskii, Group: 4, Prop: 1.0</title></rect><rect class=\"toyplot-Datum\" height=\"0.0\" style=\"fill:rgb(65.1%,84.7%,32.9%);fill-opacity:1.0;opacity:1.0;stroke:rgb(100%,100%,100%);stroke-opacity:1.0;stroke-width:1.0\" width=\"23.076923076923066\" x=\"96.15384615384616\" y=\"50.0\"><title>Name: 41478_cyathophylloides, Group: 4, Prop: 0.0</title></rect><rect class=\"toyplot-Datum\" height=\"0.0\" style=\"fill:rgb(65.1%,84.7%,32.9%);fill-opacity:1.0;opacity:1.0;stroke:rgb(100%,100%,100%);stroke-opacity:1.0;stroke-width:1.0\" width=\"23.076923076923094\" x=\"119.23076923076923\" y=\"50.0\"><title>Name: 41954_cyathophylloides, Group: 4, Prop: 0.0</title></rect><rect class=\"toyplot-Datum\" height=\"0.0\" style=\"fill:rgb(65.1%,84.7%,32.9%);fill-opacity:1.0;opacity:1.0;stroke:rgb(100%,100%,100%);stroke-opacity:1.0;stroke-width:1.0\" width=\"23.076923076923066\" x=\"142.30769230769232\" y=\"50.0\"><title>Name: 30686_cyathophylla, Group: 4, Prop: 0.0</title></rect><rect class=\"toyplot-Datum\" height=\"0.0\" style=\"fill:rgb(65.1%,84.7%,32.9%);fill-opacity:1.0;opacity:1.0;stroke:rgb(100%,100%,100%);stroke-opacity:1.0;stroke-width:1.0\" width=\"23.076923076923094\" x=\"165.38461538461539\" y=\"50.0\"><title>Name: 29154_superba, Group: 4, Prop: 0.0</title></rect><rect class=\"toyplot-Datum\" height=\"0.0\" style=\"fill:rgb(65.1%,84.7%,32.9%);fill-opacity:1.0;opacity:1.0;stroke:rgb(100%,100%,100%);stroke-opacity:1.0;stroke-width:1.0\" width=\"23.076923076923038\" x=\"188.46153846153848\" y=\"50.0\"><title>Name: 33413_thamno, Group: 4, Prop: 0.0</title></rect><rect class=\"toyplot-Datum\" height=\"0.0\" style=\"fill:rgb(65.1%,84.7%,32.9%);fill-opacity:1.0;opacity:1.0;stroke:rgb(100%,100%,100%);stroke-opacity:1.0;stroke-width:1.0\" width=\"23.076923076923094\" x=\"211.53846153846152\" y=\"50.0\"><title>Name: 30556_thamno, Group: 4, Prop: 0.0</title></rect><rect class=\"toyplot-Datum\" height=\"0.0\" style=\"fill:rgb(65.1%,84.7%,32.9%);fill-opacity:1.0;opacity:1.0;stroke:rgb(100%,100%,100%);stroke-opacity:1.0;stroke-width:1.0\" width=\"23.076923076923066\" x=\"234.61538461538461\" y=\"50.000000000000007\"><title>Name: 35236_rex, Group: 4, Prop: 0.0</title></rect><rect class=\"toyplot-Datum\" height=\"0.0\" style=\"fill:rgb(65.1%,84.7%,32.9%);fill-opacity:1.0;opacity:1.0;stroke:rgb(100%,100%,100%);stroke-opacity:1.0;stroke-width:1.0\" width=\"23.076923076923094\" x=\"257.69230769230768\" y=\"50.0\"><title>Name: 40578_rex, Group: 4, Prop: 0.0</title></rect><rect class=\"toyplot-Datum\" height=\"0.0\" style=\"fill:rgb(65.1%,84.7%,32.9%);fill-opacity:1.0;opacity:1.0;stroke:rgb(100%,100%,100%);stroke-opacity:1.0;stroke-width:1.0\" width=\"23.076923076923038\" x=\"280.76923076923077\" y=\"50.0\"><title>Name: 35855_rex, Group: 4, Prop: 0.0</title></rect><rect class=\"toyplot-Datum\" height=\"0.0\" style=\"fill:rgb(65.1%,84.7%,32.9%);fill-opacity:1.0;opacity:1.0;stroke:rgb(100%,100%,100%);stroke-opacity:1.0;stroke-width:1.0\" width=\"23.076923076923151\" x=\"303.84615384615381\" y=\"50.0\"><title>Name: 39618_rex, Group: 4, Prop: 0.0</title></rect><rect class=\"toyplot-Datum\" height=\"0.0\" style=\"fill:rgb(65.1%,84.7%,32.9%);fill-opacity:1.0;opacity:1.0;stroke:rgb(100%,100%,100%);stroke-opacity:1.0;stroke-width:1.0\" width=\"23.076923076923038\" x=\"326.92307692307696\" y=\"50.0\"><title>Name: 38362_rex, Group: 4, Prop: 0.0</title></rect></g></g></g><g class=\"toyplot-coordinates-Axis\" id=\"t68d12a9937354092bfadb7c58732a182\" transform=\"translate(50.0,150.0)translate(0,10.0)\"><line style=\"\" x1=\"0\" x2=\"300.0\" y1=\"0\" y2=\"0\"></line><g><text style=\"dominant-baseline:hanging;font-size:10px;font-weight:normal;stroke:none;text-anchor:middle\" transform=\"translate(11.538461538461538,6)\"><tspan style=\"dominant-baseline:inherit\">0</tspan></text><text style=\"dominant-baseline:hanging;font-size:10px;font-weight:normal;stroke:none;text-anchor:middle\" transform=\"translate(103.84615384615384,6)\"><tspan style=\"dominant-baseline:inherit\">4</tspan></text><text style=\"dominant-baseline:hanging;font-size:10px;font-weight:normal;stroke:none;text-anchor:middle\" transform=\"translate(196.15384615384616,6)\"><tspan style=\"dominant-baseline:inherit\">8</tspan></text><text style=\"dominant-baseline:hanging;font-size:10px;font-weight:normal;stroke:none;text-anchor:middle\" transform=\"translate(288.46153846153845,6)\"><tspan style=\"dominant-baseline:inherit\">12</tspan></text></g><text style=\"dominant-baseline:hanging;font-size:12px;font-weight:bold;stroke:none;text-anchor:middle\" transform=\"translate(150.0,22)\"><tspan style=\"dominant-baseline:inherit\">K=5</tspan></text><g class=\"toyplot-coordinates-Axis-coordinates\" style=\"visibility:hidden\" transform=\"\"><line style=\"stroke:rgb(43.9%,50.2%,56.5%);stroke-opacity:1.0;stroke-width:1.0\" x1=\"0\" x2=\"0\" y1=\"-3.0\" y2=\"4.5\"></line><text style=\"alignment-baseline:alphabetic;fill:rgb(43.9%,50.2%,56.5%);fill-opacity:1.0;font-size:10px;font-weight:normal;stroke:none;text-anchor:middle\" x=\"0\" y=\"-6\"></text></g></g></g></svg><div class=\"toyplot-interactive\"><ul class=\"toyplot-mark-popup\" onmouseleave=\"this.style.visibility='hidden'\" style=\"background:rgba(0%,0%,0%,0.75);border:0;border-radius:6px;color:white;cursor:default;list-style:none;margin:0;padding:5px;position:fixed;visibility:hidden\">\n",
       "            <li class=\"toyplot-mark-popup-title\" style=\"color:lightgray;cursor:default;padding:5px;list-style:none;margin:0\"></li>\n",
       "            <li class=\"toyplot-mark-popup-save-csv\" onmouseout=\"this.style.color='white';this.style.background='steelblue'\" onmouseover=\"this.style.color='steelblue';this.style.background='white'\" style=\"border-radius:3px;padding:5px;list-style:none;margin:0\">\n",
       "                Save as .csv\n",
       "            </li>\n",
       "        </ul><script>\n",
       "        (function()\n",
       "        {\n",
       "          var data_tables = [{\"title\": \"Bar Data\", \"names\": [\"left\", \"right\", \"baseline\", \"magnitude0\", \"magnitude1\", \"magnitude2\", \"magnitude3\", \"magnitude4\"], \"id\": \"t029242ff21cc46939c302fee91fea705\", \"columns\": [[-0.5, 0.5, 1.5, 2.5, 3.5, 4.5, 5.5, 6.5, 7.5, 8.5, 9.5, 10.5, 11.5], [0.5, 1.5, 2.5, 3.5, 4.5, 5.5, 6.5, 7.5, 8.5, 9.5, 10.5, 11.5, 12.5], [0.0, 0.0, 0.0, 0.0, 0.0, 0.0, 0.0, 0.0, 0.0, 0.0, 0.0, 0.0, 0.0], [0.0, 0.0, 0.0, 0.0, 0.0, 0.0094, 0.9668, 0.9686, 0.8644, 0.9646, 0.961, 0.0142, 0.0], [0.0, 0.0, 0.0, 0.0, 0.9966, 0.987, 0.005, 0.0, 0.0044, 0.0, 0.003, 0.0, 0.0], [0.0, 0.0, 0.0, 0.0, 0.0, 0.0, 0.0282, 0.0314, 0.1312, 0.0354, 0.036, 0.9858, 1.0], [0.0, 0.0, 1.0, 1.0, 0.0034, 0.0036, 0.0, 0.0, 0.0, 0.0, 0.0, 0.0, 0.0], [1.0, 1.0, 0.0, 0.0, 0.0, 0.0, 0.0, 0.0, 0.0, 0.0, 0.0, 0.0, 0.0]], \"filename\": \"toyplot\"}];\n",
       "\n",
       "          function save_csv(data_table)\n",
       "          {\n",
       "            var uri = \"data:text/csv;charset=utf-8,\";\n",
       "            uri += data_table.names.join(\",\") + \"\\n\";\n",
       "            for(var i = 0; i != data_table.columns[0].length; ++i)\n",
       "            {\n",
       "              for(var j = 0; j != data_table.columns.length; ++j)\n",
       "              {\n",
       "                if(j)\n",
       "                  uri += \",\";\n",
       "                uri += data_table.columns[j][i];\n",
       "              }\n",
       "              uri += \"\\n\";\n",
       "            }\n",
       "            uri = encodeURI(uri);\n",
       "\n",
       "            var link = document.createElement(\"a\");\n",
       "            if(typeof link.download != \"undefined\")\n",
       "            {\n",
       "              link.href = uri;\n",
       "              link.style = \"visibility:hidden\";\n",
       "              link.download = data_table.filename + \".csv\";\n",
       "\n",
       "              document.body.appendChild(link);\n",
       "              link.click();\n",
       "              document.body.removeChild(link);\n",
       "            }\n",
       "            else\n",
       "            {\n",
       "              window.open(uri);\n",
       "            }\n",
       "          }\n",
       "\n",
       "          function open_popup(data_table)\n",
       "          {\n",
       "            return function(e)\n",
       "            {\n",
       "              var popup = document.querySelector(\"#t4db9fdd273774bdcbb7a7a541ddb8ee9 .toyplot-mark-popup\");\n",
       "              popup.querySelector(\".toyplot-mark-popup-title\").innerHTML = data_table.title;\n",
       "              popup.querySelector(\".toyplot-mark-popup-save-csv\").onclick = function() { popup.style.visibility = \"hidden\"; save_csv(data_table); }\n",
       "              popup.style.left = (e.clientX - 50) + \"px\";\n",
       "              popup.style.top = (e.clientY - 20) + \"px\";\n",
       "              popup.style.visibility = \"visible\";\n",
       "              e.stopPropagation();\n",
       "              e.preventDefault();\n",
       "            }\n",
       "\n",
       "          }\n",
       "\n",
       "          for(var i = 0; i != data_tables.length; ++i)\n",
       "          {\n",
       "            var data_table = data_tables[i];\n",
       "            var event_target = document.querySelector(\"#\" + data_table.id);\n",
       "            event_target.oncontextmenu = open_popup(data_table);\n",
       "          }\n",
       "        })();\n",
       "        </script><script>\n",
       "        (function()\n",
       "        {\n",
       "            function _sign(x)\n",
       "            {\n",
       "                return x < 0 ? -1 : x > 0 ? 1 : 0;\n",
       "            }\n",
       "\n",
       "            function _mix(a, b, amount)\n",
       "            {\n",
       "                return ((1.0 - amount) * a) + (amount * b);\n",
       "            }\n",
       "\n",
       "            function _log(x, base)\n",
       "            {\n",
       "                return Math.log(Math.abs(x)) / Math.log(base);\n",
       "            }\n",
       "\n",
       "            function _in_range(a, x, b)\n",
       "            {\n",
       "                var left = Math.min(a, b);\n",
       "                var right = Math.max(a, b);\n",
       "                return left <= x && x <= right;\n",
       "            }\n",
       "\n",
       "            function inside(range, projection)\n",
       "            {\n",
       "                for(var i = 0; i != projection.length; ++i)\n",
       "                {\n",
       "                    var segment = projection[i];\n",
       "                    if(_in_range(segment.range.min, range, segment.range.max))\n",
       "                        return true;\n",
       "                }\n",
       "                return false;\n",
       "            }\n",
       "\n",
       "            function to_domain(range, projection)\n",
       "            {\n",
       "                for(var i = 0; i != projection.length; ++i)\n",
       "                {\n",
       "                    var segment = projection[i];\n",
       "                    if(_in_range(segment.range.bounds.min, range, segment.range.bounds.max))\n",
       "                    {\n",
       "                        if(segment.scale == \"linear\")\n",
       "                        {\n",
       "                            var amount = (range - segment.range.min) / (segment.range.max - segment.range.min);\n",
       "                            return _mix(segment.domain.min, segment.domain.max, amount)\n",
       "                        }\n",
       "                        else if(segment.scale[0] == \"log\")\n",
       "                        {\n",
       "                            var amount = (range - segment.range.min) / (segment.range.max - segment.range.min);\n",
       "                            var base = segment.scale[1];\n",
       "                            return _sign(segment.domain.min) * Math.pow(base, _mix(_log(segment.domain.min, base), _log(segment.domain.max, base), amount));\n",
       "                        }\n",
       "                    }\n",
       "                }\n",
       "            }\n",
       "\n",
       "            function display_coordinates(e)\n",
       "            {\n",
       "                var current = svg.createSVGPoint();\n",
       "                current.x = e.clientX;\n",
       "                current.y = e.clientY;\n",
       "\n",
       "                for(var axis_id in axes)\n",
       "                {\n",
       "                    var axis = document.querySelector(\"#\" + axis_id);\n",
       "                    var coordinates = axis.querySelector(\".toyplot-coordinates-Axis-coordinates\");\n",
       "                    if(coordinates)\n",
       "                    {\n",
       "                        var projection = axes[axis_id];\n",
       "                        var local = current.matrixTransform(axis.getScreenCTM().inverse());\n",
       "                        if(inside(local.x, projection))\n",
       "                        {\n",
       "                            var domain = to_domain(local.x, projection);\n",
       "                            coordinates.style.visibility = \"visible\";\n",
       "                            coordinates.setAttribute(\"transform\", \"translate(\" + local.x + \")\");\n",
       "                            var text = coordinates.querySelector(\"text\");\n",
       "                            text.textContent = domain.toFixed(2);\n",
       "                        }\n",
       "                        else\n",
       "                        {\n",
       "                            coordinates.style.visibility= \"hidden\";\n",
       "                        }\n",
       "                    }\n",
       "                }\n",
       "            }\n",
       "\n",
       "            var root_id = \"t4db9fdd273774bdcbb7a7a541ddb8ee9\";\n",
       "            var axes = {\"t68d12a9937354092bfadb7c58732a182\": [{\"domain\": {\"bounds\": {\"max\": Infinity, \"min\": -Infinity}, \"max\": 12.5, \"min\": -0.5}, \"range\": {\"bounds\": {\"max\": Infinity, \"min\": -Infinity}, \"max\": 300.0, \"min\": 0.0}, \"scale\": \"linear\"}]};\n",
       "\n",
       "            var svg = document.querySelector(\"#\" + root_id + \" svg\");\n",
       "            svg.addEventListener(\"click\", display_coordinates);\n",
       "        })();\n",
       "        </script></div></div>"
      ]
     },
     "metadata": {},
     "output_type": "display_data"
    },
    {
     "data": {
      "text/html": [
       "<div align=\"center\" class=\"toyplot\" id=\"t46300665efee4bad93addd1bc3448d78\"><svg class=\"toyplot-canvas-Canvas\" height=\"200.0px\" id=\"td7e1ca48972843ef9ebf160eb19844fa\" preserveAspectRatio=\"xMidYMid meet\" style=\"background-color:transparent;fill:rgb(16.1%,15.3%,14.1%);fill-opacity:1.0;font-family:Helvetica;font-size:12px;opacity:1.0;stroke:rgb(16.1%,15.3%,14.1%);stroke-opacity:1.0;stroke-width:1.0\" viewBox=\"0 0 400.0 200.0\" width=\"400.0px\" xmlns=\"http://www.w3.org/2000/svg\" xmlns:toyplot=\"http://www.sandia.gov/toyplot\" xmlns:xlink=\"http://www.w3.org/1999/xlink\"><g class=\"toyplot-coordinates-Cartesian\" id=\"t84a2d5d9c22e4a1abd1cbe5ec842ce4b\"><clipPath id=\"t9d642f30157e4c21928aa9094f6d29f4\"><rect height=\"120.0\" width=\"320.0\" x=\"40.0\" y=\"40.0\"></rect></clipPath><g clip-path=\"url(#t9d642f30157e4c21928aa9094f6d29f4)\"><g class=\"toyplot-mark-BarMagnitudes\" id=\"tc80835febd6e402bb4817fc32c299ebd\" style=\"stroke:rgb(100%,100%,100%);stroke-opacity:1.0;stroke-width:1.0\"><g class=\"toyplot-Series\"><rect class=\"toyplot-Datum\" height=\"0.0\" style=\"fill:rgb(40%,76.1%,64.7%);fill-opacity:1.0;opacity:1.0;stroke:rgb(100%,100%,100%);stroke-opacity:1.0;stroke-width:1.0\" width=\"23.07692307692308\" x=\"50.0\" y=\"150.0\"><title>Name: 32082_przewalskii, Group: 0, Prop: 0.0</title></rect><rect class=\"toyplot-Datum\" height=\"0.0\" style=\"fill:rgb(40%,76.1%,64.7%);fill-opacity:1.0;opacity:1.0;stroke:rgb(100%,100%,100%);stroke-opacity:1.0;stroke-width:1.0\" width=\"23.07692307692308\" x=\"73.07692307692308\" y=\"150.0\"><title>Name: 33588_przewalskii, Group: 0, Prop: 0.0</title></rect><rect class=\"toyplot-Datum\" height=\"0.0\" style=\"fill:rgb(40%,76.1%,64.7%);fill-opacity:1.0;opacity:1.0;stroke:rgb(100%,100%,100%);stroke-opacity:1.0;stroke-width:1.0\" width=\"23.076923076923066\" x=\"96.15384615384616\" y=\"150.0\"><title>Name: 41478_cyathophylloides, Group: 0, Prop: 0.0</title></rect><rect class=\"toyplot-Datum\" height=\"0.0\" style=\"fill:rgb(40%,76.1%,64.7%);fill-opacity:1.0;opacity:1.0;stroke:rgb(100%,100%,100%);stroke-opacity:1.0;stroke-width:1.0\" width=\"23.076923076923094\" x=\"119.23076923076923\" y=\"150.0\"><title>Name: 41954_cyathophylloides, Group: 0, Prop: 0.0</title></rect><rect class=\"toyplot-Datum\" height=\"100.0\" style=\"fill:rgb(40%,76.1%,64.7%);fill-opacity:1.0;opacity:1.0;stroke:rgb(100%,100%,100%);stroke-opacity:1.0;stroke-width:1.0\" width=\"23.076923076923066\" x=\"142.30769230769232\" y=\"50.0\"><title>Name: 30686_cyathophylla, Group: 0, Prop: 1.0</title></rect><rect class=\"toyplot-Datum\" height=\"99.840000000000003\" style=\"fill:rgb(40%,76.1%,64.7%);fill-opacity:1.0;opacity:1.0;stroke:rgb(100%,100%,100%);stroke-opacity:1.0;stroke-width:1.0\" width=\"23.076923076923094\" x=\"165.38461538461539\" y=\"50.160000000000004\"><title>Name: 29154_superba, Group: 0, Prop: 0.9984</title></rect><rect class=\"toyplot-Datum\" height=\"0.0\" style=\"fill:rgb(40%,76.1%,64.7%);fill-opacity:1.0;opacity:1.0;stroke:rgb(100%,100%,100%);stroke-opacity:1.0;stroke-width:1.0\" width=\"23.076923076923038\" x=\"188.46153846153848\" y=\"150.0\"><title>Name: 33413_thamno, Group: 0, Prop: 0.0</title></rect><rect class=\"toyplot-Datum\" height=\"0.0\" style=\"fill:rgb(40%,76.1%,64.7%);fill-opacity:1.0;opacity:1.0;stroke:rgb(100%,100%,100%);stroke-opacity:1.0;stroke-width:1.0\" width=\"23.076923076923094\" x=\"211.53846153846152\" y=\"150.0\"><title>Name: 30556_thamno, Group: 0, Prop: 0.0</title></rect><rect class=\"toyplot-Datum\" height=\"0.0\" style=\"fill:rgb(40%,76.1%,64.7%);fill-opacity:1.0;opacity:1.0;stroke:rgb(100%,100%,100%);stroke-opacity:1.0;stroke-width:1.0\" width=\"23.076923076923066\" x=\"234.61538461538461\" y=\"150.0\"><title>Name: 35236_rex, Group: 0, Prop: 0.0</title></rect><rect class=\"toyplot-Datum\" height=\"0.0\" style=\"fill:rgb(40%,76.1%,64.7%);fill-opacity:1.0;opacity:1.0;stroke:rgb(100%,100%,100%);stroke-opacity:1.0;stroke-width:1.0\" width=\"23.076923076923094\" x=\"257.69230769230768\" y=\"150.0\"><title>Name: 40578_rex, Group: 0, Prop: 0.0</title></rect><rect class=\"toyplot-Datum\" height=\"0.0\" style=\"fill:rgb(40%,76.1%,64.7%);fill-opacity:1.0;opacity:1.0;stroke:rgb(100%,100%,100%);stroke-opacity:1.0;stroke-width:1.0\" width=\"23.076923076923038\" x=\"280.76923076923077\" y=\"150.0\"><title>Name: 35855_rex, Group: 0, Prop: 0.0</title></rect><rect class=\"toyplot-Datum\" height=\"0.0\" style=\"fill:rgb(40%,76.1%,64.7%);fill-opacity:1.0;opacity:1.0;stroke:rgb(100%,100%,100%);stroke-opacity:1.0;stroke-width:1.0\" width=\"23.076923076923151\" x=\"303.84615384615381\" y=\"150.0\"><title>Name: 39618_rex, Group: 0, Prop: 0.0</title></rect><rect class=\"toyplot-Datum\" height=\"0.0\" style=\"fill:rgb(40%,76.1%,64.7%);fill-opacity:1.0;opacity:1.0;stroke:rgb(100%,100%,100%);stroke-opacity:1.0;stroke-width:1.0\" width=\"23.076923076923038\" x=\"326.92307692307696\" y=\"150.0\"><title>Name: 38362_rex, Group: 0, Prop: 0.0</title></rect></g><g class=\"toyplot-Series\"><rect class=\"toyplot-Datum\" height=\"0.0\" style=\"fill:rgb(98.8%,55.3%,38.4%);fill-opacity:1.0;opacity:1.0;stroke:rgb(100%,100%,100%);stroke-opacity:1.0;stroke-width:1.0\" width=\"23.07692307692308\" x=\"50.0\" y=\"150.0\"><title>Name: 32082_przewalskii, Group: 1, Prop: 0.0</title></rect><rect class=\"toyplot-Datum\" height=\"0.0\" style=\"fill:rgb(98.8%,55.3%,38.4%);fill-opacity:1.0;opacity:1.0;stroke:rgb(100%,100%,100%);stroke-opacity:1.0;stroke-width:1.0\" width=\"23.07692307692308\" x=\"73.07692307692308\" y=\"150.0\"><title>Name: 33588_przewalskii, Group: 1, Prop: 0.0</title></rect><rect class=\"toyplot-Datum\" height=\"0.0\" style=\"fill:rgb(98.8%,55.3%,38.4%);fill-opacity:1.0;opacity:1.0;stroke:rgb(100%,100%,100%);stroke-opacity:1.0;stroke-width:1.0\" width=\"23.076923076923066\" x=\"96.15384615384616\" y=\"150.0\"><title>Name: 41478_cyathophylloides, Group: 1, Prop: 0.0</title></rect><rect class=\"toyplot-Datum\" height=\"0.0\" style=\"fill:rgb(98.8%,55.3%,38.4%);fill-opacity:1.0;opacity:1.0;stroke:rgb(100%,100%,100%);stroke-opacity:1.0;stroke-width:1.0\" width=\"23.076923076923094\" x=\"119.23076923076923\" y=\"150.0\"><title>Name: 41954_cyathophylloides, Group: 1, Prop: 0.0</title></rect><rect class=\"toyplot-Datum\" height=\"0.0\" style=\"fill:rgb(98.8%,55.3%,38.4%);fill-opacity:1.0;opacity:1.0;stroke:rgb(100%,100%,100%);stroke-opacity:1.0;stroke-width:1.0\" width=\"23.076923076923066\" x=\"142.30769230769232\" y=\"50.0\"><title>Name: 30686_cyathophylla, Group: 1, Prop: 0.0</title></rect><rect class=\"toyplot-Datum\" height=\"0.0\" style=\"fill:rgb(98.8%,55.3%,38.4%);fill-opacity:1.0;opacity:1.0;stroke:rgb(100%,100%,100%);stroke-opacity:1.0;stroke-width:1.0\" width=\"23.076923076923094\" x=\"165.38461538461539\" y=\"50.160000000000004\"><title>Name: 29154_superba, Group: 1, Prop: 0.0</title></rect><rect class=\"toyplot-Datum\" height=\"2.1200000000000045\" style=\"fill:rgb(98.8%,55.3%,38.4%);fill-opacity:1.0;opacity:1.0;stroke:rgb(100%,100%,100%);stroke-opacity:1.0;stroke-width:1.0\" width=\"23.076923076923038\" x=\"188.46153846153848\" y=\"147.88\"><title>Name: 33413_thamno, Group: 1, Prop: 0.0212</title></rect><rect class=\"toyplot-Datum\" height=\"2.6200000000000045\" style=\"fill:rgb(98.8%,55.3%,38.4%);fill-opacity:1.0;opacity:1.0;stroke:rgb(100%,100%,100%);stroke-opacity:1.0;stroke-width:1.0\" width=\"23.076923076923094\" x=\"211.53846153846152\" y=\"147.38\"><title>Name: 30556_thamno, Group: 1, Prop: 0.0262</title></rect><rect class=\"toyplot-Datum\" height=\"10.799999999999983\" style=\"fill:rgb(98.8%,55.3%,38.4%);fill-opacity:1.0;opacity:1.0;stroke:rgb(100%,100%,100%);stroke-opacity:1.0;stroke-width:1.0\" width=\"23.076923076923066\" x=\"234.61538461538461\" y=\"139.20000000000002\"><title>Name: 35236_rex, Group: 1, Prop: 0.108</title></rect><rect class=\"toyplot-Datum\" height=\"2.7599999999999909\" style=\"fill:rgb(98.8%,55.3%,38.4%);fill-opacity:1.0;opacity:1.0;stroke:rgb(100%,100%,100%);stroke-opacity:1.0;stroke-width:1.0\" width=\"23.076923076923094\" x=\"257.69230769230768\" y=\"147.24000000000001\"><title>Name: 40578_rex, Group: 1, Prop: 0.0276</title></rect><rect class=\"toyplot-Datum\" height=\"2.7800000000000296\" style=\"fill:rgb(98.8%,55.3%,38.4%);fill-opacity:1.0;opacity:1.0;stroke:rgb(100%,100%,100%);stroke-opacity:1.0;stroke-width:1.0\" width=\"23.076923076923038\" x=\"280.76923076923077\" y=\"147.21999999999997\"><title>Name: 35855_rex, Group: 1, Prop: 0.0278</title></rect><rect class=\"toyplot-Datum\" height=\"98.699999999999989\" style=\"fill:rgb(98.8%,55.3%,38.4%);fill-opacity:1.0;opacity:1.0;stroke:rgb(100%,100%,100%);stroke-opacity:1.0;stroke-width:1.0\" width=\"23.076923076923151\" x=\"303.84615384615381\" y=\"51.300000000000004\"><title>Name: 39618_rex, Group: 1, Prop: 0.987</title></rect><rect class=\"toyplot-Datum\" height=\"100.0\" style=\"fill:rgb(98.8%,55.3%,38.4%);fill-opacity:1.0;opacity:1.0;stroke:rgb(100%,100%,100%);stroke-opacity:1.0;stroke-width:1.0\" width=\"23.076923076923038\" x=\"326.92307692307696\" y=\"50.0\"><title>Name: 38362_rex, Group: 1, Prop: 1.0</title></rect></g><g class=\"toyplot-Series\"><rect class=\"toyplot-Datum\" height=\"0.0\" style=\"fill:rgb(55.3%,62.7%,79.6%);fill-opacity:1.0;opacity:1.0;stroke:rgb(100%,100%,100%);stroke-opacity:1.0;stroke-width:1.0\" width=\"23.07692307692308\" x=\"50.0\" y=\"150.0\"><title>Name: 32082_przewalskii, Group: 2, Prop: 0.0</title></rect><rect class=\"toyplot-Datum\" height=\"0.0\" style=\"fill:rgb(55.3%,62.7%,79.6%);fill-opacity:1.0;opacity:1.0;stroke:rgb(100%,100%,100%);stroke-opacity:1.0;stroke-width:1.0\" width=\"23.07692307692308\" x=\"73.07692307692308\" y=\"150.0\"><title>Name: 33588_przewalskii, Group: 2, Prop: 0.0</title></rect><rect class=\"toyplot-Datum\" height=\"100.0\" style=\"fill:rgb(55.3%,62.7%,79.6%);fill-opacity:1.0;opacity:1.0;stroke:rgb(100%,100%,100%);stroke-opacity:1.0;stroke-width:1.0\" width=\"23.076923076923066\" x=\"96.15384615384616\" y=\"50.0\"><title>Name: 41478_cyathophylloides, Group: 2, Prop: 1.0</title></rect><rect class=\"toyplot-Datum\" height=\"100.0\" style=\"fill:rgb(55.3%,62.7%,79.6%);fill-opacity:1.0;opacity:1.0;stroke:rgb(100%,100%,100%);stroke-opacity:1.0;stroke-width:1.0\" width=\"23.076923076923094\" x=\"119.23076923076923\" y=\"50.0\"><title>Name: 41954_cyathophylloides, Group: 2, Prop: 1.0</title></rect><rect class=\"toyplot-Datum\" height=\"0.0\" style=\"fill:rgb(55.3%,62.7%,79.6%);fill-opacity:1.0;opacity:1.0;stroke:rgb(100%,100%,100%);stroke-opacity:1.0;stroke-width:1.0\" width=\"23.076923076923066\" x=\"142.30769230769232\" y=\"50.0\"><title>Name: 30686_cyathophylla, Group: 2, Prop: 0.0</title></rect><rect class=\"toyplot-Datum\" height=\"0.019999999999996021\" style=\"fill:rgb(55.3%,62.7%,79.6%);fill-opacity:1.0;opacity:1.0;stroke:rgb(100%,100%,100%);stroke-opacity:1.0;stroke-width:1.0\" width=\"23.076923076923094\" x=\"165.38461538461539\" y=\"50.140000000000008\"><title>Name: 29154_superba, Group: 2, Prop: 0.0002</title></rect><rect class=\"toyplot-Datum\" height=\"0.0\" style=\"fill:rgb(55.3%,62.7%,79.6%);fill-opacity:1.0;opacity:1.0;stroke:rgb(100%,100%,100%);stroke-opacity:1.0;stroke-width:1.0\" width=\"23.076923076923038\" x=\"188.46153846153848\" y=\"147.88\"><title>Name: 33413_thamno, Group: 2, Prop: 0.0</title></rect><rect class=\"toyplot-Datum\" height=\"0.0\" style=\"fill:rgb(55.3%,62.7%,79.6%);fill-opacity:1.0;opacity:1.0;stroke:rgb(100%,100%,100%);stroke-opacity:1.0;stroke-width:1.0\" width=\"23.076923076923094\" x=\"211.53846153846152\" y=\"147.38\"><title>Name: 30556_thamno, Group: 2, Prop: 0.0</title></rect><rect class=\"toyplot-Datum\" height=\"0.0\" style=\"fill:rgb(55.3%,62.7%,79.6%);fill-opacity:1.0;opacity:1.0;stroke:rgb(100%,100%,100%);stroke-opacity:1.0;stroke-width:1.0\" width=\"23.076923076923066\" x=\"234.61538461538461\" y=\"139.20000000000002\"><title>Name: 35236_rex, Group: 2, Prop: 0.0</title></rect><rect class=\"toyplot-Datum\" height=\"0.0\" style=\"fill:rgb(55.3%,62.7%,79.6%);fill-opacity:1.0;opacity:1.0;stroke:rgb(100%,100%,100%);stroke-opacity:1.0;stroke-width:1.0\" width=\"23.076923076923094\" x=\"257.69230769230768\" y=\"147.24000000000001\"><title>Name: 40578_rex, Group: 2, Prop: 0.0</title></rect><rect class=\"toyplot-Datum\" height=\"0.0\" style=\"fill:rgb(55.3%,62.7%,79.6%);fill-opacity:1.0;opacity:1.0;stroke:rgb(100%,100%,100%);stroke-opacity:1.0;stroke-width:1.0\" width=\"23.076923076923038\" x=\"280.76923076923077\" y=\"147.21999999999997\"><title>Name: 35855_rex, Group: 2, Prop: 0.0</title></rect><rect class=\"toyplot-Datum\" height=\"0.0\" style=\"fill:rgb(55.3%,62.7%,79.6%);fill-opacity:1.0;opacity:1.0;stroke:rgb(100%,100%,100%);stroke-opacity:1.0;stroke-width:1.0\" width=\"23.076923076923151\" x=\"303.84615384615381\" y=\"51.300000000000004\"><title>Name: 39618_rex, Group: 2, Prop: 0.0</title></rect><rect class=\"toyplot-Datum\" height=\"0.0\" style=\"fill:rgb(55.3%,62.7%,79.6%);fill-opacity:1.0;opacity:1.0;stroke:rgb(100%,100%,100%);stroke-opacity:1.0;stroke-width:1.0\" width=\"23.076923076923038\" x=\"326.92307692307696\" y=\"50.0\"><title>Name: 38362_rex, Group: 2, Prop: 0.0</title></rect></g><g class=\"toyplot-Series\"><rect class=\"toyplot-Datum\" height=\"0.0\" style=\"fill:rgb(90.6%,54.1%,76.5%);fill-opacity:1.0;opacity:1.0;stroke:rgb(100%,100%,100%);stroke-opacity:1.0;stroke-width:1.0\" width=\"23.07692307692308\" x=\"50.0\" y=\"150.0\"><title>Name: 32082_przewalskii, Group: 3, Prop: 0.0</title></rect><rect class=\"toyplot-Datum\" height=\"0.0\" style=\"fill:rgb(90.6%,54.1%,76.5%);fill-opacity:1.0;opacity:1.0;stroke:rgb(100%,100%,100%);stroke-opacity:1.0;stroke-width:1.0\" width=\"23.07692307692308\" x=\"73.07692307692308\" y=\"150.0\"><title>Name: 33588_przewalskii, Group: 3, Prop: 0.0</title></rect><rect class=\"toyplot-Datum\" height=\"0.0\" style=\"fill:rgb(90.6%,54.1%,76.5%);fill-opacity:1.0;opacity:1.0;stroke:rgb(100%,100%,100%);stroke-opacity:1.0;stroke-width:1.0\" width=\"23.076923076923066\" x=\"96.15384615384616\" y=\"50.0\"><title>Name: 41478_cyathophylloides, Group: 3, Prop: 0.0</title></rect><rect class=\"toyplot-Datum\" height=\"0.0\" style=\"fill:rgb(90.6%,54.1%,76.5%);fill-opacity:1.0;opacity:1.0;stroke:rgb(100%,100%,100%);stroke-opacity:1.0;stroke-width:1.0\" width=\"23.076923076923094\" x=\"119.23076923076923\" y=\"50.0\"><title>Name: 41954_cyathophylloides, Group: 3, Prop: 0.0</title></rect><rect class=\"toyplot-Datum\" height=\"0.0\" style=\"fill:rgb(90.6%,54.1%,76.5%);fill-opacity:1.0;opacity:1.0;stroke:rgb(100%,100%,100%);stroke-opacity:1.0;stroke-width:1.0\" width=\"23.076923076923066\" x=\"142.30769230769232\" y=\"50.0\"><title>Name: 30686_cyathophylla, Group: 3, Prop: 0.0</title></rect><rect class=\"toyplot-Datum\" height=\"0.0\" style=\"fill:rgb(90.6%,54.1%,76.5%);fill-opacity:1.0;opacity:1.0;stroke:rgb(100%,100%,100%);stroke-opacity:1.0;stroke-width:1.0\" width=\"23.076923076923094\" x=\"165.38461538461539\" y=\"50.140000000000008\"><title>Name: 29154_superba, Group: 3, Prop: 0.0</title></rect><rect class=\"toyplot-Datum\" height=\"90.259999999999991\" style=\"fill:rgb(90.6%,54.1%,76.5%);fill-opacity:1.0;opacity:1.0;stroke:rgb(100%,100%,100%);stroke-opacity:1.0;stroke-width:1.0\" width=\"23.076923076923038\" x=\"188.46153846153848\" y=\"57.620000000000005\"><title>Name: 33413_thamno, Group: 3, Prop: 0.9026</title></rect><rect class=\"toyplot-Datum\" height=\"78.699999999999989\" style=\"fill:rgb(90.6%,54.1%,76.5%);fill-opacity:1.0;opacity:1.0;stroke:rgb(100%,100%,100%);stroke-opacity:1.0;stroke-width:1.0\" width=\"23.076923076923094\" x=\"211.53846153846152\" y=\"68.680000000000007\"><title>Name: 30556_thamno, Group: 3, Prop: 0.787</title></rect><rect class=\"toyplot-Datum\" height=\"28.800000000000011\" style=\"fill:rgb(90.6%,54.1%,76.5%);fill-opacity:1.0;opacity:1.0;stroke:rgb(100%,100%,100%);stroke-opacity:1.0;stroke-width:1.0\" width=\"23.076923076923066\" x=\"234.61538461538461\" y=\"110.40000000000001\"><title>Name: 35236_rex, Group: 3, Prop: 0.288</title></rect><rect class=\"toyplot-Datum\" height=\"96.640000000000015\" style=\"fill:rgb(90.6%,54.1%,76.5%);fill-opacity:1.0;opacity:1.0;stroke:rgb(100%,100%,100%);stroke-opacity:1.0;stroke-width:1.0\" width=\"23.076923076923094\" x=\"257.69230769230768\" y=\"50.600000000000001\"><title>Name: 40578_rex, Group: 3, Prop: 0.9664</title></rect><rect class=\"toyplot-Datum\" height=\"96.759999999999977\" style=\"fill:rgb(90.6%,54.1%,76.5%);fill-opacity:1.0;opacity:1.0;stroke:rgb(100%,100%,100%);stroke-opacity:1.0;stroke-width:1.0\" width=\"23.076923076923038\" x=\"280.76923076923077\" y=\"50.459999999999994\"><title>Name: 35855_rex, Group: 3, Prop: 0.9676</title></rect><rect class=\"toyplot-Datum\" height=\"1.3000000000000043\" style=\"fill:rgb(90.6%,54.1%,76.5%);fill-opacity:1.0;opacity:1.0;stroke:rgb(100%,100%,100%);stroke-opacity:1.0;stroke-width:1.0\" width=\"23.076923076923151\" x=\"303.84615384615381\" y=\"50.0\"><title>Name: 39618_rex, Group: 3, Prop: 0.013</title></rect><rect class=\"toyplot-Datum\" height=\"0.0\" style=\"fill:rgb(90.6%,54.1%,76.5%);fill-opacity:1.0;opacity:1.0;stroke:rgb(100%,100%,100%);stroke-opacity:1.0;stroke-width:1.0\" width=\"23.076923076923038\" x=\"326.92307692307696\" y=\"50.0\"><title>Name: 38362_rex, Group: 3, Prop: 0.0</title></rect></g><g class=\"toyplot-Series\"><rect class=\"toyplot-Datum\" height=\"0.0\" style=\"fill:rgb(65.1%,84.7%,32.9%);fill-opacity:1.0;opacity:1.0;stroke:rgb(100%,100%,100%);stroke-opacity:1.0;stroke-width:1.0\" width=\"23.07692307692308\" x=\"50.0\" y=\"150.0\"><title>Name: 32082_przewalskii, Group: 4, Prop: 0.0</title></rect><rect class=\"toyplot-Datum\" height=\"0.0\" style=\"fill:rgb(65.1%,84.7%,32.9%);fill-opacity:1.0;opacity:1.0;stroke:rgb(100%,100%,100%);stroke-opacity:1.0;stroke-width:1.0\" width=\"23.07692307692308\" x=\"73.07692307692308\" y=\"150.0\"><title>Name: 33588_przewalskii, Group: 4, Prop: 0.0</title></rect><rect class=\"toyplot-Datum\" height=\"0.0\" style=\"fill:rgb(65.1%,84.7%,32.9%);fill-opacity:1.0;opacity:1.0;stroke:rgb(100%,100%,100%);stroke-opacity:1.0;stroke-width:1.0\" width=\"23.076923076923066\" x=\"96.15384615384616\" y=\"50.0\"><title>Name: 41478_cyathophylloides, Group: 4, Prop: 0.0</title></rect><rect class=\"toyplot-Datum\" height=\"0.0\" style=\"fill:rgb(65.1%,84.7%,32.9%);fill-opacity:1.0;opacity:1.0;stroke:rgb(100%,100%,100%);stroke-opacity:1.0;stroke-width:1.0\" width=\"23.076923076923094\" x=\"119.23076923076923\" y=\"50.0\"><title>Name: 41954_cyathophylloides, Group: 4, Prop: 0.0</title></rect><rect class=\"toyplot-Datum\" height=\"0.0\" style=\"fill:rgb(65.1%,84.7%,32.9%);fill-opacity:1.0;opacity:1.0;stroke:rgb(100%,100%,100%);stroke-opacity:1.0;stroke-width:1.0\" width=\"23.076923076923066\" x=\"142.30769230769232\" y=\"50.0\"><title>Name: 30686_cyathophylla, Group: 4, Prop: 0.0</title></rect><rect class=\"toyplot-Datum\" height=\"0.14000000000000057\" style=\"fill:rgb(65.1%,84.7%,32.9%);fill-opacity:1.0;opacity:1.0;stroke:rgb(100%,100%,100%);stroke-opacity:1.0;stroke-width:1.0\" width=\"23.076923076923094\" x=\"165.38461538461539\" y=\"50.000000000000007\"><title>Name: 29154_superba, Group: 4, Prop: 0.0014</title></rect><rect class=\"toyplot-Datum\" height=\"7.6200000000000045\" style=\"fill:rgb(65.1%,84.7%,32.9%);fill-opacity:1.0;opacity:1.0;stroke:rgb(100%,100%,100%);stroke-opacity:1.0;stroke-width:1.0\" width=\"23.076923076923038\" x=\"188.46153846153848\" y=\"50.0\"><title>Name: 33413_thamno, Group: 4, Prop: 0.0762</title></rect><rect class=\"toyplot-Datum\" height=\"18.680000000000007\" style=\"fill:rgb(65.1%,84.7%,32.9%);fill-opacity:1.0;opacity:1.0;stroke:rgb(100%,100%,100%);stroke-opacity:1.0;stroke-width:1.0\" width=\"23.076923076923094\" x=\"211.53846153846152\" y=\"50.0\"><title>Name: 30556_thamno, Group: 4, Prop: 0.1868</title></rect><rect class=\"toyplot-Datum\" height=\"60.400000000000006\" style=\"fill:rgb(65.1%,84.7%,32.9%);fill-opacity:1.0;opacity:1.0;stroke:rgb(100%,100%,100%);stroke-opacity:1.0;stroke-width:1.0\" width=\"23.076923076923066\" x=\"234.61538461538461\" y=\"50.0\"><title>Name: 35236_rex, Group: 4, Prop: 0.604</title></rect><rect class=\"toyplot-Datum\" height=\"0.60000000000000142\" style=\"fill:rgb(65.1%,84.7%,32.9%);fill-opacity:1.0;opacity:1.0;stroke:rgb(100%,100%,100%);stroke-opacity:1.0;stroke-width:1.0\" width=\"23.076923076923094\" x=\"257.69230769230768\" y=\"50.0\"><title>Name: 40578_rex, Group: 4, Prop: 0.006</title></rect><rect class=\"toyplot-Datum\" height=\"0.45999999999999375\" style=\"fill:rgb(65.1%,84.7%,32.9%);fill-opacity:1.0;opacity:1.0;stroke:rgb(100%,100%,100%);stroke-opacity:1.0;stroke-width:1.0\" width=\"23.076923076923038\" x=\"280.76923076923077\" y=\"50.0\"><title>Name: 35855_rex, Group: 4, Prop: 0.0046</title></rect><rect class=\"toyplot-Datum\" height=\"0.0\" style=\"fill:rgb(65.1%,84.7%,32.9%);fill-opacity:1.0;opacity:1.0;stroke:rgb(100%,100%,100%);stroke-opacity:1.0;stroke-width:1.0\" width=\"23.076923076923151\" x=\"303.84615384615381\" y=\"50.0\"><title>Name: 39618_rex, Group: 4, Prop: 0.0</title></rect><rect class=\"toyplot-Datum\" height=\"0.0\" style=\"fill:rgb(65.1%,84.7%,32.9%);fill-opacity:1.0;opacity:1.0;stroke:rgb(100%,100%,100%);stroke-opacity:1.0;stroke-width:1.0\" width=\"23.076923076923038\" x=\"326.92307692307696\" y=\"50.0\"><title>Name: 38362_rex, Group: 4, Prop: 0.0</title></rect></g><g class=\"toyplot-Series\"><rect class=\"toyplot-Datum\" height=\"100.0\" style=\"fill:rgb(100%,85.1%,18.4%);fill-opacity:1.0;opacity:1.0;stroke:rgb(100%,100%,100%);stroke-opacity:1.0;stroke-width:1.0\" width=\"23.07692307692308\" x=\"50.0\" y=\"50.0\"><title>Name: 32082_przewalskii, Group: 5, Prop: 1.0</title></rect><rect class=\"toyplot-Datum\" height=\"100.0\" style=\"fill:rgb(100%,85.1%,18.4%);fill-opacity:1.0;opacity:1.0;stroke:rgb(100%,100%,100%);stroke-opacity:1.0;stroke-width:1.0\" width=\"23.07692307692308\" x=\"73.07692307692308\" y=\"50.0\"><title>Name: 33588_przewalskii, Group: 5, Prop: 1.0</title></rect><rect class=\"toyplot-Datum\" height=\"0.0\" style=\"fill:rgb(100%,85.1%,18.4%);fill-opacity:1.0;opacity:1.0;stroke:rgb(100%,100%,100%);stroke-opacity:1.0;stroke-width:1.0\" width=\"23.076923076923066\" x=\"96.15384615384616\" y=\"50.0\"><title>Name: 41478_cyathophylloides, Group: 5, Prop: 0.0</title></rect><rect class=\"toyplot-Datum\" height=\"0.0\" style=\"fill:rgb(100%,85.1%,18.4%);fill-opacity:1.0;opacity:1.0;stroke:rgb(100%,100%,100%);stroke-opacity:1.0;stroke-width:1.0\" width=\"23.076923076923094\" x=\"119.23076923076923\" y=\"50.0\"><title>Name: 41954_cyathophylloides, Group: 5, Prop: 0.0</title></rect><rect class=\"toyplot-Datum\" height=\"0.0\" style=\"fill:rgb(100%,85.1%,18.4%);fill-opacity:1.0;opacity:1.0;stroke:rgb(100%,100%,100%);stroke-opacity:1.0;stroke-width:1.0\" width=\"23.076923076923066\" x=\"142.30769230769232\" y=\"50.0\"><title>Name: 30686_cyathophylla, Group: 5, Prop: 0.0</title></rect><rect class=\"toyplot-Datum\" height=\"0.0\" style=\"fill:rgb(100%,85.1%,18.4%);fill-opacity:1.0;opacity:1.0;stroke:rgb(100%,100%,100%);stroke-opacity:1.0;stroke-width:1.0\" width=\"23.076923076923094\" x=\"165.38461538461539\" y=\"50.000000000000007\"><title>Name: 29154_superba, Group: 5, Prop: 0.0</title></rect><rect class=\"toyplot-Datum\" height=\"0.0\" style=\"fill:rgb(100%,85.1%,18.4%);fill-opacity:1.0;opacity:1.0;stroke:rgb(100%,100%,100%);stroke-opacity:1.0;stroke-width:1.0\" width=\"23.076923076923038\" x=\"188.46153846153848\" y=\"50.0\"><title>Name: 33413_thamno, Group: 5, Prop: 0.0</title></rect><rect class=\"toyplot-Datum\" height=\"0.0\" style=\"fill:rgb(100%,85.1%,18.4%);fill-opacity:1.0;opacity:1.0;stroke:rgb(100%,100%,100%);stroke-opacity:1.0;stroke-width:1.0\" width=\"23.076923076923094\" x=\"211.53846153846152\" y=\"50.0\"><title>Name: 30556_thamno, Group: 5, Prop: 0.0</title></rect><rect class=\"toyplot-Datum\" height=\"0.0\" style=\"fill:rgb(100%,85.1%,18.4%);fill-opacity:1.0;opacity:1.0;stroke:rgb(100%,100%,100%);stroke-opacity:1.0;stroke-width:1.0\" width=\"23.076923076923066\" x=\"234.61538461538461\" y=\"50.0\"><title>Name: 35236_rex, Group: 5, Prop: 0.0</title></rect><rect class=\"toyplot-Datum\" height=\"0.0\" style=\"fill:rgb(100%,85.1%,18.4%);fill-opacity:1.0;opacity:1.0;stroke:rgb(100%,100%,100%);stroke-opacity:1.0;stroke-width:1.0\" width=\"23.076923076923094\" x=\"257.69230769230768\" y=\"50.0\"><title>Name: 40578_rex, Group: 5, Prop: 0.0</title></rect><rect class=\"toyplot-Datum\" height=\"0.0\" style=\"fill:rgb(100%,85.1%,18.4%);fill-opacity:1.0;opacity:1.0;stroke:rgb(100%,100%,100%);stroke-opacity:1.0;stroke-width:1.0\" width=\"23.076923076923038\" x=\"280.76923076923077\" y=\"50.0\"><title>Name: 35855_rex, Group: 5, Prop: 0.0</title></rect><rect class=\"toyplot-Datum\" height=\"0.0\" style=\"fill:rgb(100%,85.1%,18.4%);fill-opacity:1.0;opacity:1.0;stroke:rgb(100%,100%,100%);stroke-opacity:1.0;stroke-width:1.0\" width=\"23.076923076923151\" x=\"303.84615384615381\" y=\"50.0\"><title>Name: 39618_rex, Group: 5, Prop: 0.0</title></rect><rect class=\"toyplot-Datum\" height=\"0.0\" style=\"fill:rgb(100%,85.1%,18.4%);fill-opacity:1.0;opacity:1.0;stroke:rgb(100%,100%,100%);stroke-opacity:1.0;stroke-width:1.0\" width=\"23.076923076923038\" x=\"326.92307692307696\" y=\"50.0\"><title>Name: 38362_rex, Group: 5, Prop: 0.0</title></rect></g></g></g><g class=\"toyplot-coordinates-Axis\" id=\"t32d52a0942e34102a6da751b6bd650b7\" transform=\"translate(50.0,150.0)translate(0,10.0)\"><line style=\"\" x1=\"0\" x2=\"300.0\" y1=\"0\" y2=\"0\"></line><g><text style=\"dominant-baseline:hanging;font-size:10px;font-weight:normal;stroke:none;text-anchor:middle\" transform=\"translate(11.538461538461538,6)\"><tspan style=\"dominant-baseline:inherit\">0</tspan></text><text style=\"dominant-baseline:hanging;font-size:10px;font-weight:normal;stroke:none;text-anchor:middle\" transform=\"translate(103.84615384615384,6)\"><tspan style=\"dominant-baseline:inherit\">4</tspan></text><text style=\"dominant-baseline:hanging;font-size:10px;font-weight:normal;stroke:none;text-anchor:middle\" transform=\"translate(196.15384615384616,6)\"><tspan style=\"dominant-baseline:inherit\">8</tspan></text><text style=\"dominant-baseline:hanging;font-size:10px;font-weight:normal;stroke:none;text-anchor:middle\" transform=\"translate(288.46153846153845,6)\"><tspan style=\"dominant-baseline:inherit\">12</tspan></text></g><text style=\"dominant-baseline:hanging;font-size:12px;font-weight:bold;stroke:none;text-anchor:middle\" transform=\"translate(150.0,22)\"><tspan style=\"dominant-baseline:inherit\">K=6</tspan></text><g class=\"toyplot-coordinates-Axis-coordinates\" style=\"visibility:hidden\" transform=\"\"><line style=\"stroke:rgb(43.9%,50.2%,56.5%);stroke-opacity:1.0;stroke-width:1.0\" x1=\"0\" x2=\"0\" y1=\"-3.0\" y2=\"4.5\"></line><text style=\"alignment-baseline:alphabetic;fill:rgb(43.9%,50.2%,56.5%);fill-opacity:1.0;font-size:10px;font-weight:normal;stroke:none;text-anchor:middle\" x=\"0\" y=\"-6\"></text></g></g></g></svg><div class=\"toyplot-interactive\"><ul class=\"toyplot-mark-popup\" onmouseleave=\"this.style.visibility='hidden'\" style=\"background:rgba(0%,0%,0%,0.75);border:0;border-radius:6px;color:white;cursor:default;list-style:none;margin:0;padding:5px;position:fixed;visibility:hidden\">\n",
       "            <li class=\"toyplot-mark-popup-title\" style=\"color:lightgray;cursor:default;padding:5px;list-style:none;margin:0\"></li>\n",
       "            <li class=\"toyplot-mark-popup-save-csv\" onmouseout=\"this.style.color='white';this.style.background='steelblue'\" onmouseover=\"this.style.color='steelblue';this.style.background='white'\" style=\"border-radius:3px;padding:5px;list-style:none;margin:0\">\n",
       "                Save as .csv\n",
       "            </li>\n",
       "        </ul><script>\n",
       "        (function()\n",
       "        {\n",
       "          var data_tables = [{\"title\": \"Bar Data\", \"names\": [\"left\", \"right\", \"baseline\", \"magnitude0\", \"magnitude1\", \"magnitude2\", \"magnitude3\", \"magnitude4\", \"magnitude5\"], \"id\": \"tc80835febd6e402bb4817fc32c299ebd\", \"columns\": [[-0.5, 0.5, 1.5, 2.5, 3.5, 4.5, 5.5, 6.5, 7.5, 8.5, 9.5, 10.5, 11.5], [0.5, 1.5, 2.5, 3.5, 4.5, 5.5, 6.5, 7.5, 8.5, 9.5, 10.5, 11.5, 12.5], [0.0, 0.0, 0.0, 0.0, 0.0, 0.0, 0.0, 0.0, 0.0, 0.0, 0.0, 0.0, 0.0], [0.0, 0.0, 0.0, 0.0, 1.0, 0.9984, 0.0, 0.0, 0.0, 0.0, 0.0, 0.0, 0.0], [0.0, 0.0, 0.0, 0.0, 0.0, 0.0, 0.0212, 0.0262, 0.108, 0.0276, 0.0278, 0.987, 1.0], [0.0, 0.0, 1.0, 1.0, 0.0, 0.0002, 0.0, 0.0, 0.0, 0.0, 0.0, 0.0, 0.0], [0.0, 0.0, 0.0, 0.0, 0.0, 0.0, 0.9026, 0.787, 0.288, 0.9664, 0.9676, 0.013, 0.0], [0.0, 0.0, 0.0, 0.0, 0.0, 0.0014, 0.0762, 0.1868, 0.604, 0.006, 0.0046, 0.0, 0.0], [1.0, 1.0, 0.0, 0.0, 0.0, 0.0, 0.0, 0.0, 0.0, 0.0, 0.0, 0.0, 0.0]], \"filename\": \"toyplot\"}];\n",
       "\n",
       "          function save_csv(data_table)\n",
       "          {\n",
       "            var uri = \"data:text/csv;charset=utf-8,\";\n",
       "            uri += data_table.names.join(\",\") + \"\\n\";\n",
       "            for(var i = 0; i != data_table.columns[0].length; ++i)\n",
       "            {\n",
       "              for(var j = 0; j != data_table.columns.length; ++j)\n",
       "              {\n",
       "                if(j)\n",
       "                  uri += \",\";\n",
       "                uri += data_table.columns[j][i];\n",
       "              }\n",
       "              uri += \"\\n\";\n",
       "            }\n",
       "            uri = encodeURI(uri);\n",
       "\n",
       "            var link = document.createElement(\"a\");\n",
       "            if(typeof link.download != \"undefined\")\n",
       "            {\n",
       "              link.href = uri;\n",
       "              link.style = \"visibility:hidden\";\n",
       "              link.download = data_table.filename + \".csv\";\n",
       "\n",
       "              document.body.appendChild(link);\n",
       "              link.click();\n",
       "              document.body.removeChild(link);\n",
       "            }\n",
       "            else\n",
       "            {\n",
       "              window.open(uri);\n",
       "            }\n",
       "          }\n",
       "\n",
       "          function open_popup(data_table)\n",
       "          {\n",
       "            return function(e)\n",
       "            {\n",
       "              var popup = document.querySelector(\"#t46300665efee4bad93addd1bc3448d78 .toyplot-mark-popup\");\n",
       "              popup.querySelector(\".toyplot-mark-popup-title\").innerHTML = data_table.title;\n",
       "              popup.querySelector(\".toyplot-mark-popup-save-csv\").onclick = function() { popup.style.visibility = \"hidden\"; save_csv(data_table); }\n",
       "              popup.style.left = (e.clientX - 50) + \"px\";\n",
       "              popup.style.top = (e.clientY - 20) + \"px\";\n",
       "              popup.style.visibility = \"visible\";\n",
       "              e.stopPropagation();\n",
       "              e.preventDefault();\n",
       "            }\n",
       "\n",
       "          }\n",
       "\n",
       "          for(var i = 0; i != data_tables.length; ++i)\n",
       "          {\n",
       "            var data_table = data_tables[i];\n",
       "            var event_target = document.querySelector(\"#\" + data_table.id);\n",
       "            event_target.oncontextmenu = open_popup(data_table);\n",
       "          }\n",
       "        })();\n",
       "        </script><script>\n",
       "        (function()\n",
       "        {\n",
       "            function _sign(x)\n",
       "            {\n",
       "                return x < 0 ? -1 : x > 0 ? 1 : 0;\n",
       "            }\n",
       "\n",
       "            function _mix(a, b, amount)\n",
       "            {\n",
       "                return ((1.0 - amount) * a) + (amount * b);\n",
       "            }\n",
       "\n",
       "            function _log(x, base)\n",
       "            {\n",
       "                return Math.log(Math.abs(x)) / Math.log(base);\n",
       "            }\n",
       "\n",
       "            function _in_range(a, x, b)\n",
       "            {\n",
       "                var left = Math.min(a, b);\n",
       "                var right = Math.max(a, b);\n",
       "                return left <= x && x <= right;\n",
       "            }\n",
       "\n",
       "            function inside(range, projection)\n",
       "            {\n",
       "                for(var i = 0; i != projection.length; ++i)\n",
       "                {\n",
       "                    var segment = projection[i];\n",
       "                    if(_in_range(segment.range.min, range, segment.range.max))\n",
       "                        return true;\n",
       "                }\n",
       "                return false;\n",
       "            }\n",
       "\n",
       "            function to_domain(range, projection)\n",
       "            {\n",
       "                for(var i = 0; i != projection.length; ++i)\n",
       "                {\n",
       "                    var segment = projection[i];\n",
       "                    if(_in_range(segment.range.bounds.min, range, segment.range.bounds.max))\n",
       "                    {\n",
       "                        if(segment.scale == \"linear\")\n",
       "                        {\n",
       "                            var amount = (range - segment.range.min) / (segment.range.max - segment.range.min);\n",
       "                            return _mix(segment.domain.min, segment.domain.max, amount)\n",
       "                        }\n",
       "                        else if(segment.scale[0] == \"log\")\n",
       "                        {\n",
       "                            var amount = (range - segment.range.min) / (segment.range.max - segment.range.min);\n",
       "                            var base = segment.scale[1];\n",
       "                            return _sign(segment.domain.min) * Math.pow(base, _mix(_log(segment.domain.min, base), _log(segment.domain.max, base), amount));\n",
       "                        }\n",
       "                    }\n",
       "                }\n",
       "            }\n",
       "\n",
       "            function display_coordinates(e)\n",
       "            {\n",
       "                var current = svg.createSVGPoint();\n",
       "                current.x = e.clientX;\n",
       "                current.y = e.clientY;\n",
       "\n",
       "                for(var axis_id in axes)\n",
       "                {\n",
       "                    var axis = document.querySelector(\"#\" + axis_id);\n",
       "                    var coordinates = axis.querySelector(\".toyplot-coordinates-Axis-coordinates\");\n",
       "                    if(coordinates)\n",
       "                    {\n",
       "                        var projection = axes[axis_id];\n",
       "                        var local = current.matrixTransform(axis.getScreenCTM().inverse());\n",
       "                        if(inside(local.x, projection))\n",
       "                        {\n",
       "                            var domain = to_domain(local.x, projection);\n",
       "                            coordinates.style.visibility = \"visible\";\n",
       "                            coordinates.setAttribute(\"transform\", \"translate(\" + local.x + \")\");\n",
       "                            var text = coordinates.querySelector(\"text\");\n",
       "                            text.textContent = domain.toFixed(2);\n",
       "                        }\n",
       "                        else\n",
       "                        {\n",
       "                            coordinates.style.visibility= \"hidden\";\n",
       "                        }\n",
       "                    }\n",
       "                }\n",
       "            }\n",
       "\n",
       "            var root_id = \"t46300665efee4bad93addd1bc3448d78\";\n",
       "            var axes = {\"t32d52a0942e34102a6da751b6bd650b7\": [{\"domain\": {\"bounds\": {\"max\": Infinity, \"min\": -Infinity}, \"max\": 12.5, \"min\": -0.5}, \"range\": {\"bounds\": {\"max\": Infinity, \"min\": -Infinity}, \"max\": 300.0, \"min\": 0.0}, \"scale\": \"linear\"}]};\n",
       "\n",
       "            var svg = document.querySelector(\"#\" + root_id + \" svg\");\n",
       "            svg.addEventListener(\"click\", display_coordinates);\n",
       "        })();\n",
       "        </script></div></div>"
      ]
     },
     "metadata": {},
     "output_type": "display_data"
    }
   ],
   "source": [
    "for K in testKs:\n",
    "    ## parse outfile\n",
    "    ofile = os.path.join(STRUCTDIR, \"K-{}.outfile\".format(K))\n",
    "    table, title = prep_table(ofile, inputnames, reorder=myorder)\n",
    "    \n",
    "    ## plot bars\n",
    "    xlabel=\"K={}\".format(K)\n",
    "    toyplot.bars(table, title=title, \n",
    "                 width=400, height=200, \n",
    "                 yshow=False, xlabel=xlabel);"
   ]
  },
  {
   "cell_type": "markdown",
   "metadata": {},
   "source": [
    "### Save a plot to file"
   ]
  },
  {
   "cell_type": "code",
   "execution_count": 164,
   "metadata": {
    "collapsed": false
   },
   "outputs": [
    {
     "data": {
      "image/png": "[encoded data removed]",
      "text/html": [
       "<div align=\"center\" class=\"toyplot\" id=\"t9498f52586e14bc29ff54ee2b08efac5\"><svg class=\"toyplot-canvas-Canvas\" height=\"250.0px\" id=\"t5cfdf0d9db6449c0a351b99f9fa2d78a\" preserveAspectRatio=\"xMidYMid meet\" style=\"background-color:transparent;fill:rgb(16.1%,15.3%,14.1%);fill-opacity:1.0;font-family:Helvetica;font-size:12px;opacity:1.0;stroke:rgb(16.1%,15.3%,14.1%);stroke-opacity:1.0;stroke-width:1.0\" viewBox=\"0 0 600.0 250.0\" width=\"600.0px\" xmlns=\"http://www.w3.org/2000/svg\" xmlns:toyplot=\"http://www.sandia.gov/toyplot\" xmlns:xlink=\"http://www.w3.org/1999/xlink\"><g class=\"toyplot-coordinates-Cartesian\" id=\"t92f660d51e5048328f2c7b84b3b031ab\"><clipPath id=\"t7842f8eaea4b43e9bc1154b9526dc5f8\"><rect height=\"170.0\" width=\"520.0\" x=\"40.0\" y=\"40.0\"></rect></clipPath><g clip-path=\"url(#t7842f8eaea4b43e9bc1154b9526dc5f8)\"><g class=\"toyplot-mark-BarMagnitudes\" id=\"t7310f05fd7eb4dc7b8c718a8684a6273\" style=\"stroke:rgb(16.1%,15.3%,14.1%);stroke-opacity:1.0;stroke-width:2\"><g class=\"toyplot-Series\"><rect class=\"toyplot-Datum\" height=\"0.0\" style=\"fill:rgb(40%,76.1%,64.7%);fill-opacity:1.0;opacity:1.0;stroke:rgb(16.1%,15.3%,14.1%);stroke-opacity:1.0;stroke-width:2\" width=\"38.461538461538453\" x=\"50.0\" y=\"200.0\"><title>Name: 32082_przewalskii, Group: 0, Prop: 0.0</title></rect><rect class=\"toyplot-Datum\" height=\"0.0\" style=\"fill:rgb(40%,76.1%,64.7%);fill-opacity:1.0;opacity:1.0;stroke:rgb(16.1%,15.3%,14.1%);stroke-opacity:1.0;stroke-width:2\" width=\"38.461538461538467\" x=\"88.461538461538453\" y=\"200.0\"><title>Name: 33588_przewalskii, Group: 0, Prop: 0.0</title></rect><rect class=\"toyplot-Datum\" height=\"0.0\" style=\"fill:rgb(40%,76.1%,64.7%);fill-opacity:1.0;opacity:1.0;stroke:rgb(16.1%,15.3%,14.1%);stroke-opacity:1.0;stroke-width:2\" width=\"38.461538461538467\" x=\"126.92307692307692\" y=\"200.0\"><title>Name: 41478_cyathophylloides, Group: 0, Prop: 0.0</title></rect><rect class=\"toyplot-Datum\" height=\"0.0\" style=\"fill:rgb(40%,76.1%,64.7%);fill-opacity:1.0;opacity:1.0;stroke:rgb(16.1%,15.3%,14.1%);stroke-opacity:1.0;stroke-width:2\" width=\"38.461538461538453\" x=\"165.38461538461539\" y=\"200.0\"><title>Name: 41954_cyathophylloides, Group: 0, Prop: 0.0</title></rect><rect class=\"toyplot-Datum\" height=\"150.0\" style=\"fill:rgb(40%,76.1%,64.7%);fill-opacity:1.0;opacity:1.0;stroke:rgb(16.1%,15.3%,14.1%);stroke-opacity:1.0;stroke-width:2\" width=\"38.461538461538481\" x=\"203.84615384615384\" y=\"50.0\"><title>Name: 30686_cyathophylla, Group: 0, Prop: 1.0</title></rect><rect class=\"toyplot-Datum\" height=\"149.75999999999999\" style=\"fill:rgb(40%,76.1%,64.7%);fill-opacity:1.0;opacity:1.0;stroke:rgb(16.1%,15.3%,14.1%);stroke-opacity:1.0;stroke-width:2\" width=\"38.461538461538453\" x=\"242.30769230769232\" y=\"50.240000000000002\"><title>Name: 29154_superba, Group: 0, Prop: 0.9984</title></rect><rect class=\"toyplot-Datum\" height=\"0.0\" style=\"fill:rgb(40%,76.1%,64.7%);fill-opacity:1.0;opacity:1.0;stroke:rgb(16.1%,15.3%,14.1%);stroke-opacity:1.0;stroke-width:2\" width=\"38.461538461538453\" x=\"280.76923076923077\" y=\"200.0\"><title>Name: 33413_thamno, Group: 0, Prop: 0.0</title></rect><rect class=\"toyplot-Datum\" height=\"0.0\" style=\"fill:rgb(40%,76.1%,64.7%);fill-opacity:1.0;opacity:1.0;stroke:rgb(16.1%,15.3%,14.1%);stroke-opacity:1.0;stroke-width:2\" width=\"38.461538461538453\" x=\"319.23076923076923\" y=\"200.0\"><title>Name: 30556_thamno, Group: 0, Prop: 0.0</title></rect><rect class=\"toyplot-Datum\" height=\"0.0\" style=\"fill:rgb(40%,76.1%,64.7%);fill-opacity:1.0;opacity:1.0;stroke:rgb(16.1%,15.3%,14.1%);stroke-opacity:1.0;stroke-width:2\" width=\"38.461538461538453\" x=\"357.69230769230768\" y=\"200.0\"><title>Name: 35236_rex, Group: 0, Prop: 0.0</title></rect><rect class=\"toyplot-Datum\" height=\"0.0\" style=\"fill:rgb(40%,76.1%,64.7%);fill-opacity:1.0;opacity:1.0;stroke:rgb(16.1%,15.3%,14.1%);stroke-opacity:1.0;stroke-width:2\" width=\"38.46153846153851\" x=\"396.15384615384613\" y=\"200.0\"><title>Name: 40578_rex, Group: 0, Prop: 0.0</title></rect><rect class=\"toyplot-Datum\" height=\"0.0\" style=\"fill:rgb(40%,76.1%,64.7%);fill-opacity:1.0;opacity:1.0;stroke:rgb(16.1%,15.3%,14.1%);stroke-opacity:1.0;stroke-width:2\" width=\"38.461538461538396\" x=\"434.61538461538464\" y=\"200.0\"><title>Name: 35855_rex, Group: 0, Prop: 0.0</title></rect><rect class=\"toyplot-Datum\" height=\"0.0\" style=\"fill:rgb(40%,76.1%,64.7%);fill-opacity:1.0;opacity:1.0;stroke:rgb(16.1%,15.3%,14.1%);stroke-opacity:1.0;stroke-width:2\" width=\"38.461538461538566\" x=\"473.07692307692304\" y=\"200.0\"><title>Name: 39618_rex, Group: 0, Prop: 0.0</title></rect><rect class=\"toyplot-Datum\" height=\"0.0\" style=\"fill:rgb(40%,76.1%,64.7%);fill-opacity:1.0;opacity:1.0;stroke:rgb(16.1%,15.3%,14.1%);stroke-opacity:1.0;stroke-width:2\" width=\"38.461538461538396\" x=\"511.5384615384616\" y=\"200.0\"><title>Name: 38362_rex, Group: 0, Prop: 0.0</title></rect></g><g class=\"toyplot-Series\"><rect class=\"toyplot-Datum\" height=\"0.0\" style=\"fill:rgb(98.8%,55.3%,38.4%);fill-opacity:1.0;opacity:1.0;stroke:rgb(16.1%,15.3%,14.1%);stroke-opacity:1.0;stroke-width:2\" width=\"38.461538461538453\" x=\"50.0\" y=\"200.0\"><title>Name: 32082_przewalskii, Group: 1, Prop: 0.0</title></rect><rect class=\"toyplot-Datum\" height=\"0.0\" style=\"fill:rgb(98.8%,55.3%,38.4%);fill-opacity:1.0;opacity:1.0;stroke:rgb(16.1%,15.3%,14.1%);stroke-opacity:1.0;stroke-width:2\" width=\"38.461538461538467\" x=\"88.461538461538453\" y=\"200.0\"><title>Name: 33588_przewalskii, Group: 1, Prop: 0.0</title></rect><rect class=\"toyplot-Datum\" height=\"0.0\" style=\"fill:rgb(98.8%,55.3%,38.4%);fill-opacity:1.0;opacity:1.0;stroke:rgb(16.1%,15.3%,14.1%);stroke-opacity:1.0;stroke-width:2\" width=\"38.461538461538467\" x=\"126.92307692307692\" y=\"200.0\"><title>Name: 41478_cyathophylloides, Group: 1, Prop: 0.0</title></rect><rect class=\"toyplot-Datum\" height=\"0.0\" style=\"fill:rgb(98.8%,55.3%,38.4%);fill-opacity:1.0;opacity:1.0;stroke:rgb(16.1%,15.3%,14.1%);stroke-opacity:1.0;stroke-width:2\" width=\"38.461538461538453\" x=\"165.38461538461539\" y=\"200.0\"><title>Name: 41954_cyathophylloides, Group: 1, Prop: 0.0</title></rect><rect class=\"toyplot-Datum\" height=\"0.0\" style=\"fill:rgb(98.8%,55.3%,38.4%);fill-opacity:1.0;opacity:1.0;stroke:rgb(16.1%,15.3%,14.1%);stroke-opacity:1.0;stroke-width:2\" width=\"38.461538461538481\" x=\"203.84615384615384\" y=\"50.0\"><title>Name: 30686_cyathophylla, Group: 1, Prop: 0.0</title></rect><rect class=\"toyplot-Datum\" height=\"0.0\" style=\"fill:rgb(98.8%,55.3%,38.4%);fill-opacity:1.0;opacity:1.0;stroke:rgb(16.1%,15.3%,14.1%);stroke-opacity:1.0;stroke-width:2\" width=\"38.461538461538453\" x=\"242.30769230769232\" y=\"50.240000000000002\"><title>Name: 29154_superba, Group: 1, Prop: 0.0</title></rect><rect class=\"toyplot-Datum\" height=\"3.1800000000000068\" style=\"fill:rgb(98.8%,55.3%,38.4%);fill-opacity:1.0;opacity:1.0;stroke:rgb(16.1%,15.3%,14.1%);stroke-opacity:1.0;stroke-width:2\" width=\"38.461538461538453\" x=\"280.76923076923077\" y=\"196.81999999999999\"><title>Name: 33413_thamno, Group: 1, Prop: 0.0212</title></rect><rect class=\"toyplot-Datum\" height=\"3.9300000000000068\" style=\"fill:rgb(98.8%,55.3%,38.4%);fill-opacity:1.0;opacity:1.0;stroke:rgb(16.1%,15.3%,14.1%);stroke-opacity:1.0;stroke-width:2\" width=\"38.461538461538453\" x=\"319.23076923076923\" y=\"196.06999999999999\"><title>Name: 30556_thamno, Group: 1, Prop: 0.0262</title></rect><rect class=\"toyplot-Datum\" height=\"16.199999999999989\" style=\"fill:rgb(98.8%,55.3%,38.4%);fill-opacity:1.0;opacity:1.0;stroke:rgb(16.1%,15.3%,14.1%);stroke-opacity:1.0;stroke-width:2\" width=\"38.461538461538453\" x=\"357.69230769230768\" y=\"183.80000000000001\"><title>Name: 35236_rex, Group: 1, Prop: 0.108</title></rect><rect class=\"toyplot-Datum\" height=\"4.1399999999999864\" style=\"fill:rgb(98.8%,55.3%,38.4%);fill-opacity:1.0;opacity:1.0;stroke:rgb(16.1%,15.3%,14.1%);stroke-opacity:1.0;stroke-width:2\" width=\"38.46153846153851\" x=\"396.15384615384613\" y=\"195.86000000000001\"><title>Name: 40578_rex, Group: 1, Prop: 0.0276</title></rect><rect class=\"toyplot-Datum\" height=\"4.1700000000000159\" style=\"fill:rgb(98.8%,55.3%,38.4%);fill-opacity:1.0;opacity:1.0;stroke:rgb(16.1%,15.3%,14.1%);stroke-opacity:1.0;stroke-width:2\" width=\"38.461538461538396\" x=\"434.61538461538464\" y=\"195.82999999999998\"><title>Name: 35855_rex, Group: 1, Prop: 0.0278</title></rect><rect class=\"toyplot-Datum\" height=\"148.05000000000001\" style=\"fill:rgb(98.8%,55.3%,38.4%);fill-opacity:1.0;opacity:1.0;stroke:rgb(16.1%,15.3%,14.1%);stroke-opacity:1.0;stroke-width:2\" width=\"38.461538461538566\" x=\"473.07692307692304\" y=\"51.950000000000003\"><title>Name: 39618_rex, Group: 1, Prop: 0.987</title></rect><rect class=\"toyplot-Datum\" height=\"150.0\" style=\"fill:rgb(98.8%,55.3%,38.4%);fill-opacity:1.0;opacity:1.0;stroke:rgb(16.1%,15.3%,14.1%);stroke-opacity:1.0;stroke-width:2\" width=\"38.461538461538396\" x=\"511.5384615384616\" y=\"50.0\"><title>Name: 38362_rex, Group: 1, Prop: 1.0</title></rect></g><g class=\"toyplot-Series\"><rect class=\"toyplot-Datum\" height=\"0.0\" style=\"fill:rgb(55.3%,62.7%,79.6%);fill-opacity:1.0;opacity:1.0;stroke:rgb(16.1%,15.3%,14.1%);stroke-opacity:1.0;stroke-width:2\" width=\"38.461538461538453\" x=\"50.0\" y=\"200.0\"><title>Name: 32082_przewalskii, Group: 2, Prop: 0.0</title></rect><rect class=\"toyplot-Datum\" height=\"0.0\" style=\"fill:rgb(55.3%,62.7%,79.6%);fill-opacity:1.0;opacity:1.0;stroke:rgb(16.1%,15.3%,14.1%);stroke-opacity:1.0;stroke-width:2\" width=\"38.461538461538467\" x=\"88.461538461538453\" y=\"200.0\"><title>Name: 33588_przewalskii, Group: 2, Prop: 0.0</title></rect><rect class=\"toyplot-Datum\" height=\"150.0\" style=\"fill:rgb(55.3%,62.7%,79.6%);fill-opacity:1.0;opacity:1.0;stroke:rgb(16.1%,15.3%,14.1%);stroke-opacity:1.0;stroke-width:2\" width=\"38.461538461538467\" x=\"126.92307692307692\" y=\"50.0\"><title>Name: 41478_cyathophylloides, Group: 2, Prop: 1.0</title></rect><rect class=\"toyplot-Datum\" height=\"150.0\" style=\"fill:rgb(55.3%,62.7%,79.6%);fill-opacity:1.0;opacity:1.0;stroke:rgb(16.1%,15.3%,14.1%);stroke-opacity:1.0;stroke-width:2\" width=\"38.461538461538453\" x=\"165.38461538461539\" y=\"50.0\"><title>Name: 41954_cyathophylloides, Group: 2, Prop: 1.0</title></rect><rect class=\"toyplot-Datum\" height=\"0.0\" style=\"fill:rgb(55.3%,62.7%,79.6%);fill-opacity:1.0;opacity:1.0;stroke:rgb(16.1%,15.3%,14.1%);stroke-opacity:1.0;stroke-width:2\" width=\"38.461538461538481\" x=\"203.84615384615384\" y=\"50.0\"><title>Name: 30686_cyathophylla, Group: 2, Prop: 0.0</title></rect><rect class=\"toyplot-Datum\" height=\"0.029999999999986926\" style=\"fill:rgb(55.3%,62.7%,79.6%);fill-opacity:1.0;opacity:1.0;stroke:rgb(16.1%,15.3%,14.1%);stroke-opacity:1.0;stroke-width:2\" width=\"38.461538461538453\" x=\"242.30769230769232\" y=\"50.210000000000015\"><title>Name: 29154_superba, Group: 2, Prop: 0.0002</title></rect><rect class=\"toyplot-Datum\" height=\"0.0\" style=\"fill:rgb(55.3%,62.7%,79.6%);fill-opacity:1.0;opacity:1.0;stroke:rgb(16.1%,15.3%,14.1%);stroke-opacity:1.0;stroke-width:2\" width=\"38.461538461538453\" x=\"280.76923076923077\" y=\"196.81999999999999\"><title>Name: 33413_thamno, Group: 2, Prop: 0.0</title></rect><rect class=\"toyplot-Datum\" height=\"0.0\" style=\"fill:rgb(55.3%,62.7%,79.6%);fill-opacity:1.0;opacity:1.0;stroke:rgb(16.1%,15.3%,14.1%);stroke-opacity:1.0;stroke-width:2\" width=\"38.461538461538453\" x=\"319.23076923076923\" y=\"196.06999999999999\"><title>Name: 30556_thamno, Group: 2, Prop: 0.0</title></rect><rect class=\"toyplot-Datum\" height=\"0.0\" style=\"fill:rgb(55.3%,62.7%,79.6%);fill-opacity:1.0;opacity:1.0;stroke:rgb(16.1%,15.3%,14.1%);stroke-opacity:1.0;stroke-width:2\" width=\"38.461538461538453\" x=\"357.69230769230768\" y=\"183.80000000000001\"><title>Name: 35236_rex, Group: 2, Prop: 0.0</title></rect><rect class=\"toyplot-Datum\" height=\"0.0\" style=\"fill:rgb(55.3%,62.7%,79.6%);fill-opacity:1.0;opacity:1.0;stroke:rgb(16.1%,15.3%,14.1%);stroke-opacity:1.0;stroke-width:2\" width=\"38.46153846153851\" x=\"396.15384615384613\" y=\"195.86000000000001\"><title>Name: 40578_rex, Group: 2, Prop: 0.0</title></rect><rect class=\"toyplot-Datum\" height=\"0.0\" style=\"fill:rgb(55.3%,62.7%,79.6%);fill-opacity:1.0;opacity:1.0;stroke:rgb(16.1%,15.3%,14.1%);stroke-opacity:1.0;stroke-width:2\" width=\"38.461538461538396\" x=\"434.61538461538464\" y=\"195.82999999999998\"><title>Name: 35855_rex, Group: 2, Prop: 0.0</title></rect><rect class=\"toyplot-Datum\" height=\"0.0\" style=\"fill:rgb(55.3%,62.7%,79.6%);fill-opacity:1.0;opacity:1.0;stroke:rgb(16.1%,15.3%,14.1%);stroke-opacity:1.0;stroke-width:2\" width=\"38.461538461538566\" x=\"473.07692307692304\" y=\"51.950000000000003\"><title>Name: 39618_rex, Group: 2, Prop: 0.0</title></rect><rect class=\"toyplot-Datum\" height=\"0.0\" style=\"fill:rgb(55.3%,62.7%,79.6%);fill-opacity:1.0;opacity:1.0;stroke:rgb(16.1%,15.3%,14.1%);stroke-opacity:1.0;stroke-width:2\" width=\"38.461538461538396\" x=\"511.5384615384616\" y=\"50.0\"><title>Name: 38362_rex, Group: 2, Prop: 0.0</title></rect></g><g class=\"toyplot-Series\"><rect class=\"toyplot-Datum\" height=\"0.0\" style=\"fill:rgb(90.6%,54.1%,76.5%);fill-opacity:1.0;opacity:1.0;stroke:rgb(16.1%,15.3%,14.1%);stroke-opacity:1.0;stroke-width:2\" width=\"38.461538461538453\" x=\"50.0\" y=\"200.0\"><title>Name: 32082_przewalskii, Group: 3, Prop: 0.0</title></rect><rect class=\"toyplot-Datum\" height=\"0.0\" style=\"fill:rgb(90.6%,54.1%,76.5%);fill-opacity:1.0;opacity:1.0;stroke:rgb(16.1%,15.3%,14.1%);stroke-opacity:1.0;stroke-width:2\" width=\"38.461538461538467\" x=\"88.461538461538453\" y=\"200.0\"><title>Name: 33588_przewalskii, Group: 3, Prop: 0.0</title></rect><rect class=\"toyplot-Datum\" height=\"0.0\" style=\"fill:rgb(90.6%,54.1%,76.5%);fill-opacity:1.0;opacity:1.0;stroke:rgb(16.1%,15.3%,14.1%);stroke-opacity:1.0;stroke-width:2\" width=\"38.461538461538467\" x=\"126.92307692307692\" y=\"50.0\"><title>Name: 41478_cyathophylloides, Group: 3, Prop: 0.0</title></rect><rect class=\"toyplot-Datum\" height=\"0.0\" style=\"fill:rgb(90.6%,54.1%,76.5%);fill-opacity:1.0;opacity:1.0;stroke:rgb(16.1%,15.3%,14.1%);stroke-opacity:1.0;stroke-width:2\" width=\"38.461538461538453\" x=\"165.38461538461539\" y=\"50.0\"><title>Name: 41954_cyathophylloides, Group: 3, Prop: 0.0</title></rect><rect class=\"toyplot-Datum\" height=\"0.0\" style=\"fill:rgb(90.6%,54.1%,76.5%);fill-opacity:1.0;opacity:1.0;stroke:rgb(16.1%,15.3%,14.1%);stroke-opacity:1.0;stroke-width:2\" width=\"38.461538461538481\" x=\"203.84615384615384\" y=\"50.0\"><title>Name: 30686_cyathophylla, Group: 3, Prop: 0.0</title></rect><rect class=\"toyplot-Datum\" height=\"0.0\" style=\"fill:rgb(90.6%,54.1%,76.5%);fill-opacity:1.0;opacity:1.0;stroke:rgb(16.1%,15.3%,14.1%);stroke-opacity:1.0;stroke-width:2\" width=\"38.461538461538453\" x=\"242.30769230769232\" y=\"50.210000000000015\"><title>Name: 29154_superba, Group: 3, Prop: 0.0</title></rect><rect class=\"toyplot-Datum\" height=\"135.38999999999999\" style=\"fill:rgb(90.6%,54.1%,76.5%);fill-opacity:1.0;opacity:1.0;stroke:rgb(16.1%,15.3%,14.1%);stroke-opacity:1.0;stroke-width:2\" width=\"38.461538461538453\" x=\"280.76923076923077\" y=\"61.430000000000007\"><title>Name: 33413_thamno, Group: 3, Prop: 0.9026</title></rect><rect class=\"toyplot-Datum\" height=\"118.05\" style=\"fill:rgb(90.6%,54.1%,76.5%);fill-opacity:1.0;opacity:1.0;stroke:rgb(16.1%,15.3%,14.1%);stroke-opacity:1.0;stroke-width:2\" width=\"38.461538461538453\" x=\"319.23076923076923\" y=\"78.019999999999996\"><title>Name: 30556_thamno, Group: 3, Prop: 0.787</title></rect><rect class=\"toyplot-Datum\" height=\"43.199999999999989\" style=\"fill:rgb(90.6%,54.1%,76.5%);fill-opacity:1.0;opacity:1.0;stroke:rgb(16.1%,15.3%,14.1%);stroke-opacity:1.0;stroke-width:2\" width=\"38.461538461538453\" x=\"357.69230769230768\" y=\"140.60000000000002\"><title>Name: 35236_rex, Group: 3, Prop: 0.288</title></rect><rect class=\"toyplot-Datum\" height=\"144.96000000000001\" style=\"fill:rgb(90.6%,54.1%,76.5%);fill-opacity:1.0;opacity:1.0;stroke:rgb(16.1%,15.3%,14.1%);stroke-opacity:1.0;stroke-width:2\" width=\"38.46153846153851\" x=\"396.15384615384613\" y=\"50.900000000000006\"><title>Name: 40578_rex, Group: 3, Prop: 0.9664</title></rect><rect class=\"toyplot-Datum\" height=\"145.13999999999999\" style=\"fill:rgb(90.6%,54.1%,76.5%);fill-opacity:1.0;opacity:1.0;stroke:rgb(16.1%,15.3%,14.1%);stroke-opacity:1.0;stroke-width:2\" width=\"38.461538461538396\" x=\"434.61538461538464\" y=\"50.689999999999991\"><title>Name: 35855_rex, Group: 3, Prop: 0.9676</title></rect><rect class=\"toyplot-Datum\" height=\"1.9500000000000028\" style=\"fill:rgb(90.6%,54.1%,76.5%);fill-opacity:1.0;opacity:1.0;stroke:rgb(16.1%,15.3%,14.1%);stroke-opacity:1.0;stroke-width:2\" width=\"38.461538461538566\" x=\"473.07692307692304\" y=\"50.0\"><title>Name: 39618_rex, Group: 3, Prop: 0.013</title></rect><rect class=\"toyplot-Datum\" height=\"0.0\" style=\"fill:rgb(90.6%,54.1%,76.5%);fill-opacity:1.0;opacity:1.0;stroke:rgb(16.1%,15.3%,14.1%);stroke-opacity:1.0;stroke-width:2\" width=\"38.461538461538396\" x=\"511.5384615384616\" y=\"50.0\"><title>Name: 38362_rex, Group: 3, Prop: 0.0</title></rect></g><g class=\"toyplot-Series\"><rect class=\"toyplot-Datum\" height=\"0.0\" style=\"fill:rgb(65.1%,84.7%,32.9%);fill-opacity:1.0;opacity:1.0;stroke:rgb(16.1%,15.3%,14.1%);stroke-opacity:1.0;stroke-width:2\" width=\"38.461538461538453\" x=\"50.0\" y=\"200.0\"><title>Name: 32082_przewalskii, Group: 4, Prop: 0.0</title></rect><rect class=\"toyplot-Datum\" height=\"0.0\" style=\"fill:rgb(65.1%,84.7%,32.9%);fill-opacity:1.0;opacity:1.0;stroke:rgb(16.1%,15.3%,14.1%);stroke-opacity:1.0;stroke-width:2\" width=\"38.461538461538467\" x=\"88.461538461538453\" y=\"200.0\"><title>Name: 33588_przewalskii, Group: 4, Prop: 0.0</title></rect><rect class=\"toyplot-Datum\" height=\"0.0\" style=\"fill:rgb(65.1%,84.7%,32.9%);fill-opacity:1.0;opacity:1.0;stroke:rgb(16.1%,15.3%,14.1%);stroke-opacity:1.0;stroke-width:2\" width=\"38.461538461538467\" x=\"126.92307692307692\" y=\"50.0\"><title>Name: 41478_cyathophylloides, Group: 4, Prop: 0.0</title></rect><rect class=\"toyplot-Datum\" height=\"0.0\" style=\"fill:rgb(65.1%,84.7%,32.9%);fill-opacity:1.0;opacity:1.0;stroke:rgb(16.1%,15.3%,14.1%);stroke-opacity:1.0;stroke-width:2\" width=\"38.461538461538453\" x=\"165.38461538461539\" y=\"50.0\"><title>Name: 41954_cyathophylloides, Group: 4, Prop: 0.0</title></rect><rect class=\"toyplot-Datum\" height=\"0.0\" style=\"fill:rgb(65.1%,84.7%,32.9%);fill-opacity:1.0;opacity:1.0;stroke:rgb(16.1%,15.3%,14.1%);stroke-opacity:1.0;stroke-width:2\" width=\"38.461538461538481\" x=\"203.84615384615384\" y=\"50.0\"><title>Name: 30686_cyathophylla, Group: 4, Prop: 0.0</title></rect><rect class=\"toyplot-Datum\" height=\"0.21000000000000085\" style=\"fill:rgb(65.1%,84.7%,32.9%);fill-opacity:1.0;opacity:1.0;stroke:rgb(16.1%,15.3%,14.1%);stroke-opacity:1.0;stroke-width:2\" width=\"38.461538461538453\" x=\"242.30769230769232\" y=\"50.000000000000014\"><title>Name: 29154_superba, Group: 4, Prop: 0.0014</title></rect><rect class=\"toyplot-Datum\" height=\"11.430000000000007\" style=\"fill:rgb(65.1%,84.7%,32.9%);fill-opacity:1.0;opacity:1.0;stroke:rgb(16.1%,15.3%,14.1%);stroke-opacity:1.0;stroke-width:2\" width=\"38.461538461538453\" x=\"280.76923076923077\" y=\"50.0\"><title>Name: 33413_thamno, Group: 4, Prop: 0.0762</title></rect><rect class=\"toyplot-Datum\" height=\"28.019999999999996\" style=\"fill:rgb(65.1%,84.7%,32.9%);fill-opacity:1.0;opacity:1.0;stroke:rgb(16.1%,15.3%,14.1%);stroke-opacity:1.0;stroke-width:2\" width=\"38.461538461538453\" x=\"319.23076923076923\" y=\"50.0\"><title>Name: 30556_thamno, Group: 4, Prop: 0.1868</title></rect><rect class=\"toyplot-Datum\" height=\"90.600000000000023\" style=\"fill:rgb(65.1%,84.7%,32.9%);fill-opacity:1.0;opacity:1.0;stroke:rgb(16.1%,15.3%,14.1%);stroke-opacity:1.0;stroke-width:2\" width=\"38.461538461538453\" x=\"357.69230769230768\" y=\"50.0\"><title>Name: 35236_rex, Group: 4, Prop: 0.604</title></rect><rect class=\"toyplot-Datum\" height=\"0.90000000000000568\" style=\"fill:rgb(65.1%,84.7%,32.9%);fill-opacity:1.0;opacity:1.0;stroke:rgb(16.1%,15.3%,14.1%);stroke-opacity:1.0;stroke-width:2\" width=\"38.46153846153851\" x=\"396.15384615384613\" y=\"50.0\"><title>Name: 40578_rex, Group: 4, Prop: 0.006</title></rect><rect class=\"toyplot-Datum\" height=\"0.68999999999999062\" style=\"fill:rgb(65.1%,84.7%,32.9%);fill-opacity:1.0;opacity:1.0;stroke:rgb(16.1%,15.3%,14.1%);stroke-opacity:1.0;stroke-width:2\" width=\"38.461538461538396\" x=\"434.61538461538464\" y=\"50.0\"><title>Name: 35855_rex, Group: 4, Prop: 0.0046</title></rect><rect class=\"toyplot-Datum\" height=\"0.0\" style=\"fill:rgb(65.1%,84.7%,32.9%);fill-opacity:1.0;opacity:1.0;stroke:rgb(16.1%,15.3%,14.1%);stroke-opacity:1.0;stroke-width:2\" width=\"38.461538461538566\" x=\"473.07692307692304\" y=\"50.0\"><title>Name: 39618_rex, Group: 4, Prop: 0.0</title></rect><rect class=\"toyplot-Datum\" height=\"0.0\" style=\"fill:rgb(65.1%,84.7%,32.9%);fill-opacity:1.0;opacity:1.0;stroke:rgb(16.1%,15.3%,14.1%);stroke-opacity:1.0;stroke-width:2\" width=\"38.461538461538396\" x=\"511.5384615384616\" y=\"50.0\"><title>Name: 38362_rex, Group: 4, Prop: 0.0</title></rect></g><g class=\"toyplot-Series\"><rect class=\"toyplot-Datum\" height=\"150.0\" style=\"fill:rgb(100%,85.1%,18.4%);fill-opacity:1.0;opacity:1.0;stroke:rgb(16.1%,15.3%,14.1%);stroke-opacity:1.0;stroke-width:2\" width=\"38.461538461538453\" x=\"50.0\" y=\"50.0\"><title>Name: 32082_przewalskii, Group: 5, Prop: 1.0</title></rect><rect class=\"toyplot-Datum\" height=\"150.0\" style=\"fill:rgb(100%,85.1%,18.4%);fill-opacity:1.0;opacity:1.0;stroke:rgb(16.1%,15.3%,14.1%);stroke-opacity:1.0;stroke-width:2\" width=\"38.461538461538467\" x=\"88.461538461538453\" y=\"50.0\"><title>Name: 33588_przewalskii, Group: 5, Prop: 1.0</title></rect><rect class=\"toyplot-Datum\" height=\"0.0\" style=\"fill:rgb(100%,85.1%,18.4%);fill-opacity:1.0;opacity:1.0;stroke:rgb(16.1%,15.3%,14.1%);stroke-opacity:1.0;stroke-width:2\" width=\"38.461538461538467\" x=\"126.92307692307692\" y=\"50.0\"><title>Name: 41478_cyathophylloides, Group: 5, Prop: 0.0</title></rect><rect class=\"toyplot-Datum\" height=\"0.0\" style=\"fill:rgb(100%,85.1%,18.4%);fill-opacity:1.0;opacity:1.0;stroke:rgb(16.1%,15.3%,14.1%);stroke-opacity:1.0;stroke-width:2\" width=\"38.461538461538453\" x=\"165.38461538461539\" y=\"50.0\"><title>Name: 41954_cyathophylloides, Group: 5, Prop: 0.0</title></rect><rect class=\"toyplot-Datum\" height=\"0.0\" style=\"fill:rgb(100%,85.1%,18.4%);fill-opacity:1.0;opacity:1.0;stroke:rgb(16.1%,15.3%,14.1%);stroke-opacity:1.0;stroke-width:2\" width=\"38.461538461538481\" x=\"203.84615384615384\" y=\"50.0\"><title>Name: 30686_cyathophylla, Group: 5, Prop: 0.0</title></rect><rect class=\"toyplot-Datum\" height=\"0.0\" style=\"fill:rgb(100%,85.1%,18.4%);fill-opacity:1.0;opacity:1.0;stroke:rgb(16.1%,15.3%,14.1%);stroke-opacity:1.0;stroke-width:2\" width=\"38.461538461538453\" x=\"242.30769230769232\" y=\"50.000000000000014\"><title>Name: 29154_superba, Group: 5, Prop: 0.0</title></rect><rect class=\"toyplot-Datum\" height=\"0.0\" style=\"fill:rgb(100%,85.1%,18.4%);fill-opacity:1.0;opacity:1.0;stroke:rgb(16.1%,15.3%,14.1%);stroke-opacity:1.0;stroke-width:2\" width=\"38.461538461538453\" x=\"280.76923076923077\" y=\"50.0\"><title>Name: 33413_thamno, Group: 5, Prop: 0.0</title></rect><rect class=\"toyplot-Datum\" height=\"0.0\" style=\"fill:rgb(100%,85.1%,18.4%);fill-opacity:1.0;opacity:1.0;stroke:rgb(16.1%,15.3%,14.1%);stroke-opacity:1.0;stroke-width:2\" width=\"38.461538461538453\" x=\"319.23076923076923\" y=\"50.0\"><title>Name: 30556_thamno, Group: 5, Prop: 0.0</title></rect><rect class=\"toyplot-Datum\" height=\"0.0\" style=\"fill:rgb(100%,85.1%,18.4%);fill-opacity:1.0;opacity:1.0;stroke:rgb(16.1%,15.3%,14.1%);stroke-opacity:1.0;stroke-width:2\" width=\"38.461538461538453\" x=\"357.69230769230768\" y=\"50.0\"><title>Name: 35236_rex, Group: 5, Prop: 0.0</title></rect><rect class=\"toyplot-Datum\" height=\"0.0\" style=\"fill:rgb(100%,85.1%,18.4%);fill-opacity:1.0;opacity:1.0;stroke:rgb(16.1%,15.3%,14.1%);stroke-opacity:1.0;stroke-width:2\" width=\"38.46153846153851\" x=\"396.15384615384613\" y=\"50.0\"><title>Name: 40578_rex, Group: 5, Prop: 0.0</title></rect><rect class=\"toyplot-Datum\" height=\"0.0\" style=\"fill:rgb(100%,85.1%,18.4%);fill-opacity:1.0;opacity:1.0;stroke:rgb(16.1%,15.3%,14.1%);stroke-opacity:1.0;stroke-width:2\" width=\"38.461538461538396\" x=\"434.61538461538464\" y=\"50.0\"><title>Name: 35855_rex, Group: 5, Prop: 0.0</title></rect><rect class=\"toyplot-Datum\" height=\"0.0\" style=\"fill:rgb(100%,85.1%,18.4%);fill-opacity:1.0;opacity:1.0;stroke:rgb(16.1%,15.3%,14.1%);stroke-opacity:1.0;stroke-width:2\" width=\"38.461538461538566\" x=\"473.07692307692304\" y=\"50.0\"><title>Name: 39618_rex, Group: 5, Prop: 0.0</title></rect><rect class=\"toyplot-Datum\" height=\"0.0\" style=\"fill:rgb(100%,85.1%,18.4%);fill-opacity:1.0;opacity:1.0;stroke:rgb(16.1%,15.3%,14.1%);stroke-opacity:1.0;stroke-width:2\" width=\"38.461538461538396\" x=\"511.5384615384616\" y=\"50.0\"><title>Name: 38362_rex, Group: 5, Prop: 0.0</title></rect></g></g></g></g></svg><div class=\"toyplot-interactive\"><ul class=\"toyplot-mark-popup\" onmouseleave=\"this.style.visibility='hidden'\" style=\"background:rgba(0%,0%,0%,0.75);border:0;border-radius:6px;color:white;cursor:default;list-style:none;margin:0;padding:5px;position:fixed;visibility:hidden\">\n",
       "            <li class=\"toyplot-mark-popup-title\" style=\"color:lightgray;cursor:default;padding:5px;list-style:none;margin:0\"></li>\n",
       "            <li class=\"toyplot-mark-popup-save-csv\" onmouseout=\"this.style.color='white';this.style.background='steelblue'\" onmouseover=\"this.style.color='steelblue';this.style.background='white'\" style=\"border-radius:3px;padding:5px;list-style:none;margin:0\">\n",
       "                Save as .csv\n",
       "            </li>\n",
       "        </ul><script>\n",
       "        (function()\n",
       "        {\n",
       "          var data_tables = [{\"title\": \"Bar Data\", \"names\": [\"left\", \"right\", \"baseline\", \"magnitude0\", \"magnitude1\", \"magnitude2\", \"magnitude3\", \"magnitude4\", \"magnitude5\"], \"id\": \"t7310f05fd7eb4dc7b8c718a8684a6273\", \"columns\": [[-0.5, 0.5, 1.5, 2.5, 3.5, 4.5, 5.5, 6.5, 7.5, 8.5, 9.5, 10.5, 11.5], [0.5, 1.5, 2.5, 3.5, 4.5, 5.5, 6.5, 7.5, 8.5, 9.5, 10.5, 11.5, 12.5], [0.0, 0.0, 0.0, 0.0, 0.0, 0.0, 0.0, 0.0, 0.0, 0.0, 0.0, 0.0, 0.0], [0.0, 0.0, 0.0, 0.0, 1.0, 0.9984, 0.0, 0.0, 0.0, 0.0, 0.0, 0.0, 0.0], [0.0, 0.0, 0.0, 0.0, 0.0, 0.0, 0.0212, 0.0262, 0.108, 0.0276, 0.0278, 0.987, 1.0], [0.0, 0.0, 1.0, 1.0, 0.0, 0.0002, 0.0, 0.0, 0.0, 0.0, 0.0, 0.0, 0.0], [0.0, 0.0, 0.0, 0.0, 0.0, 0.0, 0.9026, 0.787, 0.288, 0.9664, 0.9676, 0.013, 0.0], [0.0, 0.0, 0.0, 0.0, 0.0, 0.0014, 0.0762, 0.1868, 0.604, 0.006, 0.0046, 0.0, 0.0], [1.0, 1.0, 0.0, 0.0, 0.0, 0.0, 0.0, 0.0, 0.0, 0.0, 0.0, 0.0, 0.0]], \"filename\": \"toyplot\"}];\n",
       "\n",
       "          function save_csv(data_table)\n",
       "          {\n",
       "            var uri = \"data:text/csv;charset=utf-8,\";\n",
       "            uri += data_table.names.join(\",\") + \"\\n\";\n",
       "            for(var i = 0; i != data_table.columns[0].length; ++i)\n",
       "            {\n",
       "              for(var j = 0; j != data_table.columns.length; ++j)\n",
       "              {\n",
       "                if(j)\n",
       "                  uri += \",\";\n",
       "                uri += data_table.columns[j][i];\n",
       "              }\n",
       "              uri += \"\\n\";\n",
       "            }\n",
       "            uri = encodeURI(uri);\n",
       "\n",
       "            var link = document.createElement(\"a\");\n",
       "            if(typeof link.download != \"undefined\")\n",
       "            {\n",
       "              link.href = uri;\n",
       "              link.style = \"visibility:hidden\";\n",
       "              link.download = data_table.filename + \".csv\";\n",
       "\n",
       "              document.body.appendChild(link);\n",
       "              link.click();\n",
       "              document.body.removeChild(link);\n",
       "            }\n",
       "            else\n",
       "            {\n",
       "              window.open(uri);\n",
       "            }\n",
       "          }\n",
       "\n",
       "          function open_popup(data_table)\n",
       "          {\n",
       "            return function(e)\n",
       "            {\n",
       "              var popup = document.querySelector(\"#t9498f52586e14bc29ff54ee2b08efac5 .toyplot-mark-popup\");\n",
       "              popup.querySelector(\".toyplot-mark-popup-title\").innerHTML = data_table.title;\n",
       "              popup.querySelector(\".toyplot-mark-popup-save-csv\").onclick = function() { popup.style.visibility = \"hidden\"; save_csv(data_table); }\n",
       "              popup.style.left = (e.clientX - 50) + \"px\";\n",
       "              popup.style.top = (e.clientY - 20) + \"px\";\n",
       "              popup.style.visibility = \"visible\";\n",
       "              e.stopPropagation();\n",
       "              e.preventDefault();\n",
       "            }\n",
       "\n",
       "          }\n",
       "\n",
       "          for(var i = 0; i != data_tables.length; ++i)\n",
       "          {\n",
       "            var data_table = data_tables[i];\n",
       "            var event_target = document.querySelector(\"#\" + data_table.id);\n",
       "            event_target.oncontextmenu = open_popup(data_table);\n",
       "          }\n",
       "        })();\n",
       "        </script></div></div>"
      ],
      "text/plain": [
       "<toyplot.canvas.Canvas at 0x7f2fe03d7f10>"
      ]
     },
     "execution_count": 164,
     "metadata": {},
     "output_type": "execute_result"
    }
   ],
   "source": [
    "## parse outfile to get table and title\n",
    "K = 4\n",
    "ofile = os.path.join(STRUCTDIR, \"K-6.outfile\".format(K))\n",
    "\n",
    "## prep\n",
    "table, title = prep_table(ofile, inputnames, reorder=myorder)\n",
    "\n",
    "## further styling of plot with css \n",
    "style = {\"stroke\":toyplot.color.near_black, \n",
    "         \"stroke-width\": 2}\n",
    "\n",
    "## build plot\n",
    "canvas = toyplot.Canvas(width=600, height=250)\n",
    "axes = canvas.cartesian()\n",
    "axes.bars(table, title=title, style=style)\n",
    "axes.show = False\n",
    "\n",
    "## options: uncomment to save plots. Only html retains hover.\n",
    "import toyplot.svg\n",
    "import toyplot.pdf\n",
    "import toyplot.html\n",
    "#toyplot.svg.render(canvas, \"struct.svg\")\n",
    "#toyplot.pdf.render(canvas, \"struct.pdf\")\n",
    "#toyplot.html.render(canvas, \"struct.html\")\n",
    "\n",
    "## show in notebook\n",
    "canvas"
   ]
  },
  {
   "cell_type": "markdown",
   "metadata": {},
   "source": [
    "### Calculating the best K \n",
    "I like using the site http://taylor0.biology.ucla.edu/structureHarvester/. It's great. Super easy. Zip up all the files in our structure directory, submit them to the site, and you're done. In case you're wondering, for this data set, StructureHarvester likes K=4 best. "
   ]
  },
  {
   "cell_type": "code",
   "execution_count": 165,
   "metadata": {
    "collapsed": false
   },
   "outputs": [
    {
     "name": "stdout",
     "output_type": "stream",
     "text": [
      "updating: home/deren/Documents/ipyrad/tests/analysis_structure/K-3-rep-0_f (deflated 82%)\n",
      "updating: home/deren/Documents/ipyrad/tests/analysis_structure/K-3-rep-1_f (deflated 82%)\n",
      "updating: home/deren/Documents/ipyrad/tests/analysis_structure/K-3-rep-2_f (deflated 81%)\n",
      "updating: home/deren/Documents/ipyrad/tests/analysis_structure/K-3-rep-3_f (deflated 82%)\n",
      "updating: home/deren/Documents/ipyrad/tests/analysis_structure/K-3-rep-4_f (deflated 82%)\n",
      "updating: home/deren/Documents/ipyrad/tests/analysis_structure/K-4-rep-0_f (deflated 80%)\n",
      "updating: home/deren/Documents/ipyrad/tests/analysis_structure/K-4-rep-1_f (deflated 80%)\n",
      "updating: home/deren/Documents/ipyrad/tests/analysis_structure/K-4-rep-2_f (deflated 80%)\n",
      "updating: home/deren/Documents/ipyrad/tests/analysis_structure/K-4-rep-3_f (deflated 81%)\n",
      "updating: home/deren/Documents/ipyrad/tests/analysis_structure/K-4-rep-4_f (deflated 80%)\n",
      "  adding: home/deren/Documents/ipyrad/tests/analysis_structure/K-5-rep-0_f (deflated 80%)\n",
      "  adding: home/deren/Documents/ipyrad/tests/analysis_structure/K-5-rep-1_f (deflated 80%)\n",
      "  adding: home/deren/Documents/ipyrad/tests/analysis_structure/K-5-rep-2_f (deflated 79%)\n",
      "  adding: home/deren/Documents/ipyrad/tests/analysis_structure/K-5-rep-3_f (deflated 80%)\n",
      "  adding: home/deren/Documents/ipyrad/tests/analysis_structure/K-5-rep-4_f (deflated 80%)\n",
      "  adding: home/deren/Documents/ipyrad/tests/analysis_structure/K-6-rep-0_f (deflated 79%)\n",
      "  adding: home/deren/Documents/ipyrad/tests/analysis_structure/K-6-rep-1_f (deflated 79%)\n",
      "  adding: home/deren/Documents/ipyrad/tests/analysis_structure/K-6-rep-2_f (deflated 79%)\n",
      "  adding: home/deren/Documents/ipyrad/tests/analysis_structure/K-6-rep-3_f (deflated 79%)\n",
      "  adding: home/deren/Documents/ipyrad/tests/analysis_structure/K-6-rep-4_f (deflated 79%)\n"
     ]
    }
   ],
   "source": [
    "%%bash -s \"$STRUCTDIR\"\n",
    "\n",
    "## creates zip dir of all files ending with _f\n",
    "zip $1/structure-files.zip $1/*_f"
   ]
  },
  {
   "cell_type": "markdown",
   "metadata": {},
   "source": [
    "### Copying this notebook to your computer/cluster\n",
    "You can easily copy this notebook and then just replace my file names with your filenames to run your analysis. Just click on the [Download Notebook] link at the top of this page, or, use the command below to download the notebook straight from our github repo. Then run `jupyter-notebook` (see [tutorial on running jupyter]) and open this notebook. "
   ]
  },
  {
   "cell_type": "code",
   "execution_count": null,
   "metadata": {
    "collapsed": true
   },
   "outputs": [],
   "source": [
    "%%bash\n",
    "\n",
    "## download this notebook (.ipynb file) directly\n",
    "curl -LkO https://raw.githubusercontent.com/dereneaton/ipyrad/master/tests/cookbook-structure-parallel.ipynb"
   ]
  }
 ],
 "metadata": {
  "kernelspec": {
   "display_name": "Python 2",
   "language": "python",
   "name": "python2"
  },
  "language_info": {
   "codemirror_mode": {
    "name": "ipython",
    "version": 2
   },
   "file_extension": ".py",
   "mimetype": "text/x-python",
   "name": "python",
   "nbconvert_exporter": "python",
   "pygments_lexer": "ipython2",
   "version": "2.7.13"
  }
 },
 "nbformat": 4,
 "nbformat_minor": 0
}
