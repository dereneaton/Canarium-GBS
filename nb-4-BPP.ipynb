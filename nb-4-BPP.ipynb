{
 "cells": [
  {
   "cell_type": "markdown",
   "metadata": {},
   "source": [
    "# Canarium GBS Assembly\n",
    "### *Federman et al.*\n",
    "\n",
    "This notebook provides all code necessary to reproduce the assembled GBS data sets used in Federman et al. (xxxx). Starting from demultiplexed fastq data files we assemble the data into four complete data sets that were used in downstream analyses. All code in this notebook is written in Python and uses the *ipyrad* package for assembly. "
   ]
  },
  {
   "cell_type": "markdown",
   "metadata": {},
   "source": [
    "### Required software"
   ]
  },
  {
   "cell_type": "code",
   "execution_count": 1,
   "metadata": {
    "collapsed": true
   },
   "outputs": [],
   "source": [
    "## conda install ipyrad -c ipyrad\n",
    "## conda install toytree -c eaton-lab\n",
    "## conda install bpp -c ipyrad"
   ]
  },
  {
   "cell_type": "markdown",
   "metadata": {},
   "source": [
    "### Imports"
   ]
  },
  {
   "cell_type": "code",
   "execution_count": 2,
   "metadata": {},
   "outputs": [
    {
     "name": "stdout",
     "output_type": "stream",
     "text": [
      "ipyrad v.0.7.22\n"
     ]
    }
   ],
   "source": [
    "import toytree\n",
    "import toyplot.svg\n",
    "import ipyrad as ip\n",
    "import ipyrad.analysis as ipa\n",
    "print \"ipyrad v.{}\".format(ip.__version__)"
   ]
  },
  {
   "cell_type": "markdown",
   "metadata": {},
   "source": [
    "### Connect to cluster"
   ]
  },
  {
   "cell_type": "code",
   "execution_count": 3,
   "metadata": {
    "scrolled": true
   },
   "outputs": [
    {
     "name": "stdout",
     "output_type": "stream",
     "text": [
      "host compute node: [40 cores] on sacra\n"
     ]
    }
   ],
   "source": [
    "import ipyparallel as ipp\n",
    "ipyclient = ipp.Client()\n",
    "ip.cluster_info(ipyclient)"
   ]
  },
  {
   "cell_type": "markdown",
   "metadata": {},
   "source": [
    "## Setup analyses"
   ]
  },
  {
   "cell_type": "code",
   "execution_count": 4,
   "metadata": {
    "collapsed": true
   },
   "outputs": [],
   "source": [
    "## the subset of six taxa used in BPP analyses, 4 per taxon (or 2)\n",
    "## exclude hybrid taxon SF172\n",
    "## exclude D12963 b/c it was not consistently placed in 3B vs 3C vs. sister to both \n",
    "imap = {\n",
    "    \"1A\": ['SF175', 'SF328', 'SF200'],\n",
    "    \"1B\": ['SF209', 'D13052'],\n",
    "    \"1C\": ['D14528', 'SF276', 'SF286'],\n",
    "    \n",
    "    \"2A\": ['D13101', 'D13103', 'D14482', 'D14483'],\n",
    "    \"2B\": ['D14504', 'D14505', 'D14506'],\n",
    "    \"2C\": ['D14477', 'D14478', 'D14480', 'D14485', 'D14501', 'D14513'], \n",
    "    \n",
    "    \"3A\": ['D13090', 'D12950'],\n",
    "    \"3B\": ['SF155', 'SF224', 'SF228', '5573', 'SF327'],\n",
    "    \"3C\": ['SF164', 'SF153', 'SF160', 'D13053', 'D13063', 'D13075', 'D13097', 'SF197'],            \n",
    "    }\n",
    "\n",
    "\n",
    "## make a dictionary with min values to filter loci to those with N samples per species.\n",
    "minmap = {\n",
    "    \"1A\": 3, \n",
    "    \"1B\": 2, \n",
    "    \"1C\": 3,\n",
    "    \"2A\": 4, \n",
    "    \"2B\": 3, \n",
    "    \"2C\": 4,\n",
    "    \"3A\": 2,\n",
    "    \"3B\": 4,\n",
    "    \"3C\": 4,\n",
    "}"
   ]
  },
  {
   "cell_type": "code",
   "execution_count": 5,
   "metadata": {},
   "outputs": [
    {
     "data": {
      "text/html": [
       "<div class=\"toyplot\" id=\"t801858e005b54b1dad7837830378ac5b\" style=\"text-align:center\"><svg class=\"toyplot-canvas-Canvas\" height=\"275.0px\" id=\"t4ee5766582b042aab34a79ba5c3f6703\" preserveAspectRatio=\"xMidYMid meet\" style=\"background-color:transparent;fill:rgb(16.1%,15.3%,14.1%);fill-opacity:1.0;font-family:Helvetica;font-size:12px;opacity:1.0;stroke:rgb(16.1%,15.3%,14.1%);stroke-opacity:1.0;stroke-width:1.0\" viewBox=\"0 0 225.0 275.0\" width=\"225.0px\" xmlns=\"http://www.w3.org/2000/svg\" xmlns:toyplot=\"http://www.sandia.gov/toyplot\" xmlns:xlink=\"http://www.w3.org/1999/xlink\"><g class=\"toyplot-coordinates-Cartesian\" id=\"t5ff34d41d97a443ea8e9f492c686b0d9\"><clipPath id=\"t0d5697d1e18c42ada40aa4ce99c38532\"><rect height=\"225.0\" width=\"175.0\" x=\"25.0\" y=\"25.0\"></rect></clipPath><g clip-path=\"url(#t0d5697d1e18c42ada40aa4ce99c38532)\"><g class=\"toyplot-mark-Text\" id=\"t208025cc58ff4803bfa026ebb5b3922d\"><g class=\"toyplot-Series\"><g class=\"toyplot-Datum\" transform=\"translate(150.58840191584693,218.34741288278775)\"><text style=\"fill:rgb(16.1%,15.3%,14.1%);fill-opacity:1.0;font-family:helvetica;font-size:12.0px;font-weight:normal;opacity:1.0;stroke:none;vertical-align:baseline;white-space:pre\" x=\"15.0\" y=\"3.066\">3C</text></g><g class=\"toyplot-Datum\" transform=\"translate(150.58840191584693,198.13555966209083)\"><text style=\"fill:rgb(16.1%,15.3%,14.1%);fill-opacity:1.0;font-family:helvetica;font-size:12.0px;font-weight:normal;opacity:1.0;stroke:none;vertical-align:baseline;white-space:pre\" x=\"15.0\" y=\"3.066\">3B</text></g><g class=\"toyplot-Datum\" transform=\"translate(150.58840191584693,177.9237064413939)\"><text style=\"fill:rgb(16.1%,15.3%,14.1%);fill-opacity:1.0;font-family:helvetica;font-size:12.0px;font-weight:normal;opacity:1.0;stroke:none;vertical-align:baseline;white-space:pre\" x=\"15.0\" y=\"3.066\">3A</text></g><g class=\"toyplot-Datum\" transform=\"translate(150.58840191584693,157.71185322069692)\"><text style=\"fill:rgb(16.1%,15.3%,14.1%);fill-opacity:1.0;font-family:helvetica;font-size:12.0px;font-weight:normal;opacity:1.0;stroke:none;vertical-align:baseline;white-space:pre\" x=\"15.0\" y=\"3.066\">2C</text></g><g class=\"toyplot-Datum\" transform=\"translate(150.58840191584693,137.50000000000003)\"><text style=\"fill:rgb(16.1%,15.3%,14.1%);fill-opacity:1.0;font-family:helvetica;font-size:12.0px;font-weight:normal;opacity:1.0;stroke:none;vertical-align:baseline;white-space:pre\" x=\"15.0\" y=\"3.066\">2B</text></g><g class=\"toyplot-Datum\" transform=\"translate(150.58840191584693,117.28814677930308)\"><text style=\"fill:rgb(16.1%,15.3%,14.1%);fill-opacity:1.0;font-family:helvetica;font-size:12.0px;font-weight:normal;opacity:1.0;stroke:none;vertical-align:baseline;white-space:pre\" x=\"15.0\" y=\"3.066\">2A</text></g><g class=\"toyplot-Datum\" transform=\"translate(150.58840191584693,97.076293558606153)\"><text style=\"fill:rgb(16.1%,15.3%,14.1%);fill-opacity:1.0;font-family:helvetica;font-size:12.0px;font-weight:normal;opacity:1.0;stroke:none;vertical-align:baseline;white-space:pre\" x=\"15.0\" y=\"3.066\">1C</text></g><g class=\"toyplot-Datum\" transform=\"translate(150.58840191584693,76.864440337909201)\"><text style=\"fill:rgb(16.1%,15.3%,14.1%);fill-opacity:1.0;font-family:helvetica;font-size:12.0px;font-weight:normal;opacity:1.0;stroke:none;vertical-align:baseline;white-space:pre\" x=\"15.0\" y=\"3.066\">1B</text></g><g class=\"toyplot-Datum\" transform=\"translate(150.58840191584693,56.652587117212242)\"><text style=\"fill:rgb(16.1%,15.3%,14.1%);fill-opacity:1.0;font-family:helvetica;font-size:12.0px;font-weight:normal;opacity:1.0;stroke:none;vertical-align:baseline;white-space:pre\" x=\"15.0\" y=\"3.066\">1A</text></g></g></g><g class=\"toyplot-mark-Graph\" id=\"td9e30ddd2b0d4e408cd3ea2b211215e5\"><g class=\"toyplot-Edges\"><path d=\"M 50.0 117.288146779 L 50.0 71.8114770327\" style=\"fill:none;stroke:rgb(16.1%,15.3%,14.1%);stroke-linecap:round;stroke-opacity:1.0;stroke-width:2\"></path><path d=\"M 50.0 71.8114770327 L 100.294200958 71.8114770327\" style=\"fill:none;stroke:rgb(16.1%,15.3%,14.1%);stroke-linecap:round;stroke-opacity:1.0;stroke-width:2\"></path><path d=\"M 50.0 117.288146779 L 50.0 162.764816526\" style=\"fill:none;stroke:rgb(16.1%,15.3%,14.1%);stroke-linecap:round;stroke-opacity:1.0;stroke-width:2\"></path><path d=\"M 50.0 162.764816526 L 75.147100479 162.764816526\" style=\"fill:none;stroke:rgb(16.1%,15.3%,14.1%);stroke-linecap:round;stroke-opacity:1.0;stroke-width:2\"></path><path d=\"M 100.294200958 71.8114770327 L 100.294200958 56.6525871172\" style=\"fill:none;stroke:rgb(16.1%,15.3%,14.1%);stroke-linecap:round;stroke-opacity:1.0;stroke-width:2\"></path><path d=\"M 100.294200958 56.6525871172 L 150.588401916 56.6525871172\" style=\"fill:none;stroke:rgb(16.1%,15.3%,14.1%);stroke-linecap:round;stroke-opacity:1.0;stroke-width:2\"></path><path d=\"M 100.294200958 71.8114770327 L 100.294200958 86.9703669483\" style=\"fill:none;stroke:rgb(16.1%,15.3%,14.1%);stroke-linecap:round;stroke-opacity:1.0;stroke-width:2\"></path><path d=\"M 100.294200958 86.9703669483 L 125.441301437 86.9703669483\" style=\"fill:none;stroke:rgb(16.1%,15.3%,14.1%);stroke-linecap:round;stroke-opacity:1.0;stroke-width:2\"></path><path d=\"M 75.147100479 162.764816526 L 75.147100479 132.447036695\" style=\"fill:none;stroke:rgb(16.1%,15.3%,14.1%);stroke-linecap:round;stroke-opacity:1.0;stroke-width:2\"></path><path d=\"M 75.147100479 132.447036695 L 100.294200958 132.447036695\" style=\"fill:none;stroke:rgb(16.1%,15.3%,14.1%);stroke-linecap:round;stroke-opacity:1.0;stroke-width:2\"></path><path d=\"M 75.147100479 162.764816526 L 75.147100479 193.082596357\" style=\"fill:none;stroke:rgb(16.1%,15.3%,14.1%);stroke-linecap:round;stroke-opacity:1.0;stroke-width:2\"></path><path d=\"M 75.147100479 193.082596357 L 100.294200958 193.082596357\" style=\"fill:none;stroke:rgb(16.1%,15.3%,14.1%);stroke-linecap:round;stroke-opacity:1.0;stroke-width:2\"></path><path d=\"M 125.441301437 86.9703669483 L 125.441301437 76.8644403379\" style=\"fill:none;stroke:rgb(16.1%,15.3%,14.1%);stroke-linecap:round;stroke-opacity:1.0;stroke-width:2\"></path><path d=\"M 125.441301437 76.8644403379 L 150.588401916 76.8644403379\" style=\"fill:none;stroke:rgb(16.1%,15.3%,14.1%);stroke-linecap:round;stroke-opacity:1.0;stroke-width:2\"></path><path d=\"M 125.441301437 86.9703669483 L 125.441301437 97.0762935586\" style=\"fill:none;stroke:rgb(16.1%,15.3%,14.1%);stroke-linecap:round;stroke-opacity:1.0;stroke-width:2\"></path><path d=\"M 125.441301437 97.0762935586 L 150.588401916 97.0762935586\" style=\"fill:none;stroke:rgb(16.1%,15.3%,14.1%);stroke-linecap:round;stroke-opacity:1.0;stroke-width:2\"></path><path d=\"M 100.294200958 132.447036695 L 100.294200958 117.288146779\" style=\"fill:none;stroke:rgb(16.1%,15.3%,14.1%);stroke-linecap:round;stroke-opacity:1.0;stroke-width:2\"></path><path d=\"M 100.294200958 117.288146779 L 150.588401916 117.288146779\" style=\"fill:none;stroke:rgb(16.1%,15.3%,14.1%);stroke-linecap:round;stroke-opacity:1.0;stroke-width:2\"></path><path d=\"M 100.294200958 132.447036695 L 100.294200958 147.60592661\" style=\"fill:none;stroke:rgb(16.1%,15.3%,14.1%);stroke-linecap:round;stroke-opacity:1.0;stroke-width:2\"></path><path d=\"M 100.294200958 147.60592661 L 125.441301437 147.60592661\" style=\"fill:none;stroke:rgb(16.1%,15.3%,14.1%);stroke-linecap:round;stroke-opacity:1.0;stroke-width:2\"></path><path d=\"M 100.294200958 193.082596357 L 100.294200958 177.923706441\" style=\"fill:none;stroke:rgb(16.1%,15.3%,14.1%);stroke-linecap:round;stroke-opacity:1.0;stroke-width:2\"></path><path d=\"M 100.294200958 177.923706441 L 150.588401916 177.923706441\" style=\"fill:none;stroke:rgb(16.1%,15.3%,14.1%);stroke-linecap:round;stroke-opacity:1.0;stroke-width:2\"></path><path d=\"M 100.294200958 193.082596357 L 100.294200958 208.241486272\" style=\"fill:none;stroke:rgb(16.1%,15.3%,14.1%);stroke-linecap:round;stroke-opacity:1.0;stroke-width:2\"></path><path d=\"M 100.294200958 208.241486272 L 125.441301437 208.241486272\" style=\"fill:none;stroke:rgb(16.1%,15.3%,14.1%);stroke-linecap:round;stroke-opacity:1.0;stroke-width:2\"></path><path d=\"M 125.441301437 147.60592661 L 125.441301437 137.5\" style=\"fill:none;stroke:rgb(16.1%,15.3%,14.1%);stroke-linecap:round;stroke-opacity:1.0;stroke-width:2\"></path><path d=\"M 125.441301437 137.5 L 150.588401916 137.5\" style=\"fill:none;stroke:rgb(16.1%,15.3%,14.1%);stroke-linecap:round;stroke-opacity:1.0;stroke-width:2\"></path><path d=\"M 125.441301437 147.60592661 L 125.441301437 157.711853221\" style=\"fill:none;stroke:rgb(16.1%,15.3%,14.1%);stroke-linecap:round;stroke-opacity:1.0;stroke-width:2\"></path><path d=\"M 125.441301437 157.711853221 L 150.588401916 157.711853221\" style=\"fill:none;stroke:rgb(16.1%,15.3%,14.1%);stroke-linecap:round;stroke-opacity:1.0;stroke-width:2\"></path><path d=\"M 125.441301437 208.241486272 L 125.441301437 198.135559662\" style=\"fill:none;stroke:rgb(16.1%,15.3%,14.1%);stroke-linecap:round;stroke-opacity:1.0;stroke-width:2\"></path><path d=\"M 125.441301437 198.135559662 L 150.588401916 198.135559662\" style=\"fill:none;stroke:rgb(16.1%,15.3%,14.1%);stroke-linecap:round;stroke-opacity:1.0;stroke-width:2\"></path><path d=\"M 125.441301437 208.241486272 L 125.441301437 218.347412883\" style=\"fill:none;stroke:rgb(16.1%,15.3%,14.1%);stroke-linecap:round;stroke-opacity:1.0;stroke-width:2\"></path><path d=\"M 125.441301437 218.347412883 L 150.588401916 218.347412883\" style=\"fill:none;stroke:rgb(16.1%,15.3%,14.1%);stroke-linecap:round;stroke-opacity:1.0;stroke-width:2\"></path><g class=\"toyplot-HeadMarkers\"></g><g class=\"toyplot-MiddleMarkers\"></g><g class=\"toyplot-TailMarkers\"></g></g><g class=\"toyplot-Vertices\"><g class=\"toyplot-Datum\" style=\"fill:rgb(40%,76.1%,64.7%);fill-opacity:1.0;opacity:1.0;stroke:rgb(40%,76.1%,64.7%);stroke-opacity:1.0\" transform=\"translate(50.0, 117.28814677930308)\"><circle r=\"0.0\"></circle></g><g class=\"toyplot-Datum\" style=\"fill:rgb(40%,76.1%,64.7%);fill-opacity:1.0;opacity:1.0;stroke:rgb(40%,76.1%,64.7%);stroke-opacity:1.0\" transform=\"translate(50.0, 71.811477032734985)\"><circle r=\"0.0\"></circle></g><g class=\"toyplot-Datum\" style=\"fill:rgb(40%,76.1%,64.7%);fill-opacity:1.0;opacity:1.0;stroke:rgb(40%,76.1%,64.7%);stroke-opacity:1.0\" transform=\"translate(100.29420095792347, 71.811477032734985)\"><circle r=\"0.0\"></circle></g><g class=\"toyplot-Datum\" style=\"fill:rgb(40%,76.1%,64.7%);fill-opacity:1.0;opacity:1.0;stroke:rgb(40%,76.1%,64.7%);stroke-opacity:1.0\" transform=\"translate(50.0, 162.7648165258712)\"><circle r=\"0.0\"></circle></g><g class=\"toyplot-Datum\" style=\"fill:rgb(40%,76.1%,64.7%);fill-opacity:1.0;opacity:1.0;stroke:rgb(40%,76.1%,64.7%);stroke-opacity:1.0\" transform=\"translate(75.147100478961733, 162.7648165258712)\"><circle r=\"0.0\"></circle></g><g class=\"toyplot-Datum\" style=\"fill:rgb(40%,76.1%,64.7%);fill-opacity:1.0;opacity:1.0;stroke:rgb(40%,76.1%,64.7%);stroke-opacity:1.0\" transform=\"translate(100.29420095792347, 71.811477032734985)\"><circle r=\"0.0\"></circle></g><g class=\"toyplot-Datum\" style=\"fill:rgb(40%,76.1%,64.7%);fill-opacity:1.0;opacity:1.0;stroke:rgb(40%,76.1%,64.7%);stroke-opacity:1.0\" transform=\"translate(100.29420095792347, 56.652587117212242)\"><circle r=\"0.0\"></circle></g><g class=\"toyplot-Datum\" style=\"fill:rgb(40%,76.1%,64.7%);fill-opacity:1.0;opacity:1.0;stroke:rgb(40%,76.1%,64.7%);stroke-opacity:1.0\" transform=\"translate(150.58840191584693, 56.652587117212242)\"><circle r=\"0.0\"></circle></g><g class=\"toyplot-Datum\" style=\"fill:rgb(40%,76.1%,64.7%);fill-opacity:1.0;opacity:1.0;stroke:rgb(40%,76.1%,64.7%);stroke-opacity:1.0\" transform=\"translate(100.29420095792347, 86.970366948257677)\"><circle r=\"0.0\"></circle></g><g class=\"toyplot-Datum\" style=\"fill:rgb(40%,76.1%,64.7%);fill-opacity:1.0;opacity:1.0;stroke:rgb(40%,76.1%,64.7%);stroke-opacity:1.0\" transform=\"translate(125.4413014368852, 86.970366948257677)\"><circle r=\"0.0\"></circle></g><g class=\"toyplot-Datum\" style=\"fill:rgb(40%,76.1%,64.7%);fill-opacity:1.0;opacity:1.0;stroke:rgb(40%,76.1%,64.7%);stroke-opacity:1.0\" transform=\"translate(75.147100478961733, 162.7648165258712)\"><circle r=\"0.0\"></circle></g><g class=\"toyplot-Datum\" style=\"fill:rgb(40%,76.1%,64.7%);fill-opacity:1.0;opacity:1.0;stroke:rgb(40%,76.1%,64.7%);stroke-opacity:1.0\" transform=\"translate(75.147100478961733, 132.44703669482578)\"><circle r=\"0.0\"></circle></g><g class=\"toyplot-Datum\" style=\"fill:rgb(40%,76.1%,64.7%);fill-opacity:1.0;opacity:1.0;stroke:rgb(40%,76.1%,64.7%);stroke-opacity:1.0\" transform=\"translate(100.29420095792347, 132.44703669482578)\"><circle r=\"0.0\"></circle></g><g class=\"toyplot-Datum\" style=\"fill:rgb(40%,76.1%,64.7%);fill-opacity:1.0;opacity:1.0;stroke:rgb(40%,76.1%,64.7%);stroke-opacity:1.0\" transform=\"translate(75.147100478961733, 193.08259635691658)\"><circle r=\"0.0\"></circle></g><g class=\"toyplot-Datum\" style=\"fill:rgb(40%,76.1%,64.7%);fill-opacity:1.0;opacity:1.0;stroke:rgb(40%,76.1%,64.7%);stroke-opacity:1.0\" transform=\"translate(100.29420095792347, 193.08259635691658)\"><circle r=\"0.0\"></circle></g><g class=\"toyplot-Datum\" style=\"fill:rgb(40%,76.1%,64.7%);fill-opacity:1.0;opacity:1.0;stroke:rgb(40%,76.1%,64.7%);stroke-opacity:1.0\" transform=\"translate(125.4413014368852, 86.970366948257677)\"><circle r=\"0.0\"></circle></g><g class=\"toyplot-Datum\" style=\"fill:rgb(40%,76.1%,64.7%);fill-opacity:1.0;opacity:1.0;stroke:rgb(40%,76.1%,64.7%);stroke-opacity:1.0\" transform=\"translate(125.4413014368852, 76.864440337909201)\"><circle r=\"0.0\"></circle></g><g class=\"toyplot-Datum\" style=\"fill:rgb(40%,76.1%,64.7%);fill-opacity:1.0;opacity:1.0;stroke:rgb(40%,76.1%,64.7%);stroke-opacity:1.0\" transform=\"translate(150.58840191584693, 76.864440337909201)\"><circle r=\"0.0\"></circle></g><g class=\"toyplot-Datum\" style=\"fill:rgb(40%,76.1%,64.7%);fill-opacity:1.0;opacity:1.0;stroke:rgb(40%,76.1%,64.7%);stroke-opacity:1.0\" transform=\"translate(125.4413014368852, 97.076293558606153)\"><circle r=\"0.0\"></circle></g><g class=\"toyplot-Datum\" style=\"fill:rgb(40%,76.1%,64.7%);fill-opacity:1.0;opacity:1.0;stroke:rgb(40%,76.1%,64.7%);stroke-opacity:1.0\" transform=\"translate(150.58840191584693, 97.076293558606153)\"><circle r=\"0.0\"></circle></g><g class=\"toyplot-Datum\" style=\"fill:rgb(40%,76.1%,64.7%);fill-opacity:1.0;opacity:1.0;stroke:rgb(40%,76.1%,64.7%);stroke-opacity:1.0\" transform=\"translate(100.29420095792347, 132.44703669482578)\"><circle r=\"0.0\"></circle></g><g class=\"toyplot-Datum\" style=\"fill:rgb(40%,76.1%,64.7%);fill-opacity:1.0;opacity:1.0;stroke:rgb(40%,76.1%,64.7%);stroke-opacity:1.0\" transform=\"translate(100.29420095792347, 117.28814677930308)\"><circle r=\"0.0\"></circle></g><g class=\"toyplot-Datum\" style=\"fill:rgb(40%,76.1%,64.7%);fill-opacity:1.0;opacity:1.0;stroke:rgb(40%,76.1%,64.7%);stroke-opacity:1.0\" transform=\"translate(150.58840191584693, 117.28814677930308)\"><circle r=\"0.0\"></circle></g><g class=\"toyplot-Datum\" style=\"fill:rgb(40%,76.1%,64.7%);fill-opacity:1.0;opacity:1.0;stroke:rgb(40%,76.1%,64.7%);stroke-opacity:1.0\" transform=\"translate(100.29420095792347, 147.60592661034846)\"><circle r=\"0.0\"></circle></g><g class=\"toyplot-Datum\" style=\"fill:rgb(40%,76.1%,64.7%);fill-opacity:1.0;opacity:1.0;stroke:rgb(40%,76.1%,64.7%);stroke-opacity:1.0\" transform=\"translate(125.4413014368852, 147.60592661034846)\"><circle r=\"0.0\"></circle></g><g class=\"toyplot-Datum\" style=\"fill:rgb(40%,76.1%,64.7%);fill-opacity:1.0;opacity:1.0;stroke:rgb(40%,76.1%,64.7%);stroke-opacity:1.0\" transform=\"translate(100.29420095792347, 193.08259635691658)\"><circle r=\"0.0\"></circle></g><g class=\"toyplot-Datum\" style=\"fill:rgb(40%,76.1%,64.7%);fill-opacity:1.0;opacity:1.0;stroke:rgb(40%,76.1%,64.7%);stroke-opacity:1.0\" transform=\"translate(100.29420095792347, 177.9237064413939)\"><circle r=\"0.0\"></circle></g><g class=\"toyplot-Datum\" style=\"fill:rgb(40%,76.1%,64.7%);fill-opacity:1.0;opacity:1.0;stroke:rgb(40%,76.1%,64.7%);stroke-opacity:1.0\" transform=\"translate(150.58840191584693, 177.9237064413939)\"><circle r=\"0.0\"></circle></g><g class=\"toyplot-Datum\" style=\"fill:rgb(40%,76.1%,64.7%);fill-opacity:1.0;opacity:1.0;stroke:rgb(40%,76.1%,64.7%);stroke-opacity:1.0\" transform=\"translate(100.29420095792347, 208.24148627243929)\"><circle r=\"0.0\"></circle></g><g class=\"toyplot-Datum\" style=\"fill:rgb(40%,76.1%,64.7%);fill-opacity:1.0;opacity:1.0;stroke:rgb(40%,76.1%,64.7%);stroke-opacity:1.0\" transform=\"translate(125.4413014368852, 208.24148627243929)\"><circle r=\"0.0\"></circle></g><g class=\"toyplot-Datum\" style=\"fill:rgb(40%,76.1%,64.7%);fill-opacity:1.0;opacity:1.0;stroke:rgb(40%,76.1%,64.7%);stroke-opacity:1.0\" transform=\"translate(125.4413014368852, 147.60592661034846)\"><circle r=\"0.0\"></circle></g><g class=\"toyplot-Datum\" style=\"fill:rgb(40%,76.1%,64.7%);fill-opacity:1.0;opacity:1.0;stroke:rgb(40%,76.1%,64.7%);stroke-opacity:1.0\" transform=\"translate(125.4413014368852, 137.50000000000003)\"><circle r=\"0.0\"></circle></g><g class=\"toyplot-Datum\" style=\"fill:rgb(40%,76.1%,64.7%);fill-opacity:1.0;opacity:1.0;stroke:rgb(40%,76.1%,64.7%);stroke-opacity:1.0\" transform=\"translate(150.58840191584693, 137.50000000000003)\"><circle r=\"0.0\"></circle></g><g class=\"toyplot-Datum\" style=\"fill:rgb(40%,76.1%,64.7%);fill-opacity:1.0;opacity:1.0;stroke:rgb(40%,76.1%,64.7%);stroke-opacity:1.0\" transform=\"translate(125.4413014368852, 157.71185322069692)\"><circle r=\"0.0\"></circle></g><g class=\"toyplot-Datum\" style=\"fill:rgb(40%,76.1%,64.7%);fill-opacity:1.0;opacity:1.0;stroke:rgb(40%,76.1%,64.7%);stroke-opacity:1.0\" transform=\"translate(150.58840191584693, 157.71185322069692)\"><circle r=\"0.0\"></circle></g><g class=\"toyplot-Datum\" style=\"fill:rgb(40%,76.1%,64.7%);fill-opacity:1.0;opacity:1.0;stroke:rgb(40%,76.1%,64.7%);stroke-opacity:1.0\" transform=\"translate(125.4413014368852, 208.24148627243929)\"><circle r=\"0.0\"></circle></g><g class=\"toyplot-Datum\" style=\"fill:rgb(40%,76.1%,64.7%);fill-opacity:1.0;opacity:1.0;stroke:rgb(40%,76.1%,64.7%);stroke-opacity:1.0\" transform=\"translate(125.4413014368852, 198.13555966209083)\"><circle r=\"0.0\"></circle></g><g class=\"toyplot-Datum\" style=\"fill:rgb(40%,76.1%,64.7%);fill-opacity:1.0;opacity:1.0;stroke:rgb(40%,76.1%,64.7%);stroke-opacity:1.0\" transform=\"translate(150.58840191584693, 198.13555966209083)\"><circle r=\"0.0\"></circle></g><g class=\"toyplot-Datum\" style=\"fill:rgb(40%,76.1%,64.7%);fill-opacity:1.0;opacity:1.0;stroke:rgb(40%,76.1%,64.7%);stroke-opacity:1.0\" transform=\"translate(125.4413014368852, 218.34741288278775)\"><circle r=\"0.0\"></circle></g><g class=\"toyplot-Datum\" style=\"fill:rgb(40%,76.1%,64.7%);fill-opacity:1.0;opacity:1.0;stroke:rgb(40%,76.1%,64.7%);stroke-opacity:1.0\" transform=\"translate(150.58840191584693, 218.34741288278775)\"><circle r=\"0.0\"></circle></g></g></g></g></g></svg><div class=\"toyplot-behavior\"><script>(function()\n",
       "{\n",
       "var modules={};\n",
       "modules[\"toyplot/tables\"] = (function()\n",
       "    {\n",
       "        var tables = [];\n",
       "\n",
       "        var module = {};\n",
       "\n",
       "        module.set = function(owner, key, names, columns)\n",
       "        {\n",
       "            tables.push({owner: owner, key: key, names: names, columns: columns});\n",
       "        }\n",
       "\n",
       "        module.get = function(owner, key)\n",
       "        {\n",
       "            for(var i = 0; i != tables.length; ++i)\n",
       "            {\n",
       "                var table = tables[i];\n",
       "                if(table.owner != owner)\n",
       "                    continue;\n",
       "                if(table.key != key)\n",
       "                    continue;\n",
       "                return {names: table.names, columns: table.columns};\n",
       "            }\n",
       "        }\n",
       "\n",
       "        module.get_csv = function(owner, key)\n",
       "        {\n",
       "            var table = module.get(owner, key);\n",
       "            if(table != undefined)\n",
       "            {\n",
       "                var csv = \"\";\n",
       "                csv += table.names.join(\",\") + \"\\n\";\n",
       "                for(var i = 0; i != table.columns[0].length; ++i)\n",
       "                {\n",
       "                  for(var j = 0; j != table.columns.length; ++j)\n",
       "                  {\n",
       "                    if(j)\n",
       "                      csv += \",\";\n",
       "                    csv += table.columns[j][i];\n",
       "                  }\n",
       "                  csv += \"\\n\";\n",
       "                }\n",
       "                return csv;\n",
       "            }\n",
       "        }\n",
       "\n",
       "        return module;\n",
       "    })();\n",
       "modules[\"toyplot/root/id\"] = \"t801858e005b54b1dad7837830378ac5b\";\n",
       "modules[\"toyplot/root\"] = (function(root_id)\n",
       "    {\n",
       "        return document.querySelector(\"#\" + root_id);\n",
       "    })(modules[\"toyplot/root/id\"]);\n",
       "modules[\"toyplot/canvas/id\"] = \"t4ee5766582b042aab34a79ba5c3f6703\";\n",
       "modules[\"toyplot/canvas\"] = (function(canvas_id)\n",
       "    {\n",
       "        return document.querySelector(\"#\" + canvas_id);\n",
       "    })(modules[\"toyplot/canvas/id\"]);\n",
       "modules[\"toyplot/menus/context\"] = (function(root, canvas)\n",
       "    {\n",
       "        var wrapper = document.createElement(\"div\");\n",
       "        wrapper.innerHTML = \"<ul class='toyplot-context-menu' style='background:#eee; border:1px solid #b8b8b8; border-radius:5px; box-shadow: 0px 0px 8px rgba(0%,0%,0%,0.25); margin:0; padding:3px 0; position:fixed; visibility:hidden;'></ul>\"\n",
       "        var menu = wrapper.firstChild;\n",
       "\n",
       "        root.appendChild(menu);\n",
       "\n",
       "        var items = [];\n",
       "\n",
       "        var ignore_mouseup = null;\n",
       "        function open_menu(e)\n",
       "        {\n",
       "            var show_menu = false;\n",
       "            for(var index=0; index != items.length; ++index)\n",
       "            {\n",
       "                var item = items[index];\n",
       "                if(item.show(e))\n",
       "                {\n",
       "                    item.item.style.display = \"block\";\n",
       "                    show_menu = true;\n",
       "                }\n",
       "                else\n",
       "                {\n",
       "                    item.item.style.display = \"none\";\n",
       "                }\n",
       "            }\n",
       "\n",
       "            if(show_menu)\n",
       "            {\n",
       "                ignore_mouseup = true;\n",
       "                menu.style.left = (e.clientX + 1) + \"px\";\n",
       "                menu.style.top = (e.clientY - 5) + \"px\";\n",
       "                menu.style.visibility = \"visible\";\n",
       "                e.stopPropagation();\n",
       "                e.preventDefault();\n",
       "            }\n",
       "        }\n",
       "\n",
       "        function close_menu()\n",
       "        {\n",
       "            menu.style.visibility = \"hidden\";\n",
       "        }\n",
       "\n",
       "        function contextmenu(e)\n",
       "        {\n",
       "            open_menu(e);\n",
       "        }\n",
       "\n",
       "        function mousemove(e)\n",
       "        {\n",
       "            ignore_mouseup = false;\n",
       "        }\n",
       "\n",
       "        function mouseup(e)\n",
       "        {\n",
       "            if(ignore_mouseup)\n",
       "            {\n",
       "                ignore_mouseup = false;\n",
       "                return;\n",
       "            }\n",
       "            close_menu();\n",
       "        }\n",
       "\n",
       "        function keydown(e)\n",
       "        {\n",
       "            if(e.key == \"Escape\" || e.key == \"Esc\" || e.keyCode == 27)\n",
       "            {\n",
       "                close_menu();\n",
       "            }\n",
       "        }\n",
       "\n",
       "        canvas.addEventListener(\"contextmenu\", contextmenu);\n",
       "        canvas.addEventListener(\"mousemove\", mousemove);\n",
       "        document.addEventListener(\"mouseup\", mouseup);\n",
       "        document.addEventListener(\"keydown\", keydown);\n",
       "\n",
       "        var module = {};\n",
       "        module.add_item = function(label, show, activate)\n",
       "        {\n",
       "            var wrapper = document.createElement(\"div\");\n",
       "            wrapper.innerHTML = \"<li class='toyplot-context-menu-item' style='background:#eee; color:#333; padding:2px 20px; list-style:none; margin:0; text-align:left;'>\" + label + \"</li>\"\n",
       "            var item = wrapper.firstChild;\n",
       "\n",
       "            items.push({item: item, show: show});\n",
       "\n",
       "            function mouseover()\n",
       "            {\n",
       "                this.style.background = \"steelblue\";\n",
       "                this.style.color = \"white\";\n",
       "            }\n",
       "\n",
       "            function mouseout()\n",
       "            {\n",
       "                this.style.background = \"#eee\";\n",
       "                this.style.color = \"#333\";\n",
       "            }\n",
       "\n",
       "            function choose_item(e)\n",
       "            {\n",
       "                close_menu();\n",
       "                activate();\n",
       "\n",
       "                e.stopPropagation();\n",
       "                e.preventDefault();\n",
       "            }\n",
       "\n",
       "            item.addEventListener(\"mouseover\", mouseover);\n",
       "            item.addEventListener(\"mouseout\", mouseout);\n",
       "            item.addEventListener(\"mouseup\", choose_item);\n",
       "            item.addEventListener(\"contextmenu\", choose_item);\n",
       "\n",
       "            menu.appendChild(item);\n",
       "        };\n",
       "        return module;\n",
       "    })(modules[\"toyplot/root\"],modules[\"toyplot/canvas\"]);\n",
       "modules[\"toyplot/io\"] = (function()\n",
       "    {\n",
       "        var module = {};\n",
       "        module.save_file = function(mime_type, charset, data, filename)\n",
       "        {\n",
       "            var uri = \"data:\" + mime_type + \";charset=\" + charset + \",\" + data;\n",
       "            uri = encodeURI(uri);\n",
       "\n",
       "            var link = document.createElement(\"a\");\n",
       "            if(typeof link.download != \"undefined\")\n",
       "            {\n",
       "              link.href = uri;\n",
       "              link.style = \"visibility:hidden\";\n",
       "              link.download = filename;\n",
       "\n",
       "              document.body.appendChild(link);\n",
       "              link.click();\n",
       "              document.body.removeChild(link);\n",
       "            }\n",
       "            else\n",
       "            {\n",
       "              window.open(uri);\n",
       "            }\n",
       "        };\n",
       "        return module;\n",
       "    })();\n",
       "(function(tables, context_menu, io, owner_id, key, label, names, columns, filename)\n",
       "        {\n",
       "            tables.set(owner_id, key, names, columns);\n",
       "\n",
       "            var owner = document.querySelector(\"#\" + owner_id);\n",
       "            function show_item(e)\n",
       "            {\n",
       "                return owner.contains(e.target);\n",
       "            }\n",
       "\n",
       "            function choose_item()\n",
       "            {\n",
       "                io.save_file(\"text/csv\", \"utf-8\", tables.get_csv(owner_id, key), filename + \".csv\");\n",
       "            }\n",
       "\n",
       "            context_menu.add_item(\"Save \" + label + \" as CSV\", show_item, choose_item);\n",
       "        })(modules[\"toyplot/tables\"],modules[\"toyplot/menus/context\"],modules[\"toyplot/io\"],\"td9e30ddd2b0d4e408cd3ea2b211215e5\",\"vertex_data\",\"graph vertex data\",[\"x\", \"y\"],[[-4.0, -4.0, -2.0, -4.0, -3.0, -2.0, -2.0, 0.0, -2.0, -1.0, -3.0, -3.0, -2.0, -3.0, -2.0, -1.0, -1.0, 0.0, -1.0, 0.0, -2.0, -2.0, 0.0, -2.0, -1.0, -2.0, -2.0, 0.0, -2.0, -1.0, -1.0, -1.0, 0.0, -1.0, 0.0, -1.0, -1.0, 0.0, -1.0, 0.0], [5.0, 7.25, 7.25, 2.75, 2.75, 7.25, 8.0, 8.0, 6.5, 6.5, 2.75, 4.25, 4.25, 1.25, 1.25, 6.5, 7.0, 7.0, 6.0, 6.0, 4.25, 5.0, 5.0, 3.5, 3.5, 1.25, 2.0, 2.0, 0.5, 0.5, 3.5, 4.0, 4.0, 3.0, 3.0, 0.5, 1.0, 1.0, 0.0, 0.0]],\"toyplot\");\n",
       "(function(tables, context_menu, io, owner_id, key, label, names, columns, filename)\n",
       "        {\n",
       "            tables.set(owner_id, key, names, columns);\n",
       "\n",
       "            var owner = document.querySelector(\"#\" + owner_id);\n",
       "            function show_item(e)\n",
       "            {\n",
       "                return owner.contains(e.target);\n",
       "            }\n",
       "\n",
       "            function choose_item()\n",
       "            {\n",
       "                io.save_file(\"text/csv\", \"utf-8\", tables.get_csv(owner_id, key), filename + \".csv\");\n",
       "            }\n",
       "\n",
       "            context_menu.add_item(\"Save \" + label + \" as CSV\", show_item, choose_item);\n",
       "        })(modules[\"toyplot/tables\"],modules[\"toyplot/menus/context\"],modules[\"toyplot/io\"],\"td9e30ddd2b0d4e408cd3ea2b211215e5\",\"edge_data\",\"graph edge data\",[\"source\", \"target\"],[[0, 1, 0, 3, 5, 6, 5, 8, 10, 11, 10, 13, 15, 16, 15, 18, 20, 21, 20, 23, 25, 26, 25, 28, 30, 31, 30, 33, 35, 36, 35, 38], [1, 2, 3, 4, 6, 7, 8, 9, 11, 12, 13, 14, 16, 17, 18, 19, 21, 22, 23, 24, 26, 27, 28, 29, 31, 32, 33, 34, 36, 37, 38, 39]],\"toyplot\");\n",
       "})();</script></div></div>"
      ]
     },
     "metadata": {},
     "output_type": "display_data"
    }
   ],
   "source": [
    "## Species tree hypothesis ('guide tree') based on raxml & bucky results\n",
    "tree9 = \"((1A,(1B,1C)),((2A,(2B,2C)),(3A,(3B,3C))));\"\n",
    "toytree.tree(tree9).draw(use_edge_lengths=False);"
   ]
  },
  {
   "cell_type": "markdown",
   "metadata": {},
   "source": [
    "### Create a bpp analysis object"
   ]
  },
  {
   "cell_type": "code",
   "execution_count": 6,
   "metadata": {
    "collapsed": true
   },
   "outputs": [],
   "source": [
    "## initial bpp object\n",
    "bpp00 = ipa.bpp(\n",
    "    name=\"base\", \n",
    "    data=\"analysis-ipyrad/Canarium-min10_outfiles/Canarium-min10.alleles.loci\",\n",
    "    imap=imap,\n",
    "    minmap=minmap,\n",
    "    guidetree=tree9,\n",
    ")"
   ]
  },
  {
   "cell_type": "markdown",
   "metadata": {},
   "source": [
    "### Modify run parameters"
   ]
  },
  {
   "cell_type": "code",
   "execution_count": 7,
   "metadata": {
    "collapsed": true
   },
   "outputs": [],
   "source": [
    "## filtering\n",
    "bpp00.filters.maxloci = 100\n",
    "\n",
    "## bpp params\n",
    "bpp00.params.burnin = 10000\n",
    "bpp00.params.nsample = 100000\n",
    "bpp00.params.sampfreq = 10"
   ]
  },
  {
   "cell_type": "markdown",
   "metadata": {},
   "source": [
    "### Create objects to run algorithm 00 (species tree fitting)"
   ]
  },
  {
   "cell_type": "code",
   "execution_count": 8,
   "metadata": {
    "collapsed": true
   },
   "outputs": [],
   "source": [
    "## run object 1\n",
    "b1 = bpp00.copy(\"bpp00_theta_2_2000_tau_2_2000\")\n",
    "b1.params.thetaprior = (2, 2000)\n",
    "b1.params.tauprior = (2, 2000, 1)\n",
    "\n",
    "## run object 2\n",
    "b2 = bpp00.copy(\"bpp00_theta_2_2000_tau_2_200\")\n",
    "b2.params.thetaprior = (2, 2000)\n",
    "b2.params.tauprior = (2, 200, 1)\n",
    "\n",
    "## run object 3\n",
    "b3 = bpp00.copy(\"bpp00_theta_2_200_tau_2_2000\")\n",
    "b3.params.thetaprior = (2, 200)\n",
    "b3.params.tauprior = (2, 2000, 1)\n",
    "\n",
    "## run object 4\n",
    "b4 = bpp00.copy(\"bpp00_theta_2_200_tau_2_200\")\n",
    "b4.params.thetaprior = (2, 200)\n",
    "b4.params.tauprior = (2, 200, 1)\n",
    "\n",
    "## put all into a list\n",
    "b00list = [b1, b2, b3, b4]"
   ]
  },
  {
   "cell_type": "markdown",
   "metadata": {},
   "source": [
    "### Submit species tree jobs to cluster"
   ]
  },
  {
   "cell_type": "code",
   "execution_count": 9,
   "metadata": {},
   "outputs": [
    {
     "name": "stderr",
     "output_type": "stream",
     "text": [
      "submitted 5 bpp jobs [bpp00_theta_2_2000_tau_2_2000] (100 loci)\n",
      "submitted 5 bpp jobs [bpp00_theta_2_2000_tau_2_200] (100 loci)\n",
      "submitted 5 bpp jobs [bpp00_theta_2_200_tau_2_2000] (100 loci)\n",
      "submitted 5 bpp jobs [bpp00_theta_2_200_tau_2_200] (100 loci)\n"
     ]
    }
   ],
   "source": [
    "## submit 5 replicates of each job\n",
    "for job in b00list:\n",
    "    job.run(ipyclient, nreps=5, randomize_order=True, force=True)"
   ]
  },
  {
   "cell_type": "markdown",
   "metadata": {},
   "source": [
    "### Submit prior-only species tree jobs"
   ]
  },
  {
   "cell_type": "code",
   "execution_count": 10,
   "metadata": {
    "collapsed": true
   },
   "outputs": [],
   "source": [
    "## create prior-only run objects\n",
    "b00plist = [i.copy(i.name+\"-prior-only\") for i in b00list]"
   ]
  },
  {
   "cell_type": "code",
   "execution_count": 11,
   "metadata": {
    "collapsed": true
   },
   "outputs": [],
   "source": [
    "## set no-data parameter on them\n",
    "for job in b00plist:\n",
    "    job.params.usedata = 0"
   ]
  },
  {
   "cell_type": "code",
   "execution_count": 12,
   "metadata": {},
   "outputs": [
    {
     "name": "stderr",
     "output_type": "stream",
     "text": [
      "submitted 1 bpp jobs [bpp00_theta_2_2000_tau_2_2000-prior-only] (100 loci)\n",
      "submitted 1 bpp jobs [bpp00_theta_2_2000_tau_2_200-prior-only] (100 loci)\n",
      "submitted 1 bpp jobs [bpp00_theta_2_200_tau_2_2000-prior-only] (100 loci)\n",
      "submitted 1 bpp jobs [bpp00_theta_2_200_tau_2_200-prior-only] (100 loci)\n"
     ]
    }
   ],
   "source": [
    "## submit jobs to run (only needs a single rep each)\n",
    "for job in b00plist:\n",
    "    job.run(ipyclient, randomize_order=True, force=True)"
   ]
  },
  {
   "cell_type": "markdown",
   "metadata": {},
   "source": [
    "### Submit species delimitation jobs "
   ]
  },
  {
   "cell_type": "code",
   "execution_count": 13,
   "metadata": {
    "collapsed": true
   },
   "outputs": [],
   "source": [
    "## create delim objects as copies of bpp00s\n",
    "b01list = [i.copy(i.name.replace(\"bpp00\", \"bpp01\")) for i in b00list]"
   ]
  },
  {
   "cell_type": "code",
   "execution_count": 14,
   "metadata": {
    "collapsed": true
   },
   "outputs": [],
   "source": [
    "## modify params on the delim objs\n",
    "for job in b01list:\n",
    "    job.params.infer_delimit = 1\n",
    "    job.params.delimit_alg = (0, 5)"
   ]
  },
  {
   "cell_type": "code",
   "execution_count": 15,
   "metadata": {},
   "outputs": [
    {
     "name": "stderr",
     "output_type": "stream",
     "text": [
      "submitted 5 bpp jobs [bpp01_theta_2_2000_tau_2_2000] (100 loci)\n",
      "submitted 5 bpp jobs [bpp01_theta_2_2000_tau_2_200] (100 loci)\n",
      "submitted 5 bpp jobs [bpp01_theta_2_200_tau_2_2000] (100 loci)\n",
      "submitted 5 bpp jobs [bpp01_theta_2_200_tau_2_200] (100 loci)\n"
     ]
    }
   ],
   "source": [
    "## submit jobs to run\n",
    "for job in b01list:\n",
    "    job.run(ipyclient, nreps=5, randomize_order=True, force=True)"
   ]
  },
  {
   "cell_type": "markdown",
   "metadata": {},
   "source": [
    "### Submit prior-only species delimitation jobs "
   ]
  },
  {
   "cell_type": "code",
   "execution_count": 16,
   "metadata": {
    "collapsed": true
   },
   "outputs": [],
   "source": [
    "## create prior-only run objects\n",
    "b01plist = [i.copy(i.name+\"-prior-only\") for i in b01list]"
   ]
  },
  {
   "cell_type": "code",
   "execution_count": 17,
   "metadata": {
    "collapsed": true
   },
   "outputs": [],
   "source": [
    "## set no-data parameter on them\n",
    "for job in b01plist:\n",
    "    job.params.usedata = 0"
   ]
  },
  {
   "cell_type": "code",
   "execution_count": 18,
   "metadata": {},
   "outputs": [
    {
     "name": "stderr",
     "output_type": "stream",
     "text": [
      "submitted 1 bpp jobs [bpp01_theta_2_2000_tau_2_2000-prior-only] (100 loci)\n",
      "submitted 1 bpp jobs [bpp01_theta_2_2000_tau_2_200-prior-only] (100 loci)\n",
      "submitted 1 bpp jobs [bpp01_theta_2_200_tau_2_2000-prior-only] (100 loci)\n",
      "submitted 1 bpp jobs [bpp01_theta_2_200_tau_2_200-prior-only] (100 loci)\n"
     ]
    }
   ],
   "source": [
    "## submit jobs to run (only needs a single rep each)\n",
    "for job in b01plist:\n",
    "    job.run(ipyclient, randomize_order=True, force=True)"
   ]
  },
  {
   "cell_type": "markdown",
   "metadata": {},
   "source": [
    "-----------------------------------------------"
   ]
  },
  {
   "cell_type": "markdown",
   "metadata": {},
   "source": [
    "## Summarize results\n",
    "Here I access the result files from th bpp objects themselves. Alternatively you could enter the path to the results files. "
   ]
  },
  {
   "cell_type": "code",
   "execution_count": 19,
   "metadata": {
    "collapsed": true
   },
   "outputs": [],
   "source": [
    "## set options to print prettier tables\n",
    "## (this suppresses scientific notation)\n",
    "import pandas as pd\n",
    "import numpy as np\n",
    "pd.set_option('display.float_format', lambda x: '%.4f' % x)"
   ]
  },
  {
   "cell_type": "markdown",
   "metadata": {},
   "source": [
    "#### Fixed species tree parameter inference (algorithm 00)\n",
    "\n",
    "The first question is whether the replicate runs for the same prior values have converged on similar parameter values. If so, then we should feel OK with combining them and reporting average parameter values as our results. "
   ]
  },
  {
   "cell_type": "code",
   "execution_count": 26,
   "metadata": {
    "collapsed": true
   },
   "outputs": [],
   "source": [
    "## get mean parameters across different values for the prior with and without data\n",
    "all00 = pd.DataFrame(\n",
    "    {job.name: job.summarize_results()[\"mean\"] for job in b00list + b00plist})"
   ]
  },
  {
   "cell_type": "code",
   "execution_count": 27,
   "metadata": {},
   "outputs": [
    {
     "data": {
      "text/html": [
       "<div>\n",
       "<style>\n",
       "    .dataframe thead tr:only-child th {\n",
       "        text-align: right;\n",
       "    }\n",
       "\n",
       "    .dataframe thead th {\n",
       "        text-align: left;\n",
       "    }\n",
       "\n",
       "    .dataframe tbody tr th {\n",
       "        vertical-align: top;\n",
       "    }\n",
       "</style>\n",
       "<table border=\"1\" class=\"dataframe\">\n",
       "  <thead>\n",
       "    <tr style=\"text-align: right;\">\n",
       "      <th></th>\n",
       "      <th>with-data</th>\n",
       "      <th>prior-only</th>\n",
       "    </tr>\n",
       "  </thead>\n",
       "  <tbody>\n",
       "    <tr>\n",
       "      <th>lnL</th>\n",
       "      <td>-11006.5848</td>\n",
       "      <td>nan</td>\n",
       "    </tr>\n",
       "    <tr>\n",
       "      <th>tau_101A1B1C2A2B2C3A3B3C</th>\n",
       "      <td>0.0011</td>\n",
       "      <td>0.0014</td>\n",
       "    </tr>\n",
       "    <tr>\n",
       "      <th>tau_111A1B1C</th>\n",
       "      <td>0.0007</td>\n",
       "      <td>0.0009</td>\n",
       "    </tr>\n",
       "    <tr>\n",
       "      <th>tau_121B1C</th>\n",
       "      <td>0.0004</td>\n",
       "      <td>0.0005</td>\n",
       "    </tr>\n",
       "    <tr>\n",
       "      <th>tau_132A2B2C3A3B3C</th>\n",
       "      <td>0.0010</td>\n",
       "      <td>0.0012</td>\n",
       "    </tr>\n",
       "    <tr>\n",
       "      <th>tau_142A2B2C</th>\n",
       "      <td>0.0009</td>\n",
       "      <td>0.0008</td>\n",
       "    </tr>\n",
       "    <tr>\n",
       "      <th>tau_152B2C</th>\n",
       "      <td>0.0007</td>\n",
       "      <td>0.0004</td>\n",
       "    </tr>\n",
       "    <tr>\n",
       "      <th>tau_163A3B3C</th>\n",
       "      <td>0.0007</td>\n",
       "      <td>0.0008</td>\n",
       "    </tr>\n",
       "    <tr>\n",
       "      <th>tau_173B3C</th>\n",
       "      <td>0.0004</td>\n",
       "      <td>0.0004</td>\n",
       "    </tr>\n",
       "    <tr>\n",
       "      <th>theta_101A1B1C2A2B2C3A3B3C</th>\n",
       "      <td>0.0020</td>\n",
       "      <td>0.0090</td>\n",
       "    </tr>\n",
       "    <tr>\n",
       "      <th>theta_111A1B1C</th>\n",
       "      <td>0.0033</td>\n",
       "      <td>0.0096</td>\n",
       "    </tr>\n",
       "    <tr>\n",
       "      <th>theta_11A</th>\n",
       "      <td>0.0027</td>\n",
       "      <td>0.0101</td>\n",
       "    </tr>\n",
       "    <tr>\n",
       "      <th>theta_121B1C</th>\n",
       "      <td>0.0094</td>\n",
       "      <td>0.0101</td>\n",
       "    </tr>\n",
       "    <tr>\n",
       "      <th>theta_132A2B2C3A3B3C</th>\n",
       "      <td>0.0098</td>\n",
       "      <td>0.0095</td>\n",
       "    </tr>\n",
       "    <tr>\n",
       "      <th>theta_142A2B2C</th>\n",
       "      <td>0.0074</td>\n",
       "      <td>0.0100</td>\n",
       "    </tr>\n",
       "    <tr>\n",
       "      <th>theta_152B2C</th>\n",
       "      <td>0.0099</td>\n",
       "      <td>0.0103</td>\n",
       "    </tr>\n",
       "    <tr>\n",
       "      <th>theta_163A3B3C</th>\n",
       "      <td>0.0047</td>\n",
       "      <td>0.0095</td>\n",
       "    </tr>\n",
       "    <tr>\n",
       "      <th>theta_173B3C</th>\n",
       "      <td>0.0057</td>\n",
       "      <td>0.0091</td>\n",
       "    </tr>\n",
       "    <tr>\n",
       "      <th>theta_21B</th>\n",
       "      <td>0.0011</td>\n",
       "      <td>0.0099</td>\n",
       "    </tr>\n",
       "    <tr>\n",
       "      <th>theta_31C</th>\n",
       "      <td>0.0016</td>\n",
       "      <td>0.0095</td>\n",
       "    </tr>\n",
       "    <tr>\n",
       "      <th>theta_42A</th>\n",
       "      <td>0.0030</td>\n",
       "      <td>0.0093</td>\n",
       "    </tr>\n",
       "    <tr>\n",
       "      <th>theta_52B</th>\n",
       "      <td>0.0012</td>\n",
       "      <td>0.0100</td>\n",
       "    </tr>\n",
       "    <tr>\n",
       "      <th>theta_62C</th>\n",
       "      <td>0.0119</td>\n",
       "      <td>0.0104</td>\n",
       "    </tr>\n",
       "    <tr>\n",
       "      <th>theta_73A</th>\n",
       "      <td>0.0013</td>\n",
       "      <td>0.0101</td>\n",
       "    </tr>\n",
       "    <tr>\n",
       "      <th>theta_83B</th>\n",
       "      <td>0.0084</td>\n",
       "      <td>0.0102</td>\n",
       "    </tr>\n",
       "    <tr>\n",
       "      <th>theta_93C</th>\n",
       "      <td>0.0036</td>\n",
       "      <td>0.0097</td>\n",
       "    </tr>\n",
       "  </tbody>\n",
       "</table>\n",
       "</div>"
      ],
      "text/plain": [
       "                             with-data  prior-only\n",
       "lnL                        -11006.5848         nan\n",
       "tau_101A1B1C2A2B2C3A3B3C        0.0011      0.0014\n",
       "tau_111A1B1C                    0.0007      0.0009\n",
       "tau_121B1C                      0.0004      0.0005\n",
       "tau_132A2B2C3A3B3C              0.0010      0.0012\n",
       "tau_142A2B2C                    0.0009      0.0008\n",
       "tau_152B2C                      0.0007      0.0004\n",
       "tau_163A3B3C                    0.0007      0.0008\n",
       "tau_173B3C                      0.0004      0.0004\n",
       "theta_101A1B1C2A2B2C3A3B3C      0.0020      0.0090\n",
       "theta_111A1B1C                  0.0033      0.0096\n",
       "theta_11A                       0.0027      0.0101\n",
       "theta_121B1C                    0.0094      0.0101\n",
       "theta_132A2B2C3A3B3C            0.0098      0.0095\n",
       "theta_142A2B2C                  0.0074      0.0100\n",
       "theta_152B2C                    0.0099      0.0103\n",
       "theta_163A3B3C                  0.0047      0.0095\n",
       "theta_173B3C                    0.0057      0.0091\n",
       "theta_21B                       0.0011      0.0099\n",
       "theta_31C                       0.0016      0.0095\n",
       "theta_42A                       0.0030      0.0093\n",
       "theta_52B                       0.0012      0.0100\n",
       "theta_62C                       0.0119      0.0104\n",
       "theta_73A                       0.0013      0.0101\n",
       "theta_83B                       0.0084      0.0102\n",
       "theta_93C                       0.0036      0.0097"
      ]
     },
     "execution_count": 27,
     "metadata": {},
     "output_type": "execute_result"
    }
   ],
   "source": [
    "## save result to file for 200 2000 \n",
    "outdf = all00[[\"bpp00_theta_2_200_tau_2_2000\", \"bpp00_theta_2_200_tau_2_2000-prior-only\"]]\n",
    "outdf.columns = [\"with-data\", \"prior-only\"]\n",
    "outdf"
   ]
  },
  {
   "cell_type": "markdown",
   "metadata": {},
   "source": [
    "### Summarize BPP 01 results (delimitation) \n",
    "These tables show the mean posteriors the five replicates for each set of priors values. "
   ]
  },
  {
   "cell_type": "code",
   "execution_count": 29,
   "metadata": {
    "scrolled": false
   },
   "outputs": [
    {
     "name": "stdout",
     "output_type": "stream",
     "text": [
      "bpp01_theta_2_2000_tau_2_2000\n",
      "       delim    prior posterior  nspecies\n",
      "0   00000000  0.03226       0.0         1\n",
      "1   10000000  0.03226       0.0         2\n",
      "2   10010000  0.03226       0.0         3\n",
      "3   10010010  0.03226       0.0         4\n",
      "4   10010011  0.03226       0.0         5\n",
      "5   10011000  0.03226       0.0         4\n",
      "6   10011010  0.03226       0.0         5\n",
      "7   10011011  0.03226       0.0         6\n",
      "8   10011100  0.03226       0.0         5\n",
      "9   10011110  0.03226       0.0         6\n",
      "10  10011111  0.03226  0.007156         7\n",
      "11  11000000  0.03226       0.0         3\n",
      "12  11010000  0.03226       0.0         4\n",
      "13  11010010  0.03226       0.0         5\n",
      "14  11010011  0.03226       0.0         6\n",
      "15  11011000  0.03226       0.0         5\n",
      "16  11011010  0.03226       0.0         6\n",
      "17  11011011  0.03226       0.0         7\n",
      "18  11011100  0.03226       0.0         6\n",
      "19  11011110  0.03226       0.0         7\n",
      "20  11011111  0.03226  0.060192         8\n",
      "21  11100000  0.03226       0.0         4\n",
      "22  11110000  0.03226       0.0         5\n",
      "23  11110010  0.03226       0.0         6\n",
      "24  11110011  0.03226       0.0         7\n",
      "25  11111000  0.03226       0.0         6\n",
      "26  11111010  0.03226       0.0         7\n",
      "27  11111011  0.03226       0.0         8\n",
      "28  11111100  0.03226       0.0         7\n",
      "29  11111110  0.03226       0.0         8\n",
      "30  11111111  0.03226  0.932652         9\n",
      "\n",
      "bpp01_theta_2_2000_tau_2_200\n",
      "       delim    prior posterior  nspecies\n",
      "0   00000000  0.03226       0.0         1\n",
      "1   10000000  0.03226       0.0         2\n",
      "2   10010000  0.03226       0.0         3\n",
      "3   10010010  0.03226       0.0         4\n",
      "4   10010011  0.03226       0.0         5\n",
      "5   10011000  0.03226       0.0         4\n",
      "6   10011010  0.03226       0.0         5\n",
      "7   10011011  0.03226       0.0         6\n",
      "8   10011100  0.03226       0.0         5\n",
      "9   10011110  0.03226       0.0         6\n",
      "10  10011111  0.03226  0.020182         7\n",
      "11  11000000  0.03226       0.0         3\n",
      "12  11010000  0.03226       0.0         4\n",
      "13  11010010  0.03226       0.0         5\n",
      "14  11010011  0.03226       0.0         6\n",
      "15  11011000  0.03226       0.0         5\n",
      "16  11011010  0.03226       0.0         6\n",
      "17  11011011  0.03226       0.0         7\n",
      "18  11011100  0.03226       0.0         6\n",
      "19  11011110  0.03226       0.0         7\n",
      "20  11011111  0.03226   0.07754         8\n",
      "21  11100000  0.03226       0.0         4\n",
      "22  11110000  0.03226       0.0         5\n",
      "23  11110010  0.03226       0.0         6\n",
      "24  11110011  0.03226       0.0         7\n",
      "25  11111000  0.03226       0.0         6\n",
      "26  11111010  0.03226       0.0         7\n",
      "27  11111011  0.03226       0.0         8\n",
      "28  11111100  0.03226       0.0         7\n",
      "29  11111110  0.03226       0.0         8\n",
      "30  11111111  0.03226  0.902278         9\n",
      "\n",
      "bpp01_theta_2_200_tau_2_2000\n",
      "       delim    prior posterior  nspecies\n",
      "0   00000000  0.03226       0.0         1\n",
      "1   10000000  0.03226       0.0         2\n",
      "2   10010000  0.03226       0.0         3\n",
      "3   10010010  0.03226       0.0         4\n",
      "4   10010011  0.03226       0.0         5\n",
      "5   10011000  0.03226       0.0         4\n",
      "6   10011010  0.03226       0.0         5\n",
      "7   10011011  0.03226       0.0         6\n",
      "8   10011100  0.03226       0.0         5\n",
      "9   10011110  0.03226       0.0         6\n",
      "10  10011111  0.03226  0.012494         7\n",
      "11  11000000  0.03226       0.0         3\n",
      "12  11010000  0.03226       0.0         4\n",
      "13  11010010  0.03226       0.0         5\n",
      "14  11010011  0.03226       0.0         6\n",
      "15  11011000  0.03226       0.0         5\n",
      "16  11011010  0.03226       0.0         6\n",
      "17  11011011  0.03226       0.0         7\n",
      "18  11011100  0.03226       0.0         6\n",
      "19  11011110  0.03226       0.0         7\n",
      "20  11011111  0.03226   0.02224         8\n",
      "21  11100000  0.03226       0.0         4\n",
      "22  11110000  0.03226       0.0         5\n",
      "23  11110010  0.03226       0.0         6\n",
      "24  11110011  0.03226       0.0         7\n",
      "25  11111000  0.03226       0.0         6\n",
      "26  11111010  0.03226       0.0         7\n",
      "27  11111011  0.03226       0.0         8\n",
      "28  11111100  0.03226       0.0         7\n",
      "29  11111110  0.03226       0.0         8\n",
      "30  11111111  0.03226  0.965266         9\n",
      "\n",
      "bpp01_theta_2_200_tau_2_200\n",
      "       delim    prior posterior  nspecies\n",
      "0   00000000  0.03226       0.0         1\n",
      "1   10000000  0.03226       0.0         2\n",
      "2   10010000  0.03226       0.0         3\n",
      "3   10010010  0.03226       0.0         4\n",
      "4   10010011  0.03226       0.0         5\n",
      "5   10011000  0.03226       0.0         4\n",
      "6   10011010  0.03226       0.0         5\n",
      "7   10011011  0.03226       0.0         6\n",
      "8   10011100  0.03226       0.0         5\n",
      "9   10011110  0.03226       0.0         6\n",
      "10  10011111  0.03226  0.000128         7\n",
      "11  11000000  0.03226       0.0         3\n",
      "12  11010000  0.03226       0.0         4\n",
      "13  11010010  0.03226       0.0         5\n",
      "14  11010011  0.03226       0.0         6\n",
      "15  11011000  0.03226       0.0         5\n",
      "16  11011010  0.03226       0.0         6\n",
      "17  11011011  0.03226       0.0         7\n",
      "18  11011100  0.03226       0.0         6\n",
      "19  11011110  0.03226       0.0         7\n",
      "20  11011111  0.03226  0.078476         8\n",
      "21  11100000  0.03226       0.0         4\n",
      "22  11110000  0.03226       0.0         5\n",
      "23  11110010  0.03226       0.0         6\n",
      "24  11110011  0.03226       0.0         7\n",
      "25  11111000  0.03226       0.0         6\n",
      "26  11111010  0.03226       0.0         7\n",
      "27  11111011  0.03226       0.0         8\n",
      "28  11111100  0.03226       0.0         7\n",
      "29  11111110  0.03226       0.0         8\n",
      "30  11111111  0.03226  0.921396         9\n",
      "\n"
     ]
    }
   ],
   "source": [
    "for job in b01list:\n",
    "    print job.name\n",
    "    print job.summarize_results()\n",
    "    print \"\""
   ]
  }
 ],
 "metadata": {
  "kernelspec": {
   "display_name": "Python 2",
   "language": "python",
   "name": "python2"
  },
  "language_info": {
   "codemirror_mode": {
    "name": "ipython",
    "version": 2
   },
   "file_extension": ".py",
   "mimetype": "text/x-python",
   "name": "python",
   "nbconvert_exporter": "python",
   "pygments_lexer": "ipython2",
   "version": "2.7.13"
  }
 },
 "nbformat": 4,
 "nbformat_minor": 1
}
