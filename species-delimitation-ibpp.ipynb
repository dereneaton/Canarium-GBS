{
 "cells": [
  {
   "cell_type": "markdown",
   "metadata": {},
   "source": [
    "# Species delimitation in Malagasy Canarium using iBPP\n",
    "\n",
    "This notebook is an empirical application of ibpp for species delimitation using GBS data assembled in ipyrad. We use the ipyrad utility function to `loci2bpp` to programatticaly setup a range of tests and to deploy them in parallel. "
   ]
  },
  {
   "cell_type": "markdown",
   "metadata": {},
   "source": [
    "### Information about this notebook\n",
    "This is a jupyter notebook. All code in this notebook is Python. You should be able to download and execute this notebook and reproduce all of our results. This notebook along with other notebooks and data files are hosted on github: https://github.com/sarahfederman/Canarium-GBS/"
   ]
  },
  {
   "cell_type": "markdown",
   "metadata": {},
   "source": [
    "### Install required software"
   ]
  },
  {
   "cell_type": "code",
   "execution_count": null,
   "metadata": {
    "collapsed": true
   },
   "outputs": [],
   "source": [
    "## conda install bpp -c ipyrad\n",
    "## conda install ete3 -c bioconda"
   ]
  },
  {
   "cell_type": "markdown",
   "metadata": {},
   "source": [
    "### Import Python libraries"
   ]
  },
  {
   "cell_type": "code",
   "execution_count": 11,
   "metadata": {
    "collapsed": false
   },
   "outputs": [
    {
     "name": "stdout",
     "output_type": "stream",
     "text": [
      "ipyrad v.0.6.6\n"
     ]
    }
   ],
   "source": [
    "import ipyrad as ip\n",
    "import pandas as pd\n",
    "import ete3 as ete\n",
    "import numpy as np\n",
    "import random\n",
    "import sys\n",
    "import os\n",
    "\n",
    "## print versions\n",
    "print \"ipyrad v.{}\".format(ip.__version__)"
   ]
  },
  {
   "cell_type": "markdown",
   "metadata": {},
   "source": [
    "### Create a directory to store results files in"
   ]
  },
  {
   "cell_type": "code",
   "execution_count": 2,
   "metadata": {
    "collapsed": true
   },
   "outputs": [],
   "source": [
    "WDIR = \"./analysis_bpp\"\n",
    "if not os.path.exists(WDIR):\n",
    "    os.mkdir(WDIR)"
   ]
  },
  {
   "cell_type": "markdown",
   "metadata": {},
   "source": [
    "### Setup an ipyparallel cluster connection"
   ]
  },
  {
   "cell_type": "code",
   "execution_count": 23,
   "metadata": {
    "collapsed": false
   },
   "outputs": [
    {
     "name": "stdout",
     "output_type": "stream",
     "text": [
      "  host compute node: [20 cores] on c20n05.farnam.hpc.yale.internal\n"
     ]
    }
   ],
   "source": [
    "import ipyparallel as ipp\n",
    "ipyclient = ipp.Client()\n",
    "lbview = ipyclient.load_balanced_view()\n",
    "print ip.cluster_info()"
   ]
  },
  {
   "cell_type": "markdown",
   "metadata": {},
   "source": [
    "### The input data"
   ]
  },
  {
   "cell_type": "code",
   "execution_count": 9,
   "metadata": {
    "collapsed": false
   },
   "outputs": [],
   "source": [
    "## downoad .loci file from (replace dropbox link with zenodo link) and save path\n",
    "#! curl -LkO https://dl.dropboxusercontent.com/u/2538935/CanEnd_min20.loci\n",
    "LOCI = \"./analysis-ipyrad/Canarium_min20_outfiles/Canarium_min20.loci\""
   ]
  },
  {
   "cell_type": "code",
   "execution_count": 12,
   "metadata": {
    "collapsed": false
   },
   "outputs": [
    {
     "name": "stdout",
     "output_type": "stream",
     "text": [
      "\n",
      "            /-D\n",
      "         /-|\n",
      "      /-|   \\-C\n",
      "     |  |\n",
      "   /-|   \\-B\n",
      "  |  |\n",
      "  |  |   /-E\n",
      "--|   \\-|\n",
      "  |      \\-F\n",
      "  |\n",
      "   \\-A\n"
     ]
    }
   ],
   "source": [
    "## make a mapping dictionary grouping samples into 'species'\n",
    "IMAP6 = {\n",
    "    \"A\": ['SF172', 'SF175', 'SF328', 'SF200', 'SF209', 'D14528', 'SF276', 'SF286', 'D13052'],\n",
    "    \"B\": ['D13101', 'D13103', 'D14482', 'D14483'],\n",
    "    \"C\": ['D14504', 'D14505', 'D14506'],\n",
    "    \"D\": ['D14477', 'D14478', 'D14480', 'D14485', 'D14501', 'D14513'], \n",
    "    \"E\": ['D13090', 'D12950'],\n",
    "    \"F\": ['D13097', 'SF155', 'D13063', 'D12963', 'SF160', 'SF327',\n",
    "          'SF224', 'SF228', '5573', 'SF153', 'SF164', 'D13075', 'SF197'], \n",
    "    }\n",
    "\n",
    "\n",
    "## make a dictionary with min values to filter loci to those with N samples per species.\n",
    "MINMAP6 = {\n",
    "    \"A\": 8, \n",
    "    \"B\": 4, \n",
    "    \"C\": 3,\n",
    "    \"D\": 5, \n",
    "    \"E\": 2, \n",
    "    \"F\": 8,\n",
    "}\n",
    "\n",
    "\n",
    "## Species tree hypothesis ('guide tree') based on raxml & bucky results\n",
    "TREE6 = \"((((D,C),B),(E,F)),A);\"\n",
    "print ete.Tree(TREE6)"
   ]
  },
  {
   "cell_type": "markdown",
   "metadata": {},
   "source": [
    "### Make a function to call bpp/ibpp\n",
    "We will submit a large range of jobs to our parallel cluster. First we will infer a species tree with bpp, and then we will add traits and test delimitation hypotheses with ibpp. To track the progress of all of the parallel processes we will store info about them (their async objects) in a dictionary called results. "
   ]
  },
  {
   "cell_type": "code",
   "execution_count": 13,
   "metadata": {
    "collapsed": true
   },
   "outputs": [],
   "source": [
    "## a function to call i/bpp\n",
    "def bpp(ctlfile):\n",
    "    import subprocess\n",
    "    subprocess.check_output([\"bpp\", ctlfile])\n",
    "    "
   ]
  },
  {
   "cell_type": "markdown",
   "metadata": {},
   "source": [
    "### Species delimitation\n",
    "We want to test different resolutions of our fixed species tree (TREE6) using the test in bpp (infer_sptree=0; infer_delimit=1), and to ensure adequate mixing of our mcmc analysis we'll run the analysis from several random seeds, and for different values for the prior theta. "
   ]
  },
  {
   "cell_type": "code",
   "execution_count": 14,
   "metadata": {
    "collapsed": false,
    "scrolled": true
   },
   "outputs": [
    {
     "name": "stderr",
     "output_type": "stream",
     "text": [
      "new files created (1110 loci, 6 species, 37 samples)\n",
      "  delim-theta-200-tau-1000-rep-0.bpp.seq.txt\n",
      "  delim-theta-200-tau-1000-rep-0.bpp.imap.txt\n",
      "  delim-theta-200-tau-1000-rep-0.bpp.ctl.txt\n",
      "new files created (1110 loci, 6 species, 37 samples)\n",
      "  delim-theta-200-tau-1000-rep-1.bpp.seq.txt\n",
      "  delim-theta-200-tau-1000-rep-1.bpp.imap.txt\n",
      "  delim-theta-200-tau-1000-rep-1.bpp.ctl.txt\n",
      "new files created (1110 loci, 6 species, 37 samples)\n",
      "  delim-theta-200-tau-1000-rep-2.bpp.seq.txt\n",
      "  delim-theta-200-tau-1000-rep-2.bpp.imap.txt\n",
      "  delim-theta-200-tau-1000-rep-2.bpp.ctl.txt\n",
      "new files created (1110 loci, 6 species, 37 samples)\n",
      "  delim-theta-200-tau-1000-rep-3.bpp.seq.txt\n",
      "  delim-theta-200-tau-1000-rep-3.bpp.imap.txt\n",
      "  delim-theta-200-tau-1000-rep-3.bpp.ctl.txt\n",
      "new files created (1110 loci, 6 species, 37 samples)\n",
      "  delim-theta-200-tau-1000-rep-4.bpp.seq.txt\n",
      "  delim-theta-200-tau-1000-rep-4.bpp.imap.txt\n",
      "  delim-theta-200-tau-1000-rep-4.bpp.ctl.txt\n",
      "new files created (1110 loci, 6 species, 37 samples)\n",
      "  delim-theta-200-tau-1000-rep-5.bpp.seq.txt\n",
      "  delim-theta-200-tau-1000-rep-5.bpp.imap.txt\n",
      "  delim-theta-200-tau-1000-rep-5.bpp.ctl.txt\n",
      "new files created (1110 loci, 6 species, 37 samples)\n",
      "  delim-theta-200-tau-1000-rep-6.bpp.seq.txt\n",
      "  delim-theta-200-tau-1000-rep-6.bpp.imap.txt\n",
      "  delim-theta-200-tau-1000-rep-6.bpp.ctl.txt\n",
      "new files created (1110 loci, 6 species, 37 samples)\n",
      "  delim-theta-200-tau-1000-rep-7.bpp.seq.txt\n",
      "  delim-theta-200-tau-1000-rep-7.bpp.imap.txt\n",
      "  delim-theta-200-tau-1000-rep-7.bpp.ctl.txt\n",
      "new files created (1110 loci, 6 species, 37 samples)\n",
      "  delim-theta-200-tau-1000-rep-8.bpp.seq.txt\n",
      "  delim-theta-200-tau-1000-rep-8.bpp.imap.txt\n",
      "  delim-theta-200-tau-1000-rep-8.bpp.ctl.txt\n",
      "new files created (1110 loci, 6 species, 37 samples)\n",
      "  delim-theta-200-tau-1000-rep-9.bpp.seq.txt\n",
      "  delim-theta-200-tau-1000-rep-9.bpp.imap.txt\n",
      "  delim-theta-200-tau-1000-rep-9.bpp.ctl.txt\n",
      "new files created (1110 loci, 6 species, 37 samples)\n",
      "  delim-theta-200-tau-2000-rep-0.bpp.seq.txt\n",
      "  delim-theta-200-tau-2000-rep-0.bpp.imap.txt\n",
      "  delim-theta-200-tau-2000-rep-0.bpp.ctl.txt\n",
      "new files created (1110 loci, 6 species, 37 samples)\n",
      "  delim-theta-200-tau-2000-rep-1.bpp.seq.txt\n",
      "  delim-theta-200-tau-2000-rep-1.bpp.imap.txt\n",
      "  delim-theta-200-tau-2000-rep-1.bpp.ctl.txt\n",
      "new files created (1110 loci, 6 species, 37 samples)\n",
      "  delim-theta-200-tau-2000-rep-2.bpp.seq.txt\n",
      "  delim-theta-200-tau-2000-rep-2.bpp.imap.txt\n",
      "  delim-theta-200-tau-2000-rep-2.bpp.ctl.txt\n",
      "new files created (1110 loci, 6 species, 37 samples)\n",
      "  delim-theta-200-tau-2000-rep-3.bpp.seq.txt\n",
      "  delim-theta-200-tau-2000-rep-3.bpp.imap.txt\n",
      "  delim-theta-200-tau-2000-rep-3.bpp.ctl.txt\n",
      "new files created (1110 loci, 6 species, 37 samples)\n",
      "  delim-theta-200-tau-2000-rep-4.bpp.seq.txt\n",
      "  delim-theta-200-tau-2000-rep-4.bpp.imap.txt\n",
      "  delim-theta-200-tau-2000-rep-4.bpp.ctl.txt\n",
      "new files created (1110 loci, 6 species, 37 samples)\n",
      "  delim-theta-200-tau-2000-rep-5.bpp.seq.txt\n",
      "  delim-theta-200-tau-2000-rep-5.bpp.imap.txt\n",
      "  delim-theta-200-tau-2000-rep-5.bpp.ctl.txt\n",
      "new files created (1110 loci, 6 species, 37 samples)\n",
      "  delim-theta-200-tau-2000-rep-6.bpp.seq.txt\n",
      "  delim-theta-200-tau-2000-rep-6.bpp.imap.txt\n",
      "  delim-theta-200-tau-2000-rep-6.bpp.ctl.txt\n",
      "new files created (1110 loci, 6 species, 37 samples)\n",
      "  delim-theta-200-tau-2000-rep-7.bpp.seq.txt\n",
      "  delim-theta-200-tau-2000-rep-7.bpp.imap.txt\n",
      "  delim-theta-200-tau-2000-rep-7.bpp.ctl.txt\n",
      "new files created (1110 loci, 6 species, 37 samples)\n",
      "  delim-theta-200-tau-2000-rep-8.bpp.seq.txt\n",
      "  delim-theta-200-tau-2000-rep-8.bpp.imap.txt\n",
      "  delim-theta-200-tau-2000-rep-8.bpp.ctl.txt\n",
      "new files created (1110 loci, 6 species, 37 samples)\n",
      "  delim-theta-200-tau-2000-rep-9.bpp.seq.txt\n",
      "  delim-theta-200-tau-2000-rep-9.bpp.imap.txt\n",
      "  delim-theta-200-tau-2000-rep-9.bpp.ctl.txt\n",
      "new files created (1110 loci, 6 species, 37 samples)\n",
      "  delim-theta-2000-tau-1000-rep-0.bpp.seq.txt\n",
      "  delim-theta-2000-tau-1000-rep-0.bpp.imap.txt\n",
      "  delim-theta-2000-tau-1000-rep-0.bpp.ctl.txt\n",
      "new files created (1110 loci, 6 species, 37 samples)\n",
      "  delim-theta-2000-tau-1000-rep-1.bpp.seq.txt\n",
      "  delim-theta-2000-tau-1000-rep-1.bpp.imap.txt\n",
      "  delim-theta-2000-tau-1000-rep-1.bpp.ctl.txt\n",
      "new files created (1110 loci, 6 species, 37 samples)\n",
      "  delim-theta-2000-tau-1000-rep-2.bpp.seq.txt\n",
      "  delim-theta-2000-tau-1000-rep-2.bpp.imap.txt\n",
      "  delim-theta-2000-tau-1000-rep-2.bpp.ctl.txt\n",
      "new files created (1110 loci, 6 species, 37 samples)\n",
      "  delim-theta-2000-tau-1000-rep-3.bpp.seq.txt\n",
      "  delim-theta-2000-tau-1000-rep-3.bpp.imap.txt\n",
      "  delim-theta-2000-tau-1000-rep-3.bpp.ctl.txt\n",
      "new files created (1110 loci, 6 species, 37 samples)\n",
      "  delim-theta-2000-tau-1000-rep-4.bpp.seq.txt\n",
      "  delim-theta-2000-tau-1000-rep-4.bpp.imap.txt\n",
      "  delim-theta-2000-tau-1000-rep-4.bpp.ctl.txt\n",
      "new files created (1110 loci, 6 species, 37 samples)\n",
      "  delim-theta-2000-tau-1000-rep-5.bpp.seq.txt\n",
      "  delim-theta-2000-tau-1000-rep-5.bpp.imap.txt\n",
      "  delim-theta-2000-tau-1000-rep-5.bpp.ctl.txt\n",
      "new files created (1110 loci, 6 species, 37 samples)\n",
      "  delim-theta-2000-tau-1000-rep-6.bpp.seq.txt\n",
      "  delim-theta-2000-tau-1000-rep-6.bpp.imap.txt\n",
      "  delim-theta-2000-tau-1000-rep-6.bpp.ctl.txt\n",
      "new files created (1110 loci, 6 species, 37 samples)\n",
      "  delim-theta-2000-tau-1000-rep-7.bpp.seq.txt\n",
      "  delim-theta-2000-tau-1000-rep-7.bpp.imap.txt\n",
      "  delim-theta-2000-tau-1000-rep-7.bpp.ctl.txt\n",
      "new files created (1110 loci, 6 species, 37 samples)\n",
      "  delim-theta-2000-tau-1000-rep-8.bpp.seq.txt\n",
      "  delim-theta-2000-tau-1000-rep-8.bpp.imap.txt\n",
      "  delim-theta-2000-tau-1000-rep-8.bpp.ctl.txt\n",
      "new files created (1110 loci, 6 species, 37 samples)\n",
      "  delim-theta-2000-tau-1000-rep-9.bpp.seq.txt\n",
      "  delim-theta-2000-tau-1000-rep-9.bpp.imap.txt\n",
      "  delim-theta-2000-tau-1000-rep-9.bpp.ctl.txt\n",
      "new files created (1110 loci, 6 species, 37 samples)\n",
      "  delim-theta-2000-tau-2000-rep-0.bpp.seq.txt\n",
      "  delim-theta-2000-tau-2000-rep-0.bpp.imap.txt\n",
      "  delim-theta-2000-tau-2000-rep-0.bpp.ctl.txt\n",
      "new files created (1110 loci, 6 species, 37 samples)\n",
      "  delim-theta-2000-tau-2000-rep-1.bpp.seq.txt\n",
      "  delim-theta-2000-tau-2000-rep-1.bpp.imap.txt\n",
      "  delim-theta-2000-tau-2000-rep-1.bpp.ctl.txt\n",
      "new files created (1110 loci, 6 species, 37 samples)\n",
      "  delim-theta-2000-tau-2000-rep-2.bpp.seq.txt\n",
      "  delim-theta-2000-tau-2000-rep-2.bpp.imap.txt\n",
      "  delim-theta-2000-tau-2000-rep-2.bpp.ctl.txt\n",
      "new files created (1110 loci, 6 species, 37 samples)\n",
      "  delim-theta-2000-tau-2000-rep-3.bpp.seq.txt\n",
      "  delim-theta-2000-tau-2000-rep-3.bpp.imap.txt\n",
      "  delim-theta-2000-tau-2000-rep-3.bpp.ctl.txt\n",
      "new files created (1110 loci, 6 species, 37 samples)\n",
      "  delim-theta-2000-tau-2000-rep-4.bpp.seq.txt\n",
      "  delim-theta-2000-tau-2000-rep-4.bpp.imap.txt\n",
      "  delim-theta-2000-tau-2000-rep-4.bpp.ctl.txt\n",
      "new files created (1110 loci, 6 species, 37 samples)\n",
      "  delim-theta-2000-tau-2000-rep-5.bpp.seq.txt\n",
      "  delim-theta-2000-tau-2000-rep-5.bpp.imap.txt\n",
      "  delim-theta-2000-tau-2000-rep-5.bpp.ctl.txt\n",
      "new files created (1110 loci, 6 species, 37 samples)\n",
      "  delim-theta-2000-tau-2000-rep-6.bpp.seq.txt\n",
      "  delim-theta-2000-tau-2000-rep-6.bpp.imap.txt\n",
      "  delim-theta-2000-tau-2000-rep-6.bpp.ctl.txt\n",
      "new files created (1110 loci, 6 species, 37 samples)\n",
      "  delim-theta-2000-tau-2000-rep-7.bpp.seq.txt\n",
      "  delim-theta-2000-tau-2000-rep-7.bpp.imap.txt\n",
      "  delim-theta-2000-tau-2000-rep-7.bpp.ctl.txt\n",
      "new files created (1110 loci, 6 species, 37 samples)\n",
      "  delim-theta-2000-tau-2000-rep-8.bpp.seq.txt\n",
      "  delim-theta-2000-tau-2000-rep-8.bpp.imap.txt\n",
      "  delim-theta-2000-tau-2000-rep-8.bpp.ctl.txt\n",
      "new files created (1110 loci, 6 species, 37 samples)\n",
      "  delim-theta-2000-tau-2000-rep-9.bpp.seq.txt\n",
      "  delim-theta-2000-tau-2000-rep-9.bpp.imap.txt\n",
      "  delim-theta-2000-tau-2000-rep-9.bpp.ctl.txt\n"
     ]
    }
   ],
   "source": [
    "ctls = []\n",
    "for theta in [200, 2000]:\n",
    "    for tau in [1000, 2000]:\n",
    "        for rep in range(10):\n",
    "            ## build input files\n",
    "            name = \"delim-theta-{}-tau-{}-rep-{}\".format(theta, tau, rep)\n",
    "            ctl = ip.file_conversion.loci2bpp(name, \n",
    "                                              locifile=LOCI,\n",
    "                                              imap=IMAP6,      \n",
    "                                              minmap=MINMAP6,\n",
    "                                              guidetree=TREE6,\n",
    "                                              wdir=WDIR,\n",
    "                                              infer_sptree=0,\n",
    "                                              infer_delimit=1,\n",
    "                                              maxloci=10000,\n",
    "                                              nsample=100000,\n",
    "                                              burnin=10000,\n",
    "                                              sampfreq=2,\n",
    "                                              thetaprior=(2, theta),\n",
    "                                              tauprior=(2, tau, 1),\n",
    "                                              seed=random.randint(1,1e9),\n",
    "                                              )\n",
    "            ## store the ctl filename\n",
    "            ctls.append(ctl)\n",
    "        "
   ]
  },
  {
   "cell_type": "code",
   "execution_count": 24,
   "metadata": {
    "collapsed": false
   },
   "outputs": [
    {
     "name": "stderr",
     "output_type": "stream",
     "text": [
      "job submitted [/ysm-gpfs/home/de243/Canarium-GBS/analysis_bpp/delim-theta-200-tau-1000-rep-0.bpp.ctl.txt]\n",
      "job submitted [/ysm-gpfs/home/de243/Canarium-GBS/analysis_bpp/delim-theta-200-tau-1000-rep-1.bpp.ctl.txt]\n",
      "job submitted [/ysm-gpfs/home/de243/Canarium-GBS/analysis_bpp/delim-theta-200-tau-1000-rep-2.bpp.ctl.txt]\n",
      "job submitted [/ysm-gpfs/home/de243/Canarium-GBS/analysis_bpp/delim-theta-200-tau-1000-rep-3.bpp.ctl.txt]\n",
      "job submitted [/ysm-gpfs/home/de243/Canarium-GBS/analysis_bpp/delim-theta-200-tau-1000-rep-4.bpp.ctl.txt]\n",
      "job submitted [/ysm-gpfs/home/de243/Canarium-GBS/analysis_bpp/delim-theta-200-tau-1000-rep-5.bpp.ctl.txt]\n",
      "job submitted [/ysm-gpfs/home/de243/Canarium-GBS/analysis_bpp/delim-theta-200-tau-1000-rep-6.bpp.ctl.txt]\n",
      "job submitted [/ysm-gpfs/home/de243/Canarium-GBS/analysis_bpp/delim-theta-200-tau-1000-rep-7.bpp.ctl.txt]\n",
      "job submitted [/ysm-gpfs/home/de243/Canarium-GBS/analysis_bpp/delim-theta-200-tau-1000-rep-8.bpp.ctl.txt]\n",
      "job submitted [/ysm-gpfs/home/de243/Canarium-GBS/analysis_bpp/delim-theta-200-tau-1000-rep-9.bpp.ctl.txt]\n",
      "job submitted [/ysm-gpfs/home/de243/Canarium-GBS/analysis_bpp/delim-theta-200-tau-2000-rep-0.bpp.ctl.txt]\n",
      "job submitted [/ysm-gpfs/home/de243/Canarium-GBS/analysis_bpp/delim-theta-200-tau-2000-rep-1.bpp.ctl.txt]\n",
      "job submitted [/ysm-gpfs/home/de243/Canarium-GBS/analysis_bpp/delim-theta-200-tau-2000-rep-2.bpp.ctl.txt]\n",
      "job submitted [/ysm-gpfs/home/de243/Canarium-GBS/analysis_bpp/delim-theta-200-tau-2000-rep-3.bpp.ctl.txt]\n",
      "job submitted [/ysm-gpfs/home/de243/Canarium-GBS/analysis_bpp/delim-theta-200-tau-2000-rep-4.bpp.ctl.txt]\n",
      "job submitted [/ysm-gpfs/home/de243/Canarium-GBS/analysis_bpp/delim-theta-200-tau-2000-rep-5.bpp.ctl.txt]\n",
      "job submitted [/ysm-gpfs/home/de243/Canarium-GBS/analysis_bpp/delim-theta-200-tau-2000-rep-6.bpp.ctl.txt]\n",
      "job submitted [/ysm-gpfs/home/de243/Canarium-GBS/analysis_bpp/delim-theta-200-tau-2000-rep-7.bpp.ctl.txt]\n",
      "job submitted [/ysm-gpfs/home/de243/Canarium-GBS/analysis_bpp/delim-theta-200-tau-2000-rep-8.bpp.ctl.txt]\n",
      "job submitted [/ysm-gpfs/home/de243/Canarium-GBS/analysis_bpp/delim-theta-200-tau-2000-rep-9.bpp.ctl.txt]\n",
      "job submitted [/ysm-gpfs/home/de243/Canarium-GBS/analysis_bpp/delim-theta-2000-tau-1000-rep-0.bpp.ctl.txt]\n",
      "job submitted [/ysm-gpfs/home/de243/Canarium-GBS/analysis_bpp/delim-theta-2000-tau-1000-rep-1.bpp.ctl.txt]\n",
      "job submitted [/ysm-gpfs/home/de243/Canarium-GBS/analysis_bpp/delim-theta-2000-tau-1000-rep-2.bpp.ctl.txt]\n",
      "job submitted [/ysm-gpfs/home/de243/Canarium-GBS/analysis_bpp/delim-theta-2000-tau-1000-rep-3.bpp.ctl.txt]\n",
      "job submitted [/ysm-gpfs/home/de243/Canarium-GBS/analysis_bpp/delim-theta-2000-tau-1000-rep-4.bpp.ctl.txt]\n",
      "job submitted [/ysm-gpfs/home/de243/Canarium-GBS/analysis_bpp/delim-theta-2000-tau-1000-rep-5.bpp.ctl.txt]\n",
      "job submitted [/ysm-gpfs/home/de243/Canarium-GBS/analysis_bpp/delim-theta-2000-tau-1000-rep-6.bpp.ctl.txt]\n",
      "job submitted [/ysm-gpfs/home/de243/Canarium-GBS/analysis_bpp/delim-theta-2000-tau-1000-rep-7.bpp.ctl.txt]\n",
      "job submitted [/ysm-gpfs/home/de243/Canarium-GBS/analysis_bpp/delim-theta-2000-tau-1000-rep-8.bpp.ctl.txt]\n",
      "job submitted [/ysm-gpfs/home/de243/Canarium-GBS/analysis_bpp/delim-theta-2000-tau-1000-rep-9.bpp.ctl.txt]\n",
      "job submitted [/ysm-gpfs/home/de243/Canarium-GBS/analysis_bpp/delim-theta-2000-tau-2000-rep-0.bpp.ctl.txt]\n",
      "job submitted [/ysm-gpfs/home/de243/Canarium-GBS/analysis_bpp/delim-theta-2000-tau-2000-rep-1.bpp.ctl.txt]\n",
      "job submitted [/ysm-gpfs/home/de243/Canarium-GBS/analysis_bpp/delim-theta-2000-tau-2000-rep-2.bpp.ctl.txt]\n",
      "job submitted [/ysm-gpfs/home/de243/Canarium-GBS/analysis_bpp/delim-theta-2000-tau-2000-rep-3.bpp.ctl.txt]\n",
      "job submitted [/ysm-gpfs/home/de243/Canarium-GBS/analysis_bpp/delim-theta-2000-tau-2000-rep-4.bpp.ctl.txt]\n",
      "job submitted [/ysm-gpfs/home/de243/Canarium-GBS/analysis_bpp/delim-theta-2000-tau-2000-rep-5.bpp.ctl.txt]\n",
      "job submitted [/ysm-gpfs/home/de243/Canarium-GBS/analysis_bpp/delim-theta-2000-tau-2000-rep-6.bpp.ctl.txt]\n",
      "job submitted [/ysm-gpfs/home/de243/Canarium-GBS/analysis_bpp/delim-theta-2000-tau-2000-rep-7.bpp.ctl.txt]\n",
      "job submitted [/ysm-gpfs/home/de243/Canarium-GBS/analysis_bpp/delim-theta-2000-tau-2000-rep-8.bpp.ctl.txt]\n",
      "job submitted [/ysm-gpfs/home/de243/Canarium-GBS/analysis_bpp/delim-theta-2000-tau-2000-rep-9.bpp.ctl.txt]\n"
     ]
    }
   ],
   "source": [
    "## a dictionary to store results\n",
    "tree_asyncs = {}\n",
    "\n",
    "## submit jobs to the cluster\n",
    "for job in ctls:\n",
    "    tree_asyncs[job] = lbview.apply(bpp, job)\n",
    "    sys.stderr.write(\"job submitted [{}]\\n\".format(job))"
   ]
  },
  {
   "cell_type": "markdown",
   "metadata": {},
   "source": [
    "### Track progress of jobs"
   ]
  },
  {
   "cell_type": "code",
   "execution_count": 59,
   "metadata": {
    "collapsed": false
   },
   "outputs": [
    {
     "name": "stdout",
     "output_type": "stream",
     "text": [
      "0  delim-theta-200-tau-1000-rep-9.bpp.ctl.txt -- finished\n",
      "1  delim-theta-2000-tau-2000-rep-5.bpp.ctl.txt -- finished\n",
      "2  delim-theta-200-tau-2000-rep-8.bpp.ctl.txt -- finished\n",
      "3  delim-theta-200-tau-2000-rep-2.bpp.ctl.txt -- finished\n",
      "4  delim-theta-200-tau-2000-rep-3.bpp.ctl.txt -- finished\n",
      "5  delim-theta-2000-tau-2000-rep-6.bpp.ctl.txt -- finished\n",
      "6  delim-theta-2000-tau-2000-rep-7.bpp.ctl.txt -- finished\n",
      "7  delim-theta-2000-tau-1000-rep-1.bpp.ctl.txt -- finished\n",
      "8  delim-theta-2000-tau-1000-rep-8.bpp.ctl.txt -- finished\n",
      "9  delim-theta-2000-tau-2000-rep-8.bpp.ctl.txt -- finished\n",
      "10 delim-theta-200-tau-2000-rep-1.bpp.ctl.txt -- finished\n",
      "11 delim-theta-2000-tau-1000-rep-5.bpp.ctl.txt -- finished\n",
      "12 delim-theta-2000-tau-1000-rep-0.bpp.ctl.txt -- finished\n",
      "13 delim-theta-200-tau-1000-rep-7.bpp.ctl.txt -- finished\n",
      "14 delim-theta-200-tau-1000-rep-1.bpp.ctl.txt -- finished\n",
      "15 delim-theta-200-tau-2000-rep-9.bpp.ctl.txt -- finished\n",
      "16 delim-theta-200-tau-2000-rep-7.bpp.ctl.txt -- finished\n",
      "17 delim-theta-200-tau-1000-rep-8.bpp.ctl.txt -- finished\n",
      "18 delim-theta-200-tau-1000-rep-5.bpp.ctl.txt -- finished\n",
      "19 delim-theta-2000-tau-2000-rep-2.bpp.ctl.txt -- finished\n",
      "20 delim-theta-2000-tau-1000-rep-7.bpp.ctl.txt -- finished\n",
      "21 delim-theta-200-tau-1000-rep-4.bpp.ctl.txt -- finished\n",
      "22 delim-theta-2000-tau-1000-rep-9.bpp.ctl.txt -- finished\n",
      "23 delim-theta-2000-tau-2000-rep-4.bpp.ctl.txt -- finished\n",
      "24 delim-theta-2000-tau-1000-rep-3.bpp.ctl.txt -- finished\n",
      "25 delim-theta-2000-tau-1000-rep-6.bpp.ctl.txt -- finished\n",
      "26 delim-theta-200-tau-2000-rep-6.bpp.ctl.txt -- finished\n",
      "27 delim-theta-200-tau-2000-rep-4.bpp.ctl.txt -- finished\n",
      "28 delim-theta-200-tau-1000-rep-6.bpp.ctl.txt -- finished\n",
      "29 delim-theta-2000-tau-2000-rep-0.bpp.ctl.txt -- finished\n",
      "30 delim-theta-2000-tau-1000-rep-4.bpp.ctl.txt -- finished\n",
      "31 delim-theta-200-tau-2000-rep-5.bpp.ctl.txt -- finished\n",
      "32 delim-theta-200-tau-2000-rep-0.bpp.ctl.txt -- finished\n",
      "33 delim-theta-200-tau-1000-rep-0.bpp.ctl.txt -- finished\n",
      "34 delim-theta-2000-tau-2000-rep-9.bpp.ctl.txt -- finished\n",
      "35 delim-theta-2000-tau-2000-rep-1.bpp.ctl.txt -- finished\n",
      "36 delim-theta-2000-tau-1000-rep-2.bpp.ctl.txt -- finished\n",
      "37 delim-theta-200-tau-1000-rep-3.bpp.ctl.txt -- finished\n",
      "38 delim-theta-200-tau-1000-rep-2.bpp.ctl.txt -- finished\n",
      "39 delim-theta-2000-tau-2000-rep-3.bpp.ctl.txt -- finished\n"
     ]
    }
   ],
   "source": [
    "## check whether each has finished or failed\n",
    "for jid, job in enumerate(dict(tree_asyncs.items())):\n",
    "    ## get shorter name for job\n",
    "    jobname = job.split(\"/\")[-1]\n",
    "    \n",
    "    ## print done or not\n",
    "    if tree_asyncs[job].ready():\n",
    "        if tree_asyncs[job].successful():\n",
    "            print \"{:<3}{:<30} -- finished\".format(jid, jobname)\n",
    "        else:\n",
    "            print \"{:<3}{:<30} -- failed:\".format(jid, tree_asyncs[job].exception())\n",
    "    else:\n",
    "        print \"{:<3}{:<30} -- still running\".format(jid, jobname)"
   ]
  },
  {
   "cell_type": "markdown",
   "metadata": {},
   "source": [
    "### Summarize results"
   ]
  },
  {
   "cell_type": "code",
   "execution_count": 143,
   "metadata": {
    "collapsed": false
   },
   "outputs": [
    {
     "name": "stdout",
     "output_type": "stream",
     "text": [
      "delim-theta-200-tau-1000-*.out.txt\n",
      "   delim    prior posterior  nspecies\n",
      "0  00000  0.12500       0.3         1\n",
      "1  10000  0.12500   0.01053         2\n",
      "2  11000  0.12500    0.0392         3\n",
      "3  11001  0.12500   0.04750         4\n",
      "4  11100  0.12500   0.29133         4\n",
      "5  11101  0.12500   0.11126         5\n",
      "6  11110  0.12500   6.6e-05         5\n",
      "7  11111  0.12500   0.20008         6\n",
      "\n",
      "delim-theta-200-tau-2000-*.out.txt\n",
      "   delim    prior posterior  nspecies\n",
      "0  00000  0.12500       0.0         1\n",
      "1  10000  0.12500       0.0         2\n",
      "2  11000  0.12500   0.02226         3\n",
      "3  11001  0.12500   0.00979         4\n",
      "4  11100  0.12500   0.20957         4\n",
      "5  11101  0.12500   0.59025         5\n",
      "6  11110  0.12500   0.06810         5\n",
      "7  11111  0.12500   0.10000         6\n",
      "\n",
      "delim-theta-2000-tau-1000-*.out.txt\n",
      "   delim    prior posterior  nspecies\n",
      "0  00000  0.12500       0.1         1\n",
      "1  10000  0.12500       0.0         2\n",
      "2  11000  0.12500   0.02475         3\n",
      "3  11001  0.12500   0.01223         4\n",
      "4  11100  0.12500   0.03766         4\n",
      "5  11101  0.12500   0.16326         5\n",
      "6  11110  0.12500   0.08483         5\n",
      "7  11111  0.12500   0.57723         6\n",
      "\n",
      "delim-theta-2000-tau-2000-*.out.txt\n",
      "   delim    prior posterior  nspecies\n",
      "0  00000  0.12500       0.4         1\n",
      "1  10000  0.12500   0.02260         2\n",
      "2  11000  0.12500   0.02946         3\n",
      "3  11001  0.12500   0.01540         4\n",
      "4  11100  0.12500   0.06696         4\n",
      "5  11101  0.12500   0.08451         5\n",
      "6  11110  0.12500   0.12170         5\n",
      "7  11111  0.12500   0.25934         6\n",
      "\n"
     ]
    }
   ],
   "source": [
    "import glob\n",
    "import numpy as np\n",
    "import pandas as pd\n",
    "outfiles = glob.glob(os.path.join(WDIR, \"delim-theta-200-tau-1000-*.out.txt\"))\n",
    "\n",
    "def parse_bpp(ofiles):\n",
    "    cols = []\n",
    "    for ofile in ofiles:\n",
    "        with open(ofile) as infile:\n",
    "            dat  = infile.read()\n",
    "        lastbits = dat.split(\"bpp.mcmc.txt\\n\\n\")[1:]\n",
    "        results = lastbits[0].split(\"\\n\\n\")[0].split()\n",
    "        dat = np.array(results[3:]).reshape(8, 4)\n",
    "        cols.append(dat[:, 3].astype(float))\n",
    "    cols = np.array(cols)\n",
    "    cols = cols.sum(axis=0) / 10.\n",
    "    dat[:, 3] = cols.astype(str)\n",
    "    dd = pd.DataFrame(dat[:, 1:])\n",
    "    dd.columns = [\"delim\", \"prior\", \"posterior\"]\n",
    "    nspecies = 1 + np.array([list(i) for i in dat[:, 1]], dtype=int).sum(axis=1)\n",
    "    dd[\"nspecies\"] = nspecies\n",
    "    return dd\n",
    "    \n",
    "    \n",
    "for theta in [200, 2000]:\n",
    "    for tau in [1000, 2000]:\n",
    "        ofile = \"delim-theta-{}-tau-{}-*.out.txt\".format(theta, tau)\n",
    "        outfiles = glob.glob(os.path.join(WDIR, ofile))\n",
    "        print ofile\n",
    "        print parse_bpp(outfiles)\n",
    "        print \"\"\n"
   ]
  },
  {
   "cell_type": "markdown",
   "metadata": {},
   "source": [
    "### Take home\n",
    "In general, hypotheses of 5,6 species faired best, though in some cases one species was supported as well. There was frequently a lot of variation among replicates from different starting seeds, where each would give strong support for a conflicting result. Further tuning of mixing parameters might help with this. bpp does not output convergence statistics for the species delimitation method, but we concluded from runs of the 0,0 algorithm that this number of reps yielded ESS scores >200. "
   ]
  }
 ],
 "metadata": {
  "anaconda-cloud": {},
  "kernelspec": {
   "display_name": "Python [conda root]",
   "language": "python",
   "name": "conda-root-py"
  },
  "language_info": {
   "codemirror_mode": {
    "name": "ipython",
    "version": 2
   },
   "file_extension": ".py",
   "mimetype": "text/x-python",
   "name": "python",
   "nbconvert_exporter": "python",
   "pygments_lexer": "ipython2",
   "version": "2.7.12"
  }
 },
 "nbformat": 4,
 "nbformat_minor": 1
}
