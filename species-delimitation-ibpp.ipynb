{
 "cells": [
  {
   "cell_type": "markdown",
   "metadata": {},
   "source": [
    "# Species delimitation in Malagasy Canarium using iBPP\n",
    "\n",
    "This notebook is an empirical application of ibpp for species delimitation using GBS data assembled in ipyrad. We use the ipyrad utility function to `loci2bpp` to programatticaly setup a range of tests and to deploy them in parallel. "
   ]
  },
  {
   "cell_type": "markdown",
   "metadata": {},
   "source": [
    "### Information about this notebook\n",
    "This is a jupyter notebook. All code in this notebook is Python. You should be able to download and execute this notebook and reproduce all of our results. This notebook along with other notebooks and data files are hosted on github: https://github.com/sarahfederman/Canarium-GBS/"
   ]
  },
  {
   "cell_type": "markdown",
   "metadata": {},
   "source": [
    "### Import Python libraries"
   ]
  },
  {
   "cell_type": "code",
   "execution_count": 1,
   "metadata": {
    "collapsed": false
   },
   "outputs": [
    {
     "name": "stdout",
     "output_type": "stream",
     "text": [
      "ipyrad v.0.5.10\n"
     ]
    }
   ],
   "source": [
    "import ipyrad as ip\n",
    "import ipyparallel as ipp\n",
    "import pandas as pd\n",
    "import socket\n",
    "import sys\n",
    "import os\n",
    "\n",
    "## print versions\n",
    "print \"ipyrad v.{}\".format(ip.__version__)"
   ]
  },
  {
   "cell_type": "markdown",
   "metadata": {},
   "source": [
    "### Create a directory to store results files in"
   ]
  },
  {
   "cell_type": "code",
   "execution_count": 11,
   "metadata": {
    "collapsed": true
   },
   "outputs": [],
   "source": [
    "WDIR = \"./analysis_bpp\"\n",
    "if not os.path.exists(WDIR):\n",
    "    os.mkdir(WDIR)"
   ]
  },
  {
   "cell_type": "markdown",
   "metadata": {},
   "source": [
    "### Setup an ipyparallel cluster connection"
   ]
  },
  {
   "cell_type": "code",
   "execution_count": 12,
   "metadata": {
    "collapsed": false
   },
   "outputs": [
    {
     "name": "stdout",
     "output_type": "stream",
     "text": [
      "compute node: [16 cores] on c13n02.farnam.hpc.yale.internal\n",
      "compute node: [16 cores] on c13n04.farnam.hpc.yale.internal\n",
      "compute node: [16 cores] on c13n01.farnam.hpc.yale.internal\n",
      "compute node: [16 cores] on c13n03.farnam.hpc.yale.internal\n"
     ]
    }
   ],
   "source": [
    "rc = ipp.Client()\n",
    "lbview = rc.load_balanced_view()\n",
    "\n",
    "## print some information about our cluster\n",
    "info = rc[:].apply(socket.gethostname)\n",
    "for host in set(info.result_dict.values()):\n",
    "    print \"compute node: [{} cores] on {}\".format(info.result_dict.values().count(host), host)"
   ]
  },
  {
   "cell_type": "markdown",
   "metadata": {},
   "source": [
    "### The input data"
   ]
  },
  {
   "cell_type": "code",
   "execution_count": 3,
   "metadata": {
    "collapsed": false
   },
   "outputs": [
    {
     "name": "stdout",
     "output_type": "stream",
     "text": [
      "  % Total    % Received % Xferd  Average Speed   Time    Time     Time  Current\n",
      "                                 Dload  Upload   Total   Spent    Left  Speed\n",
      "100  106M  100  106M    0     0  13.0M      0  0:00:08  0:00:08 --:--:-- 10.7M\n"
     ]
    }
   ],
   "source": [
    "## downoad .loci file from (replace dropbox link with zenodo link) and save path\n",
    "! curl -LkO https://dl.dropboxusercontent.com/u/2538935/CanEnd_min20.loci\n",
    "LOCI = \"./CanEnd_min20.loci\""
   ]
  },
  {
   "cell_type": "code",
   "execution_count": 15,
   "metadata": {
    "collapsed": true
   },
   "outputs": [],
   "source": [
    "## make a mapping dictionary grouping samples into 'species'\n",
    "IMAP = {\n",
    "    \"A\": ['SF172', 'SF175', 'SF328', 'SF200', 'SF209',\n",
    "          'D14528', 'SF276', 'SF286', 'D13052'],\n",
    "    \"B\": ['D13101', 'D13103', 'D14482', 'D14483'],\n",
    "    \"C\": ['D14504', 'D14505', 'D14506'],\n",
    "    \"D\": ['D14477', 'D14478', 'D14480', 'D14485', 'D14501', 'D14513'], \n",
    "    \"E\": ['D13090', 'D12950'],\n",
    "    \"F\": ['D13097', 'SF155', 'D13063', 'D12963', 'SF160', 'SF327',\n",
    "          'SF224', 'SF228', '5573', 'SF153', 'SF164', 'D13075', 'SF197'], \n",
    "    }"
   ]
  },
  {
   "cell_type": "code",
   "execution_count": 16,
   "metadata": {
    "collapsed": true
   },
   "outputs": [],
   "source": [
    "## make a dictionary with min values to filter loci to those with N samples per species.\n",
    "MINMAP = {\n",
    "    \"A\": 8, \n",
    "    \"B\": 4, \n",
    "    \"C\": 3,\n",
    "    \"D\": 4, \n",
    "    \"E\": 2, \n",
    "    \"F\": 10,\n",
    "}"
   ]
  },
  {
   "cell_type": "code",
   "execution_count": 17,
   "metadata": {
    "collapsed": true
   },
   "outputs": [],
   "source": [
    "## Species tree hypothesis ('guide tree') based on raxml & bucky results\n",
    "TREE = \"((((D,B),C),(E,F)),A);\""
   ]
  },
  {
   "cell_type": "code",
   "execution_count": 18,
   "metadata": {
    "collapsed": false
   },
   "outputs": [
    {
     "data": {
      "text/html": [
       "<div>\n",
       "<table border=\"1\" class=\"dataframe\">\n",
       "  <thead>\n",
       "    <tr style=\"text-align: right;\">\n",
       "      <th></th>\n",
       "      <th>leaf_tot</th>\n",
       "      <th>juga</th>\n",
       "      <th>leaf_juga_ratio</th>\n",
       "      <th>stip_dist</th>\n",
       "      <th>stip_scar_length</th>\n",
       "      <th>pet_length</th>\n",
       "      <th>petiole_stip_ratio</th>\n",
       "      <th>lateral_petiolules</th>\n",
       "      <th>basal_petiolule</th>\n",
       "      <th>termil_petiolule</th>\n",
       "      <th>...</th>\n",
       "      <th>lateral_lft_W</th>\n",
       "      <th>lateral_L_widest_point</th>\n",
       "      <th>ll_lw_ratio</th>\n",
       "      <th>ll_wp_ratio</th>\n",
       "      <th>termil_lft_L</th>\n",
       "      <th>termil_lft_W</th>\n",
       "      <th>termil_L_widest_point</th>\n",
       "      <th>tl_tw_ratio</th>\n",
       "      <th>tl_wp_ratio</th>\n",
       "      <th>X2o_vein_pairs</th>\n",
       "    </tr>\n",
       "    <tr>\n",
       "      <th>Indiv</th>\n",
       "      <th></th>\n",
       "      <th></th>\n",
       "      <th></th>\n",
       "      <th></th>\n",
       "      <th></th>\n",
       "      <th></th>\n",
       "      <th></th>\n",
       "      <th></th>\n",
       "      <th></th>\n",
       "      <th></th>\n",
       "      <th></th>\n",
       "      <th></th>\n",
       "      <th></th>\n",
       "      <th></th>\n",
       "      <th></th>\n",
       "      <th></th>\n",
       "      <th></th>\n",
       "      <th></th>\n",
       "      <th></th>\n",
       "      <th></th>\n",
       "      <th></th>\n",
       "    </tr>\n",
       "  </thead>\n",
       "  <tbody>\n",
       "    <tr>\n",
       "      <th>SF175</th>\n",
       "      <td>371.77</td>\n",
       "      <td>4.67</td>\n",
       "      <td>79.49</td>\n",
       "      <td>21.38</td>\n",
       "      <td>2.30</td>\n",
       "      <td>59.43</td>\n",
       "      <td>2.91</td>\n",
       "      <td>19.45</td>\n",
       "      <td>8.98</td>\n",
       "      <td>45.31</td>\n",
       "      <td>...</td>\n",
       "      <td>36.79</td>\n",
       "      <td>55.04</td>\n",
       "      <td>2.98</td>\n",
       "      <td>2.98</td>\n",
       "      <td>85.59</td>\n",
       "      <td>40.27</td>\n",
       "      <td>45.99</td>\n",
       "      <td>2.18</td>\n",
       "      <td>1.88</td>\n",
       "      <td>10.67</td>\n",
       "    </tr>\n",
       "    <tr>\n",
       "      <th>SF328</th>\n",
       "      <td>268.61</td>\n",
       "      <td>4.00</td>\n",
       "      <td>67.15</td>\n",
       "      <td>39.91</td>\n",
       "      <td>1.39</td>\n",
       "      <td>67.65</td>\n",
       "      <td>1.72</td>\n",
       "      <td>9.01</td>\n",
       "      <td>5.40</td>\n",
       "      <td>27.41</td>\n",
       "      <td>...</td>\n",
       "      <td>33.04</td>\n",
       "      <td>41.29</td>\n",
       "      <td>2.35</td>\n",
       "      <td>2.35</td>\n",
       "      <td>67.84</td>\n",
       "      <td>29.39</td>\n",
       "      <td>40.11</td>\n",
       "      <td>2.32</td>\n",
       "      <td>1.71</td>\n",
       "      <td>10.50</td>\n",
       "    </tr>\n",
       "    <tr>\n",
       "      <th>SF200</th>\n",
       "      <td>208.42</td>\n",
       "      <td>3.67</td>\n",
       "      <td>58.15</td>\n",
       "      <td>12.60</td>\n",
       "      <td>1.78</td>\n",
       "      <td>32.21</td>\n",
       "      <td>2.60</td>\n",
       "      <td>8.58</td>\n",
       "      <td>4.63</td>\n",
       "      <td>29.89</td>\n",
       "      <td>...</td>\n",
       "      <td>27.35</td>\n",
       "      <td>37.53</td>\n",
       "      <td>2.37</td>\n",
       "      <td>2.37</td>\n",
       "      <td>55.54</td>\n",
       "      <td>30.66</td>\n",
       "      <td>34.89</td>\n",
       "      <td>1.82</td>\n",
       "      <td>1.59</td>\n",
       "      <td>10.00</td>\n",
       "    </tr>\n",
       "    <tr>\n",
       "      <th>SF209</th>\n",
       "      <td>218.85</td>\n",
       "      <td>4.00</td>\n",
       "      <td>56.69</td>\n",
       "      <td>13.00</td>\n",
       "      <td>2.04</td>\n",
       "      <td>42.98</td>\n",
       "      <td>3.46</td>\n",
       "      <td>8.62</td>\n",
       "      <td>4.94</td>\n",
       "      <td>17.66</td>\n",
       "      <td>...</td>\n",
       "      <td>30.80</td>\n",
       "      <td>35.68</td>\n",
       "      <td>2.05</td>\n",
       "      <td>2.05</td>\n",
       "      <td>61.20</td>\n",
       "      <td>30.43</td>\n",
       "      <td>30.80</td>\n",
       "      <td>2.03</td>\n",
       "      <td>2.01</td>\n",
       "      <td>10.67</td>\n",
       "    </tr>\n",
       "    <tr>\n",
       "      <th>D14528</th>\n",
       "      <td>264.57</td>\n",
       "      <td>4.00</td>\n",
       "      <td>66.14</td>\n",
       "      <td>10.85</td>\n",
       "      <td>2.99</td>\n",
       "      <td>53.21</td>\n",
       "      <td>4.90</td>\n",
       "      <td>12.23</td>\n",
       "      <td>9.12</td>\n",
       "      <td>32.79</td>\n",
       "      <td>...</td>\n",
       "      <td>33.91</td>\n",
       "      <td>53.94</td>\n",
       "      <td>2.61</td>\n",
       "      <td>2.61</td>\n",
       "      <td>79.49</td>\n",
       "      <td>35.67</td>\n",
       "      <td>49.57</td>\n",
       "      <td>2.22</td>\n",
       "      <td>1.60</td>\n",
       "      <td>10.33</td>\n",
       "    </tr>\n",
       "    <tr>\n",
       "      <th>SF276</th>\n",
       "      <td>283.45</td>\n",
       "      <td>3.00</td>\n",
       "      <td>94.48</td>\n",
       "      <td>21.84</td>\n",
       "      <td>2.64</td>\n",
       "      <td>74.72</td>\n",
       "      <td>3.55</td>\n",
       "      <td>12.56</td>\n",
       "      <td>8.35</td>\n",
       "      <td>31.82</td>\n",
       "      <td>...</td>\n",
       "      <td>37.79</td>\n",
       "      <td>52.69</td>\n",
       "      <td>2.31</td>\n",
       "      <td>2.31</td>\n",
       "      <td>82.05</td>\n",
       "      <td>44.05</td>\n",
       "      <td>51.32</td>\n",
       "      <td>1.87</td>\n",
       "      <td>1.60</td>\n",
       "      <td>8.00</td>\n",
       "    </tr>\n",
       "    <tr>\n",
       "      <th>SF286</th>\n",
       "      <td>288.35</td>\n",
       "      <td>3.00</td>\n",
       "      <td>96.12</td>\n",
       "      <td>27.57</td>\n",
       "      <td>2.75</td>\n",
       "      <td>72.73</td>\n",
       "      <td>2.65</td>\n",
       "      <td>17.31</td>\n",
       "      <td>11.73</td>\n",
       "      <td>35.23</td>\n",
       "      <td>...</td>\n",
       "      <td>52.27</td>\n",
       "      <td>42.52</td>\n",
       "      <td>1.58</td>\n",
       "      <td>1.58</td>\n",
       "      <td>83.78</td>\n",
       "      <td>46.91</td>\n",
       "      <td>44.01</td>\n",
       "      <td>1.78</td>\n",
       "      <td>1.93</td>\n",
       "      <td>8.50</td>\n",
       "    </tr>\n",
       "    <tr>\n",
       "      <th>D14504</th>\n",
       "      <td>323.02</td>\n",
       "      <td>6.00</td>\n",
       "      <td>54.21</td>\n",
       "      <td>12.54</td>\n",
       "      <td>2.82</td>\n",
       "      <td>65.82</td>\n",
       "      <td>6.09</td>\n",
       "      <td>8.60</td>\n",
       "      <td>5.32</td>\n",
       "      <td>18.30</td>\n",
       "      <td>...</td>\n",
       "      <td>48.74</td>\n",
       "      <td>44.06</td>\n",
       "      <td>1.70</td>\n",
       "      <td>1.70</td>\n",
       "      <td>70.46</td>\n",
       "      <td>36.71</td>\n",
       "      <td>34.97</td>\n",
       "      <td>1.94</td>\n",
       "      <td>2.05</td>\n",
       "      <td>16.67</td>\n",
       "    </tr>\n",
       "    <tr>\n",
       "      <th>D14505</th>\n",
       "      <td>448.82</td>\n",
       "      <td>8.00</td>\n",
       "      <td>56.25</td>\n",
       "      <td>9.51</td>\n",
       "      <td>3.00</td>\n",
       "      <td>63.97</td>\n",
       "      <td>6.70</td>\n",
       "      <td>5.77</td>\n",
       "      <td>5.67</td>\n",
       "      <td>23.10</td>\n",
       "      <td>...</td>\n",
       "      <td>54.47</td>\n",
       "      <td>45.00</td>\n",
       "      <td>2.29</td>\n",
       "      <td>2.29</td>\n",
       "      <td>129.33</td>\n",
       "      <td>64.38</td>\n",
       "      <td>65.85</td>\n",
       "      <td>2.01</td>\n",
       "      <td>2.03</td>\n",
       "      <td>17.50</td>\n",
       "    </tr>\n",
       "    <tr>\n",
       "      <th>D14506</th>\n",
       "      <td>534.65</td>\n",
       "      <td>7.00</td>\n",
       "      <td>77.69</td>\n",
       "      <td>11.67</td>\n",
       "      <td>3.50</td>\n",
       "      <td>91.80</td>\n",
       "      <td>8.00</td>\n",
       "      <td>15.40</td>\n",
       "      <td>13.51</td>\n",
       "      <td>35.22</td>\n",
       "      <td>...</td>\n",
       "      <td>70.34</td>\n",
       "      <td>66.34</td>\n",
       "      <td>2.85</td>\n",
       "      <td>2.85</td>\n",
       "      <td>155.46</td>\n",
       "      <td>61.82</td>\n",
       "      <td>74.68</td>\n",
       "      <td>2.52</td>\n",
       "      <td>2.06</td>\n",
       "      <td>20.33</td>\n",
       "    </tr>\n",
       "  </tbody>\n",
       "</table>\n",
       "<p>10 rows × 27 columns</p>\n",
       "</div>"
      ],
      "text/plain": [
       "        leaf_tot  juga  leaf_juga_ratio  stip_dist  stip_scar_length  \\\n",
       "Indiv                                                                  \n",
       "SF175     371.77  4.67            79.49      21.38              2.30   \n",
       "SF328     268.61  4.00            67.15      39.91              1.39   \n",
       "SF200     208.42  3.67            58.15      12.60              1.78   \n",
       "SF209     218.85  4.00            56.69      13.00              2.04   \n",
       "D14528    264.57  4.00            66.14      10.85              2.99   \n",
       "SF276     283.45  3.00            94.48      21.84              2.64   \n",
       "SF286     288.35  3.00            96.12      27.57              2.75   \n",
       "D14504    323.02  6.00            54.21      12.54              2.82   \n",
       "D14505    448.82  8.00            56.25       9.51              3.00   \n",
       "D14506    534.65  7.00            77.69      11.67              3.50   \n",
       "\n",
       "        pet_length  petiole_stip_ratio  lateral_petiolules  basal_petiolule  \\\n",
       "Indiv                                                                         \n",
       "SF175        59.43                2.91               19.45             8.98   \n",
       "SF328        67.65                1.72                9.01             5.40   \n",
       "SF200        32.21                2.60                8.58             4.63   \n",
       "SF209        42.98                3.46                8.62             4.94   \n",
       "D14528       53.21                4.90               12.23             9.12   \n",
       "SF276        74.72                3.55               12.56             8.35   \n",
       "SF286        72.73                2.65               17.31            11.73   \n",
       "D14504       65.82                6.09                8.60             5.32   \n",
       "D14505       63.97                6.70                5.77             5.67   \n",
       "D14506       91.80                8.00               15.40            13.51   \n",
       "\n",
       "        termil_petiolule       ...        lateral_lft_W  \\\n",
       "Indiv                          ...                        \n",
       "SF175              45.31       ...                36.79   \n",
       "SF328              27.41       ...                33.04   \n",
       "SF200              29.89       ...                27.35   \n",
       "SF209              17.66       ...                30.80   \n",
       "D14528             32.79       ...                33.91   \n",
       "SF276              31.82       ...                37.79   \n",
       "SF286              35.23       ...                52.27   \n",
       "D14504             18.30       ...                48.74   \n",
       "D14505             23.10       ...                54.47   \n",
       "D14506             35.22       ...                70.34   \n",
       "\n",
       "        lateral_L_widest_point  ll_lw_ratio  ll_wp_ratio  termil_lft_L  \\\n",
       "Indiv                                                                    \n",
       "SF175                    55.04         2.98         2.98         85.59   \n",
       "SF328                    41.29         2.35         2.35         67.84   \n",
       "SF200                    37.53         2.37         2.37         55.54   \n",
       "SF209                    35.68         2.05         2.05         61.20   \n",
       "D14528                   53.94         2.61         2.61         79.49   \n",
       "SF276                    52.69         2.31         2.31         82.05   \n",
       "SF286                    42.52         1.58         1.58         83.78   \n",
       "D14504                   44.06         1.70         1.70         70.46   \n",
       "D14505                   45.00         2.29         2.29        129.33   \n",
       "D14506                   66.34         2.85         2.85        155.46   \n",
       "\n",
       "        termil_lft_W  termil_L_widest_point  tl_tw_ratio  tl_wp_ratio  \\\n",
       "Indiv                                                                   \n",
       "SF175          40.27                  45.99         2.18         1.88   \n",
       "SF328          29.39                  40.11         2.32         1.71   \n",
       "SF200          30.66                  34.89         1.82         1.59   \n",
       "SF209          30.43                  30.80         2.03         2.01   \n",
       "D14528         35.67                  49.57         2.22         1.60   \n",
       "SF276          44.05                  51.32         1.87         1.60   \n",
       "SF286          46.91                  44.01         1.78         1.93   \n",
       "D14504         36.71                  34.97         1.94         2.05   \n",
       "D14505         64.38                  65.85         2.01         2.03   \n",
       "D14506         61.82                  74.68         2.52         2.06   \n",
       "\n",
       "        X2o_vein_pairs  \n",
       "Indiv                   \n",
       "SF175            10.67  \n",
       "SF328            10.50  \n",
       "SF200            10.00  \n",
       "SF209            10.67  \n",
       "D14528           10.33  \n",
       "SF276             8.00  \n",
       "SF286             8.50  \n",
       "D14504           16.67  \n",
       "D14505           17.50  \n",
       "D14506           20.33  \n",
       "\n",
       "[10 rows x 27 columns]"
      ]
     },
     "execution_count": 18,
     "metadata": {},
     "output_type": "execute_result"
    }
   ],
   "source": [
    "## Trait data (csv) from (https://zenodo.../CanEnd_trait2.csv\")\n",
    "TRAITS = pd.read_csv(\"./CanEnd_traits.csv\", na_values=\"\", index_col=0)\n",
    "TRAITS.head(10)"
   ]
  },
  {
   "cell_type": "markdown",
   "metadata": {},
   "source": [
    "### Make a function to call bpp/ibpp\n",
    "We will submit a large range of jobs to our parallel cluster. First we will infer a species tree with bpp, and then we will add traits and test delimitation hypotheses with ibpp. To track the progress of all of the parallel processes we will store info about them (their async objects) in a dictionary called results. "
   ]
  },
  {
   "cell_type": "code",
   "execution_count": 19,
   "metadata": {
    "collapsed": true
   },
   "outputs": [],
   "source": [
    "## a dictionary to store results\n",
    "results = {}"
   ]
  },
  {
   "cell_type": "code",
   "execution_count": 20,
   "metadata": {
    "collapsed": true
   },
   "outputs": [],
   "source": [
    "## a function to call i/bpp\n",
    "def bpp(ctlfile):\n",
    "    \"\"\" \n",
    "    This assumes you installed bpp & ibpp in ~/local/bin/ following the \n",
    "    installation instructions in the ipyrad bpp tutorial. \n",
    "    \"\"\"\n",
    "    import subprocess\n",
    "    import os\n",
    "    if \".ibpp\" in ctlfile:\n",
    "        cmd = [os.path.expanduser(\"~/local/bin/ibpp\"), ctlfile]\n",
    "    else:\n",
    "        cmd = [os.path.expanduser(\"~/local/bin/bpp\"), ctlfile]\n",
    "    subprocess.check_output(cmd)\n",
    "    "
   ]
  },
  {
   "cell_type": "markdown",
   "metadata": {},
   "source": [
    "### Infer species tree "
   ]
  },
  {
   "cell_type": "code",
   "execution_count": 21,
   "metadata": {
    "collapsed": false
   },
   "outputs": [
    {
     "name": "stderr",
     "output_type": "stream",
     "text": [
      "new files created (1007 loci, 6 species, 37 samples)\n",
      "  tree.bpp.seq.txt\n",
      "  tree.bpp.imap.txt\n",
      "  tree.bpp.ctl.txt\n"
     ]
    }
   ],
   "source": [
    "## an initial test for the species tree from starting 'guide tree'\n",
    "ctl0 = ip.file_conversion.loci2bpp(\"tree\", LOCI, IMAP, TREE, \n",
    "                                   wdir=WDIR,\n",
    "                                   minmap=MINMAP,\n",
    "                                   infer_sptree=1,\n",
    "                                   infer_delimit=0,\n",
    "                                   maxloci=10000,  \n",
    "                                   nsample=100000,\n",
    "                                   burnin=10000,\n",
    "                                   sampfreq=2,\n",
    "                                   thetaprior=(2, 200),\n",
    "                                   tauprior=(2, 2, 1)\n",
    "                                   )"
   ]
  },
  {
   "cell_type": "markdown",
   "metadata": {},
   "source": [
    "### Infer species delimitation"
   ]
  },
  {
   "cell_type": "code",
   "execution_count": 24,
   "metadata": {
    "collapsed": false
   },
   "outputs": [
    {
     "name": "stderr",
     "output_type": "stream",
     "text": [
      "new files created (1007 loci, 6 species, 37 samples)\n",
      "  delim.ibpp.seq.txt\n",
      "  delim.ibpp.imap.txt\n",
      "  delim.ibpp.ctl.txt\n",
      "  delim.ibpp.traits.txt\n"
     ]
    }
   ],
   "source": [
    "## an initial test for the species tree from starting 'guide tree'\n",
    "ctl1 = ip.file_conversion.loci2bpp(\"delim\", LOCI, IMAP, TREE, \n",
    "                                   wdir=WDIR,\n",
    "                                   minmap=MINMAP,\n",
    "                                   traits_df=TRAITS,\n",
    "                                   infer_sptree=0,\n",
    "                                   infer_delimit=1,\n",
    "                                   maxloci=10000,  \n",
    "                                   nsample=100000,\n",
    "                                   burnin=10000,\n",
    "                                   sampfreq=2,\n",
    "                                   thetaprior=(2, 200),\n",
    "                                   tauprior=(2, 2, 1),\n",
    "                                   kappa=0,\n",
    "                                   nu=1\n",
    "                                   )"
   ]
  },
  {
   "cell_type": "markdown",
   "metadata": {},
   "source": [
    "### Send job to run in parallel"
   ]
  },
  {
   "cell_type": "code",
   "execution_count": 26,
   "metadata": {
    "collapsed": false
   },
   "outputs": [
    {
     "name": "stdout",
     "output_type": "stream",
     "text": [
      "submitted /ysm-gpfs/home/de243/Canarium-GBS/analysis_bpp/tree.bpp.ctl.txt\n",
      "submitted /ysm-gpfs/home/de243/Canarium-GBS/analysis_bpp/delim.ibpp.ctl.txt\n"
     ]
    }
   ],
   "source": [
    "for ctl in [ctl0, ctl1]:\n",
    "    lbview.apply(bpp, ctl)\n",
    "    print \"submitted {}\".format(ctl)"
   ]
  },
  {
   "cell_type": "markdown",
   "metadata": {},
   "source": [
    "### Set up many additional species delimitation tests\n",
    "We are interested in both how well the sequence data and the trait data can delimit species in Canarium. We will setup a range of tests to look at different settings for the priors, for different species delimitation algorithms, and for different types of data. We will start with a six taxon tree and allow the species delimitation algorithm to collapes nodes on the tree to test hypotheses of 1-6 species. "
   ]
  },
  {
   "cell_type": "code",
   "execution_count": 51,
   "metadata": {
    "collapsed": true
   },
   "outputs": [],
   "source": [
    "## set up a couple tests to perform\n",
    "DELIMIT_TESTS = [\n",
    "    (0, 2),\n",
    "    (0, 5),\n",
    "    (0, 10),\n",
    "    (1, 1.0, 1.0),\n",
    "    (1, 1.0, 1.5),\n",
    "    (1, 1.0, 2.0),\n",
    "    (1, 1.5, 1.0), \n",
    "    (1, 1.5, 1.5), \n",
    "    (1, 1.5, 2.0),\n",
    "    (1, 2.0, 1.0), \n",
    "    (1, 2.0, 1.5), \n",
    "    (1, 2.0, 2.0)\n",
    "]\n",
    "\n",
    "## make a mapping dictionary that INCLUDES \"SF172\"\n",
    "IMAP_1 = {\n",
    "    \"A\": ['SF172', 'SF175', 'SF328', 'SF200', 'SF209',\n",
    "          'D14528', 'SF276', 'SF286', 'D13052'],\n",
    "    \"B\": ['D13101', 'D13103', 'D14482', 'D14483'],\n",
    "    \"C\": ['D14504', 'D14505', 'D14506'],\n",
    "    \"D\": ['D14477', 'D14478', 'D14480', 'D14485', 'D14501', 'D14513'], \n",
    "    \"E\": ['D13090', 'D12950'],\n",
    "    \"F\": ['D13097', 'SF155', 'D13063', 'D12963', 'SF160', 'SF327',\n",
    "          'SF224', 'SF228', '5573', 'SF153', 'SF164', 'D13075', 'SF197'], \n",
    "    }\n",
    "\n",
    "\n",
    "## make a mapping dictionary that EXCLUDES \"SF172\"\n",
    "IMAP_2 = {\n",
    "    \"A\": ['SF175', 'SF328', 'SF200', 'SF209',\n",
    "          'D14528', 'SF276', 'SF286', 'D13052'],\n",
    "    \"B\": ['D13101', 'D13103', 'D14482', 'D14483'],\n",
    "    \"C\": ['D14504', 'D14505', 'D14506'],\n",
    "    \"D\": ['D14477', 'D14478', 'D14480', 'D14485', 'D14501', 'D14513'], \n",
    "    \"E\": ['D13090', 'D12950'],\n",
    "    \"F\": ['D13097', 'SF155', 'D13063', 'D12963', 'SF160', 'SF327',\n",
    "          'SF224', 'SF228', '5573', 'SF153', 'SF164', 'D13075', 'SF197'], \n",
    "    }"
   ]
  },
  {
   "cell_type": "code",
   "execution_count": null,
   "metadata": {
    "collapsed": true
   },
   "outputs": [],
   "source": [
    "## iterate over parameters\n",
    "for tdx, delim in enumerate(DELIMIT_TESTS):\n",
    "    for idx, imap in enumerate([IMAP_1, IMAP2]):\n",
    "        for usetraits in [0, 1]:\n",
    "        \n",
    "        ## make a name for this test\n",
    "        rname = \"delim-{}-{}-{}\".format(tdx, idx, usetraits)\n",
    "        \n",
    "        ## make input files and get ctl path\n",
    "        ctl = ip.file_conversion.loci2bpp(rname, LOCI, imap, TREE, \n",
    "                                          minmap=MINMAP, \n",
    "                                          infer_delimit=1,\n",
    "                                          delimit_alg=delim,\n",
    "                                          traits=TRAITS,\n",
    "                                          maxloci=10000,  \n",
    "                                          nsample=100000,\n",
    "                                          burnin=10000,\n",
    "                                          sampfreq=2,\n",
    "                                          thetaprior=(2, 2000),\n",
    "                                          tauprior=(2, 2, 1),\n",
    "                                          usetraitdata=usetraits,\n",
    "                                          )\n",
    "        \n",
    "        ## send job to run on cluster\n",
    "        results[rname] = lbview.apply(bpp, ctl)\n",
    "        sys.stderr.write(\"job {} submitted\".format(rname))\n",
    "        "
   ]
  }
 ],
 "metadata": {
  "anaconda-cloud": {},
  "kernelspec": {
   "display_name": "Python [conda root]",
   "language": "python",
   "name": "conda-root-py"
  },
  "language_info": {
   "codemirror_mode": {
    "name": "ipython",
    "version": 2
   },
   "file_extension": ".py",
   "mimetype": "text/x-python",
   "name": "python",
   "nbconvert_exporter": "python",
   "pygments_lexer": "ipython2",
   "version": "2.7.12"
  }
 },
 "nbformat": 4,
 "nbformat_minor": 1
}
