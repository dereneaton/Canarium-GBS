{
 "cells": [
  {
   "cell_type": "markdown",
   "metadata": {},
   "source": [
    "# Species delimitation in Malagasy Canarium using iBPP\n",
    "\n",
    "This notebook is an empirical application of ibpp for species delimitation using GBS data assembled in ipyrad. We use the ipyrad utility function to `loci2bpp` to programatticaly setup a range of tests and to deploy them in parallel. "
   ]
  },
  {
   "cell_type": "markdown",
   "metadata": {},
   "source": [
    "### Information about this notebook\n",
    "This is a jupyter notebook. All code in this notebook is Python. You should be able to download and execute this notebook and reproduce all of our results. This notebook along with other notebooks and data files are hosted on github: https://github.com/sarahfederman/Canarium-GBS/"
   ]
  },
  {
   "cell_type": "markdown",
   "metadata": {},
   "source": [
    "### Import Python libraries"
   ]
  },
  {
   "cell_type": "code",
   "execution_count": 40,
   "metadata": {
    "collapsed": false
   },
   "outputs": [
    {
     "name": "stdout",
     "output_type": "stream",
     "text": [
      "ipyrad v.0.5.10\n"
     ]
    }
   ],
   "source": [
    "import ipyrad as ip\n",
    "import ipyparallel as ipp\n",
    "import pandas as pd\n",
    "import random\n",
    "import socket\n",
    "import sys\n",
    "import os\n",
    "\n",
    "## print versions\n",
    "print \"ipyrad v.{}\".format(ip.__version__)"
   ]
  },
  {
   "cell_type": "markdown",
   "metadata": {},
   "source": [
    "### Create a directory to store results files in"
   ]
  },
  {
   "cell_type": "code",
   "execution_count": 11,
   "metadata": {
    "collapsed": true
   },
   "outputs": [],
   "source": [
    "WDIR = \"./analysis_bpp\"\n",
    "if not os.path.exists(WDIR):\n",
    "    os.mkdir(WDIR)"
   ]
  },
  {
   "cell_type": "markdown",
   "metadata": {},
   "source": [
    "### Setup an ipyparallel cluster connection"
   ]
  },
  {
   "cell_type": "code",
   "execution_count": 12,
   "metadata": {
    "collapsed": false
   },
   "outputs": [
    {
     "name": "stdout",
     "output_type": "stream",
     "text": [
      "compute node: [16 cores] on c13n02.farnam.hpc.yale.internal\n",
      "compute node: [16 cores] on c13n04.farnam.hpc.yale.internal\n",
      "compute node: [16 cores] on c13n01.farnam.hpc.yale.internal\n",
      "compute node: [16 cores] on c13n03.farnam.hpc.yale.internal\n"
     ]
    }
   ],
   "source": [
    "rc = ipp.Client()\n",
    "lbview = rc.load_balanced_view()\n",
    "\n",
    "## print some information about our cluster\n",
    "info = rc[:].apply(socket.gethostname)\n",
    "for host in set(info.result_dict.values()):\n",
    "    print \"compute node: [{} cores] on {}\".format(info.result_dict.values().count(host), host)"
   ]
  },
  {
   "cell_type": "markdown",
   "metadata": {},
   "source": [
    "### The input data"
   ]
  },
  {
   "cell_type": "code",
   "execution_count": 3,
   "metadata": {
    "collapsed": false
   },
   "outputs": [
    {
     "name": "stdout",
     "output_type": "stream",
     "text": [
      "  % Total    % Received % Xferd  Average Speed   Time    Time     Time  Current\n",
      "                                 Dload  Upload   Total   Spent    Left  Speed\n",
      "100  106M  100  106M    0     0  13.0M      0  0:00:08  0:00:08 --:--:-- 10.7M\n"
     ]
    }
   ],
   "source": [
    "## downoad .loci file from (replace dropbox link with zenodo link) and save path\n",
    "! curl -LkO https://dl.dropboxusercontent.com/u/2538935/CanEnd_min20.loci\n",
    "LOCI = \"./CanEnd_min20.loci\""
   ]
  },
  {
   "cell_type": "code",
   "execution_count": 15,
   "metadata": {
    "collapsed": true
   },
   "outputs": [],
   "source": [
    "## make a mapping dictionary grouping samples into 'species'\n",
    "IMAP = {\n",
    "    \"A\": ['SF172', 'SF175', 'SF328', 'SF200', 'SF209',\n",
    "          'D14528', 'SF276', 'SF286', 'D13052'],\n",
    "    \"B\": ['D13101', 'D13103', 'D14482', 'D14483'],\n",
    "    \"C\": ['D14504', 'D14505', 'D14506'],\n",
    "    \"D\": ['D14477', 'D14478', 'D14480', 'D14485', 'D14501', 'D14513'], \n",
    "    \"E\": ['D13090', 'D12950'],\n",
    "    \"F\": ['D13097', 'SF155', 'D13063', 'D12963', 'SF160', 'SF327',\n",
    "          'SF224', 'SF228', '5573', 'SF153', 'SF164', 'D13075', 'SF197'], \n",
    "    }"
   ]
  },
  {
   "cell_type": "code",
   "execution_count": 16,
   "metadata": {
    "collapsed": true
   },
   "outputs": [],
   "source": [
    "## make a dictionary with min values to filter loci to those with N samples per species.\n",
    "MINMAP = {\n",
    "    \"A\": 8, \n",
    "    \"B\": 4, \n",
    "    \"C\": 3,\n",
    "    \"D\": 4, \n",
    "    \"E\": 2, \n",
    "    \"F\": 10,\n",
    "}"
   ]
  },
  {
   "cell_type": "code",
   "execution_count": 17,
   "metadata": {
    "collapsed": true
   },
   "outputs": [],
   "source": [
    "## Species tree hypothesis ('guide tree') based on raxml & bucky results\n",
    "TREE = \"((((D,B),C),(E,F)),A);\""
   ]
  },
  {
   "cell_type": "code",
   "execution_count": 18,
   "metadata": {
    "collapsed": false
   },
   "outputs": [
    {
     "data": {
      "text/html": [
       "<div>\n",
       "<table border=\"1\" class=\"dataframe\">\n",
       "  <thead>\n",
       "    <tr style=\"text-align: right;\">\n",
       "      <th></th>\n",
       "      <th>leaf_tot</th>\n",
       "      <th>juga</th>\n",
       "      <th>leaf_juga_ratio</th>\n",
       "      <th>stip_dist</th>\n",
       "      <th>stip_scar_length</th>\n",
       "      <th>pet_length</th>\n",
       "      <th>petiole_stip_ratio</th>\n",
       "      <th>lateral_petiolules</th>\n",
       "      <th>basal_petiolule</th>\n",
       "      <th>termil_petiolule</th>\n",
       "      <th>...</th>\n",
       "      <th>lateral_lft_W</th>\n",
       "      <th>lateral_L_widest_point</th>\n",
       "      <th>ll_lw_ratio</th>\n",
       "      <th>ll_wp_ratio</th>\n",
       "      <th>termil_lft_L</th>\n",
       "      <th>termil_lft_W</th>\n",
       "      <th>termil_L_widest_point</th>\n",
       "      <th>tl_tw_ratio</th>\n",
       "      <th>tl_wp_ratio</th>\n",
       "      <th>X2o_vein_pairs</th>\n",
       "    </tr>\n",
       "    <tr>\n",
       "      <th>Indiv</th>\n",
       "      <th></th>\n",
       "      <th></th>\n",
       "      <th></th>\n",
       "      <th></th>\n",
       "      <th></th>\n",
       "      <th></th>\n",
       "      <th></th>\n",
       "      <th></th>\n",
       "      <th></th>\n",
       "      <th></th>\n",
       "      <th></th>\n",
       "      <th></th>\n",
       "      <th></th>\n",
       "      <th></th>\n",
       "      <th></th>\n",
       "      <th></th>\n",
       "      <th></th>\n",
       "      <th></th>\n",
       "      <th></th>\n",
       "      <th></th>\n",
       "      <th></th>\n",
       "    </tr>\n",
       "  </thead>\n",
       "  <tbody>\n",
       "    <tr>\n",
       "      <th>SF175</th>\n",
       "      <td>371.77</td>\n",
       "      <td>4.67</td>\n",
       "      <td>79.49</td>\n",
       "      <td>21.38</td>\n",
       "      <td>2.30</td>\n",
       "      <td>59.43</td>\n",
       "      <td>2.91</td>\n",
       "      <td>19.45</td>\n",
       "      <td>8.98</td>\n",
       "      <td>45.31</td>\n",
       "      <td>...</td>\n",
       "      <td>36.79</td>\n",
       "      <td>55.04</td>\n",
       "      <td>2.98</td>\n",
       "      <td>2.98</td>\n",
       "      <td>85.59</td>\n",
       "      <td>40.27</td>\n",
       "      <td>45.99</td>\n",
       "      <td>2.18</td>\n",
       "      <td>1.88</td>\n",
       "      <td>10.67</td>\n",
       "    </tr>\n",
       "    <tr>\n",
       "      <th>SF328</th>\n",
       "      <td>268.61</td>\n",
       "      <td>4.00</td>\n",
       "      <td>67.15</td>\n",
       "      <td>39.91</td>\n",
       "      <td>1.39</td>\n",
       "      <td>67.65</td>\n",
       "      <td>1.72</td>\n",
       "      <td>9.01</td>\n",
       "      <td>5.40</td>\n",
       "      <td>27.41</td>\n",
       "      <td>...</td>\n",
       "      <td>33.04</td>\n",
       "      <td>41.29</td>\n",
       "      <td>2.35</td>\n",
       "      <td>2.35</td>\n",
       "      <td>67.84</td>\n",
       "      <td>29.39</td>\n",
       "      <td>40.11</td>\n",
       "      <td>2.32</td>\n",
       "      <td>1.71</td>\n",
       "      <td>10.50</td>\n",
       "    </tr>\n",
       "    <tr>\n",
       "      <th>SF200</th>\n",
       "      <td>208.42</td>\n",
       "      <td>3.67</td>\n",
       "      <td>58.15</td>\n",
       "      <td>12.60</td>\n",
       "      <td>1.78</td>\n",
       "      <td>32.21</td>\n",
       "      <td>2.60</td>\n",
       "      <td>8.58</td>\n",
       "      <td>4.63</td>\n",
       "      <td>29.89</td>\n",
       "      <td>...</td>\n",
       "      <td>27.35</td>\n",
       "      <td>37.53</td>\n",
       "      <td>2.37</td>\n",
       "      <td>2.37</td>\n",
       "      <td>55.54</td>\n",
       "      <td>30.66</td>\n",
       "      <td>34.89</td>\n",
       "      <td>1.82</td>\n",
       "      <td>1.59</td>\n",
       "      <td>10.00</td>\n",
       "    </tr>\n",
       "    <tr>\n",
       "      <th>SF209</th>\n",
       "      <td>218.85</td>\n",
       "      <td>4.00</td>\n",
       "      <td>56.69</td>\n",
       "      <td>13.00</td>\n",
       "      <td>2.04</td>\n",
       "      <td>42.98</td>\n",
       "      <td>3.46</td>\n",
       "      <td>8.62</td>\n",
       "      <td>4.94</td>\n",
       "      <td>17.66</td>\n",
       "      <td>...</td>\n",
       "      <td>30.80</td>\n",
       "      <td>35.68</td>\n",
       "      <td>2.05</td>\n",
       "      <td>2.05</td>\n",
       "      <td>61.20</td>\n",
       "      <td>30.43</td>\n",
       "      <td>30.80</td>\n",
       "      <td>2.03</td>\n",
       "      <td>2.01</td>\n",
       "      <td>10.67</td>\n",
       "    </tr>\n",
       "    <tr>\n",
       "      <th>D14528</th>\n",
       "      <td>264.57</td>\n",
       "      <td>4.00</td>\n",
       "      <td>66.14</td>\n",
       "      <td>10.85</td>\n",
       "      <td>2.99</td>\n",
       "      <td>53.21</td>\n",
       "      <td>4.90</td>\n",
       "      <td>12.23</td>\n",
       "      <td>9.12</td>\n",
       "      <td>32.79</td>\n",
       "      <td>...</td>\n",
       "      <td>33.91</td>\n",
       "      <td>53.94</td>\n",
       "      <td>2.61</td>\n",
       "      <td>2.61</td>\n",
       "      <td>79.49</td>\n",
       "      <td>35.67</td>\n",
       "      <td>49.57</td>\n",
       "      <td>2.22</td>\n",
       "      <td>1.60</td>\n",
       "      <td>10.33</td>\n",
       "    </tr>\n",
       "    <tr>\n",
       "      <th>SF276</th>\n",
       "      <td>283.45</td>\n",
       "      <td>3.00</td>\n",
       "      <td>94.48</td>\n",
       "      <td>21.84</td>\n",
       "      <td>2.64</td>\n",
       "      <td>74.72</td>\n",
       "      <td>3.55</td>\n",
       "      <td>12.56</td>\n",
       "      <td>8.35</td>\n",
       "      <td>31.82</td>\n",
       "      <td>...</td>\n",
       "      <td>37.79</td>\n",
       "      <td>52.69</td>\n",
       "      <td>2.31</td>\n",
       "      <td>2.31</td>\n",
       "      <td>82.05</td>\n",
       "      <td>44.05</td>\n",
       "      <td>51.32</td>\n",
       "      <td>1.87</td>\n",
       "      <td>1.60</td>\n",
       "      <td>8.00</td>\n",
       "    </tr>\n",
       "    <tr>\n",
       "      <th>SF286</th>\n",
       "      <td>288.35</td>\n",
       "      <td>3.00</td>\n",
       "      <td>96.12</td>\n",
       "      <td>27.57</td>\n",
       "      <td>2.75</td>\n",
       "      <td>72.73</td>\n",
       "      <td>2.65</td>\n",
       "      <td>17.31</td>\n",
       "      <td>11.73</td>\n",
       "      <td>35.23</td>\n",
       "      <td>...</td>\n",
       "      <td>52.27</td>\n",
       "      <td>42.52</td>\n",
       "      <td>1.58</td>\n",
       "      <td>1.58</td>\n",
       "      <td>83.78</td>\n",
       "      <td>46.91</td>\n",
       "      <td>44.01</td>\n",
       "      <td>1.78</td>\n",
       "      <td>1.93</td>\n",
       "      <td>8.50</td>\n",
       "    </tr>\n",
       "    <tr>\n",
       "      <th>D14504</th>\n",
       "      <td>323.02</td>\n",
       "      <td>6.00</td>\n",
       "      <td>54.21</td>\n",
       "      <td>12.54</td>\n",
       "      <td>2.82</td>\n",
       "      <td>65.82</td>\n",
       "      <td>6.09</td>\n",
       "      <td>8.60</td>\n",
       "      <td>5.32</td>\n",
       "      <td>18.30</td>\n",
       "      <td>...</td>\n",
       "      <td>48.74</td>\n",
       "      <td>44.06</td>\n",
       "      <td>1.70</td>\n",
       "      <td>1.70</td>\n",
       "      <td>70.46</td>\n",
       "      <td>36.71</td>\n",
       "      <td>34.97</td>\n",
       "      <td>1.94</td>\n",
       "      <td>2.05</td>\n",
       "      <td>16.67</td>\n",
       "    </tr>\n",
       "    <tr>\n",
       "      <th>D14505</th>\n",
       "      <td>448.82</td>\n",
       "      <td>8.00</td>\n",
       "      <td>56.25</td>\n",
       "      <td>9.51</td>\n",
       "      <td>3.00</td>\n",
       "      <td>63.97</td>\n",
       "      <td>6.70</td>\n",
       "      <td>5.77</td>\n",
       "      <td>5.67</td>\n",
       "      <td>23.10</td>\n",
       "      <td>...</td>\n",
       "      <td>54.47</td>\n",
       "      <td>45.00</td>\n",
       "      <td>2.29</td>\n",
       "      <td>2.29</td>\n",
       "      <td>129.33</td>\n",
       "      <td>64.38</td>\n",
       "      <td>65.85</td>\n",
       "      <td>2.01</td>\n",
       "      <td>2.03</td>\n",
       "      <td>17.50</td>\n",
       "    </tr>\n",
       "    <tr>\n",
       "      <th>D14506</th>\n",
       "      <td>534.65</td>\n",
       "      <td>7.00</td>\n",
       "      <td>77.69</td>\n",
       "      <td>11.67</td>\n",
       "      <td>3.50</td>\n",
       "      <td>91.80</td>\n",
       "      <td>8.00</td>\n",
       "      <td>15.40</td>\n",
       "      <td>13.51</td>\n",
       "      <td>35.22</td>\n",
       "      <td>...</td>\n",
       "      <td>70.34</td>\n",
       "      <td>66.34</td>\n",
       "      <td>2.85</td>\n",
       "      <td>2.85</td>\n",
       "      <td>155.46</td>\n",
       "      <td>61.82</td>\n",
       "      <td>74.68</td>\n",
       "      <td>2.52</td>\n",
       "      <td>2.06</td>\n",
       "      <td>20.33</td>\n",
       "    </tr>\n",
       "  </tbody>\n",
       "</table>\n",
       "<p>10 rows × 27 columns</p>\n",
       "</div>"
      ],
      "text/plain": [
       "        leaf_tot  juga  leaf_juga_ratio  stip_dist  stip_scar_length  \\\n",
       "Indiv                                                                  \n",
       "SF175     371.77  4.67            79.49      21.38              2.30   \n",
       "SF328     268.61  4.00            67.15      39.91              1.39   \n",
       "SF200     208.42  3.67            58.15      12.60              1.78   \n",
       "SF209     218.85  4.00            56.69      13.00              2.04   \n",
       "D14528    264.57  4.00            66.14      10.85              2.99   \n",
       "SF276     283.45  3.00            94.48      21.84              2.64   \n",
       "SF286     288.35  3.00            96.12      27.57              2.75   \n",
       "D14504    323.02  6.00            54.21      12.54              2.82   \n",
       "D14505    448.82  8.00            56.25       9.51              3.00   \n",
       "D14506    534.65  7.00            77.69      11.67              3.50   \n",
       "\n",
       "        pet_length  petiole_stip_ratio  lateral_petiolules  basal_petiolule  \\\n",
       "Indiv                                                                         \n",
       "SF175        59.43                2.91               19.45             8.98   \n",
       "SF328        67.65                1.72                9.01             5.40   \n",
       "SF200        32.21                2.60                8.58             4.63   \n",
       "SF209        42.98                3.46                8.62             4.94   \n",
       "D14528       53.21                4.90               12.23             9.12   \n",
       "SF276        74.72                3.55               12.56             8.35   \n",
       "SF286        72.73                2.65               17.31            11.73   \n",
       "D14504       65.82                6.09                8.60             5.32   \n",
       "D14505       63.97                6.70                5.77             5.67   \n",
       "D14506       91.80                8.00               15.40            13.51   \n",
       "\n",
       "        termil_petiolule       ...        lateral_lft_W  \\\n",
       "Indiv                          ...                        \n",
       "SF175              45.31       ...                36.79   \n",
       "SF328              27.41       ...                33.04   \n",
       "SF200              29.89       ...                27.35   \n",
       "SF209              17.66       ...                30.80   \n",
       "D14528             32.79       ...                33.91   \n",
       "SF276              31.82       ...                37.79   \n",
       "SF286              35.23       ...                52.27   \n",
       "D14504             18.30       ...                48.74   \n",
       "D14505             23.10       ...                54.47   \n",
       "D14506             35.22       ...                70.34   \n",
       "\n",
       "        lateral_L_widest_point  ll_lw_ratio  ll_wp_ratio  termil_lft_L  \\\n",
       "Indiv                                                                    \n",
       "SF175                    55.04         2.98         2.98         85.59   \n",
       "SF328                    41.29         2.35         2.35         67.84   \n",
       "SF200                    37.53         2.37         2.37         55.54   \n",
       "SF209                    35.68         2.05         2.05         61.20   \n",
       "D14528                   53.94         2.61         2.61         79.49   \n",
       "SF276                    52.69         2.31         2.31         82.05   \n",
       "SF286                    42.52         1.58         1.58         83.78   \n",
       "D14504                   44.06         1.70         1.70         70.46   \n",
       "D14505                   45.00         2.29         2.29        129.33   \n",
       "D14506                   66.34         2.85         2.85        155.46   \n",
       "\n",
       "        termil_lft_W  termil_L_widest_point  tl_tw_ratio  tl_wp_ratio  \\\n",
       "Indiv                                                                   \n",
       "SF175          40.27                  45.99         2.18         1.88   \n",
       "SF328          29.39                  40.11         2.32         1.71   \n",
       "SF200          30.66                  34.89         1.82         1.59   \n",
       "SF209          30.43                  30.80         2.03         2.01   \n",
       "D14528         35.67                  49.57         2.22         1.60   \n",
       "SF276          44.05                  51.32         1.87         1.60   \n",
       "SF286          46.91                  44.01         1.78         1.93   \n",
       "D14504         36.71                  34.97         1.94         2.05   \n",
       "D14505         64.38                  65.85         2.01         2.03   \n",
       "D14506         61.82                  74.68         2.52         2.06   \n",
       "\n",
       "        X2o_vein_pairs  \n",
       "Indiv                   \n",
       "SF175            10.67  \n",
       "SF328            10.50  \n",
       "SF200            10.00  \n",
       "SF209            10.67  \n",
       "D14528           10.33  \n",
       "SF276             8.00  \n",
       "SF286             8.50  \n",
       "D14504           16.67  \n",
       "D14505           17.50  \n",
       "D14506           20.33  \n",
       "\n",
       "[10 rows x 27 columns]"
      ]
     },
     "execution_count": 18,
     "metadata": {},
     "output_type": "execute_result"
    }
   ],
   "source": [
    "## Trait data (csv) from (https://zenodo.../CanEnd_trait2.csv\")\n",
    "TRAITS = pd.read_csv(\"./CanEnd_traits.csv\", na_values=\"\", index_col=0)\n",
    "TRAITS.head(10)"
   ]
  },
  {
   "cell_type": "markdown",
   "metadata": {},
   "source": [
    "### Make a function to call bpp/ibpp\n",
    "We will submit a large range of jobs to our parallel cluster. First we will infer a species tree with bpp, and then we will add traits and test delimitation hypotheses with ibpp. To track the progress of all of the parallel processes we will store info about them (their async objects) in a dictionary called results. "
   ]
  },
  {
   "cell_type": "code",
   "execution_count": 19,
   "metadata": {
    "collapsed": true
   },
   "outputs": [],
   "source": [
    "## a dictionary to store results\n",
    "results = {}"
   ]
  },
  {
   "cell_type": "code",
   "execution_count": 20,
   "metadata": {
    "collapsed": true
   },
   "outputs": [],
   "source": [
    "## a function to call i/bpp\n",
    "def bpp(ctlfile):\n",
    "    \"\"\" \n",
    "    This assumes you installed bpp & ibpp in ~/local/bin/ following the \n",
    "    installation instructions in the ipyrad bpp tutorial. \n",
    "    \"\"\"\n",
    "    import subprocess\n",
    "    import os\n",
    "    if \".ibpp\" in ctlfile:\n",
    "        cmd = [os.path.expanduser(\"~/local/bin/ibpp\"), ctlfile]\n",
    "    else:\n",
    "        cmd = [os.path.expanduser(\"~/local/bin/bpp\"), ctlfile]\n",
    "    subprocess.check_output(cmd)\n",
    "    "
   ]
  },
  {
   "cell_type": "markdown",
   "metadata": {},
   "source": [
    "### Infer species tree "
   ]
  },
  {
   "cell_type": "code",
   "execution_count": 65,
   "metadata": {
    "collapsed": false
   },
   "outputs": [
    {
     "name": "stderr",
     "output_type": "stream",
     "text": [
      "new files created (1007 loci, 6 species, 37 samples)\n",
      "  tree-0.bpp.seq.txt\n",
      "  tree-0.bpp.imap.txt\n",
      "  tree-0.bpp.ctl.txt\n"
     ]
    }
   ],
   "source": [
    "## an initial test for the species tree from starting 'guide tree'\n",
    "ctl0 = ip.file_conversion.loci2bpp(\"tree-0\", LOCI, IMAP, TREE, \n",
    "                                   wdir=WDIR,\n",
    "                                   minmap=MINMAP,\n",
    "                                   infer_sptree=1,\n",
    "                                   infer_delimit=0,\n",
    "                                   maxloci=10000,  \n",
    "                                   nsample=100000,\n",
    "                                   burnin=10000,\n",
    "                                   sampfreq=2,\n",
    "                                   thetaprior=(2, 2000),\n",
    "                                   tauprior=(2, 200, 1)\n",
    "                                   )"
   ]
  },
  {
   "cell_type": "markdown",
   "metadata": {},
   "source": [
    "### Infer species delimitation"
   ]
  },
  {
   "cell_type": "code",
   "execution_count": 66,
   "metadata": {
    "collapsed": false
   },
   "outputs": [
    {
     "name": "stderr",
     "output_type": "stream",
     "text": [
      "new files created (1007 loci, 6 species, 37 samples)\n",
      "  delim-0.ibpp.seq.txt\n",
      "  delim-0.ibpp.imap.txt\n",
      "  delim-0.ibpp.ctl.txt\n",
      "  delim-0.ibpp.traits.txt\n"
     ]
    }
   ],
   "source": [
    "## an initial test for the species tree from starting 'guide tree'\n",
    "ctl1 = ip.file_conversion.loci2bpp(\"delim-0\", LOCI, IMAP, TREE, \n",
    "                                   wdir=WDIR,\n",
    "                                   minmap=MINMAP,\n",
    "                                   traits_df=TRAITS,\n",
    "                                   infer_sptree=0,\n",
    "                                   infer_delimit=1,\n",
    "                                   maxloci=10000,  \n",
    "                                   nsample=100000,\n",
    "                                   burnin=10000,\n",
    "                                   sampfreq=2,\n",
    "                                   thetaprior=(2, 2000),\n",
    "                                   tauprior=(2, 200, 1),\n",
    "                                   kappa=0,\n",
    "                                   nu=1\n",
    "                                   )"
   ]
  },
  {
   "cell_type": "markdown",
   "metadata": {},
   "source": [
    "### Send job to run in parallel"
   ]
  },
  {
   "cell_type": "code",
   "execution_count": 67,
   "metadata": {
    "collapsed": false
   },
   "outputs": [
    {
     "name": "stdout",
     "output_type": "stream",
     "text": [
      "submitted /ysm-gpfs/home/de243/Canarium-GBS/analysis_bpp/tree-0.bpp.ctl.txt\n",
      "submitted /ysm-gpfs/home/de243/Canarium-GBS/analysis_bpp/delim-0.ibpp.ctl.txt\n"
     ]
    }
   ],
   "source": [
    "## store async results in a dict\n",
    "asyncs = {}\n",
    "for ctl in [ctl0, ctl1]:\n",
    "    asyncs[ctl] = lbview.apply(bpp, ctl)\n",
    "    print \"submitted {}\".format(ctl)"
   ]
  },
  {
   "cell_type": "markdown",
   "metadata": {},
   "source": [
    "### Set up many additional species delimitation tests\n",
    "We are interested in both how well the sequence data and the trait data can delimit species in Canarium. We will setup a range of tests to look at different settings for the priors, for different species delimitation algorithms, and for different types of data. We will start with a six taxon tree and allow the species delimitation algorithm to collapes nodes on the tree to test hypotheses of 1-6 species. "
   ]
  },
  {
   "cell_type": "code",
   "execution_count": 68,
   "metadata": {
    "collapsed": true
   },
   "outputs": [],
   "source": [
    "## set up a couple tests to perform\n",
    "DELIMIT_TESTS = [\n",
    "    (0, 2),\n",
    "    (0, 5),\n",
    "    (0, 10),\n",
    "    (1, 1.0, 1.0),\n",
    "    (1, 1.0, 1.5),\n",
    "    (1, 1.0, 2.0),\n",
    "    (1, 1.5, 1.0), \n",
    "    (1, 1.5, 1.5), \n",
    "    (1, 1.5, 2.0),\n",
    "    (1, 2.0, 1.0), \n",
    "    (1, 2.0, 1.5), \n",
    "    (1, 2.0, 2.0)\n",
    "]"
   ]
  },
  {
   "cell_type": "code",
   "execution_count": 69,
   "metadata": {
    "collapsed": false
   },
   "outputs": [
    {
     "ename": "NameError",
     "evalue": "name 'imap' is not defined",
     "output_type": "error",
     "traceback": [
      "\u001b[0;31m\u001b[0m",
      "\u001b[0;31mNameError\u001b[0mTraceback (most recent call last)",
      "\u001b[0;32m<ipython-input-69-2b9df5859e9f>\u001b[0m in \u001b[0;36m<module>\u001b[0;34m()\u001b[0m\n\u001b[1;32m     12\u001b[0m \u001b[0;34m\u001b[0m\u001b[0m\n\u001b[1;32m     13\u001b[0m             \u001b[0;31m## make input files and get ctl path\u001b[0m\u001b[0;34m\u001b[0m\u001b[0;34m\u001b[0m\u001b[0m\n\u001b[0;32m---> 14\u001b[0;31m             ctl = ip.file_conversion.loci2bpp(rname, LOCI, imap, TREE, \n\u001b[0m\u001b[1;32m     15\u001b[0m                                           \u001b[0mminmap\u001b[0m\u001b[0;34m=\u001b[0m\u001b[0mMINMAP\u001b[0m\u001b[0;34m,\u001b[0m\u001b[0;34m\u001b[0m\u001b[0m\n\u001b[1;32m     16\u001b[0m                                           \u001b[0minfer_delimit\u001b[0m\u001b[0;34m=\u001b[0m\u001b[0;36m1\u001b[0m\u001b[0;34m,\u001b[0m\u001b[0;34m\u001b[0m\u001b[0m\n",
      "\u001b[0;31mNameError\u001b[0m: name 'imap' is not defined"
     ]
    }
   ],
   "source": [
    "## iterate over combinations for a total of 36 tests. \n",
    "## (1) 0/1 with or without traits \n",
    "## (2) 12 delimitation algorithm combinations (DELIMIT_TESTS)\n",
    "## (3) 3 independent replicates from different random seeds\n",
    "\n",
    "for usetraits in [0, 1]:\n",
    "    for tdx, delim in enumerate(DELIMIT_TESTS):\n",
    "        for rep in range(3):\n",
    "        \n",
    "            ## make a name for this test\n",
    "            rname = \"delim-{}-{}-{}\".format(usetraits, tdx, rep)\n",
    "        \n",
    "            ## make input files and get ctl path\n",
    "            ctl = ip.file_conversion.loci2bpp(rname, LOCI, IMAP, TREE, \n",
    "                                          minmap=MINMAP, \n",
    "                                          infer_delimit=1,\n",
    "                                          infer_sptree=0,\n",
    "                                          delimit_alg=delim,\n",
    "                                          traits=TRAITS,\n",
    "                                          maxloci=10000,  \n",
    "                                          nsample=100000,\n",
    "                                          burnin=10000,\n",
    "                                          sampfreq=2,\n",
    "                                          thetaprior=(2, 2000),\n",
    "                                          tauprior=(2, 200, 1),\n",
    "                                          usetraitdata=usetraits,\n",
    "                                          seed=random.randint(0, 1e9)\n",
    "                                          )\n",
    "        \n",
    "            ## send job to run on cluster\n",
    "            results[rname] = lbview.apply(bpp, ctl)\n",
    "            sys.stderr.write(\"job {} submitted\".format(rname))"
   ]
  },
  {
   "cell_type": "markdown",
   "metadata": {},
   "source": [
    "### Track progress"
   ]
  },
  {
   "cell_type": "code",
   "execution_count": 64,
   "metadata": {
    "collapsed": true
   },
   "outputs": [],
   "source": [
    "## check success/failure of jobs\n",
    "for job in results:\n",
    "    ## get shorter name for job\n",
    "    jobname = job.split(\"/\")[-1]\n",
    "    \n",
    "    ## print done or not\n",
    "    if results[job].ready():\n",
    "        if results[job].successful():\n",
    "            print \"{:<30} -- finished\".format(jobname)\n",
    "        else:\n",
    "            print \"{:<30} -- failed:\".format(results[job].exception())\n",
    "    else:\n",
    "        print \"{:<30} -- still running\".format(jobname)"
   ]
  },
  {
   "cell_type": "markdown",
   "metadata": {},
   "source": [
    "### Parse results (out.txt) files"
   ]
  },
  {
   "cell_type": "code",
   "execution_count": null,
   "metadata": {
    "collapsed": true
   },
   "outputs": [],
   "source": [
    "## Let's read in the '.bpp.out.txt' results files for each test\n",
    "median_dict = {}\n",
    "ess_dict = {}\n",
    "\n",
    "for test, job in enumerate(sorted(asyncs)):\n",
    "    ## replace .ctl.txt with .out.txt\n",
    "    outname = job.replace(\".ctl.\", \".out.\")\n",
    "    \n",
    "    ## parse theta and tau priors from the job name\n",
    "    theta = job.split(\"-\")[1:3]\n",
    "    tau = job.split(\"-\")[3:5]\n",
    "    \n",
    "    ## read the file and parse out results\n",
    "    with open(outname, 'r') as infile:\n",
    "        data = infile.readlines()\n",
    "    \n",
    "    ## b/c sptree and delimit were set to 0 all this test did was infer sptree params\n",
    "    ## on the fixed tree. So let's compare the parameters under different priors\n",
    "    for line in data:\n",
    "        if \"theta_1\" and \"theta_2\" in line:\n",
    "            index = [\"theta mean\", \"tau mean\"] + line.split()\n",
    "            \n",
    "        if \"median\" in line:\n",
    "            data = [5./float(theta[1]), 1./float(tau[1])] + line.split()[1:]\n",
    "            median_dict[test] = pd.Series(data=data, index=index)\n",
    "            \n",
    "        if \"ESS*\" in line:\n",
    "            data = [5./float(theta[1]), 1./float(tau[1])] + line.split()[1:]\n",
    "            ess_dict[test] = pd.Series(data=data, index=index)\n",
    "\n",
    "## make results into a dataframe and print. It appears that the prior has a large effect on theta5 (AB)\n",
    "medians = pd.DataFrame(data=median_dict)\n",
    "ess = pd.DataFrame(data=ess_dict)\n",
    "\n",
    "## look at median values\n",
    "medians.T"
   ]
  },
  {
   "cell_type": "code",
   "execution_count": null,
   "metadata": {
    "collapsed": true
   },
   "outputs": [],
   "source": []
  },
  {
   "cell_type": "code",
   "execution_count": 38,
   "metadata": {
    "collapsed": false
   },
   "outputs": [
    {
     "name": "stdout",
     "output_type": "stream",
     "text": [
      "   0/2 tasks finished after 18258 s"
     ]
    },
    {
     "ename": "KeyboardInterrupt",
     "evalue": "",
     "output_type": "error",
     "traceback": [
      "\u001b[0;31m\u001b[0m",
      "\u001b[0;31mKeyboardInterrupt\u001b[0mTraceback (most recent call last)",
      "\u001b[0;32m<ipython-input-38-714fc16c6e32>\u001b[0m in \u001b[0;36m<module>\u001b[0;34m()\u001b[0m\n\u001b[1;32m      1\u001b[0m \u001b[0;31m## check for finished jobs\u001b[0m\u001b[0;34m\u001b[0m\u001b[0;34m\u001b[0m\u001b[0m\n\u001b[0;32m----> 2\u001b[0;31m \u001b[0mrc\u001b[0m\u001b[0;34m.\u001b[0m\u001b[0mwait_interactive\u001b[0m\u001b[0;34m(\u001b[0m\u001b[0;34m)\u001b[0m\u001b[0;34m\u001b[0m\u001b[0m\n\u001b[0m",
      "\u001b[0;32m/ysm-gpfs/home/de243/miniconda2/lib/python2.7/site-packages/ipyparallel/client/client.pyc\u001b[0m in \u001b[0;36mwait_interactive\u001b[0;34m(self, jobs, interval, timeout)\u001b[0m\n\u001b[1;32m   1158\u001b[0m         \u001b[0;32melse\u001b[0m\u001b[0;34m:\u001b[0m\u001b[0;34m\u001b[0m\u001b[0m\n\u001b[1;32m   1159\u001b[0m             \u001b[0mar\u001b[0m \u001b[0;34m=\u001b[0m \u001b[0mself\u001b[0m\u001b[0;34m.\u001b[0m\u001b[0m_asyncresult_from_jobs\u001b[0m\u001b[0;34m(\u001b[0m\u001b[0mjobs\u001b[0m\u001b[0;34m,\u001b[0m \u001b[0mowner\u001b[0m\u001b[0;34m=\u001b[0m\u001b[0mFalse\u001b[0m\u001b[0;34m)\u001b[0m\u001b[0;34m\u001b[0m\u001b[0m\n\u001b[0;32m-> 1160\u001b[0;31m         \u001b[0;32mreturn\u001b[0m \u001b[0mar\u001b[0m\u001b[0;34m.\u001b[0m\u001b[0mwait_interactive\u001b[0m\u001b[0;34m(\u001b[0m\u001b[0minterval\u001b[0m\u001b[0;34m=\u001b[0m\u001b[0minterval\u001b[0m\u001b[0;34m,\u001b[0m \u001b[0mtimeout\u001b[0m\u001b[0;34m=\u001b[0m\u001b[0mtimeout\u001b[0m\u001b[0;34m)\u001b[0m\u001b[0;34m\u001b[0m\u001b[0m\n\u001b[0m\u001b[1;32m   1161\u001b[0m \u001b[0;34m\u001b[0m\u001b[0m\n\u001b[1;32m   1162\u001b[0m     \u001b[0;31m#--------------------------------------------------------------------------\u001b[0m\u001b[0;34m\u001b[0m\u001b[0;34m\u001b[0m\u001b[0m\n",
      "\u001b[0;32m/ysm-gpfs/home/de243/miniconda2/lib/python2.7/site-packages/ipyparallel/client/asyncresult.pyc\u001b[0m in \u001b[0;36mwait_interactive\u001b[0;34m(self, interval, timeout)\u001b[0m\n\u001b[1;32m    491\u001b[0m         \u001b[0mtic\u001b[0m \u001b[0;34m=\u001b[0m \u001b[0mtime\u001b[0m\u001b[0;34m.\u001b[0m\u001b[0mtime\u001b[0m\u001b[0;34m(\u001b[0m\u001b[0;34m)\u001b[0m\u001b[0;34m\u001b[0m\u001b[0m\n\u001b[1;32m    492\u001b[0m         \u001b[0;32mwhile\u001b[0m \u001b[0;32mnot\u001b[0m \u001b[0mself\u001b[0m\u001b[0;34m.\u001b[0m\u001b[0mready\u001b[0m\u001b[0;34m(\u001b[0m\u001b[0;34m)\u001b[0m \u001b[0;32mand\u001b[0m \u001b[0;34m(\u001b[0m\u001b[0mtimeout\u001b[0m \u001b[0;34m<\u001b[0m \u001b[0;36m0\u001b[0m \u001b[0;32mor\u001b[0m \u001b[0mtime\u001b[0m\u001b[0;34m.\u001b[0m\u001b[0mtime\u001b[0m\u001b[0;34m(\u001b[0m\u001b[0;34m)\u001b[0m \u001b[0;34m-\u001b[0m \u001b[0mtic\u001b[0m \u001b[0;34m<=\u001b[0m \u001b[0mtimeout\u001b[0m\u001b[0;34m)\u001b[0m\u001b[0;34m:\u001b[0m\u001b[0;34m\u001b[0m\u001b[0m\n\u001b[0;32m--> 493\u001b[0;31m             \u001b[0mself\u001b[0m\u001b[0;34m.\u001b[0m\u001b[0mwait\u001b[0m\u001b[0;34m(\u001b[0m\u001b[0minterval\u001b[0m\u001b[0;34m)\u001b[0m\u001b[0;34m\u001b[0m\u001b[0m\n\u001b[0m\u001b[1;32m    494\u001b[0m             \u001b[0mclear_output\u001b[0m\u001b[0;34m(\u001b[0m\u001b[0mwait\u001b[0m\u001b[0;34m=\u001b[0m\u001b[0mTrue\u001b[0m\u001b[0;34m)\u001b[0m\u001b[0;34m\u001b[0m\u001b[0m\n\u001b[1;32m    495\u001b[0m             \u001b[0;32mprint\u001b[0m\u001b[0;34m(\u001b[0m\u001b[0;34m\"%4i/%i tasks finished after %4i s\"\u001b[0m \u001b[0;34m%\u001b[0m \u001b[0;34m(\u001b[0m\u001b[0mself\u001b[0m\u001b[0;34m.\u001b[0m\u001b[0mprogress\u001b[0m\u001b[0;34m,\u001b[0m \u001b[0mN\u001b[0m\u001b[0;34m,\u001b[0m \u001b[0mself\u001b[0m\u001b[0;34m.\u001b[0m\u001b[0melapsed\u001b[0m\u001b[0;34m)\u001b[0m\u001b[0;34m,\u001b[0m \u001b[0mend\u001b[0m\u001b[0;34m=\u001b[0m\u001b[0;34m\"\"\u001b[0m\u001b[0;34m)\u001b[0m\u001b[0;34m\u001b[0m\u001b[0m\n",
      "\u001b[0;32m/ysm-gpfs/home/de243/miniconda2/lib/python2.7/site-packages/ipyparallel/client/asyncresult.pyc\u001b[0m in \u001b[0;36mwait\u001b[0;34m(self, timeout)\u001b[0m\n\u001b[1;32m    208\u001b[0m             \u001b[0mtimeout\u001b[0m \u001b[0;34m=\u001b[0m \u001b[0mNone\u001b[0m\u001b[0;34m\u001b[0m\u001b[0m\n\u001b[1;32m    209\u001b[0m \u001b[0;34m\u001b[0m\u001b[0m\n\u001b[0;32m--> 210\u001b[0;31m         \u001b[0mself\u001b[0m\u001b[0;34m.\u001b[0m\u001b[0m_ready_event\u001b[0m\u001b[0;34m.\u001b[0m\u001b[0mwait\u001b[0m\u001b[0;34m(\u001b[0m\u001b[0mtimeout\u001b[0m\u001b[0;34m)\u001b[0m\u001b[0;34m\u001b[0m\u001b[0m\n\u001b[0m\u001b[1;32m    211\u001b[0m         \u001b[0mself\u001b[0m\u001b[0;34m.\u001b[0m\u001b[0mwait_for_output\u001b[0m\u001b[0;34m(\u001b[0m\u001b[0;36m0\u001b[0m\u001b[0;34m)\u001b[0m\u001b[0;34m\u001b[0m\u001b[0m\n\u001b[1;32m    212\u001b[0m         \u001b[0;32mreturn\u001b[0m \u001b[0mself\u001b[0m\u001b[0;34m.\u001b[0m\u001b[0m_ready\u001b[0m\u001b[0;34m\u001b[0m\u001b[0m\n",
      "\u001b[0;32m/ysm-gpfs/home/de243/miniconda2/lib/python2.7/threading.pyc\u001b[0m in \u001b[0;36mwait\u001b[0;34m(self, timeout)\u001b[0m\n\u001b[1;32m    612\u001b[0m         \u001b[0;32mwith\u001b[0m \u001b[0mself\u001b[0m\u001b[0;34m.\u001b[0m\u001b[0m__cond\u001b[0m\u001b[0;34m:\u001b[0m\u001b[0;34m\u001b[0m\u001b[0m\n\u001b[1;32m    613\u001b[0m             \u001b[0;32mif\u001b[0m \u001b[0;32mnot\u001b[0m \u001b[0mself\u001b[0m\u001b[0;34m.\u001b[0m\u001b[0m__flag\u001b[0m\u001b[0;34m:\u001b[0m\u001b[0;34m\u001b[0m\u001b[0m\n\u001b[0;32m--> 614\u001b[0;31m                 \u001b[0mself\u001b[0m\u001b[0;34m.\u001b[0m\u001b[0m__cond\u001b[0m\u001b[0;34m.\u001b[0m\u001b[0mwait\u001b[0m\u001b[0;34m(\u001b[0m\u001b[0mtimeout\u001b[0m\u001b[0;34m)\u001b[0m\u001b[0;34m\u001b[0m\u001b[0m\n\u001b[0m\u001b[1;32m    615\u001b[0m             \u001b[0;32mreturn\u001b[0m \u001b[0mself\u001b[0m\u001b[0;34m.\u001b[0m\u001b[0m__flag\u001b[0m\u001b[0;34m\u001b[0m\u001b[0m\n\u001b[1;32m    616\u001b[0m \u001b[0;34m\u001b[0m\u001b[0m\n",
      "\u001b[0;32m/ysm-gpfs/home/de243/miniconda2/lib/python2.7/threading.pyc\u001b[0m in \u001b[0;36mwait\u001b[0;34m(self, timeout)\u001b[0m\n\u001b[1;32m    357\u001b[0m                         \u001b[0;32mbreak\u001b[0m\u001b[0;34m\u001b[0m\u001b[0m\n\u001b[1;32m    358\u001b[0m                     \u001b[0mdelay\u001b[0m \u001b[0;34m=\u001b[0m \u001b[0mmin\u001b[0m\u001b[0;34m(\u001b[0m\u001b[0mdelay\u001b[0m \u001b[0;34m*\u001b[0m \u001b[0;36m2\u001b[0m\u001b[0;34m,\u001b[0m \u001b[0mremaining\u001b[0m\u001b[0;34m,\u001b[0m \u001b[0;36m.05\u001b[0m\u001b[0;34m)\u001b[0m\u001b[0;34m\u001b[0m\u001b[0m\n\u001b[0;32m--> 359\u001b[0;31m                     \u001b[0m_sleep\u001b[0m\u001b[0;34m(\u001b[0m\u001b[0mdelay\u001b[0m\u001b[0;34m)\u001b[0m\u001b[0;34m\u001b[0m\u001b[0m\n\u001b[0m\u001b[1;32m    360\u001b[0m                 \u001b[0;32mif\u001b[0m \u001b[0;32mnot\u001b[0m \u001b[0mgotit\u001b[0m\u001b[0;34m:\u001b[0m\u001b[0;34m\u001b[0m\u001b[0m\n\u001b[1;32m    361\u001b[0m                     \u001b[0;32mif\u001b[0m \u001b[0m__debug__\u001b[0m\u001b[0;34m:\u001b[0m\u001b[0;34m\u001b[0m\u001b[0m\n",
      "\u001b[0;31mKeyboardInterrupt\u001b[0m: "
     ]
    }
   ],
   "source": [
    "## check for finished jobs\n",
    "rc.wait_interactive()"
   ]
  }
 ],
 "metadata": {
  "anaconda-cloud": {},
  "kernelspec": {
   "display_name": "Python [conda root]",
   "language": "python",
   "name": "conda-root-py"
  },
  "language_info": {
   "codemirror_mode": {
    "name": "ipython",
    "version": 2
   },
   "file_extension": ".py",
   "mimetype": "text/x-python",
   "name": "python",
   "nbconvert_exporter": "python",
   "pygments_lexer": "ipython2",
   "version": "2.7.12"
  }
 },
 "nbformat": 4,
 "nbformat_minor": 1
}
